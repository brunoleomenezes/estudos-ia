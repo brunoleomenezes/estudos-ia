{
  "nbformat": 4,
  "nbformat_minor": 0,
  "metadata": {
    "colab": {
      "name": "batch_normalization.ipynb",
      "provenance": [],
      "collapsed_sections": []
    },
    "kernelspec": {
      "name": "python3",
      "display_name": "Python 3"
    }
  },
  "cells": [
    {
      "cell_type": "markdown",
      "source": [
        "#Adaptado por Bruno Menezes (https://github.com/brunoleomenezes) e será utilizado apenas para fins acadêmicos."
      ],
      "metadata": {
        "id": "BUIf5vm8vPv0"
      }
    },
    {
      "cell_type": "code",
      "metadata": {
        "id": "5gSr4bKn_NPo"
      },
      "source": [
        "import torch\n",
        "from torch import nn"
      ],
      "execution_count": 6,
      "outputs": []
    },
    {
      "cell_type": "markdown",
      "metadata": {
        "id": "M62eNRKDpS1g"
      },
      "source": [
        "## Batch Normalization\n",
        "\n",
        "Documentação: https://pytorch.org/docs/stable/nn.html#torch.nn.BatchNorm2d\n",
        "\n",
        "```python\n",
        "torch.nn.BatchNorm2d(num_features)\n",
        "```"
      ]
    },
    {
      "cell_type": "code",
      "metadata": {
        "id": "R7rkKA62pUV6",
        "colab": {
          "base_uri": "https://localhost:8080/"
        },
        "outputId": "581daaa8-bf7d-4b26-bc5b-fd64f2997bb6"
      },
      "source": [
        "blococonv = nn.Sequential(\n",
        "            nn.Conv2d(3,32,kernel_size=3, padding=1), #3 canais, 32 filtros, kernel 3, padding 1\n",
        "            nn.BatchNorm2d(32), #Normalização, 32 canais para normalização\n",
        "            nn.ReLU(), #ativação não linear\n",
        "            nn.MaxPool2d(kernel_size=10) #Pooling\n",
        ")\n",
        "print(blococonv)\n",
        "\n",
        "minibatch = torch.cat(12*[rgb_tns]) #criando dose imagens\n",
        "\n",
        "print(minibatch.size())\n",
        "saida = blococonv(minibatch)\n",
        "print(saida.size())\n"
      ],
      "execution_count": 7,
      "outputs": [
        {
          "output_type": "stream",
          "name": "stdout",
          "text": [
            "Sequential(\n",
            "  (0): Conv2d(3, 32, kernel_size=(3, 3), stride=(1, 1), padding=(1, 1))\n",
            "  (1): BatchNorm2d(32, eps=1e-05, momentum=0.1, affine=True, track_running_stats=True)\n",
            "  (2): ReLU()\n",
            "  (3): MaxPool2d(kernel_size=10, stride=10, padding=0, dilation=1, ceil_mode=False)\n",
            ")\n",
            "torch.Size([12, 3, 512, 512])\n",
            "torch.Size([12, 32, 51, 51])\n"
          ]
        }
      ]
    }
  ]
}