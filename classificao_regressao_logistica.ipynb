{
  "cells": [
    {
      "cell_type": "markdown",
      "metadata": {
        "id": "a8coCw6LQ6Si"
      },
      "source": [
        "Adaptado por Bruno Menezes (https://github.com/brunoleomenezes) e será utilizado apenas para fins acadêmicos. Adaptado de Francisco Aparecido Rodrigues."
      ]
    },
    {
      "cell_type": "markdown",
      "metadata": {
        "id": "v22cw3xmQ6Sl"
      },
      "source": [
        "Vamos realizar a classificação em um conjunto de dados artificiais."
      ]
    },
    {
      "cell_type": "code",
      "source": [
        "import numpy as np\n",
        "import pandas as pd\n",
        "from pandas import DataFrame\n",
        "from sklearn import datasets\n",
        "from matplotlib import pyplot\n",
        "import matplotlib.pyplot as plt\n",
        "from scipy.special import expit\n",
        "from sklearn import linear_model\n",
        "import sklearn.datasets as skdata\n",
        "from mlxtend.plotting import plot_decision_regions\n",
        "from sklearn.linear_model import LogisticRegression"
      ],
      "metadata": {
        "id": "LZMT17iFRaP3"
      },
      "execution_count": 1,
      "outputs": []
    },
    {
      "cell_type": "code",
      "source": [
        "X = np.arange(12).reshape(-1, 1) # atributos\n",
        "y = np.array([0, 0, 0, 0,1,0, 1, 1, 1, 1, 1, 1]) # classes\n",
        "plt.plot(X, y, 'ko')\n",
        "# 1 para fradadores e 0 para honestos"
      ],
      "metadata": {
        "colab": {
          "base_uri": "https://localhost:8080/",
          "height": 282
        },
        "id": "wLgR0qYNRftv",
        "outputId": "9f742f3a-d31b-4be1-e645-8df530e83551"
      },
      "execution_count": 2,
      "outputs": [
        {
          "output_type": "execute_result",
          "data": {
            "text/plain": [
              "[<matplotlib.lines.Line2D at 0x7f00853f2510>]"
            ]
          },
          "metadata": {},
          "execution_count": 2
        },
        {
          "output_type": "display_data",
          "data": {
            "text/plain": [
              "<Figure size 432x288 with 1 Axes>"
            ],
            "image/png": "[encoded data removed]"
          },
          "metadata": {
            "needs_background": "light"
          }
        }
      ]
    },
    {
      "cell_type": "markdown",
      "source": [
        ""
      ],
      "metadata": {
        "id": "WRqD8hz02ydg"
      }
    },
    {
      "cell_type": "code",
      "source": [
        "# Podemos obter uma curva mais suave\n",
        "# Ajusta o modelo de regressao logistica\n",
        "model = linear_model.LogisticRegression(C=1e5)\n",
        "model.fit(X, y)\n",
        "xx = np.arange(min(X), max(X), 0.01)\n",
        "loss = expit(xx * model.coef_ + model.intercept_).ravel()\n",
        "plt.plot(xx, loss, color='red', linewidth=3)"
      ],
      "metadata": {
        "colab": {
          "base_uri": "https://localhost:8080/",
          "height": 282
        },
        "id": "L4bJfSIcRs_u",
        "outputId": "b207c00a-eca1-4f42-e66b-1981c8a7779c"
      },
      "execution_count": 3,
      "outputs": [
        {
          "output_type": "execute_result",
          "data": {
            "text/plain": [
              "[<matplotlib.lines.Line2D at 0x7f0085363d10>]"
            ]
          },
          "metadata": {},
          "execution_count": 3
        },
        {
          "output_type": "display_data",
          "data": {
            "text/plain": [
              "<Figure size 432x288 with 1 Axes>"
            ],
            "image/png": "[encoded data removed]"
          },
          "metadata": {
            "needs_background": "light"
          }
        }
      ]
    },
    {
      "cell_type": "code",
      "source": [
        "# Ajusta um modelo de regressao linear Y = 𝛃0 + 𝛃1x1 + 𝛃2x2 + … + 𝛃dxd\n",
        "linear = linear_model.LinearRegression()\n",
        "linear.fit(X, y)\n",
        "plt.plot(X, linear.coef_ * X + linear.intercept_, linewidth=2, linestyle='dashed')\n",
        "plt.axhline(.5, color='.5')\n",
        "plt.savefig('logistic.eps')\n",
        "plt.show(True)"
      ],
      "metadata": {
        "colab": {
          "base_uri": "https://localhost:8080/",
          "height": 265
        },
        "id": "GHa_5HajR-am",
        "outputId": "64de356f-a350-4ab8-c3af-213cf725ca61"
      },
      "execution_count": 4,
      "outputs": [
        {
          "output_type": "display_data",
          "data": {
            "text/plain": [
              "<Figure size 432x288 with 1 Axes>"
            ],
            "image/png": "[encoded data removed]"
          },
          "metadata": {
            "needs_background": "light"
          }
        }
      ]
    },
    {
      "cell_type": "markdown",
      "metadata": {
        "id": "-L7fUvv2Q6Sq"
      },
      "source": [
        "Usamos o código abaixo para fazer a classificação completa."
      ]
    },
    {
      "cell_type": "code",
      "execution_count": 5,
      "metadata": {
        "id": "mEmr7Y9DQ6Sq",
        "outputId": "c895b9f7-e99f-40af-c2b1-04c50e2a0191",
        "colab": {
          "base_uri": "https://localhost:8080/",
          "height": 282
        }
      },
      "outputs": [
        {
          "output_type": "display_data",
          "data": {
            "text/plain": [
              "<Figure size 432x288 with 1 Axes>"
            ],
            "image/png": "[encoded data removed]"
          },
          "metadata": {
            "needs_background": "light"
          }
        },
        {
          "output_type": "stream",
          "name": "stdout",
          "text": [
            "Acurácia: 0.8333333333333334\n"
          ]
        }
      ],
      "source": [
        "X = np.arange(12).reshape(-1, 1)\n",
        "y = np.array([0, 0, 0, 0,1,0, 1, 1, 1, 1, 1, 1])\n",
        "plt.plot(X, y, 'ko')\n",
        "\n",
        "# Ajusta o modelo de regressao logistica\n",
        "model = linear_model.LogisticRegression(C=1e5)\n",
        "model.fit(X, y)\n",
        "# X multiplicado por beta 1 a beta d, soma com o beta 0. \n",
        "loss = expit(X * model.coef_ + model.intercept_).ravel()\n",
        "plt.plot(X, loss, color='red', linewidth=3)\n",
        "\n",
        "# Para comparar, ajustamos um modelo de regressao linear\n",
        "linear = linear_model.LinearRegression()\n",
        "linear.fit(X, y)\n",
        "plt.plot(X, linear.coef_ * X + linear.intercept_, linewidth=2, linestyle='dashed')\n",
        "plt.axhline(.5, color='.5')\n",
        "plt.show(True)\n",
        "\n",
        "p = model.predict_proba(X)\n",
        "print(\"Acurácia:\", model.score(X, y))"
      ]
    },
    {
      "cell_type": "markdown",
      "metadata": {
        "id": "DCUTqpO0Q6Sr"
      },
      "source": [
        "## Classificação de dados "
      ]
    },
    {
      "cell_type": "markdown",
      "metadata": {
        "id": "dmwf-w8CQ6Sr"
      },
      "source": [
        "Vamos inicialmente ler os dados."
      ]
    },
    {
      "cell_type": "code",
      "execution_count": 6,
      "metadata": {
        "id": "rVMFtB6fQ6Ss",
        "outputId": "1d093a33-ce0d-43fd-826d-b5619a1c9006",
        "colab": {
          "base_uri": "https://localhost:8080/",
          "height": 505
        }
      },
      "outputs": [
        {
          "output_type": "stream",
          "name": "stdout",
          "text": [
            "Número de linhas e colunas na matriz de atributos: (310, 7)\n"
          ]
        },
        {
          "output_type": "execute_result",
          "data": {
            "text/plain": [
              "     pelvic_incidence  pelvic_tilt  lumbar_lordosis_angle  sacral_slope  \\\n",
              "0           63.027817    22.552586              39.609117     40.475232   \n",
              "1           39.056951    10.060991              25.015378     28.995960   \n",
              "2           68.832021    22.218482              50.092194     46.613539   \n",
              "3           69.297008    24.652878              44.311238     44.644130   \n",
              "4           49.712859     9.652075              28.317406     40.060784   \n",
              "..                ...          ...                    ...           ...   \n",
              "305         47.903565    13.616688              36.000000     34.286877   \n",
              "306         53.936748    20.721496              29.220534     33.215251   \n",
              "307         61.446597    22.694968              46.170347     38.751628   \n",
              "308         45.252792     8.693157              41.583126     36.559635   \n",
              "309         33.841641     5.073991              36.641233     28.767649   \n",
              "\n",
              "     pelvic_radius  degree_spondylolisthesis   class  \n",
              "0        98.672917                 -0.254400  Hernia  \n",
              "1       114.405425                  4.564259  Hernia  \n",
              "2       105.985135                 -3.530317  Hernia  \n",
              "3       101.868495                 11.211523  Hernia  \n",
              "4       108.168725                  7.918501  Hernia  \n",
              "..             ...                       ...     ...  \n",
              "305     117.449062                 -4.245395  Normal  \n",
              "306     114.365845                 -0.421010  Normal  \n",
              "307     125.670725                 -2.707880  Normal  \n",
              "308     118.545842                  0.214750  Normal  \n",
              "309     123.945244                 -0.199249  Normal  \n",
              "\n",
              "[310 rows x 7 columns]"
            ],
            "text/html": [
              "\n",
              "  <div id=\"df-74784c62-7070-468a-8110-363952697a54\">\n",
              "    <div class=\"colab-df-container\">\n",
              "      <div>\n",
              "<style scoped>\n",
              "    .dataframe tbody tr th:only-of-type {\n",
              "        vertical-align: middle;\n",
              "    }\n",
              "\n",
              "    .dataframe tbody tr th {\n",
              "        vertical-align: top;\n",
              "    }\n",
              "\n",
              "    .dataframe thead th {\n",
              "        text-align: right;\n",
              "    }\n",
              "</style>\n",
              "<table border=\"1\" class=\"dataframe\">\n",
              "  <thead>\n",
              "    <tr style=\"text-align: right;\">\n",
              "      <th></th>\n",
              "      <th>pelvic_incidence</th>\n",
              "      <th>pelvic_tilt</th>\n",
              "      <th>lumbar_lordosis_angle</th>\n",
              "      <th>sacral_slope</th>\n",
              "      <th>pelvic_radius</th>\n",
              "      <th>degree_spondylolisthesis</th>\n",
              "      <th>class</th>\n",
              "    </tr>\n",
              "  </thead>\n",
              "  <tbody>\n",
              "    <tr>\n",
              "      <th>0</th>\n",
              "      <td>63.027817</td>\n",
              "      <td>22.552586</td>\n",
              "      <td>39.609117</td>\n",
              "      <td>40.475232</td>\n",
              "      <td>98.672917</td>\n",
              "      <td>-0.254400</td>\n",
              "      <td>Hernia</td>\n",
              "    </tr>\n",
              "    <tr>\n",
              "      <th>1</th>\n",
              "      <td>39.056951</td>\n",
              "      <td>10.060991</td>\n",
              "      <td>25.015378</td>\n",
              "      <td>28.995960</td>\n",
              "      <td>114.405425</td>\n",
              "      <td>4.564259</td>\n",
              "      <td>Hernia</td>\n",
              "    </tr>\n",
              "    <tr>\n",
              "      <th>2</th>\n",
              "      <td>68.832021</td>\n",
              "      <td>22.218482</td>\n",
              "      <td>50.092194</td>\n",
              "      <td>46.613539</td>\n",
              "      <td>105.985135</td>\n",
              "      <td>-3.530317</td>\n",
              "      <td>Hernia</td>\n",
              "    </tr>\n",
              "    <tr>\n",
              "      <th>3</th>\n",
              "      <td>69.297008</td>\n",
              "      <td>24.652878</td>\n",
              "      <td>44.311238</td>\n",
              "      <td>44.644130</td>\n",
              "      <td>101.868495</td>\n",
              "      <td>11.211523</td>\n",
              "      <td>Hernia</td>\n",
              "    </tr>\n",
              "    <tr>\n",
              "      <th>4</th>\n",
              "      <td>49.712859</td>\n",
              "      <td>9.652075</td>\n",
              "      <td>28.317406</td>\n",
              "      <td>40.060784</td>\n",
              "      <td>108.168725</td>\n",
              "      <td>7.918501</td>\n",
              "      <td>Hernia</td>\n",
              "    </tr>\n",
              "    <tr>\n",
              "      <th>...</th>\n",
              "      <td>...</td>\n",
              "      <td>...</td>\n",
              "      <td>...</td>\n",
              "      <td>...</td>\n",
              "      <td>...</td>\n",
              "      <td>...</td>\n",
              "      <td>...</td>\n",
              "    </tr>\n",
              "    <tr>\n",
              "      <th>305</th>\n",
              "      <td>47.903565</td>\n",
              "      <td>13.616688</td>\n",
              "      <td>36.000000</td>\n",
              "      <td>34.286877</td>\n",
              "      <td>117.449062</td>\n",
              "      <td>-4.245395</td>\n",
              "      <td>Normal</td>\n",
              "    </tr>\n",
              "    <tr>\n",
              "      <th>306</th>\n",
              "      <td>53.936748</td>\n",
              "      <td>20.721496</td>\n",
              "      <td>29.220534</td>\n",
              "      <td>33.215251</td>\n",
              "      <td>114.365845</td>\n",
              "      <td>-0.421010</td>\n",
              "      <td>Normal</td>\n",
              "    </tr>\n",
              "    <tr>\n",
              "      <th>307</th>\n",
              "      <td>61.446597</td>\n",
              "      <td>22.694968</td>\n",
              "      <td>46.170347</td>\n",
              "      <td>38.751628</td>\n",
              "      <td>125.670725</td>\n",
              "      <td>-2.707880</td>\n",
              "      <td>Normal</td>\n",
              "    </tr>\n",
              "    <tr>\n",
              "      <th>308</th>\n",
              "      <td>45.252792</td>\n",
              "      <td>8.693157</td>\n",
              "      <td>41.583126</td>\n",
              "      <td>36.559635</td>\n",
              "      <td>118.545842</td>\n",
              "      <td>0.214750</td>\n",
              "      <td>Normal</td>\n",
              "    </tr>\n",
              "    <tr>\n",
              "      <th>309</th>\n",
              "      <td>33.841641</td>\n",
              "      <td>5.073991</td>\n",
              "      <td>36.641233</td>\n",
              "      <td>28.767649</td>\n",
              "      <td>123.945244</td>\n",
              "      <td>-0.199249</td>\n",
              "      <td>Normal</td>\n",
              "    </tr>\n",
              "  </tbody>\n",
              "</table>\n",
              "<p>310 rows × 7 columns</p>\n",
              "</div>\n",
              "      <button class=\"colab-df-convert\" onclick=\"convertToInteractive('df-74784c62-7070-468a-8110-363952697a54')\"\n",
              "              title=\"Convert this dataframe to an interactive table.\"\n",
              "              style=\"display:none;\">\n",
              "        \n",
              "  <svg xmlns=\"http://www.w3.org/2000/svg\" height=\"24px\"viewBox=\"0 0 24 24\"\n",
              "       width=\"24px\">\n",
              "    <path d=\"M0 0h24v24H0V0z\" fill=\"none\"/>\n",
              "    <path d=\"M18.56 5.44l.94 2.06.94-2.06 2.06-.94-2.06-.94-.94-2.06-.94 2.06-2.06.94zm-11 1L8.5 8.5l.94-2.06 2.06-.94-2.06-.94L8.5 2.5l-.94 2.06-2.06.94zm10 10l.94 2.06.94-2.06 2.06-.94-2.06-.94-.94-2.06-.94 2.06-2.06.94z\"/><path d=\"M17.41 7.96l-1.37-1.37c-.4-.4-.92-.59-1.43-.59-.52 0-1.04.2-1.43.59L10.3 9.45l-7.72 7.72c-.78.78-.78 2.05 0 2.83L4 21.41c.39.39.9.59 1.41.59.51 0 1.02-.2 1.41-.59l7.78-7.78 2.81-2.81c.8-.78.8-2.07 0-2.86zM5.41 20L4 18.59l7.72-7.72 1.47 1.35L5.41 20z\"/>\n",
              "  </svg>\n",
              "      </button>\n",
              "      \n",
              "  <style>\n",
              "    .colab-df-container {\n",
              "      display:flex;\n",
              "      flex-wrap:wrap;\n",
              "      gap: 12px;\n",
              "    }\n",
              "\n",
              "    .colab-df-convert {\n",
              "      background-color: #E8F0FE;\n",
              "      border: none;\n",
              "      border-radius: 50%;\n",
              "      cursor: pointer;\n",
              "      display: none;\n",
              "      fill: #1967D2;\n",
              "      height: 32px;\n",
              "      padding: 0 0 0 0;\n",
              "      width: 32px;\n",
              "    }\n",
              "\n",
              "    .colab-df-convert:hover {\n",
              "      background-color: #E2EBFA;\n",
              "      box-shadow: 0px 1px 2px rgba(60, 64, 67, 0.3), 0px 1px 3px 1px rgba(60, 64, 67, 0.15);\n",
              "      fill: #174EA6;\n",
              "    }\n",
              "\n",
              "    [theme=dark] .colab-df-convert {\n",
              "      background-color: #3B4455;\n",
              "      fill: #D2E3FC;\n",
              "    }\n",
              "\n",
              "    [theme=dark] .colab-df-convert:hover {\n",
              "      background-color: #434B5C;\n",
              "      box-shadow: 0px 1px 3px 1px rgba(0, 0, 0, 0.15);\n",
              "      filter: drop-shadow(0px 1px 2px rgba(0, 0, 0, 0.3));\n",
              "      fill: #FFFFFF;\n",
              "    }\n",
              "  </style>\n",
              "\n",
              "      <script>\n",
              "        const buttonEl =\n",
              "          document.querySelector('#df-74784c62-7070-468a-8110-363952697a54 button.colab-df-convert');\n",
              "        buttonEl.style.display =\n",
              "          google.colab.kernel.accessAllowed ? 'block' : 'none';\n",
              "\n",
              "        async function convertToInteractive(key) {\n",
              "          const element = document.querySelector('#df-74784c62-7070-468a-8110-363952697a54');\n",
              "          const dataTable =\n",
              "            await google.colab.kernel.invokeFunction('convertToInteractive',\n",
              "                                                     [key], {});\n",
              "          if (!dataTable) return;\n",
              "\n",
              "          const docLinkHtml = 'Like what you see? Visit the ' +\n",
              "            '<a target=\"_blank\" href=https://colab.research.google.com/notebooks/data_table.ipynb>data table notebook</a>'\n",
              "            + ' to learn more about interactive tables.';\n",
              "          element.innerHTML = '';\n",
              "          dataTable['output_type'] = 'display_data';\n",
              "          await google.colab.output.renderOutput(dataTable, element);\n",
              "          const docLink = document.createElement('div');\n",
              "          docLink.innerHTML = docLinkHtml;\n",
              "          element.appendChild(docLink);\n",
              "        }\n",
              "      </script>\n",
              "    </div>\n",
              "  </div>\n",
              "  "
            ]
          },
          "metadata": {},
          "execution_count": 6
        }
      ],
      "source": [
        "import random\n",
        "random.seed(42) # define the seed (important to reproduce the results)\n",
        "\n",
        "data = pd.read_csv('/content/vertebralcolumn-3C.csv', header=(0))\n",
        "#data = pd.read_csv('data/winequality-red.csv', header=(0))\n",
        "\n",
        "data = data.dropna(axis='rows') #remove NaN\n",
        "# armazena os nomes das classes\n",
        "classes = np.array(pd.unique(data[data.columns[-1]]), dtype=str)  \n",
        "\n",
        "print(\"Número de linhas e colunas na matriz de atributos:\", data.shape)\n",
        "attributes = list(data.columns)\n",
        "data"
      ]
    },
    {
      "cell_type": "markdown",
      "metadata": {
        "id": "SwbWbUoRQ6Ss"
      },
      "source": [
        "Convertendo para o formato Numpy e normalizando:"
      ]
    },
    {
      "cell_type": "code",
      "execution_count": 7,
      "metadata": {
        "id": "0yb-C5uBQ6St"
      },
      "outputs": [],
      "source": [
        "data = data.to_numpy()\n",
        "nrow,ncol = data.shape\n",
        "y = data[:,-1]\n",
        "X = data[:,0:ncol-1]\n",
        "\n",
        "from sklearn.preprocessing import StandardScaler\n",
        "scaler = StandardScaler().fit(X)\n",
        "X = scaler.transform(X)"
      ]
    },
    {
      "cell_type": "markdown",
      "metadata": {
        "id": "Hms6OTSMQ6St"
      },
      "source": [
        "Selecionamos os conjunto de treinamento e teste usando o método hold-out."
      ]
    },
    {
      "cell_type": "code",
      "execution_count": 8,
      "metadata": {
        "id": "pkRWZlHDQ6Su"
      },
      "outputs": [],
      "source": [
        "from sklearn.model_selection import train_test_split\n",
        "p = 0.2 # fraction of elements in the test set\n",
        "x_train, x_test, y_train, y_test = train_test_split(X, y, test_size = p, random_state = 42)"
      ]
    },
    {
      "cell_type": "markdown",
      "metadata": {
        "id": "egR3PMh2Q6Su"
      },
      "source": [
        "Realizando a classificação por regressão logística:"
      ]
    },
    {
      "cell_type": "code",
      "execution_count": 9,
      "metadata": {
        "id": "TVmYLSyoQ6Su",
        "outputId": "296bf560-afa6-4779-f036-72c863ce3383",
        "colab": {
          "base_uri": "https://localhost:8080/"
        }
      },
      "outputs": [
        {
          "output_type": "stream",
          "name": "stdout",
          "text": [
            "Acurácia:  0.8548387096774194\n"
          ]
        }
      ],
      "source": [
        "from sklearn.linear_model import LogisticRegression\n",
        "from sklearn import metrics\n",
        "\n",
        "model = LogisticRegression(solver = 'lbfgs', multi_class = 'auto', max_iter = 1000)\n",
        "model.fit(x_train, y_train)\n",
        "\n",
        "y_pred = model.predict(x_test)\n",
        "print('Acurácia: ', model.score(x_test, y_test))"
      ]
    },
    {
      "cell_type": "markdown",
      "metadata": {
        "id": "Boz6usT1Q6Sv"
      },
      "source": [
        "## Região de separação"
      ]
    },
    {
      "cell_type": "markdown",
      "metadata": {
        "id": "6n8wJfHCQ6Sv"
      },
      "source": [
        "Bibliteca mlxtend: http://rasbt.github.io/mlxtend/installation/"
      ]
    },
    {
      "cell_type": "markdown",
      "metadata": {
        "id": "jy-tlmZGQ6Sw"
      },
      "source": [
        "Uma propriedade importante da regressão logística é que a superfície de separação são hiperplanos (retas em duas dimensões, ou planos, em duas dimensões). "
      ]
    },
    {
      "cell_type": "code",
      "execution_count": 10,
      "metadata": {
        "id": "pYMe5qHXQ6Sw",
        "outputId": "19591907-a2ef-4023-d9ed-fd6526af2d8f",
        "colab": {
          "base_uri": "https://localhost:8080/",
          "height": 582
        }
      },
      "outputs": [
        {
          "output_type": "display_data",
          "data": {
            "text/plain": [
              "<Figure size 432x288 with 1 Axes>"
            ],
            "image/png": "[encoded data removed]"
          },
          "metadata": {
            "needs_background": "light"
          }
        },
        {
          "output_type": "stream",
          "name": "stderr",
          "text": [
            "/usr/local/lib/python3.7/dist-packages/mlxtend/plotting/decision_regions.py:244: MatplotlibDeprecationWarning: Passing unsupported keyword arguments to axis() will raise a TypeError in 3.3.\n",
            "  ax.axis(xmin=xx.min(), xmax=xx.max(), y_min=yy.min(), y_max=yy.max())\n"
          ]
        },
        {
          "output_type": "display_data",
          "data": {
            "text/plain": [
              "<Figure size 432x288 with 1 Axes>"
            ],
            "image/png": "[encoded data removed]"
          },
          "metadata": {
            "needs_background": "light"
          }
        }
      ],
      "source": [
        "from mlxtend.plotting import plot_decision_regions\n",
        "\n",
        "# Gera os dados em duas dimensões\n",
        "n_samples = 100 # número de observações\n",
        "# centro dos grupos\n",
        "#centers = [(0, 0), (-2, -2), (2,0)]\n",
        "centers = [(0, 0), (-2, -2)]\n",
        "X, y = skdata.make_blobs(n_samples=100, n_features=2, cluster_std=1.0, centers=centers, \n",
        "                         shuffle=False, random_state=42)\n",
        "\n",
        "# monta a matrix de atributos\n",
        "d = np.column_stack((X,np.transpose(y)))\n",
        "# converte para o formato dataframe do Pandas\n",
        "data = DataFrame(data = d, columns=['X1', 'X2', 'y'])\n",
        "features_names = ['X1', 'X2']\n",
        "class_labels = np.unique(y)\n",
        "\n",
        "# mostra os dados e colori de acordo com as classes\n",
        "colors = ['red', 'blue', 'green', 'black']\n",
        "aux = 0\n",
        "for c in class_labels:\n",
        "    ind = np.where(y == c)\n",
        "    plt.scatter(X[ind,0][0], X[ind,1][0], color = colors[aux], label = c)\n",
        "    aux = aux + 1\n",
        "plt.savefig('plot_ex.eps')\n",
        "plt.legend()\n",
        "plt.show()\n",
        "\n",
        "# Training a classifier\n",
        "model = LogisticRegression(solver = 'lbfgs', multi_class = 'auto', max_iter = 1000)\n",
        "model.fit(X, y)\n",
        "# Plotting decision regions\n",
        "plot_decision_regions(X, y, clf=model, legend=2)\n",
        "plt.xlabel('X1')\n",
        "plt.ylabel('X2')\n",
        "#plt.savefig('logistic-region.eps')\n",
        "plt.show()"
      ]
    },
    {
      "cell_type": "markdown",
      "metadata": {
        "id": "pLV2NpTtQ6Sw"
      },
      "source": [
        "Para três classes:"
      ]
    },
    {
      "cell_type": "code",
      "execution_count": 11,
      "metadata": {
        "id": "qkteQhwSQ6Sx",
        "outputId": "6667e405-f3bd-4482-a3bc-975e4baa4bc5",
        "colab": {
          "base_uri": "https://localhost:8080/",
          "height": 585
        }
      },
      "outputs": [
        {
          "output_type": "display_data",
          "data": {
            "text/plain": [
              "<Figure size 432x288 with 1 Axes>"
            ],
            "image/png": "[encoded data removed]"
          },
          "metadata": {
            "needs_background": "light"
          }
        },
        {
          "output_type": "stream",
          "name": "stderr",
          "text": [
            "/usr/local/lib/python3.7/dist-packages/mlxtend/plotting/decision_regions.py:244: MatplotlibDeprecationWarning: Passing unsupported keyword arguments to axis() will raise a TypeError in 3.3.\n",
            "  ax.axis(xmin=xx.min(), xmax=xx.max(), y_min=yy.min(), y_max=yy.max())\n"
          ]
        },
        {
          "output_type": "display_data",
          "data": {
            "text/plain": [
              "<Figure size 432x288 with 1 Axes>"
            ],
            "image/png": "[encoded data removed]"
          },
          "metadata": {
            "needs_background": "light"
          }
        }
      ],
      "source": [
        "# Gera os dados em duas dimensões\n",
        "n_samples = 100 # número de observações\n",
        "# centro dos grupos\n",
        "centers = [(0, 0), (-2, -2), (2,0)]\n",
        "X, y = skdata.make_blobs(n_samples=100, n_features=2, cluster_std=1.0, centers=centers, \n",
        "                         shuffle=False, random_state=42)\n",
        "\n",
        "# monta a matrix de atributos\n",
        "d = np.column_stack((X,np.transpose(y)))\n",
        "# converte para o formato dataframe do Pandas\n",
        "data = DataFrame(data = d, columns=['X1', 'X2', 'y'])\n",
        "features_names = ['X1', 'X2']\n",
        "class_labels = np.unique(y)\n",
        "\n",
        "# mostra os dados e colori de acordo com as classes\n",
        "colors = ['red', 'blue', 'green', 'black']\n",
        "aux = 0\n",
        "for c in class_labels:\n",
        "    ind = np.where(y == c)\n",
        "    plt.scatter(X[ind,0][0], X[ind,1][0], color = colors[aux], label = c)\n",
        "    aux = aux + 1\n",
        "plt.savefig('plot_ex.eps')\n",
        "plt.legend()\n",
        "plt.show()\n",
        "\n",
        "# Training a classifier\n",
        "model = LogisticRegression(solver = 'lbfgs', multi_class = 'auto', max_iter = 1000)\n",
        "model.fit(X, y)\n",
        "# Plotting decision regions\n",
        "plot_decision_regions(X, y, clf=model, legend=2)\n",
        "plt.xlabel('X1')\n",
        "plt.ylabel('X2')\n",
        "#plt.savefig('logistic-region.eps')\n",
        "plt.show()"
      ]
    }
  ],
  "metadata": {
    "kernelspec": {
      "display_name": "Python 3",
      "language": "python",
      "name": "python3"
    },
    "language_info": {
      "codemirror_mode": {
        "name": "ipython",
        "version": 3
      },
      "file_extension": ".py",
      "mimetype": "text/x-python",
      "name": "python",
      "nbconvert_exporter": "python",
      "pygments_lexer": "ipython3",
      "version": "3.7.4"
    },
    "colab": {
      "name": "classificao_regressao_logistica.ipynb",
      "provenance": [],
      "collapsed_sections": []
    }
  },
  "nbformat": 4,
  "nbformat_minor": 0
}