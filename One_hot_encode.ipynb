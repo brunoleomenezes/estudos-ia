{
  "nbformat": 4,
  "nbformat_minor": 0,
  "metadata": {
    "colab": {
      "name": "One_hot_encode.ipynb",
      "provenance": []
    },
    "kernelspec": {
      "name": "python3",
      "display_name": "Python 3"
    }
  },
  "cells": [
    {
      "cell_type": "markdown",
      "source": [
        "Adaptado por Bruno Menezes (https://github.com/brunoleomenezes) e será utilizado apenas para fins acadêmicos."
      ],
      "metadata": {
        "id": "yGpX9M215Lb-"
      }
    },
    {
      "cell_type": "code",
      "source": [
        "from sklearn.feature_extraction.text import CountVectorizer\n",
        "\n",
        "corpus =[\n",
        "        \"tenha um bom dia\",\n",
        "        \"tenha um péssimo dia\",\n",
        "        \"tenha um ótimo dia\",\n",
        "        \"tenha um dia ruim\"\n",
        "    \n",
        "]\n",
        "\n",
        "vet = CountVectorizer()\n",
        "vet.fit(corpus)"
      ],
      "metadata": {
        "id": "ppkyAzXMtnkc",
        "colab": {
          "base_uri": "https://localhost:8080/"
        },
        "outputId": "ddd81bbb-38d0-41c2-94d0-231bc40ffec3"
      },
      "execution_count": 2,
      "outputs": [
        {
          "output_type": "execute_result",
          "data": {
            "text/plain": [
              "CountVectorizer()"
            ]
          },
          "metadata": {},
          "execution_count": 2
        }
      ]
    },
    {
      "cell_type": "code",
      "source": [
        "print(vet.vocabulary_)"
      ],
      "metadata": {
        "colab": {
          "base_uri": "https://localhost:8080/"
        },
        "id": "8XpKeHEb4tgu",
        "outputId": "f5a164f6-fab0-4363-8a52-f232957292a7"
      },
      "execution_count": 3,
      "outputs": [
        {
          "output_type": "stream",
          "name": "stdout",
          "text": [
            "{'tenha': 4, 'um': 5, 'bom': 0, 'dia': 1, 'péssimo': 2, 'ótimo': 6, 'ruim': 3}\n"
          ]
        }
      ]
    },
    {
      "cell_type": "code",
      "source": [
        "bom = vet.transform([\"bom\"])\n",
        "print(bom.toarray())"
      ],
      "metadata": {
        "colab": {
          "base_uri": "https://localhost:8080/"
        },
        "id": "DSxhxaej44Wx",
        "outputId": "3f718bc9-7d2b-47ca-c207-faade697c54e"
      },
      "execution_count": 4,
      "outputs": [
        {
          "output_type": "stream",
          "name": "stdout",
          "text": [
            "[[1 0 0 0 0 0 0]]\n"
          ]
        }
      ]
    }
  ]
}