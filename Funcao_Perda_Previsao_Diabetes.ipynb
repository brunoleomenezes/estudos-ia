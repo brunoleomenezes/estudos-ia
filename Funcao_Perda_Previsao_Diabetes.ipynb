{
  "nbformat": 4,
  "nbformat_minor": 0,
  "metadata": {
    "colab": {
      "name": "Funcao_Perda_Previsao_Diabetes.ipynb",
      "provenance": []
    },
    "kernelspec": {
      "name": "python3",
      "display_name": "Python 3"
    },
    "accelerator": "GPU"
  },
  "cells": [
    {
      "cell_type": "markdown",
      "metadata": {
        "id": "91OmaEPyU934"
      },
      "source": [
        "Adaptado por Bruno Menezes (https://github.com/brunoleomenezes) e será utilizado apenas para fins acadêmicos."
      ]
    },
    {
      "cell_type": "code",
      "metadata": {
        "id": "HiJE9dQOJnpY"
      },
      "source": [
        "import torch\n",
        "from torch import nn\n",
        "from sklearn import datasets"
      ],
      "execution_count": 1,
      "outputs": []
    },
    {
      "cell_type": "code",
      "metadata": {
        "id": "YFD6bwi7boNM",
        "outputId": "d69312ec-7833-4fcf-9857-13e9ccf51688",
        "colab": {
          "base_uri": "https://localhost:8080/"
        }
      },
      "source": [
        "if torch.cuda.is_available():\n",
        "  device = torch.device('cuda')\n",
        "else:\n",
        "  device = torch.device('cpu')\n",
        "\n",
        "print(device)"
      ],
      "execution_count": 2,
      "outputs": [
        {
          "output_type": "stream",
          "name": "stdout",
          "text": [
            "cuda\n"
          ]
        }
      ]
    },
    {
      "cell_type": "markdown",
      "metadata": {
        "id": "1LyOLrztc2cQ"
      },
      "source": [
        "Previsão da progressão da diabetes.\n"
      ]
    },
    {
      "cell_type": "code",
      "metadata": {
        "id": "X_vTwg_fc24l",
        "outputId": "53132c32-6d67-4323-bb9a-b401ff3ee3c0",
        "colab": {
          "base_uri": "https://localhost:8080/"
        }
      },
      "source": [
        "diab = datasets.load_diabetes()\n",
        "dados = diab.data\n",
        "alvo = diab.target\n",
        "\n",
        "print(dados.shape, alvo.shape)\n",
        "\n",
        "print(dados[13])\n",
        "print(alvo[13])\n",
        "#442 amostrar com 10 caracteristicas (idade, sexo e etc) e 442 rótulos"
      ],
      "execution_count": 3,
      "outputs": [
        {
          "output_type": "stream",
          "name": "stdout",
          "text": [
            "(442, 10) (442,)\n",
            "[ 0.00538306  0.05068012 -0.00189471  0.00810087 -0.00432087 -0.01571871\n",
            " -0.00290283 -0.00259226  0.03839325 -0.01350402]\n",
            "185.0\n"
          ]
        }
      ]
    },
    {
      "cell_type": "markdown",
      "metadata": {
        "id": "dC3OaC5VdXng"
      },
      "source": [
        "Implementando o MLP"
      ]
    },
    {
      "cell_type": "code",
      "metadata": {
        "id": "rGKUNv31dXC8"
      },
      "source": [
        "class diabClassifier(nn.Module):\n",
        "\n",
        "  def __init__(self, input_size, hidden_size, out_size):\n",
        "    super(diabClassifier, self).__init__()\n",
        "\n",
        "    # Arquitetura da rede\n",
        "    self.hidden  = nn.Linear(input_size, hidden_size)\n",
        "    self.relu    = nn.ReLU()\n",
        "    self.out     = nn.Linear(hidden_size, out_size)\n",
        "    self.softmax = nn.Softmax(dim=-1)\n",
        "\n",
        "  def forward(self, X):\n",
        "    \n",
        "    aspecto = self.relu(self.hidden(X))\n",
        "    saida  = self.softmax(self.out(aspecto))\n",
        "\n",
        "    return saida\n",
        "\n",
        "input_size  = dados.shape[1]\n",
        "hidden_size = 32\n",
        "out_size    = 1  # Progressão da doença\n",
        "\n",
        "net = diabClassifier(input_size, hidden_size, out_size).to(device) #Utilizando na GPU "
      ],
      "execution_count": 4,
      "outputs": []
    },
    {
      "cell_type": "markdown",
      "metadata": {
        "id": "PRrZkE19c15k"
      },
      "source": [
        "*MSELoss* https://pytorch.org/docs/stable/nn.html#mseloss"
      ]
    },
    {
      "cell_type": "code",
      "metadata": {
        "id": "Jzu7ZxbdcRsu",
        "outputId": "32146e97-b145-4294-ff4d-c98c4a0e4972",
        "colab": {
          "base_uri": "https://localhost:8080/"
        }
      },
      "source": [
        "criterio = nn.MSELoss().to(device) #Rótulo e predição precisam ter a mesma dimensionalidade\n",
        "\n",
        "# Utilizando GPU\n",
        "Xtensor = torch.from_numpy(dados).float().to(device) # Convertendo para float\n",
        "Ytensor = torch.from_numpy(alvo).float().to(device)\n",
        "\n",
        "print(Xtensor.shape, Ytensor.shape)"
      ],
      "execution_count": 5,
      "outputs": [
        {
          "output_type": "stream",
          "name": "stdout",
          "text": [
            "torch.Size([442, 10]) torch.Size([442])\n"
          ]
        }
      ]
    },
    {
      "cell_type": "code",
      "source": [
        "Xtensor"
      ],
      "metadata": {
        "colab": {
          "base_uri": "https://localhost:8080/"
        },
        "id": "Rh-cb0C3QgPI",
        "outputId": "9ab598f6-0685-4837-dced-ee942ddc22d5"
      },
      "execution_count": 6,
      "outputs": [
        {
          "output_type": "execute_result",
          "data": {
            "text/plain": [
              "tensor([[ 0.0381,  0.0507,  0.0617,  ..., -0.0026,  0.0199, -0.0176],\n",
              "        [-0.0019, -0.0446, -0.0515,  ..., -0.0395, -0.0683, -0.0922],\n",
              "        [ 0.0853,  0.0507,  0.0445,  ..., -0.0026,  0.0029, -0.0259],\n",
              "        ...,\n",
              "        [ 0.0417,  0.0507, -0.0159,  ..., -0.0111, -0.0469,  0.0155],\n",
              "        [-0.0455, -0.0446,  0.0391,  ...,  0.0266,  0.0445, -0.0259],\n",
              "        [-0.0455, -0.0446, -0.0730,  ..., -0.0395, -0.0042,  0.0031]],\n",
              "       device='cuda:0')"
            ]
          },
          "metadata": {},
          "execution_count": 6
        }
      ]
    },
    {
      "cell_type": "code",
      "source": [
        "Ytensor"
      ],
      "metadata": {
        "colab": {
          "base_uri": "https://localhost:8080/"
        },
        "id": "zcmlSfAWQn-4",
        "outputId": "bd9a7210-a326-433c-cb83-cd3597f63747"
      },
      "execution_count": 7,
      "outputs": [
        {
          "output_type": "execute_result",
          "data": {
            "text/plain": [
              "tensor([151.,  75., 141., 206., 135.,  97., 138.,  63., 110., 310., 101.,  69.,\n",
              "        179., 185., 118., 171., 166., 144.,  97., 168.,  68.,  49.,  68., 245.,\n",
              "        184., 202., 137.,  85., 131., 283., 129.,  59., 341.,  87.,  65., 102.,\n",
              "        265., 276., 252.,  90., 100.,  55.,  61.,  92., 259.,  53., 190., 142.,\n",
              "         75., 142., 155., 225.,  59., 104., 182., 128.,  52.,  37., 170., 170.,\n",
              "         61., 144.,  52., 128.,  71., 163., 150.,  97., 160., 178.,  48., 270.,\n",
              "        202., 111.,  85.,  42., 170., 200., 252., 113., 143.,  51.,  52., 210.,\n",
              "         65., 141.,  55., 134.,  42., 111.,  98., 164.,  48.,  96.,  90., 162.,\n",
              "        150., 279.,  92.,  83., 128., 102., 302., 198.,  95.,  53., 134., 144.,\n",
              "        232.,  81., 104.,  59., 246., 297., 258., 229., 275., 281., 179., 200.,\n",
              "        200., 173., 180.,  84., 121., 161.,  99., 109., 115., 268., 274., 158.,\n",
              "        107.,  83., 103., 272.,  85., 280., 336., 281., 118., 317., 235.,  60.,\n",
              "        174., 259., 178., 128.,  96., 126., 288.,  88., 292.,  71., 197., 186.,\n",
              "         25.,  84.,  96., 195.,  53., 217., 172., 131., 214.,  59.,  70., 220.,\n",
              "        268., 152.,  47.,  74., 295., 101., 151., 127., 237., 225.,  81., 151.,\n",
              "        107.,  64., 138., 185., 265., 101., 137., 143., 141.,  79., 292., 178.,\n",
              "         91., 116.,  86., 122.,  72., 129., 142.,  90., 158.,  39., 196., 222.,\n",
              "        277.,  99., 196., 202., 155.,  77., 191.,  70.,  73.,  49.,  65., 263.,\n",
              "        248., 296., 214., 185.,  78.,  93., 252., 150.,  77., 208.,  77., 108.,\n",
              "        160.,  53., 220., 154., 259.,  90., 246., 124.,  67.,  72., 257., 262.,\n",
              "        275., 177.,  71.,  47., 187., 125.,  78.,  51., 258., 215., 303., 243.,\n",
              "         91., 150., 310., 153., 346.,  63.,  89.,  50.,  39., 103., 308., 116.,\n",
              "        145.,  74.,  45., 115., 264.,  87., 202., 127., 182., 241.,  66.,  94.,\n",
              "        283.,  64., 102., 200., 265.,  94., 230., 181., 156., 233.,  60., 219.,\n",
              "         80.,  68., 332., 248.,  84., 200.,  55.,  85.,  89.,  31., 129.,  83.,\n",
              "        275.,  65., 198., 236., 253., 124.,  44., 172., 114., 142., 109., 180.,\n",
              "        144., 163., 147.,  97., 220., 190., 109., 191., 122., 230., 242., 248.,\n",
              "        249., 192., 131., 237.,  78., 135., 244., 199., 270., 164.,  72.,  96.,\n",
              "        306.,  91., 214.,  95., 216., 263., 178., 113., 200., 139., 139.,  88.,\n",
              "        148.,  88., 243.,  71.,  77., 109., 272.,  60.,  54., 221.,  90., 311.,\n",
              "        281., 182., 321.,  58., 262., 206., 233., 242., 123., 167.,  63., 197.,\n",
              "         71., 168., 140., 217., 121., 235., 245.,  40.,  52., 104., 132.,  88.,\n",
              "         69., 219.,  72., 201., 110.,  51., 277.,  63., 118.,  69., 273., 258.,\n",
              "         43., 198., 242., 232., 175.,  93., 168., 275., 293., 281.,  72., 140.,\n",
              "        189., 181., 209., 136., 261., 113., 131., 174., 257.,  55.,  84.,  42.,\n",
              "        146., 212., 233.,  91., 111., 152., 120.,  67., 310.,  94., 183.,  66.,\n",
              "        173.,  72.,  49.,  64.,  48., 178., 104., 132., 220.,  57.],\n",
              "       device='cuda:0')"
            ]
          },
          "metadata": {},
          "execution_count": 7
        }
      ]
    },
    {
      "cell_type": "code",
      "metadata": {
        "id": "ltlmEeIDeAzC",
        "outputId": "404b48bf-5715-4b82-b81f-7b96dcb525fe",
        "colab": {
          "base_uri": "https://localhost:8080/"
        }
      },
      "source": [
        "predicao = net(Xtensor)\n",
        "\n",
        "loss = criterio(predicao.squeeze(), Ytensor) #squeeze retira dimensões a mais\n",
        "print(loss.data) # Média da distância quadradica entre a predição e dado real"
      ],
      "execution_count": 8,
      "outputs": [
        {
          "output_type": "stream",
          "name": "stdout",
          "text": [
            "tensor(28771.2168, device='cuda:0')\n"
          ]
        }
      ]
    },
    {
      "cell_type": "markdown",
      "metadata": {
        "id": "g92P_wBNgyb-"
      },
      "source": [
        "Algumas funções de perda no PyTorch: https://pytorch.org/docs/stable/nn.html#loss-functions"
      ]
    }
  ]
}