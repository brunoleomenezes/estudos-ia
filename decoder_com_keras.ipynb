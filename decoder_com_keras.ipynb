{
  "nbformat": 4,
  "nbformat_minor": 0,
  "metadata": {
    "colab": {
      "provenance": [],
      "collapsed_sections": []
    },
    "kernelspec": {
      "name": "python3",
      "display_name": "Python 3"
    },
    "accelerator": "GPU"
  },
  "cells": [
    {
      "cell_type": "markdown",
      "source": [
        "#Adaptado por Bruno Menezes (https://github.com/brunoleomenezes) e será utilizado apenas para fins acadêmicos."
      ],
      "metadata": {
        "id": "gbylM34L1_Jl"
      }
    },
    {
      "cell_type": "code",
      "metadata": {
        "id": "hu3aedKp4q5R"
      },
      "source": [
        "import numpy as np\n",
        "import tensorflow as tf\n",
        "import matplotlib.pyplot as plt\n",
        "\n",
        "from tensorflow.keras.datasets import mnist"
      ],
      "execution_count": 1,
      "outputs": []
    },
    {
      "cell_type": "code",
      "metadata": {
        "id": "2L-k511I4_Lp",
        "colab": {
          "base_uri": "https://localhost:8080/"
        },
        "outputId": "32be6d60-a0d1-4d89-8b16-c8522cbe5529"
      },
      "source": [
        "(X_train, y_train),(X_test, y_test) = mnist.load_data()"
      ],
      "execution_count": 2,
      "outputs": [
        {
          "output_type": "stream",
          "name": "stdout",
          "text": [
            "Downloading data from https://storage.googleapis.com/tensorflow/tf-keras-datasets/mnist.npz\n",
            "11493376/11490434 [==============================] - 1s 0us/step\n",
            "11501568/11490434 [==============================] - 1s 0us/step\n"
          ]
        }
      ]
    },
    {
      "cell_type": "code",
      "metadata": {
        "id": "KRh9UqFT5QHJ",
        "colab": {
          "base_uri": "https://localhost:8080/",
          "height": 282
        },
        "outputId": "e34a756e-741d-4fd9-901c-f3d2e3881bfa"
      },
      "source": [
        "plt.imshow(X_train[1])"
      ],
      "execution_count": 3,
      "outputs": [
        {
          "output_type": "execute_result",
          "data": {
            "text/plain": [
              "<matplotlib.image.AxesImage at 0x7fe2bd36e4d0>"
            ]
          },
          "metadata": {},
          "execution_count": 3
        },
        {
          "output_type": "display_data",
          "data": {
            "text/plain": [
              "<Figure size 432x288 with 1 Axes>"
            ],
            "image/png": "[encoded data removed]"
          },
          "metadata": {
            "needs_background": "light"
          }
        }
      ]
    },
    {
      "cell_type": "code",
      "metadata": {
        "id": "78nPr2nYGECR"
      },
      "source": [
        "X_train = X_train / 255.0\n",
        "X_test = X_test / 255.0"
      ],
      "execution_count": 5,
      "outputs": []
    },
    {
      "cell_type": "code",
      "metadata": {
        "id": "9UjXbGZOnyw_",
        "colab": {
          "base_uri": "https://localhost:8080/"
        },
        "outputId": "a346d3c0-ddd5-4557-bffc-31d0ba41ab1b"
      },
      "source": [
        "X_input = tf.keras.layers.Input(shape=(28,28,1))\n",
        "# encoder\n",
        "X = tf.keras.layers.Conv2D(filters=16, kernel_size=3, strides=2, padding='same')(X_input)\n",
        "encoded = tf.keras.layers.Conv2D(filters=8, kernel_size=3, strides=2, padding='same')(X)\n",
        "# espaço latente\n",
        "# decoder\n",
        "X = tf.keras.layers.Conv2DTranspose(filters=16, kernel_size=3, strides=2, padding='same')(encoded)\n",
        "X = tf.keras.layers.Conv2DTranspose(filters=1, kernel_size=3, strides=2, activation='sigmoid', padding='same')(X)\n",
        "\n",
        "model = tf.keras.models.Model(inputs=X_input, outputs=X)\n",
        "\n",
        "encoded_input = tf.keras.layers.Input(shape=(7,7,8))\n",
        "X = model.layers[-2](encoded_input)\n",
        "X = model.layers[-1](X)\n",
        "\n",
        "decoder = tf.keras.models.Model(inputs=encoded_input, outputs=X)\n",
        "\n",
        "model.compile(loss='binary_crossentropy', optimizer=tf.keras.optimizers.Adam(lr=0.001))\n",
        "\n",
        "decoder.summary()"
      ],
      "execution_count": 6,
      "outputs": [
        {
          "output_type": "stream",
          "name": "stdout",
          "text": [
            "Model: \"model_1\"\n",
            "_________________________________________________________________\n",
            " Layer (type)                Output Shape              Param #   \n",
            "=================================================================\n",
            " input_2 (InputLayer)        [(None, 7, 7, 8)]         0         \n",
            "                                                                 \n",
            " conv2d_transpose (Conv2DTra  (None, 14, 14, 16)       1168      \n",
            " nspose)                                                         \n",
            "                                                                 \n",
            " conv2d_transpose_1 (Conv2DT  (None, 28, 28, 1)        145       \n",
            " ranspose)                                                       \n",
            "                                                                 \n",
            "=================================================================\n",
            "Total params: 1,313\n",
            "Trainable params: 1,313\n",
            "Non-trainable params: 0\n",
            "_________________________________________________________________\n"
          ]
        },
        {
          "output_type": "stream",
          "name": "stderr",
          "text": [
            "/usr/local/lib/python3.7/dist-packages/keras/optimizer_v2/adam.py:105: UserWarning: The `lr` argument is deprecated, use `learning_rate` instead.\n",
            "  super(Adam, self).__init__(name, **kwargs)\n"
          ]
        }
      ]
    },
    {
      "cell_type": "code",
      "metadata": {
        "id": "78tfWT7Gd_Pv",
        "colab": {
          "base_uri": "https://localhost:8080/"
        },
        "outputId": "4daf1940-d9ba-42d1-be95-fcdfa0d5bd02"
      },
      "source": [
        "history = model.fit(X_train, X_train, batch_size=100, validation_split=0.1, epochs=30)"
      ],
      "execution_count": 7,
      "outputs": [
        {
          "output_type": "stream",
          "name": "stdout",
          "text": [
            "Epoch 1/30\n",
            "540/540 [==============================] - 15s 5ms/step - loss: 0.0622 - val_loss: 0.0074\n",
            "Epoch 2/30\n",
            "540/540 [==============================] - 2s 4ms/step - loss: 0.0072 - val_loss: 0.0070\n",
            "Epoch 3/30\n",
            "540/540 [==============================] - 2s 4ms/step - loss: 0.0067 - val_loss: 0.0063\n",
            "Epoch 4/30\n",
            "540/540 [==============================] - 2s 5ms/step - loss: 0.0058 - val_loss: 0.0055\n",
            "Epoch 5/30\n",
            "540/540 [==============================] - 2s 5ms/step - loss: 0.0049 - val_loss: 0.0044\n",
            "Epoch 6/30\n",
            "540/540 [==============================] - 2s 5ms/step - loss: 0.0042 - val_loss: 0.0041\n",
            "Epoch 7/30\n",
            "540/540 [==============================] - 2s 4ms/step - loss: 0.0040 - val_loss: 0.0039\n",
            "Epoch 8/30\n",
            "540/540 [==============================] - 3s 5ms/step - loss: 0.0039 - val_loss: 0.0039\n",
            "Epoch 9/30\n",
            "540/540 [==============================] - 4s 7ms/step - loss: 0.0039 - val_loss: 0.0038\n",
            "Epoch 10/30\n",
            "540/540 [==============================] - 3s 5ms/step - loss: 0.0038 - val_loss: 0.0038\n",
            "Epoch 11/30\n",
            "540/540 [==============================] - 3s 6ms/step - loss: 0.0038 - val_loss: 0.0038\n",
            "Epoch 12/30\n",
            "540/540 [==============================] - 3s 5ms/step - loss: 0.0038 - val_loss: 0.0038\n",
            "Epoch 13/30\n",
            "540/540 [==============================] - 3s 5ms/step - loss: 0.0038 - val_loss: 0.0038\n",
            "Epoch 14/30\n",
            "540/540 [==============================] - 2s 4ms/step - loss: 0.0038 - val_loss: 0.0038\n",
            "Epoch 15/30\n",
            "540/540 [==============================] - 2s 5ms/step - loss: 0.0038 - val_loss: 0.0038\n",
            "Epoch 16/30\n",
            "540/540 [==============================] - 3s 5ms/step - loss: 0.0038 - val_loss: 0.0037\n",
            "Epoch 17/30\n",
            "540/540 [==============================] - 2s 4ms/step - loss: 0.0037 - val_loss: 0.0037\n",
            "Epoch 18/30\n",
            "540/540 [==============================] - 3s 5ms/step - loss: 0.0037 - val_loss: 0.0037\n",
            "Epoch 19/30\n",
            "540/540 [==============================] - 2s 5ms/step - loss: 0.0037 - val_loss: 0.0036\n",
            "Epoch 20/30\n",
            "540/540 [==============================] - 2s 5ms/step - loss: 0.0037 - val_loss: 0.0036\n",
            "Epoch 21/30\n",
            "540/540 [==============================] - 2s 4ms/step - loss: 0.0036 - val_loss: 0.0036\n",
            "Epoch 22/30\n",
            "540/540 [==============================] - 2s 5ms/step - loss: 0.0036 - val_loss: 0.0036\n",
            "Epoch 23/30\n",
            "540/540 [==============================] - 2s 4ms/step - loss: 0.0036 - val_loss: 0.0036\n",
            "Epoch 24/30\n",
            "540/540 [==============================] - 2s 4ms/step - loss: 0.0036 - val_loss: 0.0036\n",
            "Epoch 25/30\n",
            "540/540 [==============================] - 2s 4ms/step - loss: 0.0036 - val_loss: 0.0036\n",
            "Epoch 26/30\n",
            "540/540 [==============================] - 2s 4ms/step - loss: 0.0036 - val_loss: 0.0036\n",
            "Epoch 27/30\n",
            "540/540 [==============================] - 3s 5ms/step - loss: 0.0036 - val_loss: 0.0036\n",
            "Epoch 28/30\n",
            "540/540 [==============================] - 2s 5ms/step - loss: 0.0036 - val_loss: 0.0036\n",
            "Epoch 29/30\n",
            "540/540 [==============================] - 2s 5ms/step - loss: 0.0036 - val_loss: 0.0036\n",
            "Epoch 30/30\n",
            "540/540 [==============================] - 2s 5ms/step - loss: 0.0036 - val_loss: 0.0036\n"
          ]
        }
      ]
    },
    {
      "cell_type": "code",
      "metadata": {
        "id": "A4olGGhSns9Q",
        "colab": {
          "base_uri": "https://localhost:8080/"
        },
        "outputId": "f3c87460-e949-4ae5-970c-37a5b07e298e"
      },
      "source": [
        "print(model.layers[3].get_weights()[1])\n",
        "print(decoder.layers[1].get_weights()[1])"
      ],
      "execution_count": 8,
      "outputs": [
        {
          "output_type": "stream",
          "name": "stdout",
          "text": [
            "[ 0.03502098 -0.08308267 -0.03485658  0.03824246 -0.1770572   0.07786264\n",
            " -0.09999742 -0.04380798  0.04617803 -0.10581758  0.07106038 -0.07099945\n",
            "  0.06594235 -0.14589463  0.07437038  0.10506365]\n",
            "[ 0.03502098 -0.08308267 -0.03485658  0.03824246 -0.1770572   0.07786264\n",
            " -0.09999742 -0.04380798  0.04617803 -0.10581758  0.07106038 -0.07099945\n",
            "  0.06594235 -0.14589463  0.07437038  0.10506365]\n"
          ]
        }
      ]
    },
    {
      "cell_type": "code",
      "metadata": {
        "id": "qzjzO1et-sHP",
        "colab": {
          "base_uri": "https://localhost:8080/",
          "height": 282
        },
        "outputId": "056f2c28-43d0-40cf-80fb-a4edfcac3f6a"
      },
      "source": [
        "encoded_imgs = np.random.rand(1,7,7,8)\n",
        "decoded_imgs = decoder.predict(encoded_imgs)\n",
        "\n",
        "plt.imshow(decoded_imgs.reshape(28, 28))"
      ],
      "execution_count": 9,
      "outputs": [
        {
          "output_type": "execute_result",
          "data": {
            "text/plain": [
              "<matplotlib.image.AxesImage at 0x7fe23e274710>"
            ]
          },
          "metadata": {},
          "execution_count": 9
        },
        {
          "output_type": "display_data",
          "data": {
            "text/plain": [
              "<Figure size 432x288 with 1 Axes>"
            ],
            "image/png": "[encoded data removed]"
          },
          "metadata": {
            "needs_background": "light"
          }
        }
      ]
    },
    {
      "cell_type": "code",
      "metadata": {
        "id": "zGWb9bF30SDw",
        "colab": {
          "base_uri": "https://localhost:8080/",
          "height": 129
        },
        "outputId": "857a60c6-5cdb-4d2a-adad-6f1724c5cea1"
      },
      "source": [
        "encoded_imgs = np.random.rand(10,7,7,8)\n",
        "decoded_imgs = decoder.predict(encoded_imgs)\n",
        "\n",
        "n = 10 \n",
        "plt.figure(figsize=(20, 4))\n",
        "for i in range(n):\n",
        "    \n",
        "    ax = plt.subplot(2, n, i + 1 + n)\n",
        "    plt.imshow(decoded_imgs[i].reshape(28, 28))\n",
        "    plt.gray()\n",
        "    ax.get_xaxis().set_visible(False)\n",
        "    ax.get_yaxis().set_visible(False)\n",
        "plt.show()"
      ],
      "execution_count": 10,
      "outputs": [
        {
          "output_type": "display_data",
          "data": {
            "text/plain": [
              "<Figure size 1440x288 with 10 Axes>"
            ],
            "image/png": "[encoded data removed]"
          },
          "metadata": {
            "needs_background": "light"
          }
        }
      ]
    }
  ]
}