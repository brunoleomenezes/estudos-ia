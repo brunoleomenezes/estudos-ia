{
  "nbformat": 4,
  "nbformat_minor": 0,
  "metadata": {
    "colab": {
      "provenance": [],
      "collapsed_sections": []
    },
    "kernelspec": {
      "name": "python3",
      "display_name": "Python 3"
    },
    "accelerator": "GPU"
  },
  "cells": [
    {
      "cell_type": "markdown",
      "source": [
        "#Adaptado por Bruno Menezes (https://github.com/brunoleomenezes) e será utilizado apenas para fins acadêmicos."
      ],
      "metadata": {
        "id": "7qkjleC4z0Og"
      }
    },
    {
      "cell_type": "code",
      "metadata": {
        "id": "hu3aedKp4q5R"
      },
      "source": [
        "import numpy as np\n",
        "import tensorflow as tf\n",
        "import matplotlib.pyplot as plt\n",
        "from tensorflow.keras.datasets import mnist"
      ],
      "execution_count": 1,
      "outputs": []
    },
    {
      "cell_type": "markdown",
      "metadata": {
        "id": "rnLwqMpSzDr0"
      },
      "source": [
        "### Load dataset"
      ]
    },
    {
      "cell_type": "code",
      "metadata": {
        "id": "2L-k511I4_Lp",
        "colab": {
          "base_uri": "https://localhost:8080/"
        },
        "outputId": "babebd7e-a499-4332-ca4f-9cceb7d88367"
      },
      "source": [
        "(X_train, y_train),(X_test, y_test) = mnist.load_data()"
      ],
      "execution_count": 2,
      "outputs": [
        {
          "output_type": "stream",
          "name": "stdout",
          "text": [
            "Downloading data from https://storage.googleapis.com/tensorflow/tf-keras-datasets/mnist.npz\n",
            "11493376/11490434 [==============================] - 0s 0us/step\n",
            "11501568/11490434 [==============================] - 0s 0us/step\n"
          ]
        }
      ]
    },
    {
      "cell_type": "code",
      "metadata": {
        "id": "KRh9UqFT5QHJ",
        "colab": {
          "base_uri": "https://localhost:8080/",
          "height": 282
        },
        "outputId": "a9937b33-f175-4a1c-f877-78d5dd619e92"
      },
      "source": [
        "plt.imshow(X_train[1])"
      ],
      "execution_count": 3,
      "outputs": [
        {
          "output_type": "execute_result",
          "data": {
            "text/plain": [
              "<matplotlib.image.AxesImage at 0x7fbbd7d8e1d0>"
            ]
          },
          "metadata": {},
          "execution_count": 3
        },
        {
          "output_type": "display_data",
          "data": {
            "text/plain": [
              "<Figure size 432x288 with 1 Axes>"
            ],
            "image/png": "[encoded data removed]"
          },
          "metadata": {
            "needs_background": "light"
          }
        }
      ]
    },
    {
      "cell_type": "code",
      "metadata": {
        "id": "78nPr2nYGECR"
      },
      "source": [
        "#Normalizando a base\n",
        "\n",
        "X_train = X_train / 255.0\n",
        "X_test = X_test / 255.0"
      ],
      "execution_count": 5,
      "outputs": []
    },
    {
      "cell_type": "code",
      "metadata": {
        "id": "9UjXbGZOnyw_",
        "colab": {
          "base_uri": "https://localhost:8080/"
        },
        "outputId": "d63acf2d-2fcb-4c31-c5f9-6a5b3b92c98f"
      },
      "source": [
        "# O autoencoder\n",
        "\n",
        "X_input = tf.keras.layers.Input((28,28,1))\n",
        "# encoder\n",
        "X = tf.keras.layers.Conv2D(filters=16, kernel_size=3, strides=2, padding='same')(X_input)\n",
        "encoded = tf.keras.layers.Conv2D(filters=8, kernel_size=3, strides=2, padding='same')(X)\n",
        "# espaço latente\n",
        "# decoder\n",
        "X = tf.keras.layers.Conv2DTranspose(filters=16, kernel_size=3, strides=2, padding='same')(encoded)\n",
        "X = tf.keras.layers.Conv2DTranspose(filters=1, kernel_size=3, strides=2, activation='sigmoid', padding='same')(X)\n",
        "\n",
        "# Dois modelos\n",
        "model = tf.keras.models.Model(inputs=X_input, outputs=X)\n",
        "encoder = tf.keras.models.Model(X_input, encoded)\n",
        "\n",
        "model.compile(loss='binary_crossentropy', optimizer=tf.keras.optimizers.Adam(lr=0.001))\n",
        "\n",
        "model.summary()"
      ],
      "execution_count": 7,
      "outputs": [
        {
          "output_type": "stream",
          "name": "stdout",
          "text": [
            "Model: \"model_2\"\n",
            "_________________________________________________________________\n",
            " Layer (type)                Output Shape              Param #   \n",
            "=================================================================\n",
            " input_2 (InputLayer)        [(None, 28, 28, 1)]       0         \n",
            "                                                                 \n",
            " conv2d_2 (Conv2D)           (None, 14, 14, 16)        160       \n",
            "                                                                 \n",
            " conv2d_3 (Conv2D)           (None, 7, 7, 8)           1160      \n",
            "                                                                 \n",
            " conv2d_transpose_2 (Conv2DT  (None, 14, 14, 16)       1168      \n",
            " ranspose)                                                       \n",
            "                                                                 \n",
            " conv2d_transpose_3 (Conv2DT  (None, 28, 28, 1)        145       \n",
            " ranspose)                                                       \n",
            "                                                                 \n",
            "=================================================================\n",
            "Total params: 2,633\n",
            "Trainable params: 2,633\n",
            "Non-trainable params: 0\n",
            "_________________________________________________________________\n"
          ]
        },
        {
          "output_type": "stream",
          "name": "stderr",
          "text": [
            "/usr/local/lib/python3.7/dist-packages/keras/optimizer_v2/adam.py:105: UserWarning: The `lr` argument is deprecated, use `learning_rate` instead.\n",
            "  super(Adam, self).__init__(name, **kwargs)\n"
          ]
        }
      ]
    },
    {
      "cell_type": "code",
      "source": [
        "encoder.summary()"
      ],
      "metadata": {
        "colab": {
          "base_uri": "https://localhost:8080/"
        },
        "id": "79kjsHMmu0Vf",
        "outputId": "2755703a-99c5-43f8-fea6-e8f4883189c4"
      },
      "execution_count": 8,
      "outputs": [
        {
          "output_type": "stream",
          "name": "stdout",
          "text": [
            "Model: \"model_3\"\n",
            "_________________________________________________________________\n",
            " Layer (type)                Output Shape              Param #   \n",
            "=================================================================\n",
            " input_2 (InputLayer)        [(None, 28, 28, 1)]       0         \n",
            "                                                                 \n",
            " conv2d_2 (Conv2D)           (None, 14, 14, 16)        160       \n",
            "                                                                 \n",
            " conv2d_3 (Conv2D)           (None, 7, 7, 8)           1160      \n",
            "                                                                 \n",
            "=================================================================\n",
            "Total params: 1,320\n",
            "Trainable params: 1,320\n",
            "Non-trainable params: 0\n",
            "_________________________________________________________________\n"
          ]
        }
      ]
    },
    {
      "cell_type": "code",
      "metadata": {
        "id": "78tfWT7Gd_Pv",
        "colab": {
          "base_uri": "https://localhost:8080/"
        },
        "outputId": "944469bf-841a-4dc4-d8dc-95b8cbf8a5c8"
      },
      "source": [
        "# Treino\n",
        "history = model.fit(X_train, X_train, batch_size=100, validation_split=0.1, epochs=30)"
      ],
      "execution_count": 9,
      "outputs": [
        {
          "output_type": "stream",
          "name": "stdout",
          "text": [
            "Epoch 1/30\n",
            "540/540 [==============================] - 14s 5ms/step - loss: 0.0610 - val_loss: 0.0073\n",
            "Epoch 2/30\n",
            "540/540 [==============================] - 3s 6ms/step - loss: 0.0070 - val_loss: 0.0067\n",
            "Epoch 3/30\n",
            "540/540 [==============================] - 2s 4ms/step - loss: 0.0063 - val_loss: 0.0058\n",
            "Epoch 4/30\n",
            "540/540 [==============================] - 2s 4ms/step - loss: 0.0056 - val_loss: 0.0055\n",
            "Epoch 5/30\n",
            "540/540 [==============================] - 2s 3ms/step - loss: 0.0051 - val_loss: 0.0043\n",
            "Epoch 6/30\n",
            "540/540 [==============================] - 2s 3ms/step - loss: 0.0042 - val_loss: 0.0040\n",
            "Epoch 7/30\n",
            "540/540 [==============================] - 2s 3ms/step - loss: 0.0040 - val_loss: 0.0039\n",
            "Epoch 8/30\n",
            "540/540 [==============================] - 2s 3ms/step - loss: 0.0039 - val_loss: 0.0039\n",
            "Epoch 9/30\n",
            "540/540 [==============================] - 2s 3ms/step - loss: 0.0039 - val_loss: 0.0038\n",
            "Epoch 10/30\n",
            "540/540 [==============================] - 2s 3ms/step - loss: 0.0039 - val_loss: 0.0038\n",
            "Epoch 11/30\n",
            "540/540 [==============================] - 2s 3ms/step - loss: 0.0038 - val_loss: 0.0038\n",
            "Epoch 12/30\n",
            "540/540 [==============================] - 2s 3ms/step - loss: 0.0038 - val_loss: 0.0038\n",
            "Epoch 13/30\n",
            "540/540 [==============================] - 2s 3ms/step - loss: 0.0038 - val_loss: 0.0038\n",
            "Epoch 14/30\n",
            "540/540 [==============================] - 2s 4ms/step - loss: 0.0038 - val_loss: 0.0038\n",
            "Epoch 15/30\n",
            "540/540 [==============================] - 2s 3ms/step - loss: 0.0038 - val_loss: 0.0038\n",
            "Epoch 16/30\n",
            "540/540 [==============================] - 2s 3ms/step - loss: 0.0038 - val_loss: 0.0038\n",
            "Epoch 17/30\n",
            "540/540 [==============================] - 2s 3ms/step - loss: 0.0038 - val_loss: 0.0037\n",
            "Epoch 18/30\n",
            "540/540 [==============================] - 2s 3ms/step - loss: 0.0037 - val_loss: 0.0037\n",
            "Epoch 19/30\n",
            "540/540 [==============================] - 2s 3ms/step - loss: 0.0037 - val_loss: 0.0036\n",
            "Epoch 20/30\n",
            "540/540 [==============================] - 2s 3ms/step - loss: 0.0037 - val_loss: 0.0036\n",
            "Epoch 21/30\n",
            "540/540 [==============================] - 2s 3ms/step - loss: 0.0036 - val_loss: 0.0036\n",
            "Epoch 22/30\n",
            "540/540 [==============================] - 2s 3ms/step - loss: 0.0036 - val_loss: 0.0036\n",
            "Epoch 23/30\n",
            "540/540 [==============================] - 2s 3ms/step - loss: 0.0036 - val_loss: 0.0036\n",
            "Epoch 24/30\n",
            "540/540 [==============================] - 2s 3ms/step - loss: 0.0036 - val_loss: 0.0036\n",
            "Epoch 25/30\n",
            "540/540 [==============================] - 2s 3ms/step - loss: 0.0036 - val_loss: 0.0036\n",
            "Epoch 26/30\n",
            "540/540 [==============================] - 2s 3ms/step - loss: 0.0036 - val_loss: 0.0036\n",
            "Epoch 27/30\n",
            "540/540 [==============================] - 2s 3ms/step - loss: 0.0036 - val_loss: 0.0036\n",
            "Epoch 28/30\n",
            "540/540 [==============================] - 2s 3ms/step - loss: 0.0036 - val_loss: 0.0036\n",
            "Epoch 29/30\n",
            "540/540 [==============================] - 2s 3ms/step - loss: 0.0036 - val_loss: 0.0036\n",
            "Epoch 30/30\n",
            "540/540 [==============================] - 2s 3ms/step - loss: 0.0036 - val_loss: 0.0036\n"
          ]
        }
      ]
    },
    {
      "cell_type": "code",
      "metadata": {
        "id": "A4olGGhSns9Q",
        "colab": {
          "base_uri": "https://localhost:8080/"
        },
        "outputId": "52cecc3b-ecb0-4885-b9f9-a82a5b874346"
      },
      "source": [
        "# Evolução\n",
        "print(model.layers[2].get_weights()[1])\n",
        "print(encoder.layers[2].get_weights()[1])"
      ],
      "execution_count": 10,
      "outputs": [
        {
          "output_type": "stream",
          "name": "stdout",
          "text": [
            "[ 0.08773712 -0.06308994  0.05029726 -0.21510616 -0.07192852  0.11676512\n",
            "  0.1802484   0.23914869]\n",
            "[ 0.08773712 -0.06308994  0.05029726 -0.21510616 -0.07192852  0.11676512\n",
            "  0.1802484   0.23914869]\n"
          ]
        }
      ]
    },
    {
      "cell_type": "code",
      "metadata": {
        "id": "qIZyGlTqppow",
        "colab": {
          "base_uri": "https://localhost:8080/"
        },
        "outputId": "2cb0cc98-9bca-4313-a5dd-a21ad8bf0155"
      },
      "source": [
        "# Classificador\n",
        "X_train_pixels = np.reshape(X_train,(60000, 28*28)) #Linear\n",
        "X_test_pixels = np.reshape(X_test,(10000, 28*28))\n",
        "print(X_train_pixels.shape)\n",
        "print(X_train.shape)\n",
        "print(X_test_pixels.shape)\n",
        "print(X_test.shape)\n",
        "\n",
        "# Poderia ser um KNN\n",
        "from sklearn.naive_bayes import GaussianNB\n",
        "nb = GaussianNB()\n",
        "\n",
        "nb.fit(X_train_pixels, y_train) #Pixels e y\n",
        "y_train_pred = nb.predict(X_train_pixels)\n",
        "y_test_pred = nb.predict(X_test_pixels)\n",
        "\n",
        "from sklearn.metrics import accuracy_score\n",
        "print(accuracy_score(y_train, y_train_pred))\n",
        "print(accuracy_score(y_test, y_test_pred))"
      ],
      "execution_count": 11,
      "outputs": [
        {
          "output_type": "stream",
          "name": "stdout",
          "text": [
            "(60000, 784)\n",
            "(60000, 28, 28)\n",
            "(10000, 784)\n",
            "(10000, 28, 28)\n",
            "0.5649\n",
            "0.5558\n"
          ]
        }
      ]
    },
    {
      "cell_type": "code",
      "metadata": {
        "id": "6sVMUcrorv2n",
        "colab": {
          "base_uri": "https://localhost:8080/"
        },
        "outputId": "461b6526-3f96-426f-dfb4-4de0abdcaf6f"
      },
      "source": [
        "# PCA\n",
        "from sklearn.decomposition import PCA\n",
        "\n",
        "X_train_pca = np.reshape(X_train,(60000, 28*28))\n",
        "X_test_pca = np.reshape(X_test,(10000, 28*28))\n",
        "pca = PCA(n_components=7*7*8)  # mesmo tamanho que o espaço latente do autoencoder (392)\n",
        "pca.fit(X_train_pca)\n",
        "X_train_pca = pca.transform(X_train_pca)\n",
        "X_test_pca = pca.transform(X_test_pca)\n",
        "print(X_train_pca.shape)\n",
        "print(y_train.shape)\n",
        "print(X_test_pca.shape)\n",
        "print(y_test.shape)\n",
        "\n",
        "from sklearn.naive_bayes import GaussianNB\n",
        "nb = GaussianNB()\n",
        "\n",
        "nb.fit(X_train_pca, y_train)\n",
        "y_train_pred = nb.predict(X_train_pca)\n",
        "y_test_pred = nb.predict(X_test_pca)\n",
        "\n",
        "from sklearn.metrics import accuracy_score\n",
        "print(accuracy_score(y_train, y_train_pred))\n",
        "print(accuracy_score(y_test, y_test_pred))"
      ],
      "execution_count": 12,
      "outputs": [
        {
          "output_type": "stream",
          "name": "stdout",
          "text": [
            "(60000, 392)\n",
            "(60000,)\n",
            "(10000, 392)\n",
            "(10000,)\n",
            "0.76245\n",
            "0.7658\n"
          ]
        }
      ]
    },
    {
      "cell_type": "code",
      "metadata": {
        "id": "pzMwFqqrs99h",
        "colab": {
          "base_uri": "https://localhost:8080/"
        },
        "outputId": "33e7d48c-2f7a-4dfe-f32c-873168108f89"
      },
      "source": [
        "#Embedding das features\n",
        "X_train_emb = encoder.predict(X_train)\n",
        "X_test_emb = encoder.predict(X_test)\n",
        "print(X_train_emb.shape)\n",
        "print(y_train.shape)\n",
        "X_train_emb = np.reshape(X_train_emb, (60000,7*7*8))\n",
        "X_test_emb = np.reshape(X_test_emb, (10000,7*7*8))\n",
        "print(X_train_emb.shape)\n",
        "print(y_train.shape)\n",
        "print(X_test_emb.shape)\n",
        "print(y_test.shape)\n",
        "\n",
        "from sklearn.naive_bayes import GaussianNB\n",
        "nb = GaussianNB()\n",
        "\n",
        "nb.fit(X_train_emb, y_train)\n",
        "y_train_pred = nb.predict(X_train_emb)\n",
        "y_test_pred = nb.predict(X_test_emb)\n",
        "\n",
        "from sklearn.metrics import accuracy_score\n",
        "print(accuracy_score(y_train, y_train_pred))\n",
        "print(accuracy_score(y_test, y_test_pred))"
      ],
      "execution_count": 13,
      "outputs": [
        {
          "output_type": "stream",
          "name": "stdout",
          "text": [
            "(60000, 7, 7, 8)\n",
            "(60000,)\n",
            "(60000, 392)\n",
            "(60000,)\n",
            "(10000, 392)\n",
            "(10000,)\n",
            "0.6623333333333333\n",
            "0.6645\n"
          ]
        }
      ]
    }
  ]
}