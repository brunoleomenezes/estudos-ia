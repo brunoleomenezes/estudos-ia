{
  "nbformat": 4,
  "nbformat_minor": 0,
  "metadata": {
    "colab": {
      "name": "ngrams.ipynb",
      "provenance": [],
      "authorship_tag": "ABX9TyMBtiCx2OuRbutKos4jfMkx"
    },
    "kernelspec": {
      "name": "python3",
      "display_name": "Python 3"
    },
    "language_info": {
      "name": "python"
    }
  },
  "cells": [
    {
      "cell_type": "code",
      "execution_count": 1,
      "metadata": {
        "id": "ZvHxH9_5lVEP"
      },
      "outputs": [],
      "source": [
        "from nltk import ngrams"
      ]
    },
    {
      "cell_type": "code",
      "source": [
        "sequencia = \"Fui a um péssimo jogo\""
      ],
      "metadata": {
        "id": "mOFeLSv0ljfA"
      },
      "execution_count": 2,
      "outputs": []
    },
    {
      "cell_type": "code",
      "source": [
        "from nltk import tokenize\n",
        "\n",
        "token_por_espac = tokenize.WhitespaceTokenizer()\n",
        "sequencia_sep = token_por_espac.tokenize(sequencia)"
      ],
      "metadata": {
        "id": "tN5Snz9mlpnC"
      },
      "execution_count": 4,
      "outputs": []
    },
    {
      "cell_type": "code",
      "source": [
        "par = ngrams(sequencia_sep, 2)"
      ],
      "metadata": {
        "id": "8r0dI8Xplx2p"
      },
      "execution_count": 5,
      "outputs": []
    },
    {
      "cell_type": "code",
      "source": [
        "list(par)"
      ],
      "metadata": {
        "colab": {
          "base_uri": "https://localhost:8080/"
        },
        "id": "_AImu3Ggl4Oc",
        "outputId": "b3215150-e62b-4873-ea37-10e7dcba69d2"
      },
      "execution_count": 6,
      "outputs": [
        {
          "output_type": "execute_result",
          "data": {
            "text/plain": [
              "[('Fui', 'a'), ('a', 'um'), ('um', 'péssimo'), ('péssimo', 'jogo')]"
            ]
          },
          "metadata": {},
          "execution_count": 6
        }
      ]
    },
    {
      "cell_type": "code",
      "source": [
        "trio = ngrams(sequencia_sep, 3)"
      ],
      "metadata": {
        "id": "848iYMGfl73B"
      },
      "execution_count": 7,
      "outputs": []
    },
    {
      "cell_type": "code",
      "source": [
        "list(trio)"
      ],
      "metadata": {
        "colab": {
          "base_uri": "https://localhost:8080/"
        },
        "id": "80ywpPIvl-lr",
        "outputId": "4e3f99c4-887f-498b-aa9f-dfbd9f945e4b"
      },
      "execution_count": 8,
      "outputs": [
        {
          "output_type": "execute_result",
          "data": {
            "text/plain": [
              "[('Fui', 'a', 'um'), ('a', 'um', 'péssimo'), ('um', 'péssimo', 'jogo')]"
            ]
          },
          "metadata": {},
          "execution_count": 8
        }
      ]
    }
  ]
}