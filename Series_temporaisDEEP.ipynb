{
  "nbformat": 4,
  "nbformat_minor": 0,
  "metadata": {
    "colab": {
      "name": "Series_temporaisDEEP.ipynb",
      "provenance": []
    },
    "kernelspec": {
      "name": "python3",
      "display_name": "Python 3"
    }
  },
  "cells": [
    {
      "cell_type": "markdown",
      "metadata": {
        "id": "2QUxw2rz3IPx"
      },
      "source": [
        "\n",
        "Adaptado por Bruno Menezes (https://github.com/brunoleomenezes) e será utilizado apenas para fins acadêmicos.\n"
      ]
    },
    {
      "cell_type": "markdown",
      "metadata": {
        "id": "nX0NwuaM5P2F"
      },
      "source": [
        "## Carregando os dados"
      ]
    },
    {
      "cell_type": "code",
      "metadata": {
        "id": "wUrtVmuQNHcU"
      },
      "source": [
        "import pandas as pd\n",
        "import seaborn as sns\n",
        "import matplotlib as mpl\n",
        "import matplotlib.pyplot as plt\n",
        "from sklearn.preprocessing import StandardScaler"
      ],
      "execution_count": 1,
      "outputs": []
    },
    {
      "cell_type": "code",
      "metadata": {
        "id": "y7BfD16WNmeU"
      },
      "source": [
        "serie_temporal = pd.read_csv('/content/dataset.csv')"
      ],
      "execution_count": 2,
      "outputs": []
    },
    {
      "cell_type": "code",
      "metadata": {
        "id": "knNG-o5zPzCF",
        "colab": {
          "base_uri": "https://localhost:8080/",
          "height": 206
        },
        "outputId": "3d5a16e6-5aca-48df-dcd7-cfc3b9a5a92a"
      },
      "source": [
        "serie_temporal.head()"
      ],
      "execution_count": 3,
      "outputs": [
        {
          "output_type": "execute_result",
          "data": {
            "text/html": [
              "\n",
              "  <div id=\"df-5cadab07-f731-442f-a7f6-1f79375cd367\">\n",
              "    <div class=\"colab-df-container\">\n",
              "      <div>\n",
              "<style scoped>\n",
              "    .dataframe tbody tr th:only-of-type {\n",
              "        vertical-align: middle;\n",
              "    }\n",
              "\n",
              "    .dataframe tbody tr th {\n",
              "        vertical-align: top;\n",
              "    }\n",
              "\n",
              "    .dataframe thead th {\n",
              "        text-align: right;\n",
              "    }\n",
              "</style>\n",
              "<table border=\"1\" class=\"dataframe\">\n",
              "  <thead>\n",
              "    <tr style=\"text-align: right;\">\n",
              "      <th></th>\n",
              "      <th>tempo</th>\n",
              "      <th>passageiros</th>\n",
              "    </tr>\n",
              "  </thead>\n",
              "  <tbody>\n",
              "    <tr>\n",
              "      <th>0</th>\n",
              "      <td>1949.000000</td>\n",
              "      <td>112</td>\n",
              "    </tr>\n",
              "    <tr>\n",
              "      <th>1</th>\n",
              "      <td>1949.083333</td>\n",
              "      <td>118</td>\n",
              "    </tr>\n",
              "    <tr>\n",
              "      <th>2</th>\n",
              "      <td>1949.166667</td>\n",
              "      <td>132</td>\n",
              "    </tr>\n",
              "    <tr>\n",
              "      <th>3</th>\n",
              "      <td>1949.250000</td>\n",
              "      <td>129</td>\n",
              "    </tr>\n",
              "    <tr>\n",
              "      <th>4</th>\n",
              "      <td>1949.333333</td>\n",
              "      <td>121</td>\n",
              "    </tr>\n",
              "  </tbody>\n",
              "</table>\n",
              "</div>\n",
              "      <button class=\"colab-df-convert\" onclick=\"convertToInteractive('df-5cadab07-f731-442f-a7f6-1f79375cd367')\"\n",
              "              title=\"Convert this dataframe to an interactive table.\"\n",
              "              style=\"display:none;\">\n",
              "        \n",
              "  <svg xmlns=\"http://www.w3.org/2000/svg\" height=\"24px\"viewBox=\"0 0 24 24\"\n",
              "       width=\"24px\">\n",
              "    <path d=\"M0 0h24v24H0V0z\" fill=\"none\"/>\n",
              "    <path d=\"M18.56 5.44l.94 2.06.94-2.06 2.06-.94-2.06-.94-.94-2.06-.94 2.06-2.06.94zm-11 1L8.5 8.5l.94-2.06 2.06-.94-2.06-.94L8.5 2.5l-.94 2.06-2.06.94zm10 10l.94 2.06.94-2.06 2.06-.94-2.06-.94-.94-2.06-.94 2.06-2.06.94z\"/><path d=\"M17.41 7.96l-1.37-1.37c-.4-.4-.92-.59-1.43-.59-.52 0-1.04.2-1.43.59L10.3 9.45l-7.72 7.72c-.78.78-.78 2.05 0 2.83L4 21.41c.39.39.9.59 1.41.59.51 0 1.02-.2 1.41-.59l7.78-7.78 2.81-2.81c.8-.78.8-2.07 0-2.86zM5.41 20L4 18.59l7.72-7.72 1.47 1.35L5.41 20z\"/>\n",
              "  </svg>\n",
              "      </button>\n",
              "      \n",
              "  <style>\n",
              "    .colab-df-container {\n",
              "      display:flex;\n",
              "      flex-wrap:wrap;\n",
              "      gap: 12px;\n",
              "    }\n",
              "\n",
              "    .colab-df-convert {\n",
              "      background-color: #E8F0FE;\n",
              "      border: none;\n",
              "      border-radius: 50%;\n",
              "      cursor: pointer;\n",
              "      display: none;\n",
              "      fill: #1967D2;\n",
              "      height: 32px;\n",
              "      padding: 0 0 0 0;\n",
              "      width: 32px;\n",
              "    }\n",
              "\n",
              "    .colab-df-convert:hover {\n",
              "      background-color: #E2EBFA;\n",
              "      box-shadow: 0px 1px 2px rgba(60, 64, 67, 0.3), 0px 1px 3px 1px rgba(60, 64, 67, 0.15);\n",
              "      fill: #174EA6;\n",
              "    }\n",
              "\n",
              "    [theme=dark] .colab-df-convert {\n",
              "      background-color: #3B4455;\n",
              "      fill: #D2E3FC;\n",
              "    }\n",
              "\n",
              "    [theme=dark] .colab-df-convert:hover {\n",
              "      background-color: #434B5C;\n",
              "      box-shadow: 0px 1px 3px 1px rgba(0, 0, 0, 0.15);\n",
              "      filter: drop-shadow(0px 1px 2px rgba(0, 0, 0, 0.3));\n",
              "      fill: #FFFFFF;\n",
              "    }\n",
              "  </style>\n",
              "\n",
              "      <script>\n",
              "        const buttonEl =\n",
              "          document.querySelector('#df-5cadab07-f731-442f-a7f6-1f79375cd367 button.colab-df-convert');\n",
              "        buttonEl.style.display =\n",
              "          google.colab.kernel.accessAllowed ? 'block' : 'none';\n",
              "\n",
              "        async function convertToInteractive(key) {\n",
              "          const element = document.querySelector('#df-5cadab07-f731-442f-a7f6-1f79375cd367');\n",
              "          const dataTable =\n",
              "            await google.colab.kernel.invokeFunction('convertToInteractive',\n",
              "                                                     [key], {});\n",
              "          if (!dataTable) return;\n",
              "\n",
              "          const docLinkHtml = 'Like what you see? Visit the ' +\n",
              "            '<a target=\"_blank\" href=https://colab.research.google.com/notebooks/data_table.ipynb>data table notebook</a>'\n",
              "            + ' to learn more about interactive tables.';\n",
              "          element.innerHTML = '';\n",
              "          dataTable['output_type'] = 'display_data';\n",
              "          await google.colab.output.renderOutput(dataTable, element);\n",
              "          const docLink = document.createElement('div');\n",
              "          docLink.innerHTML = docLinkHtml;\n",
              "          element.appendChild(docLink);\n",
              "        }\n",
              "      </script>\n",
              "    </div>\n",
              "  </div>\n",
              "  "
            ],
            "text/plain": [
              "         tempo  passageiros\n",
              "0  1949.000000          112\n",
              "1  1949.083333          118\n",
              "2  1949.166667          132\n",
              "3  1949.250000          129\n",
              "4  1949.333333          121"
            ]
          },
          "metadata": {},
          "execution_count": 3
        }
      ]
    },
    {
      "cell_type": "code",
      "metadata": {
        "id": "ASPLTeX-OxMB",
        "colab": {
          "base_uri": "https://localhost:8080/",
          "height": 351
        },
        "outputId": "404d404d-2319-48fa-c350-2e0c0b4e96fd"
      },
      "source": [
        "mpl.rcParams['figure.figsize'] = (9, 5)\n",
        "sns.lineplot(x='tempo',y='passageiros', data=serie_temporal,label='serie completa') "
      ],
      "execution_count": 4,
      "outputs": [
        {
          "output_type": "execute_result",
          "data": {
            "text/plain": [
              "<matplotlib.axes._subplots.AxesSubplot at 0x7fa1bd48ba50>"
            ]
          },
          "metadata": {},
          "execution_count": 4
        },
        {
          "output_type": "display_data",
          "data": {
            "image/png": "[encoded data removed]",
            "text/plain": [
              "<Figure size 648x360 with 1 Axes>"
            ]
          },
          "metadata": {
            "needs_background": "light"
          }
        }
      ]
    },
    {
      "cell_type": "markdown",
      "source": [
        "![Screenshot 2022-02-22 at 15-42-36 Captura de tela de 2022-02-22 15-41-59 png (PNG Image, 1366 × 768 pixels) - Scaled (81%).png](data:image/png;base64,iVBORw0KGgoAAAANSUhEUgAAAhgAAACxCAYAAACGCMQfAAAgAElEQVR4XuxdB2BUVdM92ZaeQOi9F2mB0Iv03kG6IkpVlM9eELsiYEVRiigCCiggVXqRDgLSCR0poYcE0nc3yX4z9+1LNiGQQDbJlvv8+T9I3t59b247d+bMGQ8LXZCXtIC0gLSAtIC0gLSAtIAdLeAhAYYdrSmbkhaQFpAWkBaQFpAWEBaQAEMOBGkBaQFpAWkBaQFpAbtbQAIMu5tUNigtIC0gLSAtIC0gLSABhhwD0gLSAtIC0gLSAtICdreABBh2N6lsUFpAWkBaQFpAWkBaQAIMOQakBaQFpAWkBaQFpAXsbgEJMOxuUtmgtIC0gLSAtIC0gLSABBhyDEgLSAtIC0gLSAtIC9jdAhJg2N2kskFpAWkBaQFpAWkBaQEJMOQYkBaQFpAWkBaQFpAWsLsFJMCwu0llg9IC0gLSAtIC0gLSAhJgyDEgLSAtIC0gLSAtIC1gdwtIgGF3k8oGpQWkBaQFpAWkBaQFJMCQY0Ba4AEWUIsNe3h4gP+elJxM/ytN5kwW0FDfaTQeUPuQn53/Li9pAWmBnLWABBg5a1/ZuhNbgAGFuhHZ/t2JX8mtH132p1t3v3z5PLCABBh5YHT5lY5vAXUz4v/lPxqNBlF3IrDw7+OIik+CVitPwI7ei9xD5qRk1CgViHaNqkOj9xR9KT0Yjt5z8vlcxQISYLhKT8r3sLsFbMFF9N1IzF29H3uvaqDRasVGJd3sdje5fRtkMOGhhaclDoMfL4mm9aqDIlx0pfad7EP7mly2Ji1gawEJMOR4kBZIZwH1lCsABjRISjRh8brd2HrBgsB8QeBdyiJj+E4xbog5A3MycTDibuLZlqVQo1pV6r5ksHfDg7xSEig6RTfKh3RSC0iA4aQdJx87Zyygbji8CZGLAsQNxMZte7Bw/10EFCxBYMPIW1POfLlsNUcs4OFBIMOiRSl9JPo3r4gyZUojmT1Q3JNW8q70ZOSI6WWjbm4BCTDcfADI11cskD5bhH/GTorde/Zh2eEomLyKAIkJdOrV8s10LpaZCA4/dqx8C+4tBhDGRKCyTySGdw2BT2AQLOzJoJ9LkOHwPSkf0EktIAGGk3acfOycsYAt7+LK5UuYviYUER4F4anjNFWr70KGR3LG+DnVqhUQcrqq0WRCs3Ja9G9dC9AR6dMGZOTU18t2pQXc1QISYLhrz8v3TrGA6r1QPRmcMRIfE43JC3cgzBwEb08DEmkj4g1KXk5qAVW8hDxQptg76Bnsi7ZN60HhfErSp5P2qnxsB7eABBgO3kHy8XLHAoJzwWEPBhdxsZj31w4cDPeFt48fkQKTpBs9d7ohZ75FuJ4UoTTm1CRBB4PpNvo3KIg6wTVSvpOBpSR95kwXyFbd0wISYLhnv8u3FgfXVElO8XfahBJNCVixYSc2XdDBJyAIyYlmhYwh01Kde8yk8DGYc5GMRIseAZYIPN+hIkqULCVJn87du7n29Lb6OOqXSg7P/c0vAUauDU35RY5qAZG2KMh+wIHDoZi17RoMgUVgMaeSOsUv5eUCFhCUT/rPAlOyBhX9YzG4VWUUKFRYSV+VpE8X6OOcfwUlhT01n0yCjIxtLgFGzo9F+Q0OaIGMeBdnzpzFz5vOI05fiJzoSaR1oREbkQQXDtiB2XokVmflcJgHEhIS0KBIAgZ1agy9l7fMLMmWXV37w7ZrBr+pmtqcnMwcHpnynFHvS4Dh2nNCvl0GFshIBvz69WuYs+YwwhILwKDTkMtcpqG69OBRJcNJlTU+NhptKmjQs00DEv7UpYTDpDaGS4+Ah3q5e/VxPLD2nwsoXcQP1coWRBJJ0tsW1JNjRzGvBBgPNczkzc5ugfTgwoO8FAm0wUxbtBmn4grC38+XFgtJ6nT2fs7K8wsXNwGNZJIT15mj8ERIABqF1CDPlaJ1YrtJyA0jKxZ1vXvS6+OodYl+WnUc3y45hMolAjFxRBNUKhUkKi1zppkMl6SOAwkwXG9OyDfKxAKq1gX7NZOJ1Lls015sCzNA7+mjkDopm4A3HhkaceGhpJI+eUOwJMMMJn1GYsjjJVC5ciVB+mSQwZkl8nJPC9hmFNkqv8746yjmrj+FBsHlcPtuHGLv3MFnw5uiSmkihUseT5rBIgGGe84dt3xrWzenQuazYMvug1h6KAbw9IeWVBEUAqAIsLqljdzvpRU+hobGgomUPgt7xuGFLtURVKBAymah2kR6MdxvdPAbK6CBlwQNpq88hnkbT6F29dLwIn0cDotcuXEHCVFR+Iw8GZXZkyHDJSkDRQIM95wzbvfWtqERJmVptRqEnjiD79ecgmf+knSKJVKnwBUSWLjd4KAXVseH0ZyIxwKiMaxrfXj7BcgTqTsOBut44FdXQyTsyZq28ih+23AKdWqUgbcXie8lJgnrGAw6XL1OICM6ChNHNkWFEvmRSCBDS+DD3cMlEmC46QRyp9fOiNR55fJlTFm2H3E+ZaDTWLMKZOErdxoWqe+qhsM49ZA2kkRjAhoXM6J3+4YweHpJ0qebjQpbTycfOrQCXBwjcHESIdXLwMtbAReqMBvfb9DrEHYjEqbo6AxBhpuZUHow3LXD3e29MwIX4TcoY2TtQVxMLErgwqbQmQyNuNvwSAMylPAYhck0eiTG30WfYB+0aFSbfkKkT2vBNGWISC+XKw4UW0KnwsFhOpYHhUWO4lf2XBC48CZwwSEQW8+Eqonhqdfi8rU7MFKZASZ+ViyZ3+3DbNKD4YozRb5TGguopE5eFBKNcZi/Zi92XfOCn483LQCJIrYqL2kB3lHUgna0hcDLEoN+9QshpFZV8XM1g0DKibv2WFF0LfgPcS5WkOeCOBd1mHORznNxD8hgTwaFS8IoXMKejAlWkMHZJewFUUMu7gRQJcBw7bni1m+nnkjUDYEXjeXrd2L1CSP88hVCchJljPCpVWF1urWt5MvbOjMoe4T+abJoEJR8AyM610TJEiUkH8OFB0matYJXg3RhEfZcmCksooIDW5CQ3ktqCzLYk1GBPBnuysmQAMOFJ418NYUBzhfHS/cdPIoFu68h2bswNFZSp7SRtECGFmAdDHKPmxMtKOMZgRHd6iIwf2pmiTudQl19hKQR0bKuFdOE50LhXKjggsMl9zuIpAcZnsTJuEzZJSY3J35KgOHqs8eN308NjTC4OHf2DKavOQGTXxmKqJvJGc4y4PKSFniQBZS6JUzoq1soHv3b1YaXTwCFSlJrlkj7Oa8F7uVcKLonzLngbJHaDC44W8SadppZiCNNITQCqHqDHmHXImEkkDFplJJd4m46GRJgOO/8kE+eiQXUyRx+8zp+XHkQ10GkTqqkKWPocuhk2QIis0Qrqux2rKxDp8eDodEZlMwSKcKVZTM62o3pRbSEl5NipaxzwdkitW1SUdVsEb4nM8/VPZ4M4mQoxM8o4mQ0RSUb4qc7pLBKgOFoI18+j90swDFTvU6LOYvXYfHO/xCUn2OhHEcVS4Xdvkc25MoWYB8GqPSdBj6WaIwb2gHlypQWstAqcc+V397V383WoyA8F4LQSamoVp2LjDgXmdkkjeYOAVEvBhlM/KTskgnDlewSdxHjkgAjs9Eif++0FjCZSQBap8PXPy/B8q1HULAAAYxENWuEM9zlJS2QmQUYXgg1BOiT4/DJy/1RtWJ5ATB0VChNXs5nAVtCp/BcMKEzhXPB2SKeVp2L+3MuMnvr+xM/3UuMSwKMzEaK/L3TWsBMYIIBxq+L1+LXtfvg6+sv4ufSe+G0XZo3D84pquT28rTE45OX+qMKAYxEBhgyRJI3/ZGNb82I0Dl9BelckOciVURLqYzKV3bCqRmDDBbjiiExLsouSaf4mY3XctiPSoDhsF0jHyy7Fkg0J0FH4jfL1/6Nmcv2QGvwkoGR7BrVDT/PWw0lkyCf3owPx/RDhXJlZYjEycbBPYRO9lwIzoUiohUidC4804ho8StmxrnIzAxpQQaVPDJocem6VfGTOBmuLsYlAUZmI0T+3mktYKa6EnpKF1u4bA1mr9oPg48/HUmkB8NpOzSPHpw5O/GmJFQv6Y93RvVGgYKkocKluaUHI4965NG/VhHRUoCDki1ymmqLELiwci5UQmd2gYXtE2ZI/LSCDCZ+Ck6Gi4pxSYDx6GNVftLBLcB8Cx2FSJavWo+fVuyF1tOPnlgCDAfvNod7PA1xMGIJYISUz4+3R/RGQD5KNySgqqXsEnk5vgUy4lykpKJStoiPlyfpnTA3SwmL2BNcqNa5n06GmbNLqNS7q4pxSYDh+PNDPuEjWiCJMka0RMQ7eOgwPp+7CdFGEDFPZo88ojnd9mM8YtiDUatsIN4Z2Rv5ggoIVzpX5JWXY1vgQZwLzhbxsSp0PkhEy15v+CAxrklUhbW8C1ZhlQDDXqNHtuNwFlBT0E6dOoXxs9YiIobTVuWm4HAd5eAPxLH66FgjWtcrh1ef6SYqrHJtEpUI6OCP75aPd38RrWPWwmWlFREtDnVZPRfZIXRm1chpxLjIM8Yh3MskxmWmFFYVZLiSGFeeAIy0Rs5q18j7VGGWnHLjuZqFVQ/GsWNHMWH2RtyNt5BbW3nLnHCDupr95PuwBXjMaBF+JxpDez6OIT1biBRGLXnCZJE8xx8hXBVVJJuqIlqULVKbCJ0CXNiUXM+L9UBVGubaJZdTiJ+skxHkMoqfeQIwHH9YOuYT5gbCdsw3f7SnYuIUn04uXjiPD2esxq0ok/RgPJop3fpTHFa7GRmNEb1b4qluzawAQys9GA46KtJwLghdaLgqKil0imwRInQyuLhf4bLceqWMiZ8sxkU6GVZOhiuIceUJwLA1bnS8GUaKb1q9VLnVv07zPeyK5dNSoI9BxHxtXX9O8xJ59KBsqyRijWspp/21L+bj2Nkw+NLiIk41csDlUa8429daSO9CSwAjCsN7t8DTPZrDzOnPFGqTY8jx+vKBOhdW+W8VXOR1/91PjIvDJVzqPb1OhjMeMPMEYKgpXrEJZoz+dguMPGGJjKcY0PEGbV49EYMLrugYH2/EE49XwMA2VcWjsJ1kilzWekWVC39pwi8IPX8dvj7eVKadhJ9limHWDOj2d/GapEVsbBSe79sSvTo8bvVgSIDhaEMj/YatFC5jz4VSFdWLCJ2JifYR0bLXu98LMqhAmjVcMonEuJj4aevJsNf35lY7eQIwVKPeiU5Ap7eWo1qVkuI0IGoXSoSR2vcMJAh4RVP8t3IxH7w3pDEBMcWLIe2U+RRhOyUmE3ilE+gLH07DmSt3FIBBXg1J0MvcfvIOxQIiim+Ow/8GtkKb5o1pwVcAqpyDjjFC7ieiNeOvY5i7/iTVFqGwSA6IaNnr7TMKl1yiAmkihdXJxbjyFGDcjTFiwCfrUIPQpaBl00SWk9Zm2JJNkmltM1gSUdTXA8/1CE7hEEg7ZW16JyaRFoZWh7GTZuLA2XD4CIDBITmZTZI1C7r7XexG1CLJGIP/DWiFdi2bSA+Ggw4JPjjAgw4PVs4FV0UVhcuE50IBhY56OMuQk0Egw0SeMwEyrJ4MNTXaUd8j/dDIc4DR58M1qFGtdMpzyY0zLcDgGggeiSaUDNBizBMhAmA4y+ByhHVIzST57qffsXbfRUoxpFLboniVjMU5Qv84+jMo5x4aK4nkwSCAwR4MFnBjfRW5VuV972UookWFy5TaIornIqdFtOxlhfvqZBAnY6KTcjLyHGD0/WitBBj3G6G0ujHA0BDAKEEA48XedSTAeMjZrAKMyTPmYf2By9AbPBWntwzFPaQl3ff2RDoZ5/MC3hzSHrVq1pAhEgcZChkTOhlcKJ4LbxvPhYM8cqaPcS/I0FIK611R6j2jAmmOftiUACPTLs/DGyTAyLbx2TWq02nx9dTZ2HjoOgwkCyw9GNk2q9s0wDiUs9xKBnlh3IiuKF2mrKjIywBVgtS8GQb3imgpomdM6OSwSG0GF5Qtxmnqah85+kZsa8n0YlwGIcbFKawMMkhWvEQ+p9HJkAAjb+ZI1r5VAoys2ekBd6mSzguX/kVs8hOCNCs3hmyb1Y0asJCL3YJi+Qx4Z1gXlC9fLmXjkplIeTsMFBEt9kYq2SK/kc4FEzqdgXORmeXuT/xUUlhtq7CqAoyOuK5JgJFZT+fl7yXAyLb1mdCpoSySLdt3YfLC3aSBQSEnwe+UHIxsG9cNGuBRkkBp9GUK++KDkd1QrETJNKdHNzCBQ72iLedCqYqqwQxrKqoaFslrES17Gey+OhnRBDIohZV1MhxdjEsCDHuNhpxoRwKMbFtV5WBs2rINUxbvJU6LTC/MtlHdpgGFqxMTZ0SD6mXx6Ut9CaDS+LFyeBzxxOjKXZMh50LVuWARLS5cRmDQlcJX94AMCpeE3aBwCYGMiaMoXFI8HxK58B6FiBzRkyEBhiPPSAkwst07qqjbvv3/4rO5W8i9zR4M6b3ItmHdpAEWuouKjkPzulXxwejeIiOBRQEluMjdAfAgEa1UQqdjiWjZy0IZinFRgTQhKy44GeTJsJZFcLRxKQGGvUZBTrQjAUa2rapOzrtRURjx0WzEk3qsLLOdbbO6SQOsqUAAIyYBj4dUxvsEMGwXckdbzF2xU9ITOtXCZc4iomWvPskoXKIQPxWQwToZjliFVQIMe42AnGhHAoxsW1X1YCSS+uLA16cg3kgnUFGyXXoxsm1cl2+AshCgRVx8HNo3rIzXhveBmcaRTqp45nrP8zxmPRIGfCmcCwqLeDlAVdTcMkaGOhnXlewSlfjpaJwMCTBya3Q8yvdIgPEoVkvzGXVSmkwm9BkzCRadjygeJwFGtk3rBg2wypYGJlM8+rSohqEDe1C8m0q1S4CRK32foYiWmopKVVF9vLxEyIpDnqJukxto22QMMihcEhvjkGJcEmDkylR5xC+RAOMRDZf6MXVCms1mDH3ra0QatSKGLi9pgaxYgDcus8mIPi0ZYHSXIltZMZod7rEldDLMY1DHnou5VvlvZxTRsoNZRBMZEj+5QFpsNCaNaEYF0tISP+31vY/SjgQYj2K13PqMBBjZtrQ6GZOoJslbE2bgxNUEUkOVHoxsG9YtGlA8GGZTAvq1roYh/bpLmfAc7vf7iWilgguS/yaxPFVEy/b+HH40h2o+DcigJ/PUa8EF0piTMclK/FQ5GeqD54WHRwIMhxo26R5GAoxs945YgLhSL7lS3544HceuGmEQHAx5SQtkbgGun6VFIp7r2QAd2rSQHozMTWaXO7hwmQcVLrPVuahtrS3i6IXL7GKALDSSMfEzkqqwMieDiJ8lFeKnKgiXF2qmEmBkoSPz7BYJMLJt+lQPhhmvf/wdTodDlLyXFM9sm9YtGuA6JD56D7z5VAvUqxsiRbZysNfTiGjR93hQWGQ6lVxXFTptdS74MfLiRJ6Dr/9ITWcIMoj4aY5OTWHNS50MCTAeqVtz6UMSYGTb0KoHA1Q/4supc/H3sVtgbX95SQtkxQJJBDC8aLioAEOpQyLF2rJiu4e550EiWiz/7eNDVVFJRIuzSER1W3mlWCBD4ucN8mREx5Dip1K7JK9AhgQYjjxQJcDIdu/w5BORdFqU/li2Br+sPQpvg178TF7SAplZgBdmX4MGY4e0Ru3awUKamfc3WYckM8tl7fe2HAoxV+kP2zaNzgVxLrgfVIG8vHD1Z+1t8u4uW5DBKTV6WuMukxgXh0smkax4+XRiXLllQwkw8m5MZP7NEmBkbqNM7kj1YFgwb9EKzPv7NDx1dCSVh6Bs29a1G2AI6gGTORGF8/vj+3eegq+vrzUdUrrn7dH3tpscFy7jiw8CP1JYZO56ropKhE5vInQKUMepqMo9MjSSsfXv8WQYuAorK36SrDhxMipYORmqlHpugAwJMOwxU3KqDQkwsm1ZFWAwnvhj6SrMXnccXjTxmLwnF6psm9flGzCazCheOD9+/niElX+hFNiSl/0soIhoMbiwFi7baAUX7LlI5GKFmhRwwe4j2rRo/tJn7ueG5HvEH07pFIjEbc4TGYMM4mRQCutnw5UqrLkpxiUBhv3mif1bkgAj2za1DZHsO3QM705dTWlu+my3KxtwdQukejCKFgwUAIMva1KSBKfZ7H5bQqfwXAidi6Okc0El17lwWYpCZ3oRLQ556qD3UgTz0hwSeL2k6slJJIzGujfw4JoxSqdZ3BhkGKyejEQCGRNIJyM3ORkSYGRzouToxyXAyLZ5xUJGf5iRfuXGbTzz7kz4EWFMSYOTcZJsG9hlG1AAhpFCJGWLBGDah6Oki95Off1gES0lLKJ6Lmy/UvFGaqFNisSNc6GIjjchmcInKZdGB4N3fvgXKY8ChfLDYo4nT4dCCmWvhzuRQ++fwhqTwsmwJX7aqWvvaUYCjJyyrD3alQAj21a09WBcvHIDT7/9PQoUKCgEkyRRL9vmdfkGmINRt0IQPnl9mAQY2extWw6F4FzQ/zFxkzkXc4hzwdkiD+JcJCcnwqLxg0/CViwc9xzORdADaXXwoBCLiJZw2IQuQ7EGqNXlRTRqUgeeHiYkEchQPBlWF5Tte6QcMjiMohDClbiKzWW9RxxIrKTx+99jjdwoDaUN44jzjCryxwcc9avS36ccfATvJOV50t2j3CDaS3nudF6atCCDxLgMihgXEz8nEvGTq7DmtBiXBBjZnDQ5+nEJMLJtXluAcenKdTw7dgoCggojmQAGezXkJS2QsQUUD4bZlIhGjxXEey89KwGGnYZKGhEtAhe/WsGFl43nIiMCosWSRKEOH3gZ92DFZ6/gjLkter46DP5m8mTwXktAw3QnFEeWTMCxC4Fo+sZsNKpeHMmkxGphz4fOQH+oTIBCzKD/kskDYhbeEmWzp2JqOj3dQ6DFCiTEJk/AJom/Q+z2fI/STpp7qJ2kRDO1qKAGD/o+jZ7uE3VSFO+JBwGgpEQCPDakVQ8tf5+e+CecQWMFFeL7qC3xb/5SenZqS6m5Yn12D3p2uieJauOkhH+UX6W5ssTJILuxFLuCZezr2ZUAw06TJkeakQAj22a1PTXdvBWOl8fPREySFwlAu5fLNNuGdNMGTLSIN6pSEO+/PFQCjGyMAVvOhSJlQSJaK47it42nKFukDHy8DVS4jDf61NN7+q9TAIYvvE27sPSjF3FWOxBDvxyH/OYE2th5d/SAzscXdw/MwOIJn8HYejKefqo99Mnx8KDyAJHHlmPfumW4dvMOkjy84F+2Oep1HYxyJQNoQ6dNVq9B9Om12Ld6EWVf3IKZUIverzQqtBqKBs3qUzsm0U7UqdXYu+ZPXLkaDjN9p96/DCq2Gob6TevCkGyktgk0JN3ChW1z8e/O3bgTk0AYwQcFqnZC/S79UbKglxIC0nvCEnEIB1f+ghMnz1E4jgrpeRVDmccHo36rlvDTMqghsJN0A+c3z8KB3fspLGSEReuNgDIk/NbjGUo/9SfOCfNNCCCwXTPoo4zCJWFcuySaiJ+UXVKJiJ85pZMhAUY2Jk2Of1QCjGyb2NaDER5+G29NmoUb8TpC7ITU3YZbnm0zum0DXK2zU92SeHHYQAkwsjkKRLYIH7JpM5xGhM75AlyQiBZ5LhhcZCailQIwjLuw7JMxOI3eGPzJawg0G60Ag7ySXgWhub4RK8b/D2HVPsbw4b3g52vCje1fYtn035FcqSNq1aPQifkyzm77E5fiq6HDm18juHxRJJyeiyXffIxbfi1Rq1E9+HuaEXlmEw7vO4Yinadi4DOdYT76I/6c/BluB7aie+rC30D3nNqAQ/+GokSPmejbpyl0SddwePb/sH7LRZRo/AQqVS6F5IhjOLFpJSLytUePNyeiYn6qcXN3D1YTefhUTHlUa90VRQI1uHNmHY7uP4vinSeh+5Nd4G2+g7MLh2Pp+sso1bAnypUtCsRdxn9bCQQl1EKnd6aiZlkdTAki3kQ2zLiT7gEZJDZ4hcS4jAQy1BRWru/CfaCmBNuDoyYBRjYnTY5+XAKMbJvX1oMRHh6O18fPwO1EX3I6JimoX17SAg+wAJ80n+1UE0906yABRjZGiu08nE7g4lcCFyHVysCLs0WyKKJ1jwdD9xSGf/0ugghg0GymSwuDF3Blw4dYOPVXBDxBG35v8mCEb8baCUNxwjAEg997G0W8CZBoA5B88Vcs+Ph93KnyMZ7/sB/C5r+IxX8cQutvd6FJaS1io82k+nsTR/+cibCkOmgxuAOuzH8BSxafRNvvd6BRcSA2NhEG7Q0cXjwT1zUhaNS3Dzz2TcSv30yFrsUUPPNcN+hMsQR8/BCz913M/HweinT5Dn2HdYVx73dYtuhvFGrxLjp2rgVzfDL0Htew7f222BnbGk+MnY4qQXuwZPQgXK34GoaMfx8Bty/ArPeBMWwNti/fi+LtnkGVChTyNSpejAfx1u/1ZOhxhXQy4qPu4vNRlF2STicjG92d8lGnBRipcS0m5mSUEG0D5awsYiUlOvPMgZQ4lErosX7OVlPBHsbPtA0JMDI1UWY32C5sUXfv4MPJc3DyZhI8ORQrPRiZmc+tf89jhwHGiG610bNzOwEw+I8kBz/8sGAPhZ54C9OWHyEtmpNoWKc8kQ71BC7S6lw8aH1O48H49H84GVULzfp3gQ9zH3hdpxBG/I1DOLF9NW77Ez/jlfGoUjYAEQdn4o8Jk1F89Ar07lgPlthIomsY4JUvFrs/6IbNoaXQeyYBkm1v47cZixDY6g206tgRxUuWgJ58IxqDNzSJsTDRinFz0wf446elyN/2TbRo1wElShanpFm+xwseHKrRxeL0/FewfNkRNPp4LRqXYYlz5nsRHyP5OP763yCElR+Ovm+ORYH46zBROMXTLwg6SwKJuhHA0CTizJzOWLKvPLq9PQ21ylzHpvd74J+bldDoqVdRK7gO8gV40zgkMOWtQ2JsFIzEE/IQrosMSBjpuio9yOA+uXk7GlERkficZcUJZKj3ZGWvzGwkOC3AEC8mNmAtdHr9vcCBCDXJVKKby3QzeVBoJhcAACAASURBVIc7QEmJziKJRbRtFdWxLiz2MHhmHZLm9xJgPJS5MrrZFmCYEuLx3ewl2HDwKnyowER6sni2v0w24HIWYIDxQu966NS2pfRgZKN31Rj/kq1n8OOq46hMYQMWvFO8F1kjGKYAjIRdWD7xFYRejKKsVVLltRIfeYPVGPKjWL3+aNhlIMoU9YfWMwk39nyFRVPmw1KwDPwoHMNkS2VPABJunUO0RxW0/2gJ6hW4gAMLP8HGtbugDSwC3/wlULhyMzz2eFeUKVGA9g8KrSZdwbFFH2Hj+r3iHj++pwrd06wzShYrBl+/CByc+QLWbkpCp8m/oHqQN/E7CABwtkvidWz7sAMOGvqg7+tfoqz/dVz5dxn+3bwWNyJi6ZkUxVJjxAVE+zRGl1e+Ra1yOkSeXoHNP07A6RuAX4HCCChSFWXqd8FjdRshv69WpNyrBIzMj8+pMITJpp7UB16aJJw4fUXwMdQKrNzV9gDSTgswFG8CuYSSYhAdEQEuSqRuJiJX2tMHnt4B8Pb3p3tYeEXpvKyABFsPRnKymYYtkXZSyMe5GLmXACMbS5ry0ZQxQX83GxWAsf7gNfh58rlDXvezQApbnf2DTK6z0FyjjUBh22cRpDu5efk9OS791cu9UaVSeQkwstmfaunwv3adw9QVx1CuHG3IVv5FVuSr7+FgWHpi0IcvWTkYvLYTB4EyPHTkTdBRlgV7DvQ+Gtz85wv8/u185GvQlwidBUCuAjo8ckVl6wHVtwTKN+6GwgHkBCGPivF2KM7t34zzR/fi+qXziDHmR80hk9GuZRUCCwRikEjAhO75dxPds1+5xxSEmoO/R9euRXDg+5FYu9lCAGMWqucngMEZawJgUPjjg444oO+F/u9NRcD+FzBn2hKgTFvUad4CQQG+0GuTcXXLePxz6TF0ffMH1CiZiDgz7T+JEQg/uxun92/F5VNHcTv8BjzK9kG3595E2YLE5zCx1k/m+5sydyH2SwZ4Wsp+Cb91Gy/2qoOaFQqJ8S64MAxZsuDtz2xIOC3A4Jxo6PyhufYb5o79FOHpoyQeOngXq4fqzXuherO2KOxPnZCogAw1AZlV31I3IEa0vIAymlYQoSXhAg4tmwdN8CjUrR4EI32llkp9c761hXOv1SOwAC6UtsQdbJPelJnxM/29BBiZmiizG9Q8b+53szEO3/2yBOsIYPiSB8NZxLZSU9N4c1fGXsaXVVTIbkQtDj6Sh5DAus7DDGMCpfupmgKZGd7pf09y1Hxoof/mfDoSQfkC3AZY5UzXKWmY6sa1cudZTF95HGUJZDDJU0kVffAGeQ8HQ9Mfz3w+lrJImOTJn1UOmWJdFwdO2iJ8vHD32E/4/bNvUXzUYnRvF0IkySglPEphC09vfxrbcYiJihOpoCDwkGiiZ6G9QEshHNO17djw9RiciGuKJyZNR0UfSmslwJ1EGR8eGjrI0j3Ga1uw4QsK2SS0xpPTvkHC78OxeNkJNP1kFRqV8qJ9x0zPRiESy3GseulJXCo9CoM/egah4zphe1hV9Pp6Dqr6m2BM0sDTKxnHJjfHylAGGN+hRjkfMecTk+h92NvDqa/0vGGbJ2HJz4tRrP90dOvRAlp6p2QGWA9IvVcPBuy58KIDlpYOz+E3IzCyWy3UrVIkjYS4vcaA0wIMHmzQ+EJz8w/8+t54JFQYgFY9ydDxFAezUGdFXsX146txcH8ofCv2QafRY1EuiEAGdRSHqzi0ovcixMjhFf4BDcpEI8XZjJwaRLEw/6LQ3fgF08hNVe5/q9GvbWHcvHZb5BxrtAYhVau3Fs2yJJmIoBMrmNAi39l6cs42ApQAI9vj3NaDwSeWxWu2Y+riXSKOqbgWnecS8X+dF/SehozZIyIsSAugiRZcNac+JW/+4d5TABlyCesQhesn9uC2qQQq1KoGA2XfuI8Hg3QLCMvN/mQYCgblcwkPhnD8pgg8pf7dDofVBw4w29g/i2yx7gKDjGnsyShfQqSpqiBDbSj9+pmig2HajeUfj8EZj754+rM3kC8FYNg+gnWc6v2gub0bq8c/i7OBIzHk3bdQ2CsepmQfSik9j8Mr5iPCvyUatyqPi+un4dSdYLTo1wcBugTygADeQV44MqktVvxbAL2+mALdnskIvVsPLfv3hr9GvUePg5+1xepDBdB9yl8oc+JD/PL1j/Bs9yOeGdEeGtobNARkov8Zh5+++BWFus7C4JFFsYbIm0fjWuDJqd+imDkGICJobOhMLB4/Htf8mqPHOz+jptd6rFq0BUGNXkDDhqUotZSAkG8+4OZ6LBgzDKbORBgd0An6hDuKVyYD4rptmJjXPIOeDg0MLshzMbpnHQRXLCS4MNwn9i4q59wAQ+sH7c35+GXsZ9A0/hiD3xgMQ1Q0MYQ5pEFKB6YIXN78BZbNWggEv4YnXxsKP5KPtWi9yDVEucXbFuLkseOIiTNTpxVHqfq9ULN+bfh46nFz+1fYumYVLl2Ohl+xCshfvCGaDBiKUsX8Ybx+EMc2L8XFy1dgStTCq2B1VG3ZFxUrFGM/vCJ8YlVhy0pM7L4z04UBRlqykXAYKRp3bDfrUSfbAM1qWG6PJ5aGxsQOSicb991iFMofKCaVvb7j4bbvh7tb9WDQgQnxYTtwZF8oEtN439hwdOLyDEBA8Woo/VhtEH4i16ziNuVLacNGDVD82OrxEF439QQoblY8JfCEl8dlikt/ifPRDdF26ED46ej0RiBdsZtte6luVXv338NZy153c0EtOgGTq/2nj0YgiMaLawArq3dW9LECMNICjmytWFkGGeyi19F8XLGdPBnEyeBwiY8oy66QPtUxazs/U5Q8jTuw5MPROO3RH8+yB4OEtOhTnKVpc6neDA0dBi24uvkTLJ21HIaavVG7QQi8EY0bh5fgwP5TKNd/Hvo9UQ3nFlAWydK9KFx/IKpXrwgvvQUxl7fh4IZNMDQaj6df6oLLv43CnysOokiDgahWvQK8dHTPxS34d9Pf8G02Hv2GPwG/pMvYTzyMTTtvoXy7IahasRhMtw7j6NoFuJ2vK3q+9ikqFSfew6yhWLbuBEq3ewm1qxVC1NkduHAuGvkK38ahbf+hUpfX0LhxAfwz+UWciq+K4HbdUbRQPniYbuLynvk4fiE/WrwyFQ1qFqQDrpJFopa0z6gjhOeCwiIaIsOG34zEC71qW8EFC23ZNz01BSTSpMn1Y5w6Ue/GGNH3o7WoUa10ij2yuuALDwYBDM2NBZgz7lNY6o3DgDH9oI+OITlZJkzQAkniJr5+cTjw3SCs23UHjd9ahebVfchTcQl7f3gBOw+Ho2D15ihKwicxF3bhv0txKNf5U3R/uhti98/DgTU/4t+jd1E0uA1KV6qLai07IzBmC1ZNfBvnzSVQtmYIiaHQQA3djPC46nj8pUmoV7M4ksgLoqQMZXOyujDAyHACiLCTIh/McUB7bFRqG2r8d9veYxg7+Q+UKFqYhG3MdiEy2WtLu187in6AhsjMJPJzYh42rdsPQ/7SyBdI5cNpQVa8ZhQ7vnsTUVEx0BUMRu2Og1CScu0pKpji7WDPm1Ap5BOsrTqh+Ly64ZDrVJCmGZR5QGu6gCMrp+NMbAjaDugBHy39nIEZ1X1gZUQGbUyaUxQRKYYogEo2x31OGzRL7VMGCdmuuB/w5TsjEBDg7xIAQwUVqgkUngl7dRU5bXtqIGRk5jSeDPpePgiu2EEg4y8CGWWLw8dH8WQoG6WyBqjjKdWDsRerv3gb5zx6YOB7YxBA6pgKQE6DL6wAmMYrc/I0Rtw6sBC71iwXWRPJxCkyBFVFjc7Po069x6ChzVenjceVXXOwa8Na3I6MFffo/YqgZKOn0LBtG+SjsKrGIxZhO2Zj18Z1iOB72BPuUwylmjxJ97RFoIEAOIVDNMYwnNkwE/t2/oOYBOJg6H1pr+mJRl37oXhBKkGfTPPHeAaHFk/GftLZSNT7I6BYXdTp8xIqBZ7CpinjcPaGP2o/Nx2Ny93FgUXf4Fjof5QxQvNd50mH3noI7jocj1UtRRkuioKoEmJKa3XVfryGcNaOVoCLCDzXPRh1KhcWXncGejnV7y7gwViA2e+MB+q/i4EvDRAAI5kABkuvchaJh1cQTHvfwfQpS1Ci+wwMHNwaCUd+pDzpH6EJeQ99n+kADaX5aHENOz7uhN13G5NraiaRa0j0ZNvr+GH6PtR7YQE6Ny+KWFJkC9/yNhYtvYQ6z36Jpg3L0GlOC9OllVjy3pu40+hDDB42CH4eUbQ4WTkdWVrM7nOTCwOMlHggLTJXbkXDnxaW/P6UxG69hPCOVTgmu14NsYjSqVun02DrnsMEMH5H8eLFRMVFZyi9nerB8EDsmYXYsOYoyrd/AbVrl0UyKfspqwqBMkpxizj6O7Zv3Au/av3RpGNzGCjsl0x8JB2lo5mibyDm7l1aVMgWPvmJAV8InnQC45MNXxqaN8nmKMREhCMhwQgPn+IoUtCM0BXf4OTdumj3ZG/4eHA9CF6o4hF75ybiYuPo317wCigEv0B/CmEzKdp6WcOF2ZkCeflZM9mlfAEdJrw5DH5+fi4BMIQnjzbvm5FxQjmyVGHqM+vFGR182Z5m+d/2Boypm57iVeN5vpJAxjQBMsiTQcUI78/JUL1tVpImH0oyHGfW+/gFxDpKHj4G10IeXCEta4i5L4A0b9DCm0P7hpAAp3ushx0PukccdlgKnAsk8t7Cn7vvPeILBQBn8E0fVAqyMSBnqW8G9lY7i3tEvF75PpYN15DHjD2Piiy4lW/FBwNB/aO2RGl7fnaWM2dvojVLUgCLtGmqaTkXqeBiFHEuQohzwTZmgJdT4EKMHWf3YGhv3gswLMJXxhZntEdE0P+mY/pHU+DXcgIGkfBJ8q2riDMmwadQJdAhULCNdYTuLs5tj7lrdWj7xi+kYe+HW5tew4yfDiDkuTno2KwYYuMSkRwXjnj4IX9REomhGJzJ4g2vuFBs+LQddlmex7A3XkSQZ4I4/fCgzpaUkwsDDNWjEJdgxsvfb0ECMWhbBJdE9fIFUKt8QXKXMuGKywsoKic8D9MDjax6ONQQCU+mQ8dO4v0pi6DxIso4e8GcQAtDBRhakimOPv0HNq4+jLJtn0dwsAowFGKyBwEJjeYaDv40CWGBTdG0x2AU0EUjiXgTUSdIIfAfki020qmMMvuYyOZfrgVqNGuFID9O2aWQYuxFnNqyEKfPX4OOMrD0hnwoWrkKEq/uQVhcMNoM7A1fA90XE4bze5bj9KmLsBBjX5MYj0RdYZSu1x3VgisT+FDI05kpM+YleMjsu3nU8T5QOp8Gk96ieheUjeYKIRJ13v286ij+3HIGjweXQJ1KhVGT5lyJQqlgg7MJxInYxlDZBfq2Nk8fIuUNVYCMlczJIE+GDfFT/ZwalkujwWtdIzP0mdkQ7lMd9TanfOvvVRCV4T1Wz97D3MNzMSUuYGPD9O3fu37ZfC7FI5OWHJtiwwyfXXk323a5vw004VXOxSjyXIRUZkKncoCzN3hMP69cG2DwBkKuJ4+z32HqpzOQv80XGDi0PSEKC8xXd+PozvW4EnZDnGQ5gJdw7RCuJ1REm5dnEMAIxO1Nr2D6rEOoSwCjQ9OixNWgzjJY6JS4kuRcifgWEUUdRR+1xOP2+QOIK/scBv/vRRTwoZggMYIV13U2rocAGLaDiv+e63Gvh3xNdYFhkZiXv9uCLYcu0ynCgiL5fVG1NKWFlS+EJjWKof5jxGtJnVUCEDzsQi8AhpVYFnryND74YTGMVDSJM36cwZufCjA0iDm9ABtWH0W5dqMRnOLB4OMNE0Apxz/hGHb8PA1RRdugac8+yOeRQMrC67B12Vpoy3ZAcJN68KFQS8K1/ThKruCECr3RvH1r+GujcHELuWuPJKFcq/6oWK4wAY4wXDpMqXhnwpBUoBlaP9EL+fR3qC7CVBw8ZkL5VpT2V7oI2TEWN/cvxJHQCJSnuHHtSvlTMrayNf4fckzZ9XaaQCZCGLVK+eD9l56mUzWFo2zc9ep32W6U6hnSrs9h58bU55234QQmzdsnytF70+GqMs25x8oUQMPHiuDxWiUQ6JfqTRTvZd0xU8MV2U9VtrVdCidDDZfYZJdkVSfDzqZyzuZsYmAMEj0JXIhsESJ0vmAldLIHhQFdTnouUkChK3owUkIk5PrS+BRA9OYx+GnWRpTv9yv69a2Pu6TstmLaZITFF0Olhi1QKIgEWbiIzdEFOHy5GNq88iMa1whAOHkwpls9GB3Ig8Gn7Bubx2HpH2vhUbgRKtYMhr8fpfCZb+P89rkIK/gcnn2ZAAZJ0XKIJDcBhnPOBmVJfv7LTdgTehXeFOM0kl5JHMUs2WNRKJ83ihXwRcPqxdCxfllUpQUw/cKelfcWIRIrqezIsVB8MOUPJFPojDOHchrBZ+X5MrsnLcD4nQDGEZRtMxK1alk9GFYVP3PUBfy3YwFOXzCiVMvnUTekLLkqYnB++cc4cqcymj75CkoHJFAcl4jJPskI2zYF27ZHoPaTL5PozzXs/WkybpfqgZbdusHXchfJhkDg+lbs+PNXhPu0Rvun+sJwawd2/j4PCHkBrds1gJbY70mUzWVIOo6dP3+LG95t0HJAZ3hxJgtnXDkDgsugAxgYxRP47daoLEY92Z34L1SYKgOAkVnfOervF2w6ic8JYHiRpC17CeNobWMlyfz+nigU6E2exIJoV680mhCnjAHIo8y7rLx7RiBjOYGMGWq4hD0ZDyB+ZuU73OkeNUiipKJy0TXiXBC4eL5HHQL+nC2Sc4TOjOzs9B6MFJJn3Xcw4H/9bUieHB4JoIyQK9g2cTB2hnqh9QfL0bRaNPZ89Qw27Dai5SeL0LCcn8gxNvj64OKs9pj/txfavDaTNrV8iPibAMbPFCIZOQsdmpVGfMwBrH11CM4X6Y8+b3+MUp5xMGsDqbrfKWz8pDP+0Y7Es6+9QACDSvImK8GRbG1gj+jBiI4z4TopwzF5J9Ut51jTLMWDQXHgCb/uxeFzt0T6lGATiLgkeZloMvDip7wHyLvhg65NyqFX80oEPPyUeCRdmSnO2XowTp0+jQ8pRBILSnGmeKdzhUiAqNOLsWX1LuIZKfFb4ali41C8FkQu0xl8ULBWdwQ3qAODOHX+h30/TcHtgIao3aE1vJmTQVbWenoi/vJWHNiyG0U7j0PNYv9h68/z4VX/WTRoXhe6WAqtaKlyZdJ/OLDse5yPb4pOQ3vDdGYJtv61A0VaDEGlUgUpU4sIzaK9JFze+DPO3imOhk//D8UNJG5Hc+BBrHbHGpHpnoaGYDyF73o1rYDhg7pRrFrZZO9NnVRO8rxwM5eIgawjX+q8W0FiV7NXh9LcUk6yKsmT30NV1+QVzGDQkiexOAa0riJIgSr5OjPNioexQdpwSXpORirxU/1OVwJ6D2OnzO5V7GIV0bKCi9s3b2OkNSyiEjrVdrK1N2X2MNbfOz3ASE1T/QRPvzkYemLRcxaJlog4yQlXcWbFh1i5eCP8m3+G/sOeQD7DGfxNwjn/nKuOQbN+RMkkkmj1pBS08PVY8d4wnDTWRvvXfyEPhjeur3sZM2YdRr0X56Nbm/KICluI+aPfRlKzDzCI4rKG2xGEYXxxa8eXWPT1VNyt8T+MIA9GfkM0ncR5o2QiUjauhwAYgpREX8W5zPtPXafF4zi5OT0dVutBTAbaIJnQdPDsTdyOiicBGWvJYTIab0xMzGSOBgukMRmtXPFA1CxXAK1CSokQSlYniggZcQiBbHPj+jV8NmMpye7GUxqaAlwc/Ur1YDAHYyE2rd6L/FWao0Tx/FR+gdjvOjNun96GsGt08uz3CqqWItBs5BLWnsSPOIZ/Zv+M60YSOmbyhXrEEYOF3Kf0p/jjz6FqgVP4e95SBDYehQZNa0ITF0ceCC9qIQyHl3+PM9H10XFoDyQcW4gdG/aQd4PqM9gG4pgkR1kl+oDyxMwfihJ+JsFDygz8OartGbrF06m+JwGMEQww6N0y2thUTkNUnBHfLjogUt4dGVTxO/Aacf7aXZy+HCH6R30vJiHylUCem1hKe2TSdbniAahSKkh4EVvXKQVv2rju5Q5kvxfTh5p480shfj6EGFf2n8Q5W1Dtx4RSA/WRjj0XVnDBIlq2hM7cfEPnBhhCaOt3zH3vU8SX6YXHuzQjUZMEWumSYYy6gutH1uLY0XPIV2Mouoweg6IGij35e+DsL8OwdO0pVO7/GRrUKEraAvtwavc/VHjmKk4fiUa1J8bi8fYt4XHyS/z49SIUafkiGjWohwKl9Dj0+UDsjwpG82dfQ9l88bh+9G9cOkN69lGncSWyEtoPfwUVKleizUuZrNlCiQ8BMGwnPZ+iBFOZozTZgzg5NhbFhk+LCLuhXyOS5z8nrlMalVZs+Mxu59NjQQqR1H+sKOoSKak2ydgGk4tP9Tg8zClGBRjcF5GUITHhx6U4SnUMfOj7nEEuPCMORoVOL6NOSDkkU2aTxtsLxgvrsH0pcUtK9kaLzi3gaWE5ZGKlJ5/Gnh+nIzKoMUI6tYRXPOnAWCW/2dgM4rzyFyOPxQ78/dsy+DccjgaP14EmlrKxKM3bS3gwpuA8KRl2GtYLxpOLsJU8KMVbDUXFUoXIg8FI2kouo5ATuTLgTRklBkpnFVjGSUMkvNdGkSdwTJ9G6N7+8ZRxdz8PBveRUFt08DCKCjB+XR+KyQSI9JRZxSsVewsZULFHoxaB93rExahdsTARQAsR0CBRFXGpqczZOjbdd02xBRnsuUxNYWVZcfJkWHUybPvAWceXvRZW23U/RUSL5n74DRLREjoXhXNMRCsr7+C0ACNFKvz6PPz27ie4Setc2ksDr2INUKvtQNRo2gIFSIKVJ5EHiWwh6hD+mT8R+/aeIsARBG+/kqjU+XU0qBaJ9RNfwpmbPggeMRMt63rin++ew57j1+AR8Dg6v/MZypj/xoYZ3+Dc9QRKzQuCb+F6VOXuJRS4NQ/LvvsZUUEN0e7V71GzJBXyoSNctk5wDwEwstLZjnSPupjwaenFbzZh59Grwh2ro82vHiHuVnVLI7hCQZQmz4UvqfzxxROIyZoMTJQ0LsX9kNkio6Sc8YKlJVR/nTwYS3DiKnsw+JyaM4ulPW2d1oNhzSJp8xxVViwj0lRZztuThvW1HTOwe98FlGr7GurVKkpeDPZuRCN0wcc4k1wXjw98DkX0UaRiyKELq1aMCK2QjHrkIeyaPQvm6v3RrH0beJqo4iRlkWgj9mLXnz/jhqE1OjzdB5orG7F90RJ4t3wdzRpUpRRvDrlw6h4lAIr0O6XIoMI1c3zbZtxPirfrDslHf/Vaf9QhQSVbyXl79m1ut6XOu7nrjguSJ4cfk2gMVCiWT3gGG1cvjrJFA1AkiNLrrJeSMq6GUbI+7x7l3WxBRqoY1xkS4wpVQIZV8VMSP9NaVxQuY/lv8lzcJp2L56m2SG1S6MxNQmdG/e20AEMsunxySk5APGtfCDe4+oo0GUizXe9J5DMfHxJRMSqsdk5f5Yp1lFcMIqclUKlbE7mYtT5B8M9HaWhUbtccd4c0AAjJewfCy5vK4hrvIC6OajBQfNvLj1P3dEiie+LjYmli0sLuXwg+fgb6WQyMpAdvSiRgE5CfitY8fLbDPR30EADDdrMVJ3beeB9lhufSZ1IABnkr3py6DbfuxBG/orxgsHMmCWvlqxfHhPldbJnPWQEW6udtPRgJ1E9f/rwC246GCe0Nkdvu4BuhCjB4E2cdjI1rKYukzSjUrEUAI8GkiGRpPIlsfB7/LpyCS8YqaDjgOZT0o/ASjdHo47Pw96bjKNZoOOoQKNAyizw5Ehd3zsGxS0XQ4ImnUMw7EqFLP8GJmxVR94khKFXEh+bIHVze9ycO/3sCliKt0Kp3TwQmX8SRFd8RCC+Hev2eQnGSUqYvR1Lkfuz9ayWSy/dDkxa1qHS16tlw5FF4/8HOYYSIu7GY/NYg1KpCdhbhnvtzMNT5l0vT55G/Rp138zaewG+kItmidim0q19ahEH8fZhnovQXZyDweqpwM1LTH3NjrmToydieEchQ9F8c3Wv0yJ2VyQfV9+a+8iIiLit0RlBYhFNR65DXN6dFtLLyXk4LMMTLiQ2Y+BYsjqLEA1Ivq0iJOE2J3ylqhSkDUgimKKqGpLQiKt7xfax2KE7HlNrD6E8oFnIpVT6Z0T0MZFgQRRQ940dgARauQSJ4H0p7inCLHTauhwAYWelsR7pHnRzMEI+INqJwPtrQbLuP3p35ctawcLZTqvj71BPRzEUbMW/1PwgKTCWKOpJt0j9LqpKnBtGhs6lU9CGUbPUy6tWtQMCWQ4I8FrkQkjeM55dg44rN0JRsj2bduyBAy0I/d3Bx6xycOEH6FkElSTSKijjduYK78XqUaNCPgEp1kjw2I+bSduxftwqRRk8EFilKLMcoUgUtTrUcTuIWKdW2evYp5PPWIiFsFw5t/AvXonWkB1OMag3HIoq4LRa/yqje8SmUKcTMf9ZRUKqvOt/FXjIt7tDB5Zs3ByG4KoWiBBB1Zq+M0gvqvAsnQO/vS8W+mJdjcwnAzauk9V2z6iW0dx+ncAps7M6cjKlUIK18+awXSLP3czlKeyngwlq4TEP7FXsu1MJluSGilRVbOC3ASPFgWE/rD3xZBhcp99nUXEj3IZ5YaTh/9/xAwTD38AIVdZM0rdklx9iFAUb6/sroBGgvYR/Vg5FE9uQQzOxlWzB7+U7ieHAGkbXCblZmSx7dk+LBILRlvHUQpwkoBFVuQmqk+cnrRvLcagVgAaKNuHlwLa7HB6JEjWaU6qslYEXgFwmIuHAQN65eIxIfyQN7F0JQuVooVqwQlZE2kjeOpMgpVTvu5nFcOXcGMfFU6jqwEsrWqALjfzuJXxSEipSZ4kXidR6UspkUdRHXzh5HZORd+okB3gXKolilYAIglBmrKhU6J7qwQN71wgAAIABJREFUznACbeZYTHrtSVSpSOnALgIwHmbe5Ya34kFTytaTIbwpVjEuBWSkhkvciZORlnPBukxWES3yXDzXvbbI9LEV0cpr747TAow8Wutz92tdGGDYLh6qUe0Cyu7TQ8KDQd4SHckF/0g6JnP/2kM1aPJT7j9pbjygxHHudviDv03YTOdNsVY91btRqveq6oYC+goQTdkirMKpSYI5IZY2e+GzEz/XUuaHqB5MG7+QLDZRKinXD2FPg5XAJ6q1Gij7hL14FFo0UYl2DwNVHSZPiIkIoiJYxbwNKnWtJ+KHTnj3WG6ZtF8oc4V4jg4fcspKn7L3zE9rwvhXBqJcmdIuAzDSz7ucnHNZsXNm92TIyUgR43I3TkZq4FvUFqG5zLVFbhG4eIE4F0pV1NzVucis/yTAyMxCefl7FwYYuW1WXqiYdKsnrY0ZC/7C3JX/oGhRmpBOUI9E9WAojjKS4RaFEyjEl0J0VfxqAmxwaImzOThoaM0WEU5vPgJy2DDF02YNG6rgQgQZrVVUbe5ReEss/c3tKbUb+BJeIasOidKX6vepQMd5gYbi8dJQ5dgEAhiDBMDgbJuMOBi5PY7d8fsyAhkpYlwiu4QKpLmBGJeVdihC98xREwqdlC3yfM/aJKJFhcu4YFsuKXRmdRxKgJFVS+XFfRJg2M3qigeDsyq0WLluK6Yt3kYEYCL2Wmsu2O2LZEMuYAHm63iQZo4Zn748EGVKl3IZD4azdk7acImS5ZNShVWADL3YYFVSal6HBuxtZ+V9rCJaoiqq0cq5oNoilHWXFyJaWXlHCTCyYqW8ukcCDLtZnicouxWZsLt+8078sHAryRRSPRKhhOGUTES72UY2lNYCvJDHU3ZZcGk/vDXyCQQVIMVSq1cnr3kJ7txXaUAGGYLBBIMMrsJa3oXFuFIJr8y5yEBEi7w3nPXkiGNTAgxHnrESYNitd5QsEvJgEMBYvX4zfli0A3ofqrVBXASFJCkvaQHFAsxIiSEp3qaPFcarpF7q509Kv0pWvEMu4u7UbymbrQjRqWJclMK6knQyOLtEhEvSErcdcePNSp/ZemFUES0tiWjdFiJaGXMuuF1Hel8JMLLS03l1jwQYdrO8Lclz89Yd+O73LbBQpV1yOiopzvKSFrBagEdDHGXaNKwUhNeH90JAIGXrCF6G4pqXV95aIEPi5/azJMZ13CrGpU8jcujs4ZIUzgVJIrD89/NUFZULl+W1iFZWRoEEGFmxUl7dIwGG3SyvkhI15ME4c+Y0JsxaixtRZsqOkBuG3YzsIg1xTY47JMHes1lVPD+oI7SUlqtejnQ6dBFzP9Jr2IIM1hziEIEtJ4PVf4UCqeJ2cjoxLvX9VBEtzhZhcPFcOhEtRx+XEmA80vDOpQ9JgGE3Q6snUM6KuPjfeYz/aTVpOxjhSbUYnKDemd3sIBvK3AIsn30rMhpjBrZBnw6N09RyyPzT8o7cskAqNyFVBE0BGVy7pESKrLg9K7/mxrulgAvbbBEuXNa1FupWpRIABJxY6NEZwK4EGLkxYh71OyTAeFTL3fO5lHokBDBOnz5JHox1uBlDpClyYAiap9OKQtnNRLIhqwXYgxF+JxqvDO6IHq3riSJmXASMLzlOHGuYpM0uUcS4BPHTKsalejKcQYzLlkjM65UQ0aLaIre4tkhPkv+uVOQeES1HH5MSYDjWfEn7NBJg2K13bD0Y0Xci8O73S3A6LJI0/NNKJdvtC2VDTmsB9mDcjIgigNEBvdo2SKMv4LQv5cIPnjkng4ifomCbtbyDSPl0XN4Vh0U8RbaIUYALVUTLGTgX6YeZBBiOPPEkwLBr79hqYXz4w5/YcfA01WPwTqmUadcvk405rQU4jBYXE43Xh3RAu8frp1FHdNqXcvEHT8PJsGaXLLcWSCvvBFVY03IuuCoqETpvEeeiB8l/CxEtUiG2pqI6E2lVAgxHnngSYNitd1T3IxO/9CS29cGUP7Dj0DkE+vtKgGE3K7tGQ6LoYWIc3nimE5pQ/RXbk6NrvKFrvsX9xLhsdTJU4qcjSaSn5Vwo8t+3iXMxolsw6rKIlhVcqL3myN4X6cFwprklAYbde8tE0uB6qkfyxqRZ+PfkFeTPF0juU+epR2J3g8gG77UA66KYYgTAaNowRAIMJxojDxbjSlsgLa9Bxj2cC6otorMo2SIjreCCJdAdVUQrK8NCejCyYqW8ukcCDLtanic0T1gGGF/P/APr9p6Ft4+vlAu3q5WduzEh2EnxeW1SPN58piMa1a8jNBW0RPJ0ppOjc/dC9p7+vmJcf5EYl03tEjW7JC9CDmlFtIjQqbfWFuHCZaRzEZyBzgVbxdnGoAQY2RvLOftpCTDsbl8GGKzmOXfhSvyx+Th0VDnUceledn992WAWLGCmrJEifh54e1gXVK5cWXowsmAzR7vlwcRPUvwknQwGjnlN/BQiWkTo1FiMVLgsAqOthcscrSrqo/avBBiParnc+JwEGHa3ssrBmDFnIZbtPANPb/ZgcNlzKbhld2M7YYOcXJBAKp7lCvvgneFdUbIUl2pXpKed7fTohOa36yNnKMZFxM9pq0Kpdklx2Kaw5ma4RHkutXBZqudiVLfaVLiscIrHTDWGM487CTDsOqTt3JgEGHY2KATfQkchkjkLlmDhllPQeXqJMuWy4JndTe2cDVI5epPZgtIFvAhgdEGp0mUEwOCTrjMv9M7ZGdl/attwCXsquQ9XkKz4NJIVL1+WOBk+SgprbgHI+4poqZwLJxLRykrvSICRFSvl1T0SYNjd8klMmqIQyY6de/DNwh3E0NYIcR55SQuwBXgkxJsSUaVkIN4d2Q2FChcTAIMvWYfEOcfI/cS4plMVVsHJEOESBWTklNcgLaHTQpwLLXTJam2R2lRbpLDTiWhlZTRIgJEVK+XVPRJg2N3ywt1Np9H9+w/g89+2IIFOq0zgkx4Mu5vaKRvk2hV3Y+PRqm4lvDOyJyweWqpnobyK9GA4ZZeKh85UjEtUYc15MS4homUldHIq6uj7EDpdZaxJgOHIc0YCDLv3jvBgEMDYsWs3vvljF8wW8mA4sKqf3Q0gG3ygBVjs8U50PDo3q4nXn+1GBbMog4R+Jr0Xzj9w7ifGNcPKyfC2ejLsTfxMX7hMQwqdt29FWguXkYgWeU9YPTY3eSC51ZsSYOSWpR/leyTAeBSrPfAzqgfj2JGj+OSXjYg38wYiCZ52N7STNsh1SCKi4tGpWXW8QQCD2fy8+EsPhpN2aLrHti2QRn4NARxtq7DahkvsseFnJKJ1P52LvEiXzelelQAjpy2cnfYlwMiO9TL8rKhJQr9hr8XQ92fi+s1IKiqkt/v3yAad0wI8LqJi49CjeU2MeVoBGAw6XMVl7Zy9Yt+nzkiMa/mOM5i+MhQVyheH6snIjk7GvSJaVLjMQpyLGySiRSXXWaHT2UW0stIrEmBkxUp5dY8EGHa3vPBgKMdRDBn7A27djRcxUXlJC6gWMJvi8WT7OhjUu5PUwHDRYWGbXZJMtUvYS8UgY4YqxmVD/HxYT0ZGIloMLm4RuBjdiwidFZnQyZlJCnC1BSOuZm4JMBy5RyXAsHvvqJOZGx74yhe4a/SQAMPuVnbiBmnBNyfE46mOIRjYq4NU8XTirszs0TMifnKBNOZk2GaXPConQ4hoeZKIFtUW4bDI6B51KFukUBqvmCuGRWztLgFGZqMwL38vAYbdrW97Wnhu3Le4FGESMr3ykhZgC3D4LMmUgMEEMPr3JIAhQyQuPTDuVyBNSWEtRmJcnoKEmdVwSUYiWpwtwrVFQrhwGZGGdSJrTblcPfSWpwDjTkwC+n64FjWrl3Ybgz/UbBUAg9jFZiNKBGgx5okQqqOhSUm5eqi25M3CArYA45PJv2DPqXDoJcCQo8NqgSRyl3tpkzGmbxM0b9YEnFbIvAxX3wjceQBkKMa1g8S4VpIYF3Ey0it+3s9WGYpoMeeiWy3UrVpUaG1ordki7mLvPAUYd2OM6PvRWlR/TAKMDAecABigwktmATBe6FWHTtsSYGRnctoCjPe/nIH956KkByM7BnWxz7LHItBLgzcGt0Zw7WBY6N8ekuTpYr187+tkJCu+cqcCMsqlU/xM733IUERL5Vyk1BZJrYrqypyL9JbNE4ChSu9GRieg9/urUC+4rKJzRP5JeVJI7SIeiBpCvHHRcQQwdHhtQD3yYGhTpItdftbnwAvaTu6x47/D4csJMoskB+zsjE1yeIQJf/6eHnidAEZIcC3FgyFlwp2xOx/6mTPiZKzafQ4/LD+OshwuyUSMSylcRrVFBLiIwPM9g1GHFDpdpXDZQxuUQ0BkVJ5XuXqpHRmbYMKwiRuE28jToEGyKAIjZZvVzmA76UnWOuxWNLo0KkcejNouKcaSm4PPFmD8OHcRlu++IEMkudkBjvxdtBImEqAI9NbirSFtULNmTSqEJ2XCHbnL7P1sGYKMXecwdcUxlCFPhq+1dolSXkDJAOE9iw/NnpTurhWEzgiM6l4LIZWZc+G6IlpZsX2eAIwMHFRZeVY3vkeCLnt1vi3AWLZ6I3766xAVP9Paq3nZjhNbQNQhMZpRvmQBfPvmQGgN3kpKM28l8uDjxD37cI+eChr47K2Ica0mkPE9gQzhybASP1VujpotIsAFeS5GEOeiXlXSubDhXLh6tsj9LJwLAIN4BMJHwkQp9e+pjyMnbtYGv+3GqNb+vL/zKdXW0r5p7Wtrx6V/rcPPq49KgJG1Iejidykn0bh4EyqXLYIp7wyh8AhtLpLg6eL9nvHrpckuoVt4HAiQsZxAhpX4mUQAgtdizkITIlqULTLKmi3CJQlkaC0XQiQMLhTwz+BCaCha/63+LIV8wRR/9biQcnIQd1l/Lu7kCZ+FIW87QO49gaQCHVuhk5Rm+YH5OxXJx3TfZwuY0mYlpHksq2IkvyyXA099tXRPb3Of4KDwvcqZycZOSsuKHaw/T9O+7TffC+gkyEi1jxDasm4af/y5HHM3nhYhEnc9YWRhKrnNLTwz4xLMqFSmkAAYBDnEOpBbpbzdxtBO8qJpiJ8ENjmUv5o4GQwyWCfD24tCIuTd0Fqroo62EjrdRUQrK92Ysx4M64bIO7UgdhKfQGyUSYkgfKek7Fg3XwEeeINVSxcmJ1IpbUBHi7+yJfPGqZzMkxITxSacnj3C/+bvUKV9xYZsA0gSzWa6gdCmNQ/ZQoMmZRenL+FnEWkb6jOlPEsSPQs9v44GlIoP1A3eBgjwe1GaM7T0zGp1ixQvg81zJCWaQa0JwqZ6KYOZvpk+n2IDustMRvDQ6kHZqSrKUABIGlvd5/ms36l6PLIyIFz9HlsPxrn/LuHlLxeJ8XIPmnN1Q8j3S2cBZZYkUIikerlC+OrtZ2jNUoaFBOjuO1gy4mSwJ2MKgYyKlUoi0ADcIs/Fc91ro05l9yZ0ZjRKchZgiH0wWQADUbEy/goWf/Ea/vfpCngO/Bb/zByBwgbl93xu15Dmw91T6/H1Rx/jl40nEJNIOemFauCZsRPw9qCmCNDTXQmHMKZhK8w6axJtqpstrwRaYvBaEgIwZuUOfNa2NCz0eQ9LDP5Z9BXGfToTB67GIlnjhUqtnsUnn41Fxyr+CrHU+p/Yt8WhRXGNRp3ZSM/yEX7ZEIooLoplyIfgrsMxbuwYtKoQIBjnXAfpwva5GP/Rl/jr0BUYaVHS+ZdEuyGvYNzLA1EtSE8sYi10HnHYt+hbfDRpJvZejBRVPH2LVsOAMePw5tD2ZAdisDNAIkRsun0Usyd9hMnzt+FaHIMiT5Rt+ATeePdt9GtcChr1+U5bn2+j8nwaQyBqdx2Bd+n5WtLzMUFNnL4YomXF7eMm64i6aETcicbTY6cLQKieVN3EBPI177GAAjBMdAhpUaM43nrhKTG/JcBwn6GSCiaSwYdRcQjU68XBU3VqJydTuimtpSwr/s3iQyiS3xdvDGqIekJESyF0KudhaoPCJDyG+MMaDR186Xdiz7L1RLu4eXMWYJAhxSmAeuTGoUUY+/yrWHXJG54xZxDb6juELhyDogQwlAqXOpj/W4JezZ/AelNdjBo5ALVKaBC6YS6mLjmD7l+vw5xXmsHbeBWbFvyJwxGJMFCHWagjkwgVEB8Locu/wrRNhTDzwCYMr5Gfui4e+6eNRLvRv6FYp+fxTJdg6G+fxOLpU7HL0A1r9ixEx6IeFGvljV3Zg5NpUECrQ/yp+ejZ4kn8rWmEkUN6omYZP4Sf2YnfZizAtbJPY9mGmWhdzIALq8aiTdeJiKnVC8/2a4my+RNxcd8qzJq9GYF9v8b6Oa+grHcCtn7ZD53eWItyHZ7FwA61UQC3cWj9fMxeewJNP96Ate+0BfszLJH78EaPzph8MD/6jngSzR8rgviw41g2+0fsiq6B7zdtxgv1AhEd+ht6tR6MrdrGGMHPV9oHt+j55s34HdfKDcGKjTPRsrAG5mQPpRSwiw/krL6erQfj5q3bGPDqNwgIKij6XZbkzqoVXfM+XvcTybvYOrgkXntuoPRguGY3Z/xWKbF82rPEgfje23ivYdCherGPhyVADyMqlwyEiVzXevqFCLkTCCFX+r1rLv3c4kE/t1IG3OHUl7MAg4BDUjKHQsLxeedm+M3/Gfz0XnPMf7YpphX9HmHLX0AhbRJNajr1k3rempfqofP0SLy35hA+bhNk7eG7mNG3Jp7bGYLVBAg6laajfkZX1BY8EdwNNwcuxIbPOsGLfSc3t+HpZu2wsuiHOLHtHRS3fi7mnwmo3ewdFHp1M3ZMbEXawARwGF3S8EmigaKleMSerwZh0JTTeH7hLrzR0CvlG4//0AU1XvwXL8/bjq8HlsXcp0Pw4Yma+GH1fHQurN4WhwWjgjHo58L4/dhm9KsShnFNG+Cv4q9j2aKxKK8O3sSjeKV5c0y+1BdHTsxATX8gbM1EPDFsBqpNXI9fnq6c8r3xW99BmZaTUOmlFdjxTWfsmtgPT00/h9GL6PkapH++A3iVvB9fDqyEJAqxaCgUk9GEcaf1w/Zd1ZPK7YhIDHtnCiwGMjwtHh7kQZOXu1pACY+azCa0rFUCb44mD0YSnVz54CEzSFx6UKihdDXm7mG5iT8/+xp7vYIxdOggVAnifYGj63RQM93A1qWLsfHfc7B4BaJUjRbo2r0lStASzB5j9odzCqslPBTLlv6FvSevwexVANUad8aAriHwsQmts1FdfWjlLMBgxMe8CU0Mzh4JQ/6aj6Fg7H6MaFAfv1X8AZeXjEZBHXEtzMSL0F/BB03q47urrbDuv3moQ/UAEimMoCPeQ/jOsajechZGLt+FSd0qwGw0wcIuBxEgodCI5i5+HlATo460x669s9DYXxAhcHn9eLTo8D6aLTqNub1LkwsrkZ5HB0/PMLweUh+/JPbF1iNTUYOQJTm+BDIVxC7ieUTdvIKIaA8UrVACBvoaFbVeXDAAZQdtw1uLd2DiE2Vw/fwFJFDopASltnFFC4XGGouVbzZE9y+D8OfJtehNOOHyqSvwKFgMxQv40u8tSKT/r0s+iXfa18eEM4Nx8uRUVKZBGh91Azeux6JAxXLwFwqCVgbFwQkoGPIBar6zBn+Pb4OIsIu4Y9SjWIXiaZ9vPj3fk9vx9p/bMaFXOZEqpSGPjDCXvIQFVIARFR2NNyf8hLAoqqYo7CP9PO48RHimMT+qV7NKGDaolzWLRAIMlx4TaXiCirDhwWmDUH/0AiQV6Yg/d6xB74pm8gTroA8/iPGjB2Hin+fgW64S8lnu4NyFSJTr+AZ+//V9hBTglZ2EEY8uxujhL2HuvkiUrloBhruXcfaWAc1Hfok/vn8aRawcP2VNdu01J2cBhhUApA5Q8lbc2IcX2zbGnLLf49Iy9mCYKd5F6me6a/i0RX18fqEp1lxciGZJCYg1aeBDwia3D36FkLqvo+7327FwdFPoyZ1tIReUkpTigYhNb6Nq+18wcMFOfNevAowJpKjm5YG9s55G42E78cW+3Xi5bhF4WBEm9+m8QaUxfGdFzNtPno8i9AzJWuhtQEvKMycaER11l9LXYvDf/pX4bOxEnK84FHN++xghAQLeKJuWMQ53omOQEBeOg2tn44OP5yBwwDeYN3EgCtMt6ikoMT4KkVHxSIi6iI1zv8YnP+9Eq0+W4cehIQJ4pJyiLUmIi4pAdFwCws/uxNQPP8Cy2zUxefEC9KlAUEYljaZ7vglvT8S5ysMw51d+Pg4/cdzPNnPHpZeLLL2cCjCiCWC8NWEmLt1lLo20UZaM58I3cbicGOh4vkdddGrXysrPkgDDdbucmX9Kll8yuSiYTB9/aDo6dn4bV3y8cMW7FZauXIBOZdm7lYAtX3RHq7cO4OXf1uPTPjUpPJKI08s/Rpf+k1B43Abs+LQNPJMv4JtBbfDqwoKYsXspBocUhsYch82fD0DXj7bi2QUn8VP/0jYKsa5rXQGfaLG15obmwIumpC+wi4kIL3SS1t/eh1EtG2JuefJgLCUPBoVI2P2kJTf+tncbocX4cxjz+35817+M8kCmq5jzenc8M+VfdJmwBgve7gg/SguiLUEhMCZdxFtNamO2z2js/PszVCCxE5PFAE+dEX9/2QOt37iFX45uwpAa+ZDMKR4a+iTFwVaPqYyui3wwc8shDKuaCBMRMQ0EBMQjk9cgmZ+X7tNGHMJr3evjmz2Kot9jfT7G3BnvoR5FcJg7YqE6IRYamJbDc9Gp67PYdJXv8kGHt37G7AkDUNSDN3luz0wuNk/c+PMlNHhyCsKIuwl9eTz/w2+YMqIxpTpxfE9AFYXs6RGLX5+pjmd+DRM/zV9vMH6aPR29q/uI7+WFUDxf+CG8Ss83+R/l09X60vNNfw91rc8n6iiI37g2Un6Y0Zviwbh7Fy99+B3CzX5kbxkieRgbuuK9CqnTghd7NUC71o+Ty1vkjcsQiSt2Nq+0SvfSekp7kIUOmKZQvNKqBVYXfQ0fVf8TA+eVxJptS9GRtqKkyGN4IaQmFtb+CkeXvooSBC7M5LPW4wa+6tMEr2+sjX0RfyI4dD5aNnwS5je3Ye8Hj1PrxMfgQ2jibgyo3A5bSr2Nw1vHoQiF5ZM4xdXFYyQ5CzBSUktp8ySDMsDQhe/Fc60aYk45FWAoG7AHbZa4sRFPt+mB30LzodeLQ1G3QAIObt+GM3c8cOfwP6jw3iqs+KATfJmdy2ELai981RhU7TsffX49hul9iopyuOwF0GlN2PR5N7R9KwJzjm/C4GqB4hk4/KGl36996TF0WuCJH7ccxvBqnBKrAgwlLCE2cdbsMEXg3y1rsP9CFO5c2IeFsxYisenrmPXDONQrSsRUJgfScyDyHP7esh1nb0Tj6qH1mLtwB6o8OxWzPx2Eot40gEVNAx0SLu3Hmh2HceN2BEI3L8Tv26PQbfxcTHu+EaFfRtQK3vPwSMT5nSuxOTQc0TdPY92cWTiYvzOmzPoB/asHCH17Zianeb7/9mLh7MVIavIGfv5hrHg+CiNbBV9cdJV4hNdSAUZcbCw++XYODofFw6DjpUaCsEcwp8t8REjfEHAf2bUOunZsIzwYvAtJ8q/LdHHKi6TKAnCSAHMAab94rz06TffEqiOrETi1PhrOLo/V25cKD8adM7+gWeWRKPvZaiwd2w46E3m9OYRPmYvbxndD5/f2YeLlq+h++A3U6DoTL248igmtKZNRSDLQQZAOvD92r4xXDlTHotC16OJPkgb8eRePXecwwFD7k7ZNPqFzqs49AIPCHWRoVQMj5vxWzJo5B0vX70OkrhiaDxiB/nXv4tXWI1D82x1YMroJNOQ1EOhRdxuTezTBu4dCsOn0H6gvUl4ZkTLASMKeGQPQ5Pkj+P7gDowOLigqI4rQAnXqwiGl8dSmUvh1904MKE3tcSqpVQ/hQdvMxdVvoEGXL1Hn0w34c1xb+FpfMa3WRBIRTTuj/bi9eGvtIUzsYPXGpJ+nlmv4um9zvLYiH+af2YGBZTzvO5ONZ+eg2WPP4FaXr7Fj2SsoeZ87L656HQ26fo2Q8fR877SBF3lOWPtD0c6XF1tABRiJROj7+fe/sIRKM/uQaE4O+vKk4Z3AAnyo4IyriWN6oHLF8qkCfy5+ynSCrsmRRxRZISLLUYPwXRPRsOXnaPnLPvzyZAVseaMaWv1RFWu2LxEejBt7PsRjjSej548bMWt4PSSbic/nQWmpegNOznwGTUb9ilF0WHzqzDDUeJb2nH+3YXRIIdpz2IPBhzzt/9s787iqqi2O/5hBUSwTB1JBQNR6mkOmGBlOqYk+S5FnZgFqzqKBpCYKzpANKlqKPkBTnlg5YTihOKGIYyQKojiUOADiwDy8tc+59wLmcO8nCLis85+X7TnrfPc++6yz9lq/jYiJdhgUbowfDp+Du53QLqIyWJWwUoXcYqWftEIdDJXQFX0ViGTDQopS6KfFYlxPe4RaLce1n8ahvi51AP2ulFVVvgazHj2iiIcJTGnjodSd5Fw47aLqkiPw7WuFQkoALTIwhsH1cPR42wXX+21D4ur+lGMh6z0Ukv6FPm1rnrxjBuwHfg3nXxOxvA8FtcSyB3mThoZpmGtP+QxpfbH791B01qXBQi9hkU2hXJ5IPn0Kl9ProluvdjDMoYRTRZTFuCABw5t3wLH3A3EidDTSo/ci1cQODm81Q1FWHg0aipBQzWxOfDAcu7ijfkAsIidY4cTeUzCy7YBOLcyQS2I++WSjQW1TJK0bjZ5jguC8OxPLe9fBneSTOHUxDx16d8Ur5Ebli2UYSpQ1qZWPJZ3N4ZfnjH0xIbC6GIXTd+uje58n7Mu/QPZ1RIzTChwNGQcLkrAt1KF74wqJMl8v4h8F+bn4PvQXRMTdpF0QRe+zE1bpM1IlGiDknY2NDBEyfxTlftVidddK7IuKvbSsdqzM4dPNjIVrB3tEv7kMR0LHoH5xLg7N6ow+m22x40A43rPUw52D3rAMYLNFAAAOOElEQVTpFQzXkP0IHNlWcjDobUG1BAa4uv4zdHJdg4933MEnKW7oMP4G1p6Nglu7lyFUPaV25MREeb6B3uvy8d2BBExsW0jL8rqKyGnF3m1lnr1CHYyn3ljWeUzs2g5rW6xB2i/0IJdqlHHmZ6zeex1dP/bAO42Vf0jF0r7W8LzkhKhDYXB8tRC5eYUwpIngRrgnHP7zNRzDUhH8obmQ9JJeEXIdMoluXd2JQfZOiO8XhsT/DoOqwDUlGJ3auiHLeTPOBQ2BPlWXFIryIfJoi3WMSFs+lSIj3TA18hWsv3ICIyxKjMy9uBb2rUcBU7ZQuWh7TLGwxmbzMdh/+gd0LFWpcSl8Mt52XgWnzQlY2TMB3RsMRPYn3+Pgus+gLMAV63Nbp/fCkICLmB93BV90NMC+hR+g76wYeB24gEXvNii5cN4xuFh2w+5mXvgtxhc7Btph/J4m2JByHB+pWAE5CWRfm1HQ89iEPV+7oB7lpBTrGHAEo9Q4U0Uw8nKxMmQLIk7dQi1yMCouGakyH3G+troExDKmIb0wgv1cUadOHY5gqAuuGrYTc734oNAhraSfPd7FhJOdEXloBdqJUkA6zvm2xxvBrRATvwldKEx9++hs2DmswJA1+xFECflFoiKR5m99fUNcWueKLmNCMSbqPkYku6Ot+wWsPH0QY9uXjWDsomV5p036+P7QbxjdmiMYf3vYqCIYuelISrqGjDw9GD+Mx8Kxn5ImxHREBDijDi13mNRvjBa0S13O4bmw7u4HMyc/rPP5AA0NM3E09EuMWnoCH63Yi9UTukoh/wIqGTIkVc99i4fggznnMP98PCa1IldFsW+AWEctKNShJZRMRPgMwYB5cRi5NBST32sJ3fvJWOfthhXnLbH2xGG42ZHboZuObYsXYPv1hhi/2BsdqTrkxs6ZsHdahOxuk/CD33DYNjBF9t0LWD93NAKPN8HiXbvhTWqhx5a8h3e/2IP2IwKwYGwPNDTTQUZSNPynTUVE9mDsOrkR/ZrmkKYF1VSvfwwXSiqcMOB1mOll42bMRkybsgy3Os1B3P7ZsDbSw6ML/8NQRxfsNhmEwMCpsLesj+IHt7Bv1TRM//Eyhn0ThTCPrri+zRv2//ZH7ttkn+9w2Dxh35LI3Zje41X6Sqc1ZNbBKDOWVXnNNMls33sEy7fEoC5ljYsXDGse/O3HvtqeQOQ11TXRx+q57jA1NeUIRrXtyRcZLpbsaQsG+gjNPDAT1j0Wo6mLL6b1aQIhnKxHmkyJW+YiILYRPLzH483ODujTOBoOrSbCzj8C4Z49YUARjHxyT/T19UlLaSD600fhvKupGHR+Kl4btAGeB87At3sz+oaUo+Y6lOOx7kNbTD5hh03xezGwnvio5RyMF/XUc/8uKicKScfCICkE9o6fIuYPOQj95Jei3ZCF2EkCVDakH3F0pRcmzFqFc5nGMDXOw2N9O3zqswTzpzihMXW8iFIUFlDGr2EG1rq+hdHBxQhJjcfIhkayIqi0kZUseiKyd3UeUFnQAk/M+iYCaULuMzsbddq8j5kBy+DVXyy3kDCKQTIm29hgRcpb+OnecQyuR4NPJxsxIYvw5cJliEp8JCXzFOQVwMS2B6b6zIfniK6oS9fQy09FuP8M+H2zAfEZxeT4CLGeIjTt5oKZi+bD1aEF9MnZyaNqj1WzZ8A/OBK3Cyh/hJI484uM0WHweMzzn43+NiIJVdRhFyMpKgg+cxYi7Mh1ss0QxZQrUFzvdYz09IGf11A0JedKVJkcC16I2cK+pMcq+2qRfR4+C+A1ogvZJ5TjRJmq7KvzIRMQDoYk8y5q3i9cwedfhaFeHarO4SSMGj1ERIK4DWn2L/EeBWMTE3YwtHY0yEUHOpQXcW3LDIxcEol7mRm4T94FvQ1oObkIWZl3kZZjhJfMTNGCqv4OzmkFjzZtEdFjFc7+OBbmRTnIKTKCiUEaltM2FpO32+Log53ocJ6SQbu4ofaCWER//iblYOTSErUR7bZKH7lteuLXlyfjbIwfLETRg5ibtTw3rkKXSOQlB4KYdQtxZxLwIFeuO5byLcQkrwhT1TK3RtvXm8NE2uirGHeu/I7kG7eRVWyCRpa2aG3ZgLpdVI4ItU3lnh0FSE08j0t/6qKNfTs0MBSJovLOh0rVV9X1KQx281ICrvyRQepr9dDM9jVYNSCtT0VpqJ5uPm4eDYT7uOOYfHQzZfiK8BU5MbQs/zD1KpKv3UT6o3wYmL6MV5u3gFUjCnFIsrGyNKyoo7577SJSbt7Bg5xi1KrXAM1tWqKJmYHcTkjPSgMpi+xIwvXb6cgu1IcZCW9ZtbRBfcrtlPZEkWqmBAMd5Gf+ictXriE1PQs6xnXRyKI5bCzNKbVVsXeLdM7n2ydEX6Rzls1A1dppQ90bE+NEOVZizybg84CNaNiQNiqisCdHMNSlqH3txF4SrZuYYIGnO4yMaX5QzCfad6c1/Y7kHAzxrBeSLlFaJuX76RpKCZdF9BvV3uGInyMGb7VG2Na16G1bF2YmBdg11xHvL86A/75oeCnW8G8d8kev3t7AuO2I+3YAbWWRhHmDHeETQ8rT8VvRz0LWSYoLHI7uE8PhFJSAMDcb1sGolCFIvS72FVHuF6Oygb7EheaDeEer964sGUAiFCbpRTzxAS8SukRmL7myFL7Sw71fvdBnkS42Ri+BnXCMpC9dES77qwSmyAwWQl+SPZIDQV7vU5QyldcQZa+SjKziHsqypXuWIhfK/UJEhEbIlZfstFqWg7xhjnBcRP7Qi+2TniSOX5SCLjsYcplv7JnfMdV/Axo1aiztQ8Fy4ZXy5Ff6RSUVT3qgbCmCsWg6RzAqvUMq2YCDHpZwDKEqkvhI9LWghEwxx986DI9hgxEUZ4yOPbqiIUmKxx6Iw8N/uWH7tm/hQPtaFdNc+zB2DYYOnYJDj6zQ3bEtDO5cxOHjl2Hx4UJErp+CphSllqsmtT+yXMERDMXLTXoZPieFTtptrmTrdlnTXXnIX/9yZEL5a4lWhfhJWYFS9oujlJMhHAZJY0JxiOspXrpyPmgR9gRMxJ5XxuAr1/ayLofsPciJn6VNV/5f+c8qu8raLH4X0QPZTuU289KLrbQdZI6qnVIBQ/wfxRd22ZB9WQ5KHi+yj52Lv85UygiGGDcXE5Mx81uSBdY3JSdMTvzio2YSEBGMjlTl9eWkkZREbsQRDK0dBk+8GxTzuzQviPmd5oFzQeMwPdoCC5b6oJO5vGmnvvjoy0jA+sDl2HIkEY+Ka6NltyGYMmkEWr1Es4dYohczCM0rWVcOInB5EKJ++xMFxubo7OSOqaN6k7CkfG2Va6Hl002FOhjVcXwql1dU6yzV8SbY5ucSKO1gXE6+itnLwvC4yESaWOQ1JT5qGgHR69mUYzXcsSU+HjpA2g1TmTRe01jw/T6dgKpo4Sl/Lv1x++yltRLHRsTiZZly7T5qtoMhPFYpikArJaJUlZYwDKQt4HlZQZuHvZzkKWrT9XApMYkSgDcg34CKh4tFDgbvCqfNff/Me6NHPpeWyJzfscUnzk7S8pk8N2j7K6BG9vZTb7pk3hdbOwilTblKRFeKQiuj1SJBVCgzy2EPkSgqlqlFRFwZYVdu2S6W3OQotByhF+1KIvFyMYK2HzXbwdD23uX7e+ZEIiYD8dCnpKTAd0UY7uUaS9njvERSMweNSNTOyS/EUAdruLoM4ghGzRwGfNflTIAdjHIGyqer+gTkJRKRu6ODzIx0fLV2K2Ivp6E2lSLLW8bxUdMISDVepLDrMcwefR27qW6fIxg1bSTw/ZYnAXYwypMmn6taEJBDmXLo8sH9dASQg3HycgZqk9DZ83KRq8XNPcNILrl8Qe9RvPpxVg4CZ3yEli2altLUqQFx7Oo8sNn2Kk2AHYwq3T1sXEUQKBFk00H6vTvwX7MF527kkGgOZYKzXnhFIK/y5xSRisfZufjOywWtbEiBUXFwBKPKdx0bWIUJsINRhTuHTasYAsLBEIcoJyvMy8ay0J3YRmVnZrWNnl9OXTHm/CNnZb/p+ZiVDsbKGSPQpmVzKYIhDt6q/R8ZnnwRLSXADoaWdizf1rMJKLO9RYa3HjkZR2LPYMe+GJiZ1iahN+3JwpASWWkZKJ/CMjcySFhOivZzyP9pI0M4YIbIw8zPBqOpRWPe6IwnECZQDgTYwSgHiHyK6kmgdFlZ9bwDtpoJMAEmUHUJsINRdfuGLasgAmUcC4UWSgVdqsqcVlGO/9edBquMhVXDEKFNUFo1mHMwqka/sBXVkwA7GNWz39jqciBQsjme9mcoKF+a/MIsh4HDp2ACTEAtAuxgqIWJGzEBJsAEmAATYAKaEGAHQxNa3JYJMAEmwASYABNQiwA7GGph4kZMgAkwASbABJiAJgTYwdCEFrdlAkyACTABJsAE1CLADoZamLgRE2ACTIAJMAEmoAkBdjA0ocVtmQATYAJMgAkwAbUIsIOhFiZuxASYABNgAkyACWhCgB0MTWhxWybABJgAE2ACTEAtAuxgqIWJGzEBJsAEmAATYAKaEGAHQxNa3JYJMAEmwASYABNQiwA7GGph4kZMgAkwASbABJiAJgTYwdCEFrdlAkyACTABJsAE1CLADoZamLgRE2ACTIAJMAEmoAkBdjA0ocVtmQATYAJMgAkwAbUIsIOhFiZuxASYABNgAkyACWhCgB0MTWhxWybABJgAE2ACTEAtAuxgqIWJGzEBJsAEmAATYAKaEGAHQxNa3JYJMAEmwASYABNQiwA7GGph4kZMgAkwASbABJiAJgTYwdCEFrdlAkyACTABJsAE1CLADoZamLgRE2ACTIAJMAEmoAkBdjA0ocVtmQATYAJMgAkwAbUI/B8bwotUg6S6wAAAAABJRU5ErkJggg==)"
      ],
      "metadata": {
        "id": "Td604prUvpLe"
      }
    },
    {
      "cell_type": "markdown",
      "metadata": {
        "id": "2jDTVwgN5lah"
      },
      "source": [
        "## Como colocar isto em uma rede neural?"
      ]
    },
    {
      "cell_type": "code",
      "metadata": {
        "id": "FW7yinO3uBQd",
        "colab": {
          "base_uri": "https://localhost:8080/"
        },
        "outputId": "7a3be4d9-fc36-48e9-ed0d-7ab712873f57"
      },
      "source": [
        "sc = StandardScaler() #Padronizar escala\n",
        "sc.fit(serie_temporal)\n",
        "#https://scikit-learn.org/stable/modules/generated/sklearn.preprocessing.StandardScaler.html"
      ],
      "execution_count": 5,
      "outputs": [
        {
          "output_type": "execute_result",
          "data": {
            "text/plain": [
              "StandardScaler()"
            ]
          },
          "metadata": {},
          "execution_count": 5
        }
      ]
    },
    {
      "cell_type": "code",
      "metadata": {
        "id": "P5FKYauEuWXL"
      },
      "source": [
        "escalonamento = sc.transform(serie_temporal)\n",
        "#colunas 0 e 1\n",
        "x=escalonamento[:,0] \n",
        "y=escalonamento[:,1] "
      ],
      "execution_count": 6,
      "outputs": []
    },
    {
      "cell_type": "code",
      "metadata": {
        "id": "MN5fJ3sBw02d",
        "colab": {
          "base_uri": "https://localhost:8080/",
          "height": 351
        },
        "outputId": "9dea9cc3-97a6-408f-f73d-7c425f0bf963"
      },
      "source": [
        "#plotar dados com novas escalas\n",
        "sns.lineplot(x=x,y=y,label='serie_escalada') \n",
        "plt.ylabel('Pessoas')\n",
        "plt.xlabel('Data')"
      ],
      "execution_count": 7,
      "outputs": [
        {
          "output_type": "execute_result",
          "data": {
            "text/plain": [
              "Text(0.5, 0, 'Data')"
            ]
          },
          "metadata": {},
          "execution_count": 7
        },
        {
          "output_type": "display_data",
          "data": {
            "image/png": "[encoded data removed]",
            "text/plain": [
              "<Figure size 648x360 with 1 Axes>"
            ]
          },
          "metadata": {
            "needs_background": "light"
          }
        }
      ]
    },
    {
      "cell_type": "markdown",
      "metadata": {
        "id": "k7ouYZsv5W2F"
      },
      "source": [
        "## Treino e teste"
      ]
    },
    {
      "cell_type": "code",
      "metadata": {
        "id": "dQ1FcF5EQxmG"
      },
      "source": [
        "treino = int(len(serie_temporal)*0.9) \n",
        "teste = len(serie_temporal)-treino "
      ],
      "execution_count": 8,
      "outputs": []
    },
    {
      "cell_type": "code",
      "metadata": {
        "id": "p2YWXWLp-DlG",
        "colab": {
          "base_uri": "https://localhost:8080/",
          "height": 337
        },
        "outputId": "741aff35-1f6b-44cd-b040-05ac429092b3"
      },
      "source": [
        "x_treino = x[0:treino]\n",
        "y_treino = y[0:treino]\n",
        "x_teste = x[treino:len(serie_temporal)]\n",
        "y_teste = y[treino:len(serie_temporal)]\n",
        "sns.lineplot(x=x_treino,y=y_treino,label='Treino') \n",
        "sns.lineplot(x=x_teste,y=y_teste,label='Teste')"
      ],
      "execution_count": 9,
      "outputs": [
        {
          "output_type": "execute_result",
          "data": {
            "text/plain": [
              "<matplotlib.axes._subplots.AxesSubplot at 0x7fa1ae4ec490>"
            ]
          },
          "metadata": {},
          "execution_count": 9
        },
        {
          "output_type": "display_data",
          "data": {
            "image/png": "[encoded data removed]",
            "text/plain": [
              "<Figure size 648x360 with 1 Axes>"
            ]
          },
          "metadata": {
            "needs_background": "light"
          }
        }
      ]
    },
    {
      "cell_type": "markdown",
      "source": [
        "###Queremos prever a região laranja!"
      ],
      "metadata": {
        "id": "mikuZjJ5yL2E"
      }
    },
    {
      "cell_type": "code",
      "source": [
        "from tensorflow.keras.models import Sequential\n",
        "from tensorflow.keras.layers import Dense"
      ],
      "metadata": {
        "id": "qxjL_eCfy2Pu"
      },
      "execution_count": 10,
      "outputs": []
    },
    {
      "cell_type": "code",
      "source": [
        "regressao = Sequential()\n",
        "#Uma única entrada ligando a um neurônio\n",
        "#Dimensão da entrada\n",
        "#Inicializando todos os pesos com números 1\n",
        "#Ativação linear\n",
        "regressao.add(Dense(1, input_dim=1, kernel_initializer='Ones', activation='linear',use_bias=True))\n",
        "#Erro médio quadrático\n",
        "#Otimizador\n",
        "regressao.compile(loss='mean_squared_error',optimizer='adam')\n",
        "regressao.summary()"
      ],
      "metadata": {
        "colab": {
          "base_uri": "https://localhost:8080/"
        },
        "id": "GMsayUxRy3PL",
        "outputId": "dfb215ff-15ea-46d2-e404-8cd7df4df6b7"
      },
      "execution_count": 11,
      "outputs": [
        {
          "output_type": "stream",
          "name": "stdout",
          "text": [
            "Model: \"sequential\"\n",
            "_________________________________________________________________\n",
            " Layer (type)                Output Shape              Param #   \n",
            "=================================================================\n",
            " dense (Dense)               (None, 1)                 2         \n",
            "                                                                 \n",
            "=================================================================\n",
            "Total params: 2\n",
            "Trainable params: 2\n",
            "Non-trainable params: 0\n",
            "_________________________________________________________________\n"
          ]
        }
      ]
    },
    {
      "cell_type": "code",
      "source": [
        "regressao.fit(x_treino,y_treino) "
      ],
      "metadata": {
        "colab": {
          "base_uri": "https://localhost:8080/"
        },
        "id": "BKt6FrXt1JlZ",
        "outputId": "76717284-7f40-47eb-dd79-571fb14a16b6"
      },
      "execution_count": 12,
      "outputs": [
        {
          "output_type": "stream",
          "name": "stdout",
          "text": [
            "5/5 [==============================] - 0s 2ms/step - loss: 0.1286\n"
          ]
        },
        {
          "output_type": "execute_result",
          "data": {
            "text/plain": [
              "<keras.callbacks.History at 0x7fa142bed690>"
            ]
          },
          "metadata": {},
          "execution_count": 12
        }
      ]
    },
    {
      "cell_type": "code",
      "metadata": {
        "id": "hQ4BqFity0x-",
        "colab": {
          "base_uri": "https://localhost:8080/",
          "height": 339
        },
        "outputId": "25def9a6-8548-44a0-909d-7c6569e38018"
      },
      "source": [
        "y_predicao= regressao.predict(x_treino) \n",
        "#Prever os dados de treino\n",
        "sns.lineplot(x=x_treino,y=y_treino,label='treino')\n",
        "sns.lineplot(x=x_treino,y=y_predicao[:,0],label='treino_ajuste') "
      ],
      "execution_count": 13,
      "outputs": [
        {
          "output_type": "execute_result",
          "data": {
            "text/plain": [
              "<matplotlib.axes._subplots.AxesSubplot at 0x7fa146d7db10>"
            ]
          },
          "metadata": {},
          "execution_count": 13
        },
        {
          "output_type": "display_data",
          "data": {
            "image/png": "[encoded data removed]",
            "text/plain": [
              "<Figure size 648x360 with 1 Axes>"
            ]
          },
          "metadata": {
            "needs_background": "light"
          }
        }
      ]
    },
    {
      "cell_type": "code",
      "source": [
        "regressao = Sequential()\n",
        "#Uma única entrada ligando a um neurônio\n",
        "#Dimensão da entrada\n",
        "#Inicializando todos os pesos com números 1\n",
        "#Ativação linear\n",
        "regressao.add(Dense(1, input_dim=1, kernel_initializer='Ones', activation='linear',use_bias=False))\n",
        "#Erro médio quadrático\n",
        "#Otimizador\n",
        "regressao.compile(loss='mean_squared_error',optimizer='adam')\n",
        "regressao.summary()"
      ],
      "metadata": {
        "colab": {
          "base_uri": "https://localhost:8080/"
        },
        "id": "3je7iYGg18as",
        "outputId": "ba634a26-affd-4686-dada-8886937b2a48"
      },
      "execution_count": 14,
      "outputs": [
        {
          "output_type": "stream",
          "name": "stdout",
          "text": [
            "Model: \"sequential_1\"\n",
            "_________________________________________________________________\n",
            " Layer (type)                Output Shape              Param #   \n",
            "=================================================================\n",
            " dense_1 (Dense)             (None, 1)                 1         \n",
            "                                                                 \n",
            "=================================================================\n",
            "Total params: 1\n",
            "Trainable params: 1\n",
            "Non-trainable params: 0\n",
            "_________________________________________________________________\n"
          ]
        }
      ]
    },
    {
      "cell_type": "code",
      "source": [
        "regressao.fit(x_treino,y_treino) "
      ],
      "metadata": {
        "colab": {
          "base_uri": "https://localhost:8080/"
        },
        "id": "n0iIM4Cw2CvR",
        "outputId": "cc4db9c7-c299-4b54-ed37-3d57e558c2f3"
      },
      "execution_count": 15,
      "outputs": [
        {
          "output_type": "stream",
          "name": "stdout",
          "text": [
            "5/5 [==============================] - 0s 4ms/step - loss: 0.1285\n"
          ]
        },
        {
          "output_type": "execute_result",
          "data": {
            "text/plain": [
              "<keras.callbacks.History at 0x7fa142b68b90>"
            ]
          },
          "metadata": {},
          "execution_count": 15
        }
      ]
    },
    {
      "cell_type": "code",
      "source": [
        "y_predicao= regressao.predict(x_treino)\n",
        "#Prever os dados de treino com viés falso\n",
        "sns.lineplot(x=x_treino,y=y_treino,label='treino')\n",
        "sns.lineplot(x=x_treino,y=y_predicao[:,0],label='treino_ajuste') "
      ],
      "metadata": {
        "colab": {
          "base_uri": "https://localhost:8080/",
          "height": 339
        },
        "id": "AmC5A0uW2OWw",
        "outputId": "1cc6bec5-242c-4d36-e094-b7a691710eeb"
      },
      "execution_count": 18,
      "outputs": [
        {
          "output_type": "execute_result",
          "data": {
            "text/plain": [
              "<matplotlib.axes._subplots.AxesSubplot at 0x7fa14297b590>"
            ]
          },
          "metadata": {},
          "execution_count": 18
        },
        {
          "output_type": "display_data",
          "data": {
            "image/png": "[encoded data removed]",
            "text/plain": [
              "<Figure size 648x360 with 1 Axes>"
            ]
          },
          "metadata": {
            "needs_background": "light"
          }
        }
      ]
    },
    {
      "cell_type": "code",
      "source": [
        "da = {'tempo': x_treino, 'passageiros': y_predicao[:,0]}\n",
        "results = pd.DataFrame(data=da)"
      ],
      "metadata": {
        "id": "HS94Hm6e2dXA"
      },
      "execution_count": 21,
      "outputs": []
    },
    {
      "cell_type": "code",
      "source": [
        "results"
      ],
      "metadata": {
        "colab": {
          "base_uri": "https://localhost:8080/",
          "height": 424
        },
        "id": "pxZcMtROEs7O",
        "outputId": "55bf490e-97c1-48a0-8723-3a73bcdb8ecf"
      },
      "execution_count": 22,
      "outputs": [
        {
          "output_type": "execute_result",
          "data": {
            "text/html": [
              "\n",
              "  <div id=\"df-f96ec412-b7cf-4dcb-9780-71f5b754095d\">\n",
              "    <div class=\"colab-df-container\">\n",
              "      <div>\n",
              "<style scoped>\n",
              "    .dataframe tbody tr th:only-of-type {\n",
              "        vertical-align: middle;\n",
              "    }\n",
              "\n",
              "    .dataframe tbody tr th {\n",
              "        vertical-align: top;\n",
              "    }\n",
              "\n",
              "    .dataframe thead th {\n",
              "        text-align: right;\n",
              "    }\n",
              "</style>\n",
              "<table border=\"1\" class=\"dataframe\">\n",
              "  <thead>\n",
              "    <tr style=\"text-align: right;\">\n",
              "      <th></th>\n",
              "      <th>tempo</th>\n",
              "      <th>passageiros</th>\n",
              "    </tr>\n",
              "  </thead>\n",
              "  <tbody>\n",
              "    <tr>\n",
              "      <th>0</th>\n",
              "      <td>-1.720064</td>\n",
              "      <td>-1.712936</td>\n",
              "    </tr>\n",
              "    <tr>\n",
              "      <th>1</th>\n",
              "      <td>-1.696007</td>\n",
              "      <td>-1.688979</td>\n",
              "    </tr>\n",
              "    <tr>\n",
              "      <th>2</th>\n",
              "      <td>-1.671950</td>\n",
              "      <td>-1.665021</td>\n",
              "    </tr>\n",
              "    <tr>\n",
              "      <th>3</th>\n",
              "      <td>-1.647894</td>\n",
              "      <td>-1.641064</td>\n",
              "    </tr>\n",
              "    <tr>\n",
              "      <th>4</th>\n",
              "      <td>-1.623837</td>\n",
              "      <td>-1.617107</td>\n",
              "    </tr>\n",
              "    <tr>\n",
              "      <th>...</th>\n",
              "      <td>...</td>\n",
              "      <td>...</td>\n",
              "    </tr>\n",
              "    <tr>\n",
              "      <th>124</th>\n",
              "      <td>1.262984</td>\n",
              "      <td>1.257750</td>\n",
              "    </tr>\n",
              "    <tr>\n",
              "      <th>125</th>\n",
              "      <td>1.287041</td>\n",
              "      <td>1.281707</td>\n",
              "    </tr>\n",
              "    <tr>\n",
              "      <th>126</th>\n",
              "      <td>1.311098</td>\n",
              "      <td>1.305664</td>\n",
              "    </tr>\n",
              "    <tr>\n",
              "      <th>127</th>\n",
              "      <td>1.335155</td>\n",
              "      <td>1.329621</td>\n",
              "    </tr>\n",
              "    <tr>\n",
              "      <th>128</th>\n",
              "      <td>1.359212</td>\n",
              "      <td>1.353579</td>\n",
              "    </tr>\n",
              "  </tbody>\n",
              "</table>\n",
              "<p>129 rows × 2 columns</p>\n",
              "</div>\n",
              "      <button class=\"colab-df-convert\" onclick=\"convertToInteractive('df-f96ec412-b7cf-4dcb-9780-71f5b754095d')\"\n",
              "              title=\"Convert this dataframe to an interactive table.\"\n",
              "              style=\"display:none;\">\n",
              "        \n",
              "  <svg xmlns=\"http://www.w3.org/2000/svg\" height=\"24px\"viewBox=\"0 0 24 24\"\n",
              "       width=\"24px\">\n",
              "    <path d=\"M0 0h24v24H0V0z\" fill=\"none\"/>\n",
              "    <path d=\"M18.56 5.44l.94 2.06.94-2.06 2.06-.94-2.06-.94-.94-2.06-.94 2.06-2.06.94zm-11 1L8.5 8.5l.94-2.06 2.06-.94-2.06-.94L8.5 2.5l-.94 2.06-2.06.94zm10 10l.94 2.06.94-2.06 2.06-.94-2.06-.94-.94-2.06-.94 2.06-2.06.94z\"/><path d=\"M17.41 7.96l-1.37-1.37c-.4-.4-.92-.59-1.43-.59-.52 0-1.04.2-1.43.59L10.3 9.45l-7.72 7.72c-.78.78-.78 2.05 0 2.83L4 21.41c.39.39.9.59 1.41.59.51 0 1.02-.2 1.41-.59l7.78-7.78 2.81-2.81c.8-.78.8-2.07 0-2.86zM5.41 20L4 18.59l7.72-7.72 1.47 1.35L5.41 20z\"/>\n",
              "  </svg>\n",
              "      </button>\n",
              "      \n",
              "  <style>\n",
              "    .colab-df-container {\n",
              "      display:flex;\n",
              "      flex-wrap:wrap;\n",
              "      gap: 12px;\n",
              "    }\n",
              "\n",
              "    .colab-df-convert {\n",
              "      background-color: #E8F0FE;\n",
              "      border: none;\n",
              "      border-radius: 50%;\n",
              "      cursor: pointer;\n",
              "      display: none;\n",
              "      fill: #1967D2;\n",
              "      height: 32px;\n",
              "      padding: 0 0 0 0;\n",
              "      width: 32px;\n",
              "    }\n",
              "\n",
              "    .colab-df-convert:hover {\n",
              "      background-color: #E2EBFA;\n",
              "      box-shadow: 0px 1px 2px rgba(60, 64, 67, 0.3), 0px 1px 3px 1px rgba(60, 64, 67, 0.15);\n",
              "      fill: #174EA6;\n",
              "    }\n",
              "\n",
              "    [theme=dark] .colab-df-convert {\n",
              "      background-color: #3B4455;\n",
              "      fill: #D2E3FC;\n",
              "    }\n",
              "\n",
              "    [theme=dark] .colab-df-convert:hover {\n",
              "      background-color: #434B5C;\n",
              "      box-shadow: 0px 1px 3px 1px rgba(0, 0, 0, 0.15);\n",
              "      filter: drop-shadow(0px 1px 2px rgba(0, 0, 0, 0.3));\n",
              "      fill: #FFFFFF;\n",
              "    }\n",
              "  </style>\n",
              "\n",
              "      <script>\n",
              "        const buttonEl =\n",
              "          document.querySelector('#df-f96ec412-b7cf-4dcb-9780-71f5b754095d button.colab-df-convert');\n",
              "        buttonEl.style.display =\n",
              "          google.colab.kernel.accessAllowed ? 'block' : 'none';\n",
              "\n",
              "        async function convertToInteractive(key) {\n",
              "          const element = document.querySelector('#df-f96ec412-b7cf-4dcb-9780-71f5b754095d');\n",
              "          const dataTable =\n",
              "            await google.colab.kernel.invokeFunction('convertToInteractive',\n",
              "                                                     [key], {});\n",
              "          if (!dataTable) return;\n",
              "\n",
              "          const docLinkHtml = 'Like what you see? Visit the ' +\n",
              "            '<a target=\"_blank\" href=https://colab.research.google.com/notebooks/data_table.ipynb>data table notebook</a>'\n",
              "            + ' to learn more about interactive tables.';\n",
              "          element.innerHTML = '';\n",
              "          dataTable['output_type'] = 'display_data';\n",
              "          await google.colab.output.renderOutput(dataTable, element);\n",
              "          const docLink = document.createElement('div');\n",
              "          docLink.innerHTML = docLinkHtml;\n",
              "          element.appendChild(docLink);\n",
              "        }\n",
              "      </script>\n",
              "    </div>\n",
              "  </div>\n",
              "  "
            ],
            "text/plain": [
              "        tempo  passageiros\n",
              "0   -1.720064    -1.712936\n",
              "1   -1.696007    -1.688979\n",
              "2   -1.671950    -1.665021\n",
              "3   -1.647894    -1.641064\n",
              "4   -1.623837    -1.617107\n",
              "..        ...          ...\n",
              "124  1.262984     1.257750\n",
              "125  1.287041     1.281707\n",
              "126  1.311098     1.305664\n",
              "127  1.335155     1.329621\n",
              "128  1.359212     1.353579\n",
              "\n",
              "[129 rows x 2 columns]"
            ]
          },
          "metadata": {},
          "execution_count": 22
        }
      ]
    },
    {
      "cell_type": "code",
      "source": [
        "result_do_teste_t = sc.inverse_transform(results) #transformação inversa\n",
        "result_do_teste_t = pd.DataFrame(result_do_teste_t)\n",
        "result_do_teste_t.columns = ['tempo','passageiros']"
      ],
      "metadata": {
        "id": "LW0rC3v6_x33"
      },
      "execution_count": 26,
      "outputs": []
    },
    {
      "cell_type": "code",
      "source": [
        "result_do_teste_t"
      ],
      "metadata": {
        "colab": {
          "base_uri": "https://localhost:8080/",
          "height": 424
        },
        "id": "6v67AXPFADGd",
        "outputId": "ef087d01-ac38-456c-c158-a97f7e54bbe7"
      },
      "execution_count": 27,
      "outputs": [
        {
          "output_type": "execute_result",
          "data": {
            "text/html": [
              "\n",
              "  <div id=\"df-9e6397b0-2b75-4c73-892b-761224bfe7e9\">\n",
              "    <div class=\"colab-df-container\">\n",
              "      <div>\n",
              "<style scoped>\n",
              "    .dataframe tbody tr th:only-of-type {\n",
              "        vertical-align: middle;\n",
              "    }\n",
              "\n",
              "    .dataframe tbody tr th {\n",
              "        vertical-align: top;\n",
              "    }\n",
              "\n",
              "    .dataframe thead th {\n",
              "        text-align: right;\n",
              "    }\n",
              "</style>\n",
              "<table border=\"1\" class=\"dataframe\">\n",
              "  <thead>\n",
              "    <tr style=\"text-align: right;\">\n",
              "      <th></th>\n",
              "      <th>tempo</th>\n",
              "      <th>passageiros</th>\n",
              "    </tr>\n",
              "  </thead>\n",
              "  <tbody>\n",
              "    <tr>\n",
              "      <th>0</th>\n",
              "      <td>1949.000000</td>\n",
              "      <td>75.518792</td>\n",
              "    </tr>\n",
              "    <tr>\n",
              "      <th>1</th>\n",
              "      <td>1949.083333</td>\n",
              "      <td>78.382844</td>\n",
              "    </tr>\n",
              "    <tr>\n",
              "      <th>2</th>\n",
              "      <td>1949.166667</td>\n",
              "      <td>81.246896</td>\n",
              "    </tr>\n",
              "    <tr>\n",
              "      <th>3</th>\n",
              "      <td>1949.250000</td>\n",
              "      <td>84.110949</td>\n",
              "    </tr>\n",
              "    <tr>\n",
              "      <th>4</th>\n",
              "      <td>1949.333333</td>\n",
              "      <td>86.975015</td>\n",
              "    </tr>\n",
              "    <tr>\n",
              "      <th>...</th>\n",
              "      <td>...</td>\n",
              "      <td>...</td>\n",
              "    </tr>\n",
              "    <tr>\n",
              "      <th>124</th>\n",
              "      <td>1959.333333</td>\n",
              "      <td>430.661408</td>\n",
              "    </tr>\n",
              "    <tr>\n",
              "      <th>125</th>\n",
              "      <td>1959.416667</td>\n",
              "      <td>433.525475</td>\n",
              "    </tr>\n",
              "    <tr>\n",
              "      <th>126</th>\n",
              "      <td>1959.500000</td>\n",
              "      <td>436.389527</td>\n",
              "    </tr>\n",
              "    <tr>\n",
              "      <th>127</th>\n",
              "      <td>1959.583333</td>\n",
              "      <td>439.253565</td>\n",
              "    </tr>\n",
              "    <tr>\n",
              "      <th>128</th>\n",
              "      <td>1959.666667</td>\n",
              "      <td>442.117631</td>\n",
              "    </tr>\n",
              "  </tbody>\n",
              "</table>\n",
              "<p>129 rows × 2 columns</p>\n",
              "</div>\n",
              "      <button class=\"colab-df-convert\" onclick=\"convertToInteractive('df-9e6397b0-2b75-4c73-892b-761224bfe7e9')\"\n",
              "              title=\"Convert this dataframe to an interactive table.\"\n",
              "              style=\"display:none;\">\n",
              "        \n",
              "  <svg xmlns=\"http://www.w3.org/2000/svg\" height=\"24px\"viewBox=\"0 0 24 24\"\n",
              "       width=\"24px\">\n",
              "    <path d=\"M0 0h24v24H0V0z\" fill=\"none\"/>\n",
              "    <path d=\"M18.56 5.44l.94 2.06.94-2.06 2.06-.94-2.06-.94-.94-2.06-.94 2.06-2.06.94zm-11 1L8.5 8.5l.94-2.06 2.06-.94-2.06-.94L8.5 2.5l-.94 2.06-2.06.94zm10 10l.94 2.06.94-2.06 2.06-.94-2.06-.94-.94-2.06-.94 2.06-2.06.94z\"/><path d=\"M17.41 7.96l-1.37-1.37c-.4-.4-.92-.59-1.43-.59-.52 0-1.04.2-1.43.59L10.3 9.45l-7.72 7.72c-.78.78-.78 2.05 0 2.83L4 21.41c.39.39.9.59 1.41.59.51 0 1.02-.2 1.41-.59l7.78-7.78 2.81-2.81c.8-.78.8-2.07 0-2.86zM5.41 20L4 18.59l7.72-7.72 1.47 1.35L5.41 20z\"/>\n",
              "  </svg>\n",
              "      </button>\n",
              "      \n",
              "  <style>\n",
              "    .colab-df-container {\n",
              "      display:flex;\n",
              "      flex-wrap:wrap;\n",
              "      gap: 12px;\n",
              "    }\n",
              "\n",
              "    .colab-df-convert {\n",
              "      background-color: #E8F0FE;\n",
              "      border: none;\n",
              "      border-radius: 50%;\n",
              "      cursor: pointer;\n",
              "      display: none;\n",
              "      fill: #1967D2;\n",
              "      height: 32px;\n",
              "      padding: 0 0 0 0;\n",
              "      width: 32px;\n",
              "    }\n",
              "\n",
              "    .colab-df-convert:hover {\n",
              "      background-color: #E2EBFA;\n",
              "      box-shadow: 0px 1px 2px rgba(60, 64, 67, 0.3), 0px 1px 3px 1px rgba(60, 64, 67, 0.15);\n",
              "      fill: #174EA6;\n",
              "    }\n",
              "\n",
              "    [theme=dark] .colab-df-convert {\n",
              "      background-color: #3B4455;\n",
              "      fill: #D2E3FC;\n",
              "    }\n",
              "\n",
              "    [theme=dark] .colab-df-convert:hover {\n",
              "      background-color: #434B5C;\n",
              "      box-shadow: 0px 1px 3px 1px rgba(0, 0, 0, 0.15);\n",
              "      filter: drop-shadow(0px 1px 2px rgba(0, 0, 0, 0.3));\n",
              "      fill: #FFFFFF;\n",
              "    }\n",
              "  </style>\n",
              "\n",
              "      <script>\n",
              "        const buttonEl =\n",
              "          document.querySelector('#df-9e6397b0-2b75-4c73-892b-761224bfe7e9 button.colab-df-convert');\n",
              "        buttonEl.style.display =\n",
              "          google.colab.kernel.accessAllowed ? 'block' : 'none';\n",
              "\n",
              "        async function convertToInteractive(key) {\n",
              "          const element = document.querySelector('#df-9e6397b0-2b75-4c73-892b-761224bfe7e9');\n",
              "          const dataTable =\n",
              "            await google.colab.kernel.invokeFunction('convertToInteractive',\n",
              "                                                     [key], {});\n",
              "          if (!dataTable) return;\n",
              "\n",
              "          const docLinkHtml = 'Like what you see? Visit the ' +\n",
              "            '<a target=\"_blank\" href=https://colab.research.google.com/notebooks/data_table.ipynb>data table notebook</a>'\n",
              "            + ' to learn more about interactive tables.';\n",
              "          element.innerHTML = '';\n",
              "          dataTable['output_type'] = 'display_data';\n",
              "          await google.colab.output.renderOutput(dataTable, element);\n",
              "          const docLink = document.createElement('div');\n",
              "          docLink.innerHTML = docLinkHtml;\n",
              "          element.appendChild(docLink);\n",
              "        }\n",
              "      </script>\n",
              "    </div>\n",
              "  </div>\n",
              "  "
            ],
            "text/plain": [
              "           tempo  passageiros\n",
              "0    1949.000000    75.518792\n",
              "1    1949.083333    78.382844\n",
              "2    1949.166667    81.246896\n",
              "3    1949.250000    84.110949\n",
              "4    1949.333333    86.975015\n",
              "..           ...          ...\n",
              "124  1959.333333   430.661408\n",
              "125  1959.416667   433.525475\n",
              "126  1959.500000   436.389527\n",
              "127  1959.583333   439.253565\n",
              "128  1959.666667   442.117631\n",
              "\n",
              "[129 rows x 2 columns]"
            ]
          },
          "metadata": {},
          "execution_count": 27
        }
      ]
    },
    {
      "cell_type": "code",
      "source": [
        "sns.lineplot(x=\"tempo\",y=\"passageiros\",data=serie_temporal,label='serie_completa')\n",
        "sns.lineplot(x=\"tempo\",y=\"passageiros\",data=result_do_teste_t,label='treino_ajustado')\n",
        "sns.lineplot(x=\"tempo\",y=\"passageiros\",data=result_do_teste_t,label='previsão')"
      ],
      "metadata": {
        "colab": {
          "base_uri": "https://localhost:8080/",
          "height": 351
        },
        "id": "_oQuSWAUAxu4",
        "outputId": "d6ca9a91-50d2-4fb2-ef72-1107530da2dd"
      },
      "execution_count": 28,
      "outputs": [
        {
          "output_type": "execute_result",
          "data": {
            "text/plain": [
              "<matplotlib.axes._subplots.AxesSubplot at 0x7fa14257b8d0>"
            ]
          },
          "metadata": {},
          "execution_count": 28
        },
        {
          "output_type": "display_data",
          "data": {
            "image/png": "[encoded data removed]",
            "text/plain": [
              "<Figure size 648x360 with 1 Axes>"
            ]
          },
          "metadata": {
            "needs_background": "light"
          }
        }
      ]
    },
    {
      "cell_type": "code",
      "source": [
        "y_predicao_t= regressao.predict(x_teste) #Prevendo o futuro\n",
        "da1 = {'tempo': x_teste, 'passageiros': y_predicao_t[:,0]}\n",
        "resultados_teste = pd.DataFrame(data=da1)"
      ],
      "metadata": {
        "id": "No8eFu1yGZrr"
      },
      "execution_count": 30,
      "outputs": []
    },
    {
      "cell_type": "code",
      "source": [
        "resultado_transf_t = sc.inverse_transform(resultados_teste)\n",
        "resultado_transf_t = pd.DataFrame(resultado_transf_t)\n",
        "resultado_transf_t.columns = ['tempo','passageiros']"
      ],
      "metadata": {
        "id": "tmMe986yGxlX"
      },
      "execution_count": 32,
      "outputs": []
    },
    {
      "cell_type": "code",
      "source": [
        "sns.lineplot(x=\"tempo\",y=\"passageiros\",data=serie_temporal,label='serie_completa')\n",
        "sns.lineplot(x=\"tempo\",y=\"passageiros\",data=result_do_teste_t,label='ajuste_treino')\n",
        "sns.lineplot(x=\"tempo\",y=\"passageiros\",data=resultado_transf_t,label='previsão')"
      ],
      "metadata": {
        "colab": {
          "base_uri": "https://localhost:8080/",
          "height": 351
        },
        "id": "Wd3Wo8bNHf8R",
        "outputId": "cb7ea666-3789-4f3d-9535-6c47c659b5c9"
      },
      "execution_count": 33,
      "outputs": [
        {
          "output_type": "execute_result",
          "data": {
            "text/plain": [
              "<matplotlib.axes._subplots.AxesSubplot at 0x7fa1424cbc10>"
            ]
          },
          "metadata": {},
          "execution_count": 33
        },
        {
          "output_type": "display_data",
          "data": {
            "image/png": "[encoded data removed]",
            "text/plain": [
              "<Figure size 648x360 with 1 Axes>"
            ]
          },
          "metadata": {
            "needs_background": "light"
          }
        }
      ]
    },
    {
      "cell_type": "markdown",
      "source": [
        "###Vamos realizar uma regressão não linear!"
      ],
      "metadata": {
        "id": "dzAUMyz0IJW7"
      }
    },
    {
      "cell_type": "code",
      "source": [
        "#Outra rede\n",
        "regressao2 = Sequential()\n",
        "regressao2.add(Dense(8, input_dim=1, kernel_initializer='random_uniform', activation='sigmoid',use_bias=False)) \n",
        "regressao2.add(Dense(8, kernel_initializer='random_uniform', activation='sigmoid',use_bias=False))\n",
        "regressao2.add(Dense(1, kernel_initializer='random_uniform', activation='linear',use_bias=False))\n",
        "regressao2.compile(loss='mean_squared_error',optimizer='adam')\n",
        "regressao2.summary()"
      ],
      "metadata": {
        "colab": {
          "base_uri": "https://localhost:8080/"
        },
        "id": "nc40c6TpICVW",
        "outputId": "6f0d991f-6bf9-4e45-d375-0fb061bcd5c8"
      },
      "execution_count": 39,
      "outputs": [
        {
          "output_type": "stream",
          "name": "stdout",
          "text": [
            "Model: \"sequential_4\"\n",
            "_________________________________________________________________\n",
            " Layer (type)                Output Shape              Param #   \n",
            "=================================================================\n",
            " dense_8 (Dense)             (None, 8)                 8         \n",
            "                                                                 \n",
            " dense_9 (Dense)             (None, 8)                 64        \n",
            "                                                                 \n",
            " dense_10 (Dense)            (None, 1)                 8         \n",
            "                                                                 \n",
            "=================================================================\n",
            "Total params: 80\n",
            "Trainable params: 80\n",
            "Non-trainable params: 0\n",
            "_________________________________________________________________\n"
          ]
        }
      ]
    },
    {
      "cell_type": "code",
      "source": [
        "regressao2.fit(x_treino,y_treino,epochs =500)"
      ],
      "metadata": {
        "colab": {
          "base_uri": "https://localhost:8080/"
        },
        "id": "ZZ_o0SnXKotM",
        "outputId": "c350cc27-a070-4168-e0a0-83ac7de4012f"
      },
      "execution_count": 40,
      "outputs": [
        {
          "output_type": "stream",
          "name": "stdout",
          "text": [
            "Epoch 1/500\n",
            "5/5 [==============================] - 1s 3ms/step - loss: 0.7957\n",
            "Epoch 2/500\n",
            "5/5 [==============================] - 0s 4ms/step - loss: 0.7929\n",
            "Epoch 3/500\n",
            "5/5 [==============================] - 0s 6ms/step - loss: 0.7899\n",
            "Epoch 4/500\n",
            "5/5 [==============================] - 0s 4ms/step - loss: 0.7880\n",
            "Epoch 5/500\n",
            "5/5 [==============================] - 0s 10ms/step - loss: 0.7868\n",
            "Epoch 6/500\n",
            "5/5 [==============================] - 0s 7ms/step - loss: 0.7859\n",
            "Epoch 7/500\n",
            "5/5 [==============================] - 0s 5ms/step - loss: 0.7847\n",
            "Epoch 8/500\n",
            "5/5 [==============================] - 0s 4ms/step - loss: 0.7838\n",
            "Epoch 9/500\n",
            "5/5 [==============================] - 0s 3ms/step - loss: 0.7826\n",
            "Epoch 10/500\n",
            "5/5 [==============================] - 0s 8ms/step - loss: 0.7821\n",
            "Epoch 11/500\n",
            "5/5 [==============================] - 0s 4ms/step - loss: 0.7813\n",
            "Epoch 12/500\n",
            "5/5 [==============================] - 0s 7ms/step - loss: 0.7804\n",
            "Epoch 13/500\n",
            "5/5 [==============================] - 0s 3ms/step - loss: 0.7793\n",
            "Epoch 14/500\n",
            "5/5 [==============================] - 0s 3ms/step - loss: 0.7794\n",
            "Epoch 15/500\n",
            "5/5 [==============================] - 0s 3ms/step - loss: 0.7791\n",
            "Epoch 16/500\n",
            "5/5 [==============================] - 0s 3ms/step - loss: 0.7791\n",
            "Epoch 17/500\n",
            "5/5 [==============================] - 0s 5ms/step - loss: 0.7790\n",
            "Epoch 18/500\n",
            "5/5 [==============================] - 0s 5ms/step - loss: 0.7789\n",
            "Epoch 19/500\n",
            "5/5 [==============================] - 0s 5ms/step - loss: 0.7790\n",
            "Epoch 20/500\n",
            "5/5 [==============================] - 0s 5ms/step - loss: 0.7792\n",
            "Epoch 21/500\n",
            "5/5 [==============================] - 0s 4ms/step - loss: 0.7799\n",
            "Epoch 22/500\n",
            "5/5 [==============================] - 0s 4ms/step - loss: 0.7799\n",
            "Epoch 23/500\n",
            "5/5 [==============================] - 0s 4ms/step - loss: 0.7803\n",
            "Epoch 24/500\n",
            "5/5 [==============================] - 0s 4ms/step - loss: 0.7804\n",
            "Epoch 25/500\n",
            "5/5 [==============================] - 0s 4ms/step - loss: 0.7805\n",
            "Epoch 26/500\n",
            "5/5 [==============================] - 0s 6ms/step - loss: 0.7799\n",
            "Epoch 27/500\n",
            "5/5 [==============================] - 0s 4ms/step - loss: 0.7799\n",
            "Epoch 28/500\n",
            "5/5 [==============================] - 0s 4ms/step - loss: 0.7793\n",
            "Epoch 29/500\n",
            "5/5 [==============================] - 0s 4ms/step - loss: 0.7790\n",
            "Epoch 30/500\n",
            "5/5 [==============================] - 0s 4ms/step - loss: 0.7792\n",
            "Epoch 31/500\n",
            "5/5 [==============================] - 0s 4ms/step - loss: 0.7787\n",
            "Epoch 32/500\n",
            "5/5 [==============================] - 0s 6ms/step - loss: 0.7780\n",
            "Epoch 33/500\n",
            "5/5 [==============================] - 0s 6ms/step - loss: 0.7780\n",
            "Epoch 34/500\n",
            "5/5 [==============================] - 0s 7ms/step - loss: 0.7779\n",
            "Epoch 35/500\n",
            "5/5 [==============================] - 0s 8ms/step - loss: 0.7778\n",
            "Epoch 36/500\n",
            "5/5 [==============================] - 0s 8ms/step - loss: 0.7776\n",
            "Epoch 37/500\n",
            "5/5 [==============================] - 0s 6ms/step - loss: 0.7780\n",
            "Epoch 38/500\n",
            "5/5 [==============================] - 0s 4ms/step - loss: 0.7778\n",
            "Epoch 39/500\n",
            "5/5 [==============================] - 0s 5ms/step - loss: 0.7779\n",
            "Epoch 40/500\n",
            "5/5 [==============================] - 0s 3ms/step - loss: 0.7776\n",
            "Epoch 41/500\n",
            "5/5 [==============================] - 0s 4ms/step - loss: 0.7773\n",
            "Epoch 42/500\n",
            "5/5 [==============================] - 0s 4ms/step - loss: 0.7771\n",
            "Epoch 43/500\n",
            "5/5 [==============================] - 0s 7ms/step - loss: 0.7771\n",
            "Epoch 44/500\n",
            "5/5 [==============================] - 0s 13ms/step - loss: 0.7770\n",
            "Epoch 45/500\n",
            "5/5 [==============================] - 0s 8ms/step - loss: 0.7768\n",
            "Epoch 46/500\n",
            "5/5 [==============================] - 0s 5ms/step - loss: 0.7768\n",
            "Epoch 47/500\n",
            "5/5 [==============================] - 0s 3ms/step - loss: 0.7766\n",
            "Epoch 48/500\n",
            "5/5 [==============================] - 0s 5ms/step - loss: 0.7763\n",
            "Epoch 49/500\n",
            "5/5 [==============================] - 0s 4ms/step - loss: 0.7762\n",
            "Epoch 50/500\n",
            "5/5 [==============================] - 0s 6ms/step - loss: 0.7761\n",
            "Epoch 51/500\n",
            "5/5 [==============================] - 0s 4ms/step - loss: 0.7761\n",
            "Epoch 52/500\n",
            "5/5 [==============================] - 0s 5ms/step - loss: 0.7755\n",
            "Epoch 53/500\n",
            "5/5 [==============================] - 0s 5ms/step - loss: 0.7756\n",
            "Epoch 54/500\n",
            "5/5 [==============================] - 0s 8ms/step - loss: 0.7755\n",
            "Epoch 55/500\n",
            "5/5 [==============================] - 0s 4ms/step - loss: 0.7752\n",
            "Epoch 56/500\n",
            "5/5 [==============================] - 0s 4ms/step - loss: 0.7752\n",
            "Epoch 57/500\n",
            "5/5 [==============================] - 0s 5ms/step - loss: 0.7748\n",
            "Epoch 58/500\n",
            "5/5 [==============================] - 0s 8ms/step - loss: 0.7747\n",
            "Epoch 59/500\n",
            "5/5 [==============================] - 0s 5ms/step - loss: 0.7746\n",
            "Epoch 60/500\n",
            "5/5 [==============================] - 0s 6ms/step - loss: 0.7744\n",
            "Epoch 61/500\n",
            "5/5 [==============================] - 0s 6ms/step - loss: 0.7743\n",
            "Epoch 62/500\n",
            "5/5 [==============================] - 0s 6ms/step - loss: 0.7741\n",
            "Epoch 63/500\n",
            "5/5 [==============================] - 0s 5ms/step - loss: 0.7741\n",
            "Epoch 64/500\n",
            "5/5 [==============================] - 0s 3ms/step - loss: 0.7741\n",
            "Epoch 65/500\n",
            "5/5 [==============================] - 0s 3ms/step - loss: 0.7744\n",
            "Epoch 66/500\n",
            "5/5 [==============================] - 0s 3ms/step - loss: 0.7742\n",
            "Epoch 67/500\n",
            "5/5 [==============================] - 0s 5ms/step - loss: 0.7740\n",
            "Epoch 68/500\n",
            "5/5 [==============================] - 0s 5ms/step - loss: 0.7746\n",
            "Epoch 69/500\n",
            "5/5 [==============================] - 0s 6ms/step - loss: 0.7752\n",
            "Epoch 70/500\n",
            "5/5 [==============================] - 0s 6ms/step - loss: 0.7751\n",
            "Epoch 71/500\n",
            "5/5 [==============================] - 0s 4ms/step - loss: 0.7747\n",
            "Epoch 72/500\n",
            "5/5 [==============================] - 0s 4ms/step - loss: 0.7740\n",
            "Epoch 73/500\n",
            "5/5 [==============================] - 0s 4ms/step - loss: 0.7738\n",
            "Epoch 74/500\n",
            "5/5 [==============================] - 0s 4ms/step - loss: 0.7735\n",
            "Epoch 75/500\n",
            "5/5 [==============================] - 0s 4ms/step - loss: 0.7729\n",
            "Epoch 76/500\n",
            "5/5 [==============================] - 0s 4ms/step - loss: 0.7723\n",
            "Epoch 77/500\n",
            "5/5 [==============================] - 0s 4ms/step - loss: 0.7723\n",
            "Epoch 78/500\n",
            "5/5 [==============================] - 0s 3ms/step - loss: 0.7728\n",
            "Epoch 79/500\n",
            "5/5 [==============================] - 0s 4ms/step - loss: 0.7735\n",
            "Epoch 80/500\n",
            "5/5 [==============================] - 0s 3ms/step - loss: 0.7737\n",
            "Epoch 81/500\n",
            "5/5 [==============================] - 0s 6ms/step - loss: 0.7742\n",
            "Epoch 82/500\n",
            "5/5 [==============================] - 0s 4ms/step - loss: 0.7737\n",
            "Epoch 83/500\n",
            "5/5 [==============================] - 0s 6ms/step - loss: 0.7728\n",
            "Epoch 84/500\n",
            "5/5 [==============================] - 0s 6ms/step - loss: 0.7717\n",
            "Epoch 85/500\n",
            "5/5 [==============================] - 0s 4ms/step - loss: 0.7710\n",
            "Epoch 86/500\n",
            "5/5 [==============================] - 0s 7ms/step - loss: 0.7706\n",
            "Epoch 87/500\n",
            "5/5 [==============================] - 0s 9ms/step - loss: 0.7702\n",
            "Epoch 88/500\n",
            "5/5 [==============================] - 0s 5ms/step - loss: 0.7701\n",
            "Epoch 89/500\n",
            "5/5 [==============================] - 0s 6ms/step - loss: 0.7699\n",
            "Epoch 90/500\n",
            "5/5 [==============================] - 0s 7ms/step - loss: 0.7698\n",
            "Epoch 91/500\n",
            "5/5 [==============================] - 0s 8ms/step - loss: 0.7693\n",
            "Epoch 92/500\n",
            "5/5 [==============================] - 0s 11ms/step - loss: 0.7685\n",
            "Epoch 93/500\n",
            "5/5 [==============================] - 0s 8ms/step - loss: 0.7667\n",
            "Epoch 94/500\n",
            "5/5 [==============================] - 0s 7ms/step - loss: 0.7661\n",
            "Epoch 95/500\n",
            "5/5 [==============================] - 0s 7ms/step - loss: 0.7650\n",
            "Epoch 96/500\n",
            "5/5 [==============================] - 0s 8ms/step - loss: 0.7645\n",
            "Epoch 97/500\n",
            "5/5 [==============================] - 0s 9ms/step - loss: 0.7640\n",
            "Epoch 98/500\n",
            "5/5 [==============================] - 0s 10ms/step - loss: 0.7632\n",
            "Epoch 99/500\n",
            "5/5 [==============================] - 0s 7ms/step - loss: 0.7622\n",
            "Epoch 100/500\n",
            "5/5 [==============================] - 0s 9ms/step - loss: 0.7614\n",
            "Epoch 101/500\n",
            "5/5 [==============================] - 0s 8ms/step - loss: 0.7614\n",
            "Epoch 102/500\n",
            "5/5 [==============================] - 0s 10ms/step - loss: 0.7606\n",
            "Epoch 103/500\n",
            "5/5 [==============================] - 0s 12ms/step - loss: 0.7598\n",
            "Epoch 104/500\n",
            "5/5 [==============================] - 0s 9ms/step - loss: 0.7588\n",
            "Epoch 105/500\n",
            "5/5 [==============================] - 0s 6ms/step - loss: 0.7580\n",
            "Epoch 106/500\n",
            "5/5 [==============================] - 0s 8ms/step - loss: 0.7575\n",
            "Epoch 107/500\n",
            "5/5 [==============================] - 0s 4ms/step - loss: 0.7571\n",
            "Epoch 108/500\n",
            "5/5 [==============================] - 0s 5ms/step - loss: 0.7561\n",
            "Epoch 109/500\n",
            "5/5 [==============================] - 0s 6ms/step - loss: 0.7550\n",
            "Epoch 110/500\n",
            "5/5 [==============================] - 0s 6ms/step - loss: 0.7539\n",
            "Epoch 111/500\n",
            "5/5 [==============================] - 0s 4ms/step - loss: 0.7525\n",
            "Epoch 112/500\n",
            "5/5 [==============================] - 0s 4ms/step - loss: 0.7515\n",
            "Epoch 113/500\n",
            "5/5 [==============================] - 0s 4ms/step - loss: 0.7500\n",
            "Epoch 114/500\n",
            "5/5 [==============================] - 0s 4ms/step - loss: 0.7486\n",
            "Epoch 115/500\n",
            "5/5 [==============================] - 0s 5ms/step - loss: 0.7469\n",
            "Epoch 116/500\n",
            "5/5 [==============================] - 0s 7ms/step - loss: 0.7461\n",
            "Epoch 117/500\n",
            "5/5 [==============================] - 0s 7ms/step - loss: 0.7445\n",
            "Epoch 118/500\n",
            "5/5 [==============================] - 0s 6ms/step - loss: 0.7435\n",
            "Epoch 119/500\n",
            "5/5 [==============================] - 0s 4ms/step - loss: 0.7421\n",
            "Epoch 120/500\n",
            "5/5 [==============================] - 0s 4ms/step - loss: 0.7406\n",
            "Epoch 121/500\n",
            "5/5 [==============================] - 0s 7ms/step - loss: 0.7390\n",
            "Epoch 122/500\n",
            "5/5 [==============================] - 0s 7ms/step - loss: 0.7386\n",
            "Epoch 123/500\n",
            "5/5 [==============================] - 0s 5ms/step - loss: 0.7360\n",
            "Epoch 124/500\n",
            "5/5 [==============================] - 0s 4ms/step - loss: 0.7347\n",
            "Epoch 125/500\n",
            "5/5 [==============================] - 0s 6ms/step - loss: 0.7337\n",
            "Epoch 126/500\n",
            "5/5 [==============================] - 0s 6ms/step - loss: 0.7332\n",
            "Epoch 127/500\n",
            "5/5 [==============================] - 0s 6ms/step - loss: 0.7324\n",
            "Epoch 128/500\n",
            "5/5 [==============================] - 0s 4ms/step - loss: 0.7317\n",
            "Epoch 129/500\n",
            "5/5 [==============================] - 0s 4ms/step - loss: 0.7302\n",
            "Epoch 130/500\n",
            "5/5 [==============================] - 0s 4ms/step - loss: 0.7286\n",
            "Epoch 131/500\n",
            "5/5 [==============================] - 0s 4ms/step - loss: 0.7267\n",
            "Epoch 132/500\n",
            "5/5 [==============================] - 0s 8ms/step - loss: 0.7248\n",
            "Epoch 133/500\n",
            "5/5 [==============================] - 0s 6ms/step - loss: 0.7231\n",
            "Epoch 134/500\n",
            "5/5 [==============================] - 0s 4ms/step - loss: 0.7215\n",
            "Epoch 135/500\n",
            "5/5 [==============================] - 0s 4ms/step - loss: 0.7192\n",
            "Epoch 136/500\n",
            "5/5 [==============================] - 0s 6ms/step - loss: 0.7169\n",
            "Epoch 137/500\n",
            "5/5 [==============================] - 0s 5ms/step - loss: 0.7150\n",
            "Epoch 138/500\n",
            "5/5 [==============================] - 0s 9ms/step - loss: 0.7130\n",
            "Epoch 139/500\n",
            "5/5 [==============================] - 0s 8ms/step - loss: 0.7113\n",
            "Epoch 140/500\n",
            "5/5 [==============================] - 0s 6ms/step - loss: 0.7089\n",
            "Epoch 141/500\n",
            "5/5 [==============================] - 0s 8ms/step - loss: 0.7062\n",
            "Epoch 142/500\n",
            "5/5 [==============================] - 0s 8ms/step - loss: 0.7039\n",
            "Epoch 143/500\n",
            "5/5 [==============================] - 0s 7ms/step - loss: 0.7012\n",
            "Epoch 144/500\n",
            "5/5 [==============================] - 0s 5ms/step - loss: 0.6987\n",
            "Epoch 145/500\n",
            "5/5 [==============================] - 0s 4ms/step - loss: 0.6961\n",
            "Epoch 146/500\n",
            "5/5 [==============================] - 0s 5ms/step - loss: 0.6935\n",
            "Epoch 147/500\n",
            "5/5 [==============================] - 0s 4ms/step - loss: 0.6904\n",
            "Epoch 148/500\n",
            "5/5 [==============================] - 0s 4ms/step - loss: 0.6874\n",
            "Epoch 149/500\n",
            "5/5 [==============================] - 0s 4ms/step - loss: 0.6846\n",
            "Epoch 150/500\n",
            "5/5 [==============================] - 0s 4ms/step - loss: 0.6819\n",
            "Epoch 151/500\n",
            "5/5 [==============================] - 0s 4ms/step - loss: 0.6797\n",
            "Epoch 152/500\n",
            "5/5 [==============================] - 0s 5ms/step - loss: 0.6769\n",
            "Epoch 153/500\n",
            "5/5 [==============================] - 0s 5ms/step - loss: 0.6744\n",
            "Epoch 154/500\n",
            "5/5 [==============================] - 0s 6ms/step - loss: 0.6718\n",
            "Epoch 155/500\n",
            "5/5 [==============================] - 0s 7ms/step - loss: 0.6688\n",
            "Epoch 156/500\n",
            "5/5 [==============================] - 0s 4ms/step - loss: 0.6661\n",
            "Epoch 157/500\n",
            "5/5 [==============================] - 0s 5ms/step - loss: 0.6626\n",
            "Epoch 158/500\n",
            "5/5 [==============================] - 0s 6ms/step - loss: 0.6592\n",
            "Epoch 159/500\n",
            "5/5 [==============================] - 0s 5ms/step - loss: 0.6561\n",
            "Epoch 160/500\n",
            "5/5 [==============================] - 0s 5ms/step - loss: 0.6528\n",
            "Epoch 161/500\n",
            "5/5 [==============================] - 0s 4ms/step - loss: 0.6495\n",
            "Epoch 162/500\n",
            "5/5 [==============================] - 0s 5ms/step - loss: 0.6466\n",
            "Epoch 163/500\n",
            "5/5 [==============================] - 0s 4ms/step - loss: 0.6433\n",
            "Epoch 164/500\n",
            "5/5 [==============================] - 0s 5ms/step - loss: 0.6406\n",
            "Epoch 165/500\n",
            "5/5 [==============================] - 0s 4ms/step - loss: 0.6372\n",
            "Epoch 166/500\n",
            "5/5 [==============================] - 0s 9ms/step - loss: 0.6345\n",
            "Epoch 167/500\n",
            "5/5 [==============================] - 0s 5ms/step - loss: 0.6309\n",
            "Epoch 168/500\n",
            "5/5 [==============================] - 0s 5ms/step - loss: 0.6272\n",
            "Epoch 169/500\n",
            "5/5 [==============================] - 0s 5ms/step - loss: 0.6236\n",
            "Epoch 170/500\n",
            "5/5 [==============================] - 0s 4ms/step - loss: 0.6191\n",
            "Epoch 171/500\n",
            "5/5 [==============================] - 0s 4ms/step - loss: 0.6155\n",
            "Epoch 172/500\n",
            "5/5 [==============================] - 0s 4ms/step - loss: 0.6117\n",
            "Epoch 173/500\n",
            "5/5 [==============================] - 0s 4ms/step - loss: 0.6080\n",
            "Epoch 174/500\n",
            "5/5 [==============================] - 0s 4ms/step - loss: 0.6042\n",
            "Epoch 175/500\n",
            "5/5 [==============================] - 0s 5ms/step - loss: 0.6003\n",
            "Epoch 176/500\n",
            "5/5 [==============================] - 0s 4ms/step - loss: 0.5962\n",
            "Epoch 177/500\n",
            "5/5 [==============================] - 0s 6ms/step - loss: 0.5924\n",
            "Epoch 178/500\n",
            "5/5 [==============================] - 0s 4ms/step - loss: 0.5883\n",
            "Epoch 179/500\n",
            "5/5 [==============================] - 0s 4ms/step - loss: 0.5842\n",
            "Epoch 180/500\n",
            "5/5 [==============================] - 0s 5ms/step - loss: 0.5802\n",
            "Epoch 181/500\n",
            "5/5 [==============================] - 0s 4ms/step - loss: 0.5765\n",
            "Epoch 182/500\n",
            "5/5 [==============================] - 0s 7ms/step - loss: 0.5723\n",
            "Epoch 183/500\n",
            "5/5 [==============================] - 0s 7ms/step - loss: 0.5684\n",
            "Epoch 184/500\n",
            "5/5 [==============================] - 0s 10ms/step - loss: 0.5646\n",
            "Epoch 185/500\n",
            "5/5 [==============================] - 0s 8ms/step - loss: 0.5608\n",
            "Epoch 186/500\n",
            "5/5 [==============================] - 0s 6ms/step - loss: 0.5571\n",
            "Epoch 187/500\n",
            "5/5 [==============================] - 0s 7ms/step - loss: 0.5535\n",
            "Epoch 188/500\n",
            "5/5 [==============================] - 0s 7ms/step - loss: 0.5501\n",
            "Epoch 189/500\n",
            "5/5 [==============================] - 0s 5ms/step - loss: 0.5468\n",
            "Epoch 190/500\n",
            "5/5 [==============================] - 0s 4ms/step - loss: 0.5433\n",
            "Epoch 191/500\n",
            "5/5 [==============================] - 0s 6ms/step - loss: 0.5398\n",
            "Epoch 192/500\n",
            "5/5 [==============================] - 0s 5ms/step - loss: 0.5364\n",
            "Epoch 193/500\n",
            "5/5 [==============================] - 0s 9ms/step - loss: 0.5325\n",
            "Epoch 194/500\n",
            "5/5 [==============================] - 0s 6ms/step - loss: 0.5288\n",
            "Epoch 195/500\n",
            "5/5 [==============================] - 0s 5ms/step - loss: 0.5245\n",
            "Epoch 196/500\n",
            "5/5 [==============================] - 0s 6ms/step - loss: 0.5210\n",
            "Epoch 197/500\n",
            "5/5 [==============================] - 0s 9ms/step - loss: 0.5168\n",
            "Epoch 198/500\n",
            "5/5 [==============================] - 0s 9ms/step - loss: 0.5122\n",
            "Epoch 199/500\n",
            "5/5 [==============================] - 0s 7ms/step - loss: 0.5076\n",
            "Epoch 200/500\n",
            "5/5 [==============================] - 0s 7ms/step - loss: 0.5031\n",
            "Epoch 201/500\n",
            "5/5 [==============================] - 0s 4ms/step - loss: 0.4987\n",
            "Epoch 202/500\n",
            "5/5 [==============================] - 0s 6ms/step - loss: 0.4942\n",
            "Epoch 203/500\n",
            "5/5 [==============================] - 0s 7ms/step - loss: 0.4893\n",
            "Epoch 204/500\n",
            "5/5 [==============================] - 0s 10ms/step - loss: 0.4849\n",
            "Epoch 205/500\n",
            "5/5 [==============================] - 0s 7ms/step - loss: 0.4807\n",
            "Epoch 206/500\n",
            "5/5 [==============================] - 0s 4ms/step - loss: 0.4770\n",
            "Epoch 207/500\n",
            "5/5 [==============================] - 0s 4ms/step - loss: 0.4733\n",
            "Epoch 208/500\n",
            "5/5 [==============================] - 0s 4ms/step - loss: 0.4694\n",
            "Epoch 209/500\n",
            "5/5 [==============================] - 0s 4ms/step - loss: 0.4654\n",
            "Epoch 210/500\n",
            "5/5 [==============================] - 0s 6ms/step - loss: 0.4617\n",
            "Epoch 211/500\n",
            "5/5 [==============================] - 0s 4ms/step - loss: 0.4577\n",
            "Epoch 212/500\n",
            "5/5 [==============================] - 0s 5ms/step - loss: 0.4536\n",
            "Epoch 213/500\n",
            "5/5 [==============================] - 0s 6ms/step - loss: 0.4499\n",
            "Epoch 214/500\n",
            "5/5 [==============================] - 0s 4ms/step - loss: 0.4456\n",
            "Epoch 215/500\n",
            "5/5 [==============================] - 0s 4ms/step - loss: 0.4405\n",
            "Epoch 216/500\n",
            "5/5 [==============================] - 0s 4ms/step - loss: 0.4358\n",
            "Epoch 217/500\n",
            "5/5 [==============================] - 0s 4ms/step - loss: 0.4316\n",
            "Epoch 218/500\n",
            "5/5 [==============================] - 0s 10ms/step - loss: 0.4277\n",
            "Epoch 219/500\n",
            "5/5 [==============================] - 0s 10ms/step - loss: 0.4242\n",
            "Epoch 220/500\n",
            "5/5 [==============================] - 0s 7ms/step - loss: 0.4202\n",
            "Epoch 221/500\n",
            "5/5 [==============================] - 0s 7ms/step - loss: 0.4163\n",
            "Epoch 222/500\n",
            "5/5 [==============================] - 0s 6ms/step - loss: 0.4125\n",
            "Epoch 223/500\n",
            "5/5 [==============================] - 0s 9ms/step - loss: 0.4090\n",
            "Epoch 224/500\n",
            "5/5 [==============================] - 0s 4ms/step - loss: 0.4056\n",
            "Epoch 225/500\n",
            "5/5 [==============================] - 0s 5ms/step - loss: 0.4013\n",
            "Epoch 226/500\n",
            "5/5 [==============================] - 0s 4ms/step - loss: 0.3974\n",
            "Epoch 227/500\n",
            "5/5 [==============================] - 0s 4ms/step - loss: 0.3934\n",
            "Epoch 228/500\n",
            "5/5 [==============================] - 0s 4ms/step - loss: 0.3892\n",
            "Epoch 229/500\n",
            "5/5 [==============================] - 0s 4ms/step - loss: 0.3855\n",
            "Epoch 230/500\n",
            "5/5 [==============================] - 0s 8ms/step - loss: 0.3815\n",
            "Epoch 231/500\n",
            "5/5 [==============================] - 0s 7ms/step - loss: 0.3774\n",
            "Epoch 232/500\n",
            "5/5 [==============================] - 0s 6ms/step - loss: 0.3731\n",
            "Epoch 233/500\n",
            "5/5 [==============================] - 0s 4ms/step - loss: 0.3694\n",
            "Epoch 234/500\n",
            "5/5 [==============================] - 0s 4ms/step - loss: 0.3657\n",
            "Epoch 235/500\n",
            "5/5 [==============================] - 0s 7ms/step - loss: 0.3615\n",
            "Epoch 236/500\n",
            "5/5 [==============================] - 0s 4ms/step - loss: 0.3575\n",
            "Epoch 237/500\n",
            "5/5 [==============================] - 0s 7ms/step - loss: 0.3542\n",
            "Epoch 238/500\n",
            "5/5 [==============================] - 0s 4ms/step - loss: 0.3506\n",
            "Epoch 239/500\n",
            "5/5 [==============================] - 0s 6ms/step - loss: 0.3471\n",
            "Epoch 240/500\n",
            "5/5 [==============================] - 0s 15ms/step - loss: 0.3439\n",
            "Epoch 241/500\n",
            "5/5 [==============================] - 0s 9ms/step - loss: 0.3410\n",
            "Epoch 242/500\n",
            "5/5 [==============================] - 0s 10ms/step - loss: 0.3375\n",
            "Epoch 243/500\n",
            "5/5 [==============================] - 0s 6ms/step - loss: 0.3344\n",
            "Epoch 244/500\n",
            "5/5 [==============================] - 0s 8ms/step - loss: 0.3313\n",
            "Epoch 245/500\n",
            "5/5 [==============================] - 0s 6ms/step - loss: 0.3282\n",
            "Epoch 246/500\n",
            "5/5 [==============================] - 0s 6ms/step - loss: 0.3248\n",
            "Epoch 247/500\n",
            "5/5 [==============================] - 0s 5ms/step - loss: 0.3211\n",
            "Epoch 248/500\n",
            "5/5 [==============================] - 0s 7ms/step - loss: 0.3175\n",
            "Epoch 249/500\n",
            "5/5 [==============================] - 0s 7ms/step - loss: 0.3145\n",
            "Epoch 250/500\n",
            "5/5 [==============================] - 0s 7ms/step - loss: 0.3115\n",
            "Epoch 251/500\n",
            "5/5 [==============================] - 0s 6ms/step - loss: 0.3086\n",
            "Epoch 252/500\n",
            "5/5 [==============================] - 0s 10ms/step - loss: 0.3061\n",
            "Epoch 253/500\n",
            "5/5 [==============================] - 0s 6ms/step - loss: 0.3028\n",
            "Epoch 254/500\n",
            "5/5 [==============================] - 0s 8ms/step - loss: 0.2997\n",
            "Epoch 255/500\n",
            "5/5 [==============================] - 0s 5ms/step - loss: 0.2969\n",
            "Epoch 256/500\n",
            "5/5 [==============================] - 0s 6ms/step - loss: 0.2942\n",
            "Epoch 257/500\n",
            "5/5 [==============================] - 0s 7ms/step - loss: 0.2912\n",
            "Epoch 258/500\n",
            "5/5 [==============================] - 0s 7ms/step - loss: 0.2882\n",
            "Epoch 259/500\n",
            "5/5 [==============================] - 0s 9ms/step - loss: 0.2854\n",
            "Epoch 260/500\n",
            "5/5 [==============================] - 0s 10ms/step - loss: 0.2826\n",
            "Epoch 261/500\n",
            "5/5 [==============================] - 0s 10ms/step - loss: 0.2799\n",
            "Epoch 262/500\n",
            "5/5 [==============================] - 0s 11ms/step - loss: 0.2773\n",
            "Epoch 263/500\n",
            "5/5 [==============================] - 0s 8ms/step - loss: 0.2746\n",
            "Epoch 264/500\n",
            "5/5 [==============================] - 0s 7ms/step - loss: 0.2716\n",
            "Epoch 265/500\n",
            "5/5 [==============================] - 0s 8ms/step - loss: 0.2677\n",
            "Epoch 266/500\n",
            "5/5 [==============================] - 0s 4ms/step - loss: 0.2647\n",
            "Epoch 267/500\n",
            "5/5 [==============================] - 0s 7ms/step - loss: 0.2618\n",
            "Epoch 268/500\n",
            "5/5 [==============================] - 0s 8ms/step - loss: 0.2589\n",
            "Epoch 269/500\n",
            "5/5 [==============================] - 0s 6ms/step - loss: 0.2560\n",
            "Epoch 270/500\n",
            "5/5 [==============================] - 0s 6ms/step - loss: 0.2534\n",
            "Epoch 271/500\n",
            "5/5 [==============================] - 0s 4ms/step - loss: 0.2512\n",
            "Epoch 272/500\n",
            "5/5 [==============================] - 0s 5ms/step - loss: 0.2489\n",
            "Epoch 273/500\n",
            "5/5 [==============================] - 0s 4ms/step - loss: 0.2469\n",
            "Epoch 274/500\n",
            "5/5 [==============================] - 0s 4ms/step - loss: 0.2450\n",
            "Epoch 275/500\n",
            "5/5 [==============================] - 0s 4ms/step - loss: 0.2430\n",
            "Epoch 276/500\n",
            "5/5 [==============================] - 0s 5ms/step - loss: 0.2410\n",
            "Epoch 277/500\n",
            "5/5 [==============================] - 0s 5ms/step - loss: 0.2388\n",
            "Epoch 278/500\n",
            "5/5 [==============================] - 0s 8ms/step - loss: 0.2367\n",
            "Epoch 279/500\n",
            "5/5 [==============================] - 0s 7ms/step - loss: 0.2349\n",
            "Epoch 280/500\n",
            "5/5 [==============================] - 0s 10ms/step - loss: 0.2329\n",
            "Epoch 281/500\n",
            "5/5 [==============================] - 0s 11ms/step - loss: 0.2311\n",
            "Epoch 282/500\n",
            "5/5 [==============================] - 0s 9ms/step - loss: 0.2292\n",
            "Epoch 283/500\n",
            "5/5 [==============================] - 0s 9ms/step - loss: 0.2269\n",
            "Epoch 284/500\n",
            "5/5 [==============================] - 0s 7ms/step - loss: 0.2243\n",
            "Epoch 285/500\n",
            "5/5 [==============================] - 0s 6ms/step - loss: 0.2220\n",
            "Epoch 286/500\n",
            "5/5 [==============================] - 0s 8ms/step - loss: 0.2201\n",
            "Epoch 287/500\n",
            "5/5 [==============================] - 0s 6ms/step - loss: 0.2184\n",
            "Epoch 288/500\n",
            "5/5 [==============================] - 0s 5ms/step - loss: 0.2166\n",
            "Epoch 289/500\n",
            "5/5 [==============================] - 0s 5ms/step - loss: 0.2146\n",
            "Epoch 290/500\n",
            "5/5 [==============================] - 0s 6ms/step - loss: 0.2129\n",
            "Epoch 291/500\n",
            "5/5 [==============================] - 0s 6ms/step - loss: 0.2113\n",
            "Epoch 292/500\n",
            "5/5 [==============================] - 0s 6ms/step - loss: 0.2096\n",
            "Epoch 293/500\n",
            "5/5 [==============================] - 0s 5ms/step - loss: 0.2077\n",
            "Epoch 294/500\n",
            "5/5 [==============================] - 0s 6ms/step - loss: 0.2046\n",
            "Epoch 295/500\n",
            "5/5 [==============================] - 0s 8ms/step - loss: 0.2028\n",
            "Epoch 296/500\n",
            "5/5 [==============================] - 0s 9ms/step - loss: 0.2011\n",
            "Epoch 297/500\n",
            "5/5 [==============================] - 0s 7ms/step - loss: 0.1994\n",
            "Epoch 298/500\n",
            "5/5 [==============================] - 0s 8ms/step - loss: 0.1969\n",
            "Epoch 299/500\n",
            "5/5 [==============================] - 0s 6ms/step - loss: 0.1951\n",
            "Epoch 300/500\n",
            "5/5 [==============================] - 0s 6ms/step - loss: 0.1937\n",
            "Epoch 301/500\n",
            "5/5 [==============================] - 0s 4ms/step - loss: 0.1924\n",
            "Epoch 302/500\n",
            "5/5 [==============================] - 0s 4ms/step - loss: 0.1908\n",
            "Epoch 303/500\n",
            "5/5 [==============================] - 0s 5ms/step - loss: 0.1895\n",
            "Epoch 304/500\n",
            "5/5 [==============================] - 0s 4ms/step - loss: 0.1879\n",
            "Epoch 305/500\n",
            "5/5 [==============================] - 0s 4ms/step - loss: 0.1864\n",
            "Epoch 306/500\n",
            "5/5 [==============================] - 0s 6ms/step - loss: 0.1851\n",
            "Epoch 307/500\n",
            "5/5 [==============================] - 0s 9ms/step - loss: 0.1838\n",
            "Epoch 308/500\n",
            "5/5 [==============================] - 0s 6ms/step - loss: 0.1826\n",
            "Epoch 309/500\n",
            "5/5 [==============================] - 0s 4ms/step - loss: 0.1816\n",
            "Epoch 310/500\n",
            "5/5 [==============================] - 0s 4ms/step - loss: 0.1807\n",
            "Epoch 311/500\n",
            "5/5 [==============================] - 0s 3ms/step - loss: 0.1795\n",
            "Epoch 312/500\n",
            "5/5 [==============================] - 0s 9ms/step - loss: 0.1788\n",
            "Epoch 313/500\n",
            "5/5 [==============================] - 0s 4ms/step - loss: 0.1779\n",
            "Epoch 314/500\n",
            "5/5 [==============================] - 0s 6ms/step - loss: 0.1772\n",
            "Epoch 315/500\n",
            "5/5 [==============================] - 0s 6ms/step - loss: 0.1764\n",
            "Epoch 316/500\n",
            "5/5 [==============================] - 0s 4ms/step - loss: 0.1757\n",
            "Epoch 317/500\n",
            "5/5 [==============================] - 0s 9ms/step - loss: 0.1749\n",
            "Epoch 318/500\n",
            "5/5 [==============================] - 0s 6ms/step - loss: 0.1743\n",
            "Epoch 319/500\n",
            "5/5 [==============================] - 0s 3ms/step - loss: 0.1734\n",
            "Epoch 320/500\n",
            "5/5 [==============================] - 0s 3ms/step - loss: 0.1729\n",
            "Epoch 321/500\n",
            "5/5 [==============================] - 0s 4ms/step - loss: 0.1721\n",
            "Epoch 322/500\n",
            "5/5 [==============================] - 0s 4ms/step - loss: 0.1715\n",
            "Epoch 323/500\n",
            "5/5 [==============================] - 0s 3ms/step - loss: 0.1706\n",
            "Epoch 324/500\n",
            "5/5 [==============================] - 0s 3ms/step - loss: 0.1695\n",
            "Epoch 325/500\n",
            "5/5 [==============================] - 0s 4ms/step - loss: 0.1686\n",
            "Epoch 326/500\n",
            "5/5 [==============================] - 0s 5ms/step - loss: 0.1677\n",
            "Epoch 327/500\n",
            "5/5 [==============================] - 0s 5ms/step - loss: 0.1671\n",
            "Epoch 328/500\n",
            "5/5 [==============================] - 0s 6ms/step - loss: 0.1665\n",
            "Epoch 329/500\n",
            "5/5 [==============================] - 0s 6ms/step - loss: 0.1659\n",
            "Epoch 330/500\n",
            "5/5 [==============================] - 0s 7ms/step - loss: 0.1654\n",
            "Epoch 331/500\n",
            "5/5 [==============================] - 0s 4ms/step - loss: 0.1647\n",
            "Epoch 332/500\n",
            "5/5 [==============================] - 0s 6ms/step - loss: 0.1641\n",
            "Epoch 333/500\n",
            "5/5 [==============================] - 0s 9ms/step - loss: 0.1635\n",
            "Epoch 334/500\n",
            "5/5 [==============================] - 0s 7ms/step - loss: 0.1629\n",
            "Epoch 335/500\n",
            "5/5 [==============================] - 0s 9ms/step - loss: 0.1623\n",
            "Epoch 336/500\n",
            "5/5 [==============================] - 0s 5ms/step - loss: 0.1620\n",
            "Epoch 337/500\n",
            "5/5 [==============================] - 0s 4ms/step - loss: 0.1612\n",
            "Epoch 338/500\n",
            "5/5 [==============================] - 0s 5ms/step - loss: 0.1603\n",
            "Epoch 339/500\n",
            "5/5 [==============================] - 0s 5ms/step - loss: 0.1592\n",
            "Epoch 340/500\n",
            "5/5 [==============================] - 0s 4ms/step - loss: 0.1582\n",
            "Epoch 341/500\n",
            "5/5 [==============================] - 0s 4ms/step - loss: 0.1572\n",
            "Epoch 342/500\n",
            "5/5 [==============================] - 0s 4ms/step - loss: 0.1562\n",
            "Epoch 343/500\n",
            "5/5 [==============================] - 0s 4ms/step - loss: 0.1553\n",
            "Epoch 344/500\n",
            "5/5 [==============================] - 0s 4ms/step - loss: 0.1544\n",
            "Epoch 345/500\n",
            "5/5 [==============================] - 0s 4ms/step - loss: 0.1533\n",
            "Epoch 346/500\n",
            "5/5 [==============================] - 0s 6ms/step - loss: 0.1528\n",
            "Epoch 347/500\n",
            "5/5 [==============================] - 0s 4ms/step - loss: 0.1525\n",
            "Epoch 348/500\n",
            "5/5 [==============================] - 0s 4ms/step - loss: 0.1521\n",
            "Epoch 349/500\n",
            "5/5 [==============================] - 0s 4ms/step - loss: 0.1517\n",
            "Epoch 350/500\n",
            "5/5 [==============================] - 0s 4ms/step - loss: 0.1514\n",
            "Epoch 351/500\n",
            "5/5 [==============================] - 0s 4ms/step - loss: 0.1511\n",
            "Epoch 352/500\n",
            "5/5 [==============================] - 0s 5ms/step - loss: 0.1509\n",
            "Epoch 353/500\n",
            "5/5 [==============================] - 0s 3ms/step - loss: 0.1507\n",
            "Epoch 354/500\n",
            "5/5 [==============================] - 0s 3ms/step - loss: 0.1504\n",
            "Epoch 355/500\n",
            "5/5 [==============================] - 0s 7ms/step - loss: 0.1502\n",
            "Epoch 356/500\n",
            "5/5 [==============================] - 0s 5ms/step - loss: 0.1501\n",
            "Epoch 357/500\n",
            "5/5 [==============================] - 0s 4ms/step - loss: 0.1499\n",
            "Epoch 358/500\n",
            "5/5 [==============================] - 0s 4ms/step - loss: 0.1494\n",
            "Epoch 359/500\n",
            "5/5 [==============================] - 0s 6ms/step - loss: 0.1489\n",
            "Epoch 360/500\n",
            "5/5 [==============================] - 0s 4ms/step - loss: 0.1483\n",
            "Epoch 361/500\n",
            "5/5 [==============================] - 0s 6ms/step - loss: 0.1481\n",
            "Epoch 362/500\n",
            "5/5 [==============================] - 0s 4ms/step - loss: 0.1479\n",
            "Epoch 363/500\n",
            "5/5 [==============================] - 0s 3ms/step - loss: 0.1476\n",
            "Epoch 364/500\n",
            "5/5 [==============================] - 0s 3ms/step - loss: 0.1473\n",
            "Epoch 365/500\n",
            "5/5 [==============================] - 0s 5ms/step - loss: 0.1468\n",
            "Epoch 366/500\n",
            "5/5 [==============================] - 0s 3ms/step - loss: 0.1463\n",
            "Epoch 367/500\n",
            "5/5 [==============================] - 0s 3ms/step - loss: 0.1459\n",
            "Epoch 368/500\n",
            "5/5 [==============================] - 0s 4ms/step - loss: 0.1456\n",
            "Epoch 369/500\n",
            "5/5 [==============================] - 0s 5ms/step - loss: 0.1454\n",
            "Epoch 370/500\n",
            "5/5 [==============================] - 0s 3ms/step - loss: 0.1452\n",
            "Epoch 371/500\n",
            "5/5 [==============================] - 0s 4ms/step - loss: 0.1450\n",
            "Epoch 372/500\n",
            "5/5 [==============================] - 0s 3ms/step - loss: 0.1448\n",
            "Epoch 373/500\n",
            "5/5 [==============================] - 0s 3ms/step - loss: 0.1444\n",
            "Epoch 374/500\n",
            "5/5 [==============================] - 0s 3ms/step - loss: 0.1440\n",
            "Epoch 375/500\n",
            "5/5 [==============================] - 0s 3ms/step - loss: 0.1437\n",
            "Epoch 376/500\n",
            "5/5 [==============================] - 0s 6ms/step - loss: 0.1433\n",
            "Epoch 377/500\n",
            "5/5 [==============================] - 0s 3ms/step - loss: 0.1430\n",
            "Epoch 378/500\n",
            "5/5 [==============================] - 0s 4ms/step - loss: 0.1429\n",
            "Epoch 379/500\n",
            "5/5 [==============================] - 0s 5ms/step - loss: 0.1427\n",
            "Epoch 380/500\n",
            "5/5 [==============================] - 0s 6ms/step - loss: 0.1425\n",
            "Epoch 381/500\n",
            "5/5 [==============================] - 0s 3ms/step - loss: 0.1424\n",
            "Epoch 382/500\n",
            "5/5 [==============================] - 0s 3ms/step - loss: 0.1424\n",
            "Epoch 383/500\n",
            "5/5 [==============================] - 0s 7ms/step - loss: 0.1424\n",
            "Epoch 384/500\n",
            "5/5 [==============================] - 0s 7ms/step - loss: 0.1424\n",
            "Epoch 385/500\n",
            "5/5 [==============================] - 0s 5ms/step - loss: 0.1425\n",
            "Epoch 386/500\n",
            "5/5 [==============================] - 0s 6ms/step - loss: 0.1427\n",
            "Epoch 387/500\n",
            "5/5 [==============================] - 0s 9ms/step - loss: 0.1427\n",
            "Epoch 388/500\n",
            "5/5 [==============================] - 0s 7ms/step - loss: 0.1425\n",
            "Epoch 389/500\n",
            "5/5 [==============================] - 0s 6ms/step - loss: 0.1421\n",
            "Epoch 390/500\n",
            "5/5 [==============================] - 0s 5ms/step - loss: 0.1420\n",
            "Epoch 391/500\n",
            "5/5 [==============================] - 0s 4ms/step - loss: 0.1418\n",
            "Epoch 392/500\n",
            "5/5 [==============================] - 0s 3ms/step - loss: 0.1418\n",
            "Epoch 393/500\n",
            "5/5 [==============================] - 0s 3ms/step - loss: 0.1418\n",
            "Epoch 394/500\n",
            "5/5 [==============================] - 0s 4ms/step - loss: 0.1415\n",
            "Epoch 395/500\n",
            "5/5 [==============================] - 0s 4ms/step - loss: 0.1412\n",
            "Epoch 396/500\n",
            "5/5 [==============================] - 0s 3ms/step - loss: 0.1410\n",
            "Epoch 397/500\n",
            "5/5 [==============================] - 0s 3ms/step - loss: 0.1410\n",
            "Epoch 398/500\n",
            "5/5 [==============================] - 0s 3ms/step - loss: 0.1408\n",
            "Epoch 399/500\n",
            "5/5 [==============================] - 0s 3ms/step - loss: 0.1408\n",
            "Epoch 400/500\n",
            "5/5 [==============================] - 0s 3ms/step - loss: 0.1411\n",
            "Epoch 401/500\n",
            "5/5 [==============================] - 0s 3ms/step - loss: 0.1409\n",
            "Epoch 402/500\n",
            "5/5 [==============================] - 0s 3ms/step - loss: 0.1405\n",
            "Epoch 403/500\n",
            "5/5 [==============================] - 0s 3ms/step - loss: 0.1402\n",
            "Epoch 404/500\n",
            "5/5 [==============================] - 0s 4ms/step - loss: 0.1400\n",
            "Epoch 405/500\n",
            "5/5 [==============================] - 0s 3ms/step - loss: 0.1399\n",
            "Epoch 406/500\n",
            "5/5 [==============================] - 0s 5ms/step - loss: 0.1397\n",
            "Epoch 407/500\n",
            "5/5 [==============================] - 0s 4ms/step - loss: 0.1396\n",
            "Epoch 408/500\n",
            "5/5 [==============================] - 0s 4ms/step - loss: 0.1398\n",
            "Epoch 409/500\n",
            "5/5 [==============================] - 0s 4ms/step - loss: 0.1397\n",
            "Epoch 410/500\n",
            "5/5 [==============================] - 0s 3ms/step - loss: 0.1395\n",
            "Epoch 411/500\n",
            "5/5 [==============================] - 0s 3ms/step - loss: 0.1395\n",
            "Epoch 412/500\n",
            "5/5 [==============================] - 0s 3ms/step - loss: 0.1392\n",
            "Epoch 413/500\n",
            "5/5 [==============================] - 0s 3ms/step - loss: 0.1395\n",
            "Epoch 414/500\n",
            "5/5 [==============================] - 0s 4ms/step - loss: 0.1394\n",
            "Epoch 415/500\n",
            "5/5 [==============================] - 0s 3ms/step - loss: 0.1393\n",
            "Epoch 416/500\n",
            "5/5 [==============================] - 0s 3ms/step - loss: 0.1392\n",
            "Epoch 417/500\n",
            "5/5 [==============================] - 0s 3ms/step - loss: 0.1391\n",
            "Epoch 418/500\n",
            "5/5 [==============================] - 0s 3ms/step - loss: 0.1389\n",
            "Epoch 419/500\n",
            "5/5 [==============================] - 0s 3ms/step - loss: 0.1387\n",
            "Epoch 420/500\n",
            "5/5 [==============================] - 0s 3ms/step - loss: 0.1386\n",
            "Epoch 421/500\n",
            "5/5 [==============================] - 0s 3ms/step - loss: 0.1385\n",
            "Epoch 422/500\n",
            "5/5 [==============================] - 0s 3ms/step - loss: 0.1385\n",
            "Epoch 423/500\n",
            "5/5 [==============================] - 0s 3ms/step - loss: 0.1385\n",
            "Epoch 424/500\n",
            "5/5 [==============================] - 0s 3ms/step - loss: 0.1384\n",
            "Epoch 425/500\n",
            "5/5 [==============================] - 0s 3ms/step - loss: 0.1383\n",
            "Epoch 426/500\n",
            "5/5 [==============================] - 0s 3ms/step - loss: 0.1383\n",
            "Epoch 427/500\n",
            "5/5 [==============================] - 0s 3ms/step - loss: 0.1383\n",
            "Epoch 428/500\n",
            "5/5 [==============================] - 0s 3ms/step - loss: 0.1383\n",
            "Epoch 429/500\n",
            "5/5 [==============================] - 0s 3ms/step - loss: 0.1383\n",
            "Epoch 430/500\n",
            "5/5 [==============================] - 0s 3ms/step - loss: 0.1383\n",
            "Epoch 431/500\n",
            "5/5 [==============================] - 0s 3ms/step - loss: 0.1382\n",
            "Epoch 432/500\n",
            "5/5 [==============================] - 0s 3ms/step - loss: 0.1382\n",
            "Epoch 433/500\n",
            "5/5 [==============================] - 0s 3ms/step - loss: 0.1383\n",
            "Epoch 434/500\n",
            "5/5 [==============================] - 0s 3ms/step - loss: 0.1382\n",
            "Epoch 435/500\n",
            "5/5 [==============================] - 0s 3ms/step - loss: 0.1382\n",
            "Epoch 436/500\n",
            "5/5 [==============================] - 0s 3ms/step - loss: 0.1382\n",
            "Epoch 437/500\n",
            "5/5 [==============================] - 0s 3ms/step - loss: 0.1382\n",
            "Epoch 438/500\n",
            "5/5 [==============================] - 0s 3ms/step - loss: 0.1385\n",
            "Epoch 439/500\n",
            "5/5 [==============================] - 0s 3ms/step - loss: 0.1384\n",
            "Epoch 440/500\n",
            "5/5 [==============================] - 0s 3ms/step - loss: 0.1382\n",
            "Epoch 441/500\n",
            "5/5 [==============================] - 0s 3ms/step - loss: 0.1382\n",
            "Epoch 442/500\n",
            "5/5 [==============================] - 0s 3ms/step - loss: 0.1381\n",
            "Epoch 443/500\n",
            "5/5 [==============================] - 0s 4ms/step - loss: 0.1382\n",
            "Epoch 444/500\n",
            "5/5 [==============================] - 0s 3ms/step - loss: 0.1385\n",
            "Epoch 445/500\n",
            "5/5 [==============================] - 0s 3ms/step - loss: 0.1385\n",
            "Epoch 446/500\n",
            "5/5 [==============================] - 0s 3ms/step - loss: 0.1384\n",
            "Epoch 447/500\n",
            "5/5 [==============================] - 0s 3ms/step - loss: 0.1382\n",
            "Epoch 448/500\n",
            "5/5 [==============================] - 0s 3ms/step - loss: 0.1380\n",
            "Epoch 449/500\n",
            "5/5 [==============================] - 0s 3ms/step - loss: 0.1378\n",
            "Epoch 450/500\n",
            "5/5 [==============================] - 0s 3ms/step - loss: 0.1378\n",
            "Epoch 451/500\n",
            "5/5 [==============================] - 0s 3ms/step - loss: 0.1379\n",
            "Epoch 452/500\n",
            "5/5 [==============================] - 0s 3ms/step - loss: 0.1379\n",
            "Epoch 453/500\n",
            "5/5 [==============================] - 0s 2ms/step - loss: 0.1377\n",
            "Epoch 454/500\n",
            "5/5 [==============================] - 0s 3ms/step - loss: 0.1377\n",
            "Epoch 455/500\n",
            "5/5 [==============================] - 0s 3ms/step - loss: 0.1375\n",
            "Epoch 456/500\n",
            "5/5 [==============================] - 0s 4ms/step - loss: 0.1375\n",
            "Epoch 457/500\n",
            "5/5 [==============================] - 0s 3ms/step - loss: 0.1374\n",
            "Epoch 458/500\n",
            "5/5 [==============================] - 0s 3ms/step - loss: 0.1373\n",
            "Epoch 459/500\n",
            "5/5 [==============================] - 0s 3ms/step - loss: 0.1373\n",
            "Epoch 460/500\n",
            "5/5 [==============================] - 0s 3ms/step - loss: 0.1372\n",
            "Epoch 461/500\n",
            "5/5 [==============================] - 0s 3ms/step - loss: 0.1374\n",
            "Epoch 462/500\n",
            "5/5 [==============================] - 0s 3ms/step - loss: 0.1374\n",
            "Epoch 463/500\n",
            "5/5 [==============================] - 0s 4ms/step - loss: 0.1377\n",
            "Epoch 464/500\n",
            "5/5 [==============================] - 0s 3ms/step - loss: 0.1382\n",
            "Epoch 465/500\n",
            "5/5 [==============================] - 0s 4ms/step - loss: 0.1382\n",
            "Epoch 466/500\n",
            "5/5 [==============================] - 0s 3ms/step - loss: 0.1379\n",
            "Epoch 467/500\n",
            "5/5 [==============================] - 0s 3ms/step - loss: 0.1375\n",
            "Epoch 468/500\n",
            "5/5 [==============================] - 0s 3ms/step - loss: 0.1371\n",
            "Epoch 469/500\n",
            "5/5 [==============================] - 0s 3ms/step - loss: 0.1370\n",
            "Epoch 470/500\n",
            "5/5 [==============================] - 0s 3ms/step - loss: 0.1369\n",
            "Epoch 471/500\n",
            "5/5 [==============================] - 0s 2ms/step - loss: 0.1368\n",
            "Epoch 472/500\n",
            "5/5 [==============================] - 0s 3ms/step - loss: 0.1370\n",
            "Epoch 473/500\n",
            "5/5 [==============================] - 0s 3ms/step - loss: 0.1369\n",
            "Epoch 474/500\n",
            "5/5 [==============================] - 0s 3ms/step - loss: 0.1368\n",
            "Epoch 475/500\n",
            "5/5 [==============================] - 0s 3ms/step - loss: 0.1366\n",
            "Epoch 476/500\n",
            "5/5 [==============================] - 0s 4ms/step - loss: 0.1366\n",
            "Epoch 477/500\n",
            "5/5 [==============================] - 0s 3ms/step - loss: 0.1366\n",
            "Epoch 478/500\n",
            "5/5 [==============================] - 0s 3ms/step - loss: 0.1366\n",
            "Epoch 479/500\n",
            "5/5 [==============================] - 0s 2ms/step - loss: 0.1366\n",
            "Epoch 480/500\n",
            "5/5 [==============================] - 0s 2ms/step - loss: 0.1364\n",
            "Epoch 481/500\n",
            "5/5 [==============================] - 0s 3ms/step - loss: 0.1364\n",
            "Epoch 482/500\n",
            "5/5 [==============================] - 0s 2ms/step - loss: 0.1364\n",
            "Epoch 483/500\n",
            "5/5 [==============================] - 0s 2ms/step - loss: 0.1364\n",
            "Epoch 484/500\n",
            "5/5 [==============================] - 0s 2ms/step - loss: 0.1363\n",
            "Epoch 485/500\n",
            "5/5 [==============================] - 0s 2ms/step - loss: 0.1363\n",
            "Epoch 486/500\n",
            "5/5 [==============================] - 0s 3ms/step - loss: 0.1363\n",
            "Epoch 487/500\n",
            "5/5 [==============================] - 0s 2ms/step - loss: 0.1362\n",
            "Epoch 488/500\n",
            "5/5 [==============================] - 0s 4ms/step - loss: 0.1362\n",
            "Epoch 489/500\n",
            "5/5 [==============================] - 0s 3ms/step - loss: 0.1361\n",
            "Epoch 490/500\n",
            "5/5 [==============================] - 0s 3ms/step - loss: 0.1361\n",
            "Epoch 491/500\n",
            "5/5 [==============================] - 0s 3ms/step - loss: 0.1361\n",
            "Epoch 492/500\n",
            "5/5 [==============================] - 0s 2ms/step - loss: 0.1363\n",
            "Epoch 493/500\n",
            "5/5 [==============================] - 0s 3ms/step - loss: 0.1364\n",
            "Epoch 494/500\n",
            "5/5 [==============================] - 0s 3ms/step - loss: 0.1364\n",
            "Epoch 495/500\n",
            "5/5 [==============================] - 0s 5ms/step - loss: 0.1361\n",
            "Epoch 496/500\n",
            "5/5 [==============================] - 0s 3ms/step - loss: 0.1360\n",
            "Epoch 497/500\n",
            "5/5 [==============================] - 0s 3ms/step - loss: 0.1359\n",
            "Epoch 498/500\n",
            "5/5 [==============================] - 0s 3ms/step - loss: 0.1363\n",
            "Epoch 499/500\n",
            "5/5 [==============================] - 0s 3ms/step - loss: 0.1366\n",
            "Epoch 500/500\n",
            "5/5 [==============================] - 0s 3ms/step - loss: 0.1364\n"
          ]
        },
        {
          "output_type": "execute_result",
          "data": {
            "text/plain": [
              "<keras.callbacks.History at 0x7fa1425ab8d0>"
            ]
          },
          "metadata": {},
          "execution_count": 40
        }
      ]
    },
    {
      "cell_type": "code",
      "source": [
        "y_predic= regressao2.predict(x_treino) #Prevendo os dados de treino (o ajuste)\n",
        "y_predic_teste= regressao2.predict(x_teste) #Prevendo os dados de teste(o futuro)\n",
        "sns.lineplot(x=x_treino,y=y_treino,label='treino')\n",
        "sns.lineplot(x=x_teste,y=y_teste,label='teste')\n",
        "sns.lineplot(x=x_treino,y=y_predic[:,0],label='ajuste_treino')\n",
        "sns.lineplot(x=x_teste,y=y_predic_teste[:,0],label='previsão')"
      ],
      "metadata": {
        "colab": {
          "base_uri": "https://localhost:8080/",
          "height": 337
        },
        "id": "cHl6o7etJFLc",
        "outputId": "00d96bbc-beaf-43f0-be28-7a210dc97adc"
      },
      "execution_count": 41,
      "outputs": [
        {
          "output_type": "execute_result",
          "data": {
            "text/plain": [
              "<matplotlib.axes._subplots.AxesSubplot at 0x7fa13e0e54d0>"
            ]
          },
          "metadata": {},
          "execution_count": 41
        },
        {
          "output_type": "display_data",
          "data": {
            "image/png": "[encoded data removed]",
            "text/plain": [
              "<Figure size 648x360 with 1 Axes>"
            ]
          },
          "metadata": {
            "needs_background": "light"
          }
        }
      ]
    }
  ]
}