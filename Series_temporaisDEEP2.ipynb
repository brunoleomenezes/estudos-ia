{
  "nbformat": 4,
  "nbformat_minor": 0,
  "metadata": {
    "colab": {
      "name": "Series_temporaisDEEP2.ipynb",
      "provenance": []
    },
    "kernelspec": {
      "name": "python3",
      "display_name": "Python 3"
    }
  },
  "cells": [
    {
      "cell_type": "markdown",
      "metadata": {
        "id": "2QUxw2rz3IPx"
      },
      "source": [
        "# Adaptado por Bruno Menezes (https://github.com/brunoleomenezes) e será utilizado apenas para fins acadêmicos."
      ]
    },
    {
      "cell_type": "markdown",
      "metadata": {
        "id": "rxHs3wtaP6Ji"
      },
      "source": [
        "## LSTMs"
      ]
    },
    {
      "cell_type": "code",
      "source": [
        "from google.colab import drive\n",
        "drive.mount('/content/drive')"
      ],
      "metadata": {
        "colab": {
          "base_uri": "https://localhost:8080/"
        },
        "id": "nloqPvKIp_so",
        "outputId": "beda7761-1d4c-48b1-c14c-2893c04611e5"
      },
      "execution_count": 2,
      "outputs": [
        {
          "output_type": "stream",
          "name": "stdout",
          "text": [
            "Mounted at /content/drive\n"
          ]
        }
      ]
    },
    {
      "cell_type": "code",
      "metadata": {
        "id": "BcF0eVV3kbcc"
      },
      "source": [
        "import pandas as pd\n",
        "bicicletas = pd.read_csv('/content/drive/MyDrive/DeepTime/bikes.csv')"
      ],
      "execution_count": 3,
      "outputs": []
    },
    {
      "cell_type": "code",
      "metadata": {
        "id": "CVW-_7-NYhs8",
        "colab": {
          "base_uri": "https://localhost:8080/",
          "height": 337
        },
        "outputId": "edc88e65-0251-46f1-ded3-888cbe688de4"
      },
      "source": [
        "bicicletas.head()"
      ],
      "execution_count": 5,
      "outputs": [
        {
          "output_type": "execute_result",
          "data": {
            "text/html": [
              "\n",
              "  <div id=\"df-4d8163bc-bf31-49e7-817d-97e43593a1f1\">\n",
              "    <div class=\"colab-df-container\">\n",
              "      <div>\n",
              "<style scoped>\n",
              "    .dataframe tbody tr th:only-of-type {\n",
              "        vertical-align: middle;\n",
              "    }\n",
              "\n",
              "    .dataframe tbody tr th {\n",
              "        vertical-align: top;\n",
              "    }\n",
              "\n",
              "    .dataframe thead th {\n",
              "        text-align: right;\n",
              "    }\n",
              "</style>\n",
              "<table border=\"1\" class=\"dataframe\">\n",
              "  <thead>\n",
              "    <tr style=\"text-align: right;\">\n",
              "      <th></th>\n",
              "      <th>datas</th>\n",
              "      <th>contagem</th>\n",
              "      <th>temperatura</th>\n",
              "      <th>sensacao</th>\n",
              "      <th>umidade</th>\n",
              "      <th>vel_vento</th>\n",
              "      <th>clima</th>\n",
              "      <th>feriado</th>\n",
              "      <th>final_ds</th>\n",
              "      <th>estacao</th>\n",
              "    </tr>\n",
              "  </thead>\n",
              "  <tbody>\n",
              "    <tr>\n",
              "      <th>0</th>\n",
              "      <td>2015-01-04 00:00:00</td>\n",
              "      <td>182</td>\n",
              "      <td>3.0</td>\n",
              "      <td>2.0</td>\n",
              "      <td>93.0</td>\n",
              "      <td>6.0</td>\n",
              "      <td>3.0</td>\n",
              "      <td>0.0</td>\n",
              "      <td>1.0</td>\n",
              "      <td>3.0</td>\n",
              "    </tr>\n",
              "    <tr>\n",
              "      <th>1</th>\n",
              "      <td>2015-01-04 01:00:00</td>\n",
              "      <td>138</td>\n",
              "      <td>3.0</td>\n",
              "      <td>2.5</td>\n",
              "      <td>93.0</td>\n",
              "      <td>5.0</td>\n",
              "      <td>1.0</td>\n",
              "      <td>0.0</td>\n",
              "      <td>1.0</td>\n",
              "      <td>3.0</td>\n",
              "    </tr>\n",
              "    <tr>\n",
              "      <th>2</th>\n",
              "      <td>2015-01-04 02:00:00</td>\n",
              "      <td>134</td>\n",
              "      <td>2.5</td>\n",
              "      <td>2.5</td>\n",
              "      <td>96.5</td>\n",
              "      <td>0.0</td>\n",
              "      <td>1.0</td>\n",
              "      <td>0.0</td>\n",
              "      <td>1.0</td>\n",
              "      <td>3.0</td>\n",
              "    </tr>\n",
              "    <tr>\n",
              "      <th>3</th>\n",
              "      <td>2015-01-04 03:00:00</td>\n",
              "      <td>72</td>\n",
              "      <td>2.0</td>\n",
              "      <td>2.0</td>\n",
              "      <td>100.0</td>\n",
              "      <td>0.0</td>\n",
              "      <td>1.0</td>\n",
              "      <td>0.0</td>\n",
              "      <td>1.0</td>\n",
              "      <td>3.0</td>\n",
              "    </tr>\n",
              "    <tr>\n",
              "      <th>4</th>\n",
              "      <td>2015-01-04 04:00:00</td>\n",
              "      <td>47</td>\n",
              "      <td>2.0</td>\n",
              "      <td>0.0</td>\n",
              "      <td>93.0</td>\n",
              "      <td>6.5</td>\n",
              "      <td>1.0</td>\n",
              "      <td>0.0</td>\n",
              "      <td>1.0</td>\n",
              "      <td>3.0</td>\n",
              "    </tr>\n",
              "  </tbody>\n",
              "</table>\n",
              "</div>\n",
              "      <button class=\"colab-df-convert\" onclick=\"convertToInteractive('df-4d8163bc-bf31-49e7-817d-97e43593a1f1')\"\n",
              "              title=\"Convert this dataframe to an interactive table.\"\n",
              "              style=\"display:none;\">\n",
              "        \n",
              "  <svg xmlns=\"http://www.w3.org/2000/svg\" height=\"24px\"viewBox=\"0 0 24 24\"\n",
              "       width=\"24px\">\n",
              "    <path d=\"M0 0h24v24H0V0z\" fill=\"none\"/>\n",
              "    <path d=\"M18.56 5.44l.94 2.06.94-2.06 2.06-.94-2.06-.94-.94-2.06-.94 2.06-2.06.94zm-11 1L8.5 8.5l.94-2.06 2.06-.94-2.06-.94L8.5 2.5l-.94 2.06-2.06.94zm10 10l.94 2.06.94-2.06 2.06-.94-2.06-.94-.94-2.06-.94 2.06-2.06.94z\"/><path d=\"M17.41 7.96l-1.37-1.37c-.4-.4-.92-.59-1.43-.59-.52 0-1.04.2-1.43.59L10.3 9.45l-7.72 7.72c-.78.78-.78 2.05 0 2.83L4 21.41c.39.39.9.59 1.41.59.51 0 1.02-.2 1.41-.59l7.78-7.78 2.81-2.81c.8-.78.8-2.07 0-2.86zM5.41 20L4 18.59l7.72-7.72 1.47 1.35L5.41 20z\"/>\n",
              "  </svg>\n",
              "      </button>\n",
              "      \n",
              "  <style>\n",
              "    .colab-df-container {\n",
              "      display:flex;\n",
              "      flex-wrap:wrap;\n",
              "      gap: 12px;\n",
              "    }\n",
              "\n",
              "    .colab-df-convert {\n",
              "      background-color: #E8F0FE;\n",
              "      border: none;\n",
              "      border-radius: 50%;\n",
              "      cursor: pointer;\n",
              "      display: none;\n",
              "      fill: #1967D2;\n",
              "      height: 32px;\n",
              "      padding: 0 0 0 0;\n",
              "      width: 32px;\n",
              "    }\n",
              "\n",
              "    .colab-df-convert:hover {\n",
              "      background-color: #E2EBFA;\n",
              "      box-shadow: 0px 1px 2px rgba(60, 64, 67, 0.3), 0px 1px 3px 1px rgba(60, 64, 67, 0.15);\n",
              "      fill: #174EA6;\n",
              "    }\n",
              "\n",
              "    [theme=dark] .colab-df-convert {\n",
              "      background-color: #3B4455;\n",
              "      fill: #D2E3FC;\n",
              "    }\n",
              "\n",
              "    [theme=dark] .colab-df-convert:hover {\n",
              "      background-color: #434B5C;\n",
              "      box-shadow: 0px 1px 3px 1px rgba(0, 0, 0, 0.15);\n",
              "      filter: drop-shadow(0px 1px 2px rgba(0, 0, 0, 0.3));\n",
              "      fill: #FFFFFF;\n",
              "    }\n",
              "  </style>\n",
              "\n",
              "      <script>\n",
              "        const buttonEl =\n",
              "          document.querySelector('#df-4d8163bc-bf31-49e7-817d-97e43593a1f1 button.colab-df-convert');\n",
              "        buttonEl.style.display =\n",
              "          google.colab.kernel.accessAllowed ? 'block' : 'none';\n",
              "\n",
              "        async function convertToInteractive(key) {\n",
              "          const element = document.querySelector('#df-4d8163bc-bf31-49e7-817d-97e43593a1f1');\n",
              "          const dataTable =\n",
              "            await google.colab.kernel.invokeFunction('convertToInteractive',\n",
              "                                                     [key], {});\n",
              "          if (!dataTable) return;\n",
              "\n",
              "          const docLinkHtml = 'Like what you see? Visit the ' +\n",
              "            '<a target=\"_blank\" href=https://colab.research.google.com/notebooks/data_table.ipynb>data table notebook</a>'\n",
              "            + ' to learn more about interactive tables.';\n",
              "          element.innerHTML = '';\n",
              "          dataTable['output_type'] = 'display_data';\n",
              "          await google.colab.output.renderOutput(dataTable, element);\n",
              "          const docLink = document.createElement('div');\n",
              "          docLink.innerHTML = docLinkHtml;\n",
              "          element.appendChild(docLink);\n",
              "        }\n",
              "      </script>\n",
              "    </div>\n",
              "  </div>\n",
              "  "
            ],
            "text/plain": [
              "                 datas  contagem  temperatura  ...  feriado  final_ds  estacao\n",
              "0  2015-01-04 00:00:00       182          3.0  ...      0.0       1.0      3.0\n",
              "1  2015-01-04 01:00:00       138          3.0  ...      0.0       1.0      3.0\n",
              "2  2015-01-04 02:00:00       134          2.5  ...      0.0       1.0      3.0\n",
              "3  2015-01-04 03:00:00        72          2.0  ...      0.0       1.0      3.0\n",
              "4  2015-01-04 04:00:00        47          2.0  ...      0.0       1.0      3.0\n",
              "\n",
              "[5 rows x 10 columns]"
            ]
          },
          "metadata": {},
          "execution_count": 5
        }
      ]
    },
    {
      "cell_type": "code",
      "metadata": {
        "id": "G4pd--F_Y5_w"
      },
      "source": [
        "bicicletas['datas'] = pd.to_datetime(bicicletas['datas'])"
      ],
      "execution_count": 6,
      "outputs": []
    },
    {
      "cell_type": "code",
      "metadata": {
        "id": "cFQxAwFuYjow",
        "colab": {
          "base_uri": "https://localhost:8080/",
          "height": 347
        },
        "outputId": "823e42c0-5f02-4f7a-8f16-aede7ad6c1fd"
      },
      "source": [
        "import seaborn as sns\n",
        "import matplotlib.pyplot as plt\n",
        "sns.lineplot(x='datas',y='contagem', data=bicicletas)\n",
        "plt.xticks(rotation=69)"
      ],
      "execution_count": 10,
      "outputs": [
        {
          "output_type": "execute_result",
          "data": {
            "text/plain": [
              "(array([735599., 735689., 735780., 735872., 735964., 736055., 736146.,\n",
              "        736238., 736330.]), <a list of 9 Text major ticklabel objects>)"
            ]
          },
          "metadata": {},
          "execution_count": 10
        },
        {
          "output_type": "display_data",
          "data": {
            "image/png": "[encoded data removed]",
            "text/plain": [
              "<Figure size 432x288 with 1 Axes>"
            ]
          },
          "metadata": {
            "needs_background": "light"
          }
        }
      ]
    },
    {
      "cell_type": "code",
      "metadata": {
        "id": "2OTTkW-LhVpn"
      },
      "source": [
        "from sklearn.preprocessing import StandardScaler\n",
        "sc2 = StandardScaler() #Escolanamento"
      ],
      "execution_count": 12,
      "outputs": []
    },
    {
      "cell_type": "code",
      "metadata": {
        "id": "VveMTsySZYjC",
        "colab": {
          "base_uri": "https://localhost:8080/"
        },
        "outputId": "71f946aa-dc80-4b68-87cd-52efb216ccef"
      },
      "source": [
        "sc2.fit(bicicletas['contagem'].values.reshape(-1,1))"
      ],
      "execution_count": 13,
      "outputs": [
        {
          "output_type": "execute_result",
          "data": {
            "text/plain": [
              "StandardScaler()"
            ]
          },
          "metadata": {},
          "execution_count": 13
        }
      ]
    },
    {
      "cell_type": "code",
      "metadata": {
        "id": "WyZDpk-Fan98"
      },
      "source": [
        "y = sc2.transform(bicicletas['contagem'].values.reshape(-1,1))"
      ],
      "execution_count": 14,
      "outputs": []
    },
    {
      "cell_type": "markdown",
      "metadata": {
        "id": "_36H7GQnh1Yr"
      },
      "source": [
        "## Treino e teste"
      ]
    },
    {
      "cell_type": "code",
      "metadata": {
        "id": "LVPVFj1abVaE"
      },
      "source": [
        "treino = int(len(bicicletas)*0.9) #90% para treino\n",
        "teste = len(bicicletas)-tamanho_treino #"
      ],
      "execution_count": 16,
      "outputs": []
    },
    {
      "cell_type": "code",
      "metadata": {
        "id": "PY-30S2RbVaW"
      },
      "source": [
        "y_treino = y[0:treino]\n",
        "y_teste = y[treino:len(bicicletas)]"
      ],
      "execution_count": 18,
      "outputs": []
    },
    {
      "cell_type": "code",
      "metadata": {
        "id": "ddYXrIAOdNsw",
        "colab": {
          "base_uri": "https://localhost:8080/",
          "height": 347
        },
        "outputId": "53a3175a-c617-4732-f09a-5fa2ab69fd97"
      },
      "source": [
        "sns.lineplot(x='datas',y=y_treino[:,0],data=bicicletas[0:treino],label='treino') \n",
        "sns.lineplot(x='datas',y=y_teste[:,0], data=bicicletas[treino:len(bicicletas)],label='teste')\n",
        "plt.xticks(rotation=69) "
      ],
      "execution_count": 19,
      "outputs": [
        {
          "output_type": "execute_result",
          "data": {
            "text/plain": [
              "(array([735599., 735689., 735780., 735872., 735964., 736055., 736146.,\n",
              "        736238., 736330.]), <a list of 9 Text major ticklabel objects>)"
            ]
          },
          "metadata": {},
          "execution_count": 19
        },
        {
          "output_type": "display_data",
          "data": {
            "image/png": "[encoded data removed]",
            "text/plain": [
              "<Figure size 432x288 with 1 Axes>"
            ]
          },
          "metadata": {
            "needs_background": "light"
          }
        }
      ]
    },
    {
      "cell_type": "code",
      "metadata": {
        "id": "7l-lNwGy8zxf"
      },
      "source": [
        "vetor1 = pd.DataFrame(y_treino)[0]"
      ],
      "execution_count": 20,
      "outputs": []
    },
    {
      "cell_type": "code",
      "source": [
        "import numpy as np\n",
        "\n",
        "def dados_separados(vetor,passos):\n",
        "  X_n, y_n = [], []\n",
        "  for i in range(passos,vetor.shape[0]):\n",
        "    X_n.append(list(vetor.loc[i-passos:i-1]))\n",
        "    y_n.append(vetor.loc[i])\n",
        "  X_n, y_n = np.array(X_n), np.array(y_n) \n",
        "  return X_n, y_n"
      ],
      "metadata": {
        "id": "yx2ztfxkthUQ"
      },
      "execution_count": 25,
      "outputs": []
    },
    {
      "cell_type": "code",
      "metadata": {
        "id": "XZGRtIZth69m"
      },
      "source": [
        "x_treino_n, y_treino_n = dados_separados(vetor1,10)"
      ],
      "execution_count": 26,
      "outputs": []
    },
    {
      "cell_type": "code",
      "metadata": {
        "id": "f-hwzViInuui",
        "colab": {
          "base_uri": "https://localhost:8080/"
        },
        "outputId": "85bba79a-eea1-404c-809b-c629ed28de9d"
      },
      "source": [
        "x_treino_n[0:5]"
      ],
      "execution_count": 27,
      "outputs": [
        {
          "output_type": "execute_result",
          "data": {
            "text/plain": [
              "array([[-0.88574518, -0.9262953 , -0.92998167, -0.98712048, -1.01016032,\n",
              "        -1.01108192, -1.00647395, -0.9843557 , -0.93274645, -0.77607553],\n",
              "       [-0.9262953 , -0.92998167, -0.98712048, -1.01016032, -1.01108192,\n",
              "        -1.00647395, -0.9843557 , -0.93274645, -0.77607553, -0.56687377],\n",
              "       [-0.92998167, -0.98712048, -1.01016032, -1.01108192, -1.00647395,\n",
              "        -0.9843557 , -0.93274645, -0.77607553, -0.56687377, -0.38347663],\n",
              "       [-0.98712048, -1.01016032, -1.01108192, -1.00647395, -0.9843557 ,\n",
              "        -0.93274645, -0.77607553, -0.56687377, -0.38347663, -0.25906149],\n",
              "       [-1.01016032, -1.01108192, -1.00647395, -0.9843557 , -0.93274645,\n",
              "        -0.77607553, -0.56687377, -0.38347663, -0.25906149, -0.20929543]])"
            ]
          },
          "metadata": {},
          "execution_count": 27
        }
      ]
    },
    {
      "cell_type": "code",
      "metadata": {
        "id": "QHX7a-Eqrf0r",
        "colab": {
          "base_uri": "https://localhost:8080/"
        },
        "outputId": "46b8f322-3d89-4bec-d273-20b131f47f5b"
      },
      "source": [
        "y_treino_n[0:5]"
      ],
      "execution_count": 28,
      "outputs": [
        {
          "output_type": "execute_result",
          "data": {
            "text/plain": [
              "array([-0.56687377, -0.38347663, -0.25906149, -0.20929543, -0.09593941])"
            ]
          },
          "metadata": {},
          "execution_count": 28
        }
      ]
    },
    {
      "cell_type": "code",
      "metadata": {
        "id": "VPfMo6x6K8rC"
      },
      "source": [
        "vetor2 = pd.DataFrame(y_teste)[0]"
      ],
      "execution_count": 29,
      "outputs": []
    },
    {
      "cell_type": "code",
      "metadata": {
        "id": "cXxuRBmPKe9f"
      },
      "source": [
        "x_teste_n, y_teste_n = dados_separados(vetor2,10)"
      ],
      "execution_count": 30,
      "outputs": []
    },
    {
      "cell_type": "markdown",
      "metadata": {
        "id": "1mSPJ9aq380E"
      },
      "source": [
        "### Entradas\n",
        "\n",
        "Quantidade de amostras, passos no tempo, atributos a cada passo no tempo."
      ]
    },
    {
      "cell_type": "code",
      "metadata": {
        "id": "Tmgm1XUE4BM5"
      },
      "source": [
        "x_treino_n = x_treino_n.reshape((x_treino_n.shape[0],x_treino_n.shape[1],1))"
      ],
      "execution_count": 31,
      "outputs": []
    },
    {
      "cell_type": "code",
      "metadata": {
        "id": "UE0SWGiHBLJT",
        "colab": {
          "base_uri": "https://localhost:8080/"
        },
        "outputId": "cb20272d-9a08-4f79-fc99-e7fe885dea42"
      },
      "source": [
        "x_treino_n.shape"
      ],
      "execution_count": 32,
      "outputs": [
        {
          "output_type": "execute_result",
          "data": {
            "text/plain": [
              "(15662, 10, 1)"
            ]
          },
          "metadata": {},
          "execution_count": 32
        }
      ]
    },
    {
      "cell_type": "code",
      "metadata": {
        "id": "6Eb_qaNcBU8k"
      },
      "source": [
        "x_teste_n = x_teste_n.reshape((x_teste_n.shape[0],x_teste_n.shape[1],1))"
      ],
      "execution_count": 33,
      "outputs": []
    },
    {
      "cell_type": "markdown",
      "metadata": {
        "id": "KRmM3Dn33ykb"
      },
      "source": [
        "## LSTM"
      ]
    },
    {
      "cell_type": "code",
      "metadata": {
        "id": "smKQQ1eu3vyJ"
      },
      "source": [
        "from tensorflow.keras.layers import LSTM\n",
        "from tensorflow.keras.models import Sequential\n",
        "from tensorflow.keras.layers import Dense"
      ],
      "execution_count": 39,
      "outputs": []
    },
    {
      "cell_type": "code",
      "metadata": {
        "id": "YONwaC5yFCtS"
      },
      "source": [
        "rnn = Sequential()"
      ],
      "execution_count": 40,
      "outputs": []
    },
    {
      "cell_type": "code",
      "metadata": {
        "id": "J3O6pZuIFCtd"
      },
      "source": [
        "rnn.add(LSTM(128, input_shape=(x_treino_n.shape[1],x_treino_n.shape[2])))\n",
        "rnn.add(Dense(units=1))"
      ],
      "execution_count": 41,
      "outputs": []
    },
    {
      "cell_type": "code",
      "metadata": {
        "id": "M1fnn4MOFXN1",
        "colab": {
          "base_uri": "https://localhost:8080/"
        },
        "outputId": "42c1be8c-4d1c-4f67-9a33-6a094e22ac48"
      },
      "source": [
        "rnn.compile(loss='mean_squared_error',optimizer='RMSProp')\n",
        "rnn.summary()"
      ],
      "execution_count": 42,
      "outputs": [
        {
          "output_type": "stream",
          "name": "stdout",
          "text": [
            "Model: \"sequential_1\"\n",
            "_________________________________________________________________\n",
            " Layer (type)                Output Shape              Param #   \n",
            "=================================================================\n",
            " lstm_1 (LSTM)               (None, 128)               66560     \n",
            "                                                                 \n",
            " dense (Dense)               (None, 1)                 129       \n",
            "                                                                 \n",
            "=================================================================\n",
            "Total params: 66,689\n",
            "Trainable params: 66,689\n",
            "Non-trainable params: 0\n",
            "_________________________________________________________________\n"
          ]
        }
      ]
    },
    {
      "cell_type": "code",
      "metadata": {
        "id": "BalOnGoMHEp1",
        "colab": {
          "base_uri": "https://localhost:8080/"
        },
        "outputId": "00cf05a7-77c7-4247-db9b-42371650d21c"
      },
      "source": [
        "resultado_treino = rnn.fit(x_treino_n,y_treino_n,validation_data=(x_teste_n,y_teste_n),epochs=100)"
      ],
      "execution_count": 43,
      "outputs": [
        {
          "output_type": "stream",
          "name": "stdout",
          "text": [
            "Epoch 1/100\n",
            "490/490 [==============================] - 8s 12ms/step - loss: 0.2524 - val_loss: 0.0678\n",
            "Epoch 2/100\n",
            "490/490 [==============================] - 5s 10ms/step - loss: 0.0785 - val_loss: 0.0488\n",
            "Epoch 3/100\n",
            "490/490 [==============================] - 7s 15ms/step - loss: 0.0557 - val_loss: 0.0322\n",
            "Epoch 4/100\n",
            "490/490 [==============================] - 8s 16ms/step - loss: 0.0474 - val_loss: 0.0321\n",
            "Epoch 5/100\n",
            "490/490 [==============================] - 7s 14ms/step - loss: 0.0432 - val_loss: 0.0250\n",
            "Epoch 6/100\n",
            "490/490 [==============================] - 8s 16ms/step - loss: 0.0396 - val_loss: 0.0226\n",
            "Epoch 7/100\n",
            "490/490 [==============================] - 8s 16ms/step - loss: 0.0375 - val_loss: 0.0364\n",
            "Epoch 8/100\n",
            "490/490 [==============================] - 8s 17ms/step - loss: 0.0354 - val_loss: 0.0209\n",
            "Epoch 9/100\n",
            "490/490 [==============================] - 8s 17ms/step - loss: 0.0346 - val_loss: 0.0247\n",
            "Epoch 10/100\n",
            "490/490 [==============================] - 7s 15ms/step - loss: 0.0334 - val_loss: 0.0234\n",
            "Epoch 11/100\n",
            "490/490 [==============================] - 7s 15ms/step - loss: 0.0325 - val_loss: 0.0184\n",
            "Epoch 12/100\n",
            "490/490 [==============================] - 6s 13ms/step - loss: 0.0319 - val_loss: 0.0226\n",
            "Epoch 13/100\n",
            "490/490 [==============================] - 5s 10ms/step - loss: 0.0315 - val_loss: 0.0212\n",
            "Epoch 14/100\n",
            "490/490 [==============================] - 5s 10ms/step - loss: 0.0305 - val_loss: 0.0201\n",
            "Epoch 15/100\n",
            "490/490 [==============================] - 5s 10ms/step - loss: 0.0299 - val_loss: 0.0212\n",
            "Epoch 16/100\n",
            "490/490 [==============================] - 5s 10ms/step - loss: 0.0295 - val_loss: 0.0169\n",
            "Epoch 17/100\n",
            "490/490 [==============================] - 5s 10ms/step - loss: 0.0291 - val_loss: 0.0183\n",
            "Epoch 18/100\n",
            "490/490 [==============================] - 5s 10ms/step - loss: 0.0286 - val_loss: 0.0196\n",
            "Epoch 19/100\n",
            "490/490 [==============================] - 5s 10ms/step - loss: 0.0280 - val_loss: 0.0169\n",
            "Epoch 20/100\n",
            "490/490 [==============================] - 5s 10ms/step - loss: 0.0277 - val_loss: 0.0212\n",
            "Epoch 21/100\n",
            "490/490 [==============================] - 5s 10ms/step - loss: 0.0273 - val_loss: 0.0235\n",
            "Epoch 22/100\n",
            "490/490 [==============================] - 5s 10ms/step - loss: 0.0266 - val_loss: 0.0160\n",
            "Epoch 23/100\n",
            "490/490 [==============================] - 5s 10ms/step - loss: 0.0272 - val_loss: 0.0170\n",
            "Epoch 24/100\n",
            "490/490 [==============================] - 5s 10ms/step - loss: 0.0262 - val_loss: 0.0213\n",
            "Epoch 25/100\n",
            "490/490 [==============================] - 5s 10ms/step - loss: 0.0261 - val_loss: 0.0176\n",
            "Epoch 26/100\n",
            "490/490 [==============================] - 5s 10ms/step - loss: 0.0261 - val_loss: 0.0180\n",
            "Epoch 27/100\n",
            "490/490 [==============================] - 5s 10ms/step - loss: 0.0256 - val_loss: 0.0161\n",
            "Epoch 28/100\n",
            "490/490 [==============================] - 5s 10ms/step - loss: 0.0253 - val_loss: 0.0189\n",
            "Epoch 29/100\n",
            "490/490 [==============================] - 5s 10ms/step - loss: 0.0253 - val_loss: 0.0153\n",
            "Epoch 30/100\n",
            "490/490 [==============================] - 5s 11ms/step - loss: 0.0250 - val_loss: 0.0208\n",
            "Epoch 31/100\n",
            "490/490 [==============================] - 7s 13ms/step - loss: 0.0250 - val_loss: 0.0157\n",
            "Epoch 32/100\n",
            "490/490 [==============================] - 9s 19ms/step - loss: 0.0244 - val_loss: 0.0166\n",
            "Epoch 33/100\n",
            "490/490 [==============================] - 6s 12ms/step - loss: 0.0242 - val_loss: 0.0147\n",
            "Epoch 34/100\n",
            "490/490 [==============================] - 8s 17ms/step - loss: 0.0241 - val_loss: 0.0151\n",
            "Epoch 35/100\n",
            "490/490 [==============================] - 9s 19ms/step - loss: 0.0238 - val_loss: 0.0162\n",
            "Epoch 36/100\n",
            "490/490 [==============================] - 7s 13ms/step - loss: 0.0238 - val_loss: 0.0168\n",
            "Epoch 37/100\n",
            "490/490 [==============================] - 8s 17ms/step - loss: 0.0238 - val_loss: 0.0155\n",
            "Epoch 38/100\n",
            "490/490 [==============================] - 5s 10ms/step - loss: 0.0233 - val_loss: 0.0153\n",
            "Epoch 39/100\n",
            "490/490 [==============================] - 8s 16ms/step - loss: 0.0232 - val_loss: 0.0171\n",
            "Epoch 40/100\n",
            "490/490 [==============================] - 8s 16ms/step - loss: 0.0231 - val_loss: 0.0147\n",
            "Epoch 41/100\n",
            "490/490 [==============================] - 8s 16ms/step - loss: 0.0228 - val_loss: 0.0151\n",
            "Epoch 42/100\n",
            "490/490 [==============================] - 8s 16ms/step - loss: 0.0226 - val_loss: 0.0158\n",
            "Epoch 43/100\n",
            "490/490 [==============================] - 8s 17ms/step - loss: 0.0225 - val_loss: 0.0170\n",
            "Epoch 44/100\n",
            "490/490 [==============================] - 7s 15ms/step - loss: 0.0222 - val_loss: 0.0162\n",
            "Epoch 45/100\n",
            "490/490 [==============================] - 8s 16ms/step - loss: 0.0224 - val_loss: 0.0158\n",
            "Epoch 46/100\n",
            "490/490 [==============================] - 6s 11ms/step - loss: 0.0222 - val_loss: 0.0147\n",
            "Epoch 47/100\n",
            "490/490 [==============================] - 5s 10ms/step - loss: 0.0220 - val_loss: 0.0157\n",
            "Epoch 48/100\n",
            "490/490 [==============================] - 5s 10ms/step - loss: 0.0218 - val_loss: 0.0141\n",
            "Epoch 49/100\n",
            "490/490 [==============================] - 9s 19ms/step - loss: 0.0214 - val_loss: 0.0164\n",
            "Epoch 50/100\n",
            "490/490 [==============================] - 8s 17ms/step - loss: 0.0214 - val_loss: 0.0176\n",
            "Epoch 51/100\n",
            "490/490 [==============================] - 7s 15ms/step - loss: 0.0211 - val_loss: 0.0155\n",
            "Epoch 52/100\n",
            "490/490 [==============================] - 6s 13ms/step - loss: 0.0212 - val_loss: 0.0147\n",
            "Epoch 53/100\n",
            "490/490 [==============================] - 7s 15ms/step - loss: 0.0210 - val_loss: 0.0146\n",
            "Epoch 54/100\n",
            "490/490 [==============================] - 7s 13ms/step - loss: 0.0206 - val_loss: 0.0158\n",
            "Epoch 55/100\n",
            "490/490 [==============================] - 7s 14ms/step - loss: 0.0207 - val_loss: 0.0152\n",
            "Epoch 56/100\n",
            "490/490 [==============================] - 7s 14ms/step - loss: 0.0206 - val_loss: 0.0167\n",
            "Epoch 57/100\n",
            "490/490 [==============================] - 7s 14ms/step - loss: 0.0206 - val_loss: 0.0173\n",
            "Epoch 58/100\n",
            "490/490 [==============================] - 7s 15ms/step - loss: 0.0205 - val_loss: 0.0188\n",
            "Epoch 59/100\n",
            "490/490 [==============================] - 7s 15ms/step - loss: 0.0201 - val_loss: 0.0153\n",
            "Epoch 60/100\n",
            "490/490 [==============================] - 7s 14ms/step - loss: 0.0201 - val_loss: 0.0154\n",
            "Epoch 61/100\n",
            "490/490 [==============================] - 7s 14ms/step - loss: 0.0201 - val_loss: 0.0145\n",
            "Epoch 62/100\n",
            "490/490 [==============================] - 7s 15ms/step - loss: 0.0200 - val_loss: 0.0153\n",
            "Epoch 63/100\n",
            "490/490 [==============================] - 6s 11ms/step - loss: 0.0196 - val_loss: 0.0164\n",
            "Epoch 64/100\n",
            "490/490 [==============================] - 5s 10ms/step - loss: 0.0197 - val_loss: 0.0148\n",
            "Epoch 65/100\n",
            "490/490 [==============================] - 5s 11ms/step - loss: 0.0197 - val_loss: 0.0166\n",
            "Epoch 66/100\n",
            "490/490 [==============================] - 5s 10ms/step - loss: 0.0193 - val_loss: 0.0155\n",
            "Epoch 67/100\n",
            "490/490 [==============================] - 5s 11ms/step - loss: 0.0195 - val_loss: 0.0186\n",
            "Epoch 68/100\n",
            "490/490 [==============================] - 5s 10ms/step - loss: 0.0192 - val_loss: 0.0164\n",
            "Epoch 69/100\n",
            "490/490 [==============================] - 5s 10ms/step - loss: 0.0193 - val_loss: 0.0142\n",
            "Epoch 70/100\n",
            "490/490 [==============================] - 5s 11ms/step - loss: 0.0188 - val_loss: 0.0157\n",
            "Epoch 71/100\n",
            "490/490 [==============================] - 5s 10ms/step - loss: 0.0191 - val_loss: 0.0142\n",
            "Epoch 72/100\n",
            "490/490 [==============================] - 5s 10ms/step - loss: 0.0189 - val_loss: 0.0165\n",
            "Epoch 73/100\n",
            "490/490 [==============================] - 5s 10ms/step - loss: 0.0186 - val_loss: 0.0151\n",
            "Epoch 74/100\n",
            "490/490 [==============================] - 5s 10ms/step - loss: 0.0191 - val_loss: 0.0143\n",
            "Epoch 75/100\n",
            "490/490 [==============================] - 5s 11ms/step - loss: 0.0185 - val_loss: 0.0145\n",
            "Epoch 76/100\n",
            "490/490 [==============================] - 5s 10ms/step - loss: 0.0186 - val_loss: 0.0180\n",
            "Epoch 77/100\n",
            "490/490 [==============================] - 5s 10ms/step - loss: 0.0184 - val_loss: 0.0154\n",
            "Epoch 78/100\n",
            "490/490 [==============================] - 5s 10ms/step - loss: 0.0183 - val_loss: 0.0159\n",
            "Epoch 79/100\n",
            "490/490 [==============================] - 5s 10ms/step - loss: 0.0183 - val_loss: 0.0159\n",
            "Epoch 80/100\n",
            "490/490 [==============================] - 5s 10ms/step - loss: 0.0179 - val_loss: 0.0152\n",
            "Epoch 81/100\n",
            "490/490 [==============================] - 5s 10ms/step - loss: 0.0183 - val_loss: 0.0147\n",
            "Epoch 82/100\n",
            "490/490 [==============================] - 5s 10ms/step - loss: 0.0181 - val_loss: 0.0174\n",
            "Epoch 83/100\n",
            "490/490 [==============================] - 5s 10ms/step - loss: 0.0176 - val_loss: 0.0152\n",
            "Epoch 84/100\n",
            "490/490 [==============================] - 5s 10ms/step - loss: 0.0178 - val_loss: 0.0153\n",
            "Epoch 85/100\n",
            "490/490 [==============================] - 5s 10ms/step - loss: 0.0176 - val_loss: 0.0180\n",
            "Epoch 86/100\n",
            "490/490 [==============================] - 5s 11ms/step - loss: 0.0179 - val_loss: 0.0152\n",
            "Epoch 87/100\n",
            "490/490 [==============================] - 5s 10ms/step - loss: 0.0176 - val_loss: 0.0165\n",
            "Epoch 88/100\n",
            "490/490 [==============================] - 5s 10ms/step - loss: 0.0175 - val_loss: 0.0158\n",
            "Epoch 89/100\n",
            "490/490 [==============================] - 5s 11ms/step - loss: 0.0172 - val_loss: 0.0174\n",
            "Epoch 90/100\n",
            "490/490 [==============================] - 5s 10ms/step - loss: 0.0172 - val_loss: 0.0153\n",
            "Epoch 91/100\n",
            "490/490 [==============================] - 5s 11ms/step - loss: 0.0170 - val_loss: 0.0152\n",
            "Epoch 92/100\n",
            "490/490 [==============================] - 5s 11ms/step - loss: 0.0171 - val_loss: 0.0163\n",
            "Epoch 93/100\n",
            "490/490 [==============================] - 5s 10ms/step - loss: 0.0170 - val_loss: 0.0149\n",
            "Epoch 94/100\n",
            "490/490 [==============================] - 5s 11ms/step - loss: 0.0170 - val_loss: 0.0146\n",
            "Epoch 95/100\n",
            "490/490 [==============================] - 5s 10ms/step - loss: 0.0167 - val_loss: 0.0161\n",
            "Epoch 96/100\n",
            "490/490 [==============================] - 5s 11ms/step - loss: 0.0167 - val_loss: 0.0153\n",
            "Epoch 97/100\n",
            "490/490 [==============================] - 5s 10ms/step - loss: 0.0168 - val_loss: 0.0158\n",
            "Epoch 98/100\n",
            "490/490 [==============================] - 5s 10ms/step - loss: 0.0169 - val_loss: 0.0142\n",
            "Epoch 99/100\n",
            "490/490 [==============================] - 5s 10ms/step - loss: 0.0163 - val_loss: 0.0150\n",
            "Epoch 100/100\n",
            "490/490 [==============================] - 5s 10ms/step - loss: 0.0164 - val_loss: 0.0175\n"
          ]
        }
      ]
    },
    {
      "cell_type": "code",
      "metadata": {
        "id": "hUcyuKCSZ2Mw"
      },
      "source": [
        "ajuste_y = rnn.predict(x_treino_n)"
      ],
      "execution_count": 44,
      "outputs": []
    },
    {
      "cell_type": "code",
      "metadata": {
        "id": "4kL1G4HPaGjc",
        "colab": {
          "base_uri": "https://localhost:8080/",
          "height": 347
        },
        "outputId": "82a40274-4ac3-4179-86a7-f223363045e4"
      },
      "source": [
        "sns.lineplot(x='datas',y=y_treino[:,0],data=bicicletas[0:treino],label='treino')\n",
        "sns.lineplot(x='datas',y=ajuste_y[:,0],data=bicicletas[0:15662],label='treino_ajuste')\n",
        "plt.xticks(rotation=69) "
      ],
      "execution_count": 46,
      "outputs": [
        {
          "output_type": "execute_result",
          "data": {
            "text/plain": [
              "(array([735599., 735689., 735780., 735872., 735964., 736055., 736146.,\n",
              "        736238.]), <a list of 8 Text major ticklabel objects>)"
            ]
          },
          "metadata": {},
          "execution_count": 46
        },
        {
          "output_type": "display_data",
          "data": {
            "image/png": "[encoded data removed]",
            "text/plain": [
              "<Figure size 432x288 with 1 Axes>"
            ]
          },
          "metadata": {
            "needs_background": "light"
          }
        }
      ]
    },
    {
      "cell_type": "code",
      "metadata": {
        "id": "lnQZ_AnjbGv_"
      },
      "source": [
        "predicao_y = rnn.predict(x_teste_n)"
      ],
      "execution_count": 47,
      "outputs": []
    },
    {
      "cell_type": "code",
      "metadata": {
        "id": "8zEVoaF2bOdb",
        "colab": {
          "base_uri": "https://localhost:8080/",
          "height": 362
        },
        "outputId": "82b8d943-58bc-4305-974b-8e08a33d8587"
      },
      "source": [
        "sns.lineplot(x='datas',y=y_teste[:,0], data=bicicletas[treino:len(bicicletas)],label='teste')\n",
        "sns.lineplot(x='datas',y=predicao_y[:,0], data=bicicletas[treino+10:len(bicicletas)],marker='.',label='previsao_temporal')\n",
        "plt.xticks(rotation=69) "
      ],
      "execution_count": 48,
      "outputs": [
        {
          "output_type": "execute_result",
          "data": {
            "text/plain": [
              "(array([736269., 736283., 736299., 736313., 736330.]),\n",
              " <a list of 5 Text major ticklabel objects>)"
            ]
          },
          "metadata": {},
          "execution_count": 48
        },
        {
          "output_type": "display_data",
          "data": {
            "image/png": "[encoded data removed]",
            "text/plain": [
              "<Figure size 432x288 with 1 Axes>"
            ]
          },
          "metadata": {
            "needs_background": "light"
          }
        }
      ]
    }
  ]
}