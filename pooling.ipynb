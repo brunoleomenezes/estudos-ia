{
  "nbformat": 4,
  "nbformat_minor": 0,
  "metadata": {
    "colab": {
      "name": "pooling.ipynb",
      "provenance": [],
      "collapsed_sections": []
    },
    "kernelspec": {
      "name": "python3",
      "display_name": "Python 3"
    }
  },
  "cells": [
    {
      "cell_type": "markdown",
      "source": [
        "\n",
        "#Adaptado por Bruno Menezes (https://github.com/brunoleomenezes) e será utilizado apenas para fins acadêmicos."
      ],
      "metadata": {
        "id": "dhuq0s5z9wK5"
      }
    },
    {
      "cell_type": "code",
      "metadata": {
        "id": "5gSr4bKn_NPo"
      },
      "source": [
        "import torch\n",
        "from torch import nn\n",
        "\n",
        "from skimage import data"
      ],
      "execution_count": null,
      "outputs": []
    },
    {
      "cell_type": "markdown",
      "metadata": {
        "id": "Dz3yaPOyyOYp"
      },
      "source": [
        "## Pooling\n",
        "\n",
        "Documentação: https://pytorch.org/docs/stable/nn.html#torch.nn.MaxPool2d\n",
        "\n",
        "```python\n",
        "torch.nn.MaxPool2d(kernel_size, stride=None, padding=0)\n",
        "```\n",
        "\n",
        "**```kernel_size```** <br>\n",
        "Tamanho dos *Field of View*. Pode ser uma tupla ou um único número. Ex: ```kernel_size = 3``` definirá FoV de $3 \\times 3$\n",
        "\n",
        "**```stride```** <br>\n",
        "Controla o pulo da janela deslizante. \n",
        "\n",
        "**```padding```** <br>\n",
        "Preenchimento com zeros nas bordas da imagem."
      ]
    },
    {
      "cell_type": "code",
      "metadata": {
        "id": "z_6nSeAGyuSR",
        "colab": {
          "base_uri": "https://localhost:8080/"
        },
        "outputId": "4d54fa52-2dc7-4749-be6b-c574a3edbe55"
      },
      "source": [
        "#Definir um tensor com 3 dimensões\n",
        "tns = torch.FloatTensor([ [ [ 1, 2,3 ], \n",
        "                            [4,5,6], \n",
        "                            [7,8,9]  ] ] )\n",
        "\n",
        "pool = nn.MaxPool2d(2, stride=1) #camada de pooling, kernel de tamanho 2\n",
        "saida = pool(tns)\n",
        "\n",
        "print(tns.size()) #1 canal - 3x3\n",
        "print(tns)\n",
        "print(saida.size())\n",
        "print(saida) #1 canal - 2 x 2"
      ],
      "execution_count": null,
      "outputs": [
        {
          "output_type": "stream",
          "name": "stdout",
          "text": [
            "torch.Size([1, 3, 3])\n",
            "tensor([[[1., 2., 3.],\n",
            "         [4., 5., 6.],\n",
            "         [7., 8., 9.]]])\n",
            "torch.Size([1, 2, 2])\n",
            "tensor([[[5., 6.],\n",
            "         [8., 9.]]])\n"
          ]
        }
      ]
    },
    {
      "cell_type": "markdown",
      "metadata": {
        "id": "p_xGNalT1e2k"
      },
      "source": [
        "A imagem abaixo, por exemplo."
      ]
    },
    {
      "cell_type": "code",
      "metadata": {
        "id": "dfXYSTkH0gmq",
        "colab": {
          "base_uri": "https://localhost:8080/"
        },
        "outputId": "d7fdeae5-3b9d-4343-9a8f-0dc831089e13"
      },
      "source": [
        "conv = nn.Conv2d(in_channels=3, out_channels=16, \n",
        "                 kernel_size=3, padding=1)\n",
        "\n",
        "rgb = data.astronaut()\n",
        "rgb_tns = torch.Tensor(rgb)\n",
        "rgb_tns = rgb_tns.permute(2, 0, 1).unsqueeze(0)\n",
        "mapa_de_ativacao = conv(rgb_tns)\n",
        "print('Mapa:', mapa_de_ativacao.shape)"
      ],
      "execution_count": null,
      "outputs": [
        {
          "output_type": "stream",
          "name": "stdout",
          "text": [
            "Mapa: torch.Size([1, 16, 512, 512])\n"
          ]
        }
      ]
    },
    {
      "cell_type": "code",
      "source": [
        "pool = nn.MaxPool2d(kernel_size=2, stride=1)#ganho pequeno processamento\n",
        "saida = pool(mapa_de_ativacao)\n",
        "print(saida.size())"
      ],
      "metadata": {
        "colab": {
          "base_uri": "https://localhost:8080/"
        },
        "id": "r-Jok4Ah9WwX",
        "outputId": "93b548aa-7e90-4611-f106-24147ac839a1"
      },
      "execution_count": null,
      "outputs": [
        {
          "output_type": "stream",
          "name": "stdout",
          "text": [
            "torch.Size([1, 16, 511, 511])\n"
          ]
        }
      ]
    },
    {
      "cell_type": "code",
      "metadata": {
        "id": "lfyfZmZd1iH8",
        "colab": {
          "base_uri": "https://localhost:8080/"
        },
        "outputId": "14ac5054-0932-402c-9cb7-1b1bc7528518"
      },
      "source": [
        "pool = nn.MaxPool2d(kernel_size=2) #ganho maior de processamento\n",
        "saida = pool(mapa_de_ativacao)\n",
        "print(saida.size())"
      ],
      "execution_count": null,
      "outputs": [
        {
          "output_type": "stream",
          "name": "stdout",
          "text": [
            "torch.Size([1, 16, 256, 256])\n"
          ]
        }
      ]
    }
  ]
}