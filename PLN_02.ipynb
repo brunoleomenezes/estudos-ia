{
  "nbformat": 4,
  "nbformat_minor": 0,
  "metadata": {
    "colab": {
      "name": "PLN_02.ipynb",
      "provenance": [],
      "mount_file_id": "1bR4_WeaZCwmG_WbXqIzOeBZWzCcbz5EL",
      "authorship_tag": "ABX9TyNtxOPRfH2pBFNHljZqzLea"
    },
    "kernelspec": {
      "name": "python3",
      "display_name": "Python 3"
    },
    "language_info": {
      "name": "python"
    }
  },
  "cells": [
    {
      "cell_type": "markdown",
      "source": [
        "Adaptado por Bruno Menezes (https://github.com/brunoleomenezes) e será utilizado apenas para fins acadêmicos."
      ],
      "metadata": {
        "id": "CdkNziK2lYid"
      }
    },
    {
      "cell_type": "markdown",
      "source": [
        "[IMDB PT BR](https://www.kaggle.com/luisfredgs/imdb-ptbr)"
      ],
      "metadata": {
        "id": "cQbVw5EYgI8V"
      }
    },
    {
      "cell_type": "code",
      "execution_count": null,
      "metadata": {
        "colab": {
          "base_uri": "https://localhost:8080/",
          "height": 206
        },
        "id": "his4pK8SaGNf",
        "outputId": "04da85ce-84dc-4fe5-e0b2-177b3b488f0a"
      },
      "outputs": [
        {
          "output_type": "execute_result",
          "data": {
            "text/html": [
              "\n",
              "  <div id=\"df-6adfb45d-fcf2-46af-921c-6ade56c50fbe\">\n",
              "    <div class=\"colab-df-container\">\n",
              "      <div>\n",
              "<style scoped>\n",
              "    .dataframe tbody tr th:only-of-type {\n",
              "        vertical-align: middle;\n",
              "    }\n",
              "\n",
              "    .dataframe tbody tr th {\n",
              "        vertical-align: top;\n",
              "    }\n",
              "\n",
              "    .dataframe thead th {\n",
              "        text-align: right;\n",
              "    }\n",
              "</style>\n",
              "<table border=\"1\" class=\"dataframe\">\n",
              "  <thead>\n",
              "    <tr style=\"text-align: right;\">\n",
              "      <th></th>\n",
              "      <th>id</th>\n",
              "      <th>text_en</th>\n",
              "      <th>text_pt</th>\n",
              "      <th>sentiment</th>\n",
              "    </tr>\n",
              "  </thead>\n",
              "  <tbody>\n",
              "    <tr>\n",
              "      <th>0</th>\n",
              "      <td>1</td>\n",
              "      <td>Once again Mr. Costner has dragged out a movie...</td>\n",
              "      <td>Mais uma vez, o Sr. Costner arrumou um filme p...</td>\n",
              "      <td>neg</td>\n",
              "    </tr>\n",
              "    <tr>\n",
              "      <th>1</th>\n",
              "      <td>2</td>\n",
              "      <td>This is an example of why the majority of acti...</td>\n",
              "      <td>Este é um exemplo do motivo pelo qual a maiori...</td>\n",
              "      <td>neg</td>\n",
              "    </tr>\n",
              "    <tr>\n",
              "      <th>2</th>\n",
              "      <td>3</td>\n",
              "      <td>First of all I hate those moronic rappers, who...</td>\n",
              "      <td>Primeiro de tudo eu odeio esses raps imbecis, ...</td>\n",
              "      <td>neg</td>\n",
              "    </tr>\n",
              "    <tr>\n",
              "      <th>3</th>\n",
              "      <td>4</td>\n",
              "      <td>Not even the Beatles could write songs everyon...</td>\n",
              "      <td>Nem mesmo os Beatles puderam escrever músicas ...</td>\n",
              "      <td>neg</td>\n",
              "    </tr>\n",
              "    <tr>\n",
              "      <th>4</th>\n",
              "      <td>5</td>\n",
              "      <td>Brass pictures movies is not a fitting word fo...</td>\n",
              "      <td>Filmes de fotos de latão não é uma palavra apr...</td>\n",
              "      <td>neg</td>\n",
              "    </tr>\n",
              "  </tbody>\n",
              "</table>\n",
              "</div>\n",
              "      <button class=\"colab-df-convert\" onclick=\"convertToInteractive('df-6adfb45d-fcf2-46af-921c-6ade56c50fbe')\"\n",
              "              title=\"Convert this dataframe to an interactive table.\"\n",
              "              style=\"display:none;\">\n",
              "        \n",
              "  <svg xmlns=\"http://www.w3.org/2000/svg\" height=\"24px\"viewBox=\"0 0 24 24\"\n",
              "       width=\"24px\">\n",
              "    <path d=\"M0 0h24v24H0V0z\" fill=\"none\"/>\n",
              "    <path d=\"M18.56 5.44l.94 2.06.94-2.06 2.06-.94-2.06-.94-.94-2.06-.94 2.06-2.06.94zm-11 1L8.5 8.5l.94-2.06 2.06-.94-2.06-.94L8.5 2.5l-.94 2.06-2.06.94zm10 10l.94 2.06.94-2.06 2.06-.94-2.06-.94-.94-2.06-.94 2.06-2.06.94z\"/><path d=\"M17.41 7.96l-1.37-1.37c-.4-.4-.92-.59-1.43-.59-.52 0-1.04.2-1.43.59L10.3 9.45l-7.72 7.72c-.78.78-.78 2.05 0 2.83L4 21.41c.39.39.9.59 1.41.59.51 0 1.02-.2 1.41-.59l7.78-7.78 2.81-2.81c.8-.78.8-2.07 0-2.86zM5.41 20L4 18.59l7.72-7.72 1.47 1.35L5.41 20z\"/>\n",
              "  </svg>\n",
              "      </button>\n",
              "      \n",
              "  <style>\n",
              "    .colab-df-container {\n",
              "      display:flex;\n",
              "      flex-wrap:wrap;\n",
              "      gap: 12px;\n",
              "    }\n",
              "\n",
              "    .colab-df-convert {\n",
              "      background-color: #E8F0FE;\n",
              "      border: none;\n",
              "      border-radius: 50%;\n",
              "      cursor: pointer;\n",
              "      display: none;\n",
              "      fill: #1967D2;\n",
              "      height: 32px;\n",
              "      padding: 0 0 0 0;\n",
              "      width: 32px;\n",
              "    }\n",
              "\n",
              "    .colab-df-convert:hover {\n",
              "      background-color: #E2EBFA;\n",
              "      box-shadow: 0px 1px 2px rgba(60, 64, 67, 0.3), 0px 1px 3px 1px rgba(60, 64, 67, 0.15);\n",
              "      fill: #174EA6;\n",
              "    }\n",
              "\n",
              "    [theme=dark] .colab-df-convert {\n",
              "      background-color: #3B4455;\n",
              "      fill: #D2E3FC;\n",
              "    }\n",
              "\n",
              "    [theme=dark] .colab-df-convert:hover {\n",
              "      background-color: #434B5C;\n",
              "      box-shadow: 0px 1px 3px 1px rgba(0, 0, 0, 0.15);\n",
              "      filter: drop-shadow(0px 1px 2px rgba(0, 0, 0, 0.3));\n",
              "      fill: #FFFFFF;\n",
              "    }\n",
              "  </style>\n",
              "\n",
              "      <script>\n",
              "        const buttonEl =\n",
              "          document.querySelector('#df-6adfb45d-fcf2-46af-921c-6ade56c50fbe button.colab-df-convert');\n",
              "        buttonEl.style.display =\n",
              "          google.colab.kernel.accessAllowed ? 'block' : 'none';\n",
              "\n",
              "        async function convertToInteractive(key) {\n",
              "          const element = document.querySelector('#df-6adfb45d-fcf2-46af-921c-6ade56c50fbe');\n",
              "          const dataTable =\n",
              "            await google.colab.kernel.invokeFunction('convertToInteractive',\n",
              "                                                     [key], {});\n",
              "          if (!dataTable) return;\n",
              "\n",
              "          const docLinkHtml = 'Like what you see? Visit the ' +\n",
              "            '<a target=\"_blank\" href=https://colab.research.google.com/notebooks/data_table.ipynb>data table notebook</a>'\n",
              "            + ' to learn more about interactive tables.';\n",
              "          element.innerHTML = '';\n",
              "          dataTable['output_type'] = 'display_data';\n",
              "          await google.colab.output.renderOutput(dataTable, element);\n",
              "          const docLink = document.createElement('div');\n",
              "          docLink.innerHTML = docLinkHtml;\n",
              "          element.appendChild(docLink);\n",
              "        }\n",
              "      </script>\n",
              "    </div>\n",
              "  </div>\n",
              "  "
            ],
            "text/plain": [
              "   id  ... sentiment\n",
              "0   1  ...       neg\n",
              "1   2  ...       neg\n",
              "2   3  ...       neg\n",
              "3   4  ...       neg\n",
              "4   5  ...       neg\n",
              "\n",
              "[5 rows x 4 columns]"
            ]
          },
          "metadata": {},
          "execution_count": 12
        }
      ],
      "source": [
        "import pandas as pd\n",
        "\n",
        "textos = pd.read_csv(\"/content/drive/MyDrive/Curso_PLN/imdb-reviews-pt-br.csv\")\n",
        "textos.head()"
      ]
    },
    {
      "cell_type": "markdown",
      "source": [
        "Definindo dados de treinamento e teste."
      ],
      "metadata": {
        "id": "n-MIvsG-kN-5"
      }
    },
    {
      "cell_type": "code",
      "source": [
        "from sklearn.model_selection import train_test_split\n",
        "\n",
        "treino, teste, c_treino, c_teste = train_test_split(textos.text_pt, textos.sentiment, random_state = 42)"
      ],
      "metadata": {
        "id": "a8LjzCFihRly"
      },
      "execution_count": null,
      "outputs": []
    },
    {
      "cell_type": "code",
      "source": [
        "teste"
      ],
      "metadata": {
        "colab": {
          "base_uri": "https://localhost:8080/"
        },
        "id": "WcmBDtmUkd8Q",
        "outputId": "ee78e1c7-ac14-46f1-e485-7c2c3b7af02d"
      },
      "execution_count": null,
      "outputs": [
        {
          "output_type": "execute_result",
          "data": {
            "text/plain": [
              "12532    Isso era incomum: um filme moderno que era ult...\n",
              "35445    Alguns dos meus velhos amigos sugeriram que eu...\n",
              "20279    Que prazer. Isto é realmente uma paródia. Some...\n",
              "2969     Há cerca de dez minutos a meio da Strangeland,...\n",
              "45161    Otelo, a clássica história de Shakespearen sob...\n",
              "                               ...                        \n",
              "16421    Crescendo como filho do cinema, uma das trilog...\n",
              "39861    Este filme é o melhor filme de todos os tempos...\n",
              "309      \"Electra Glide in Blue\" é um movimento lento e...\n",
              "20638    Eu amo esse filme ! Eu acho que já vi 5 vezes ...\n",
              "38935    Eu vi alguns filmes sobre transtornos alimenta...\n",
              "Name: text_pt, Length: 12365, dtype: object"
            ]
          },
          "metadata": {},
          "execution_count": 14
        }
      ]
    },
    {
      "cell_type": "code",
      "source": [
        "c_teste"
      ],
      "metadata": {
        "colab": {
          "base_uri": "https://localhost:8080/"
        },
        "id": "foaMpnxTkePl",
        "outputId": "a8b1ef36-26ec-40af-b632-db6e818286fd"
      },
      "execution_count": null,
      "outputs": [
        {
          "output_type": "execute_result",
          "data": {
            "text/plain": [
              "12532    pos\n",
              "35445    neg\n",
              "20279    pos\n",
              "2969     neg\n",
              "45161    pos\n",
              "        ... \n",
              "16421    pos\n",
              "39861    pos\n",
              "309      neg\n",
              "20638    pos\n",
              "38935    pos\n",
              "Name: sentiment, Length: 12365, dtype: object"
            ]
          },
          "metadata": {},
          "execution_count": 15
        }
      ]
    },
    {
      "cell_type": "code",
      "source": [
        "treino"
      ],
      "metadata": {
        "colab": {
          "base_uri": "https://localhost:8080/"
        },
        "id": "IcRPxaY3kkIS",
        "outputId": "86c81463-c583-4002-9827-83027d481279"
      },
      "execution_count": null,
      "outputs": [
        {
          "output_type": "execute_result",
          "data": {
            "text/plain": [
              "1348     Embora o filme tenha sido apenas assim, o clos...\n",
              "27466    Este é provavelmente um dos piores filmes que ...\n",
              "29998    De vez em quando, um filme irá varrer ao seu r...\n",
              "48186    Este é um conto completamente diabólico de quã...\n",
              "26473    Lenta, chata, extremamente repetitiva. Não adm...\n",
              "                               ...                        \n",
              "11284    Naach teria ganhado um Razzie para o Pior Film...\n",
              "44732    Apenas assisti a esse filme em DVD e achei a a...\n",
              "38158    Melhor show desde Seinfeld. Ela é realmente mu...\n",
              "860      Eu pareço estar discordando com muitas pessoas...\n",
              "15795    Minhas duas filhas de 11 e 13 anos e eu tive s...\n",
              "Name: text_pt, Length: 37094, dtype: object"
            ]
          },
          "metadata": {},
          "execution_count": 16
        }
      ]
    },
    {
      "cell_type": "code",
      "source": [
        "c_treino"
      ],
      "metadata": {
        "colab": {
          "base_uri": "https://localhost:8080/"
        },
        "id": "YgZjI_SHkn6D",
        "outputId": "e5a5defc-be25-410e-8868-9d03a6ea0de2"
      },
      "execution_count": null,
      "outputs": [
        {
          "output_type": "execute_result",
          "data": {
            "text/plain": [
              "1348     neg\n",
              "27466    neg\n",
              "29998    neg\n",
              "48186    pos\n",
              "26473    neg\n",
              "        ... \n",
              "11284    neg\n",
              "44732    pos\n",
              "38158    pos\n",
              "860      neg\n",
              "15795    pos\n",
              "Name: sentiment, Length: 37094, dtype: object"
            ]
          },
          "metadata": {},
          "execution_count": 17
        }
      ]
    },
    {
      "cell_type": "code",
      "source": [
        "from sklearn.linear_model import LogisticRegression\n",
        "\n",
        "r_log = LogisticRegression()\n",
        "r_log.fit(treino, c_treino)\n",
        "ac = r_log.score(teste, c_teste)\n",
        "print(ac)"
      ],
      "metadata": {
        "colab": {
          "base_uri": "https://localhost:8080/",
          "height": 417
        },
        "id": "Yu1jzbPyhmFp",
        "outputId": "9781d82b-b18c-471f-cbae-e37313f8f5e3"
      },
      "execution_count": null,
      "outputs": [
        {
          "output_type": "error",
          "ename": "ValueError",
          "evalue": "ignored",
          "traceback": [
            "\u001b[0;31m---------------------------------------------------------------------------\u001b[0m",
            "\u001b[0;31mValueError\u001b[0m                                Traceback (most recent call last)",
            "\u001b[0;32m<ipython-input-18-8f7075e78e8a>\u001b[0m in \u001b[0;36m<module>\u001b[0;34m()\u001b[0m\n\u001b[1;32m      2\u001b[0m \u001b[0;34m\u001b[0m\u001b[0m\n\u001b[1;32m      3\u001b[0m \u001b[0mr_log\u001b[0m \u001b[0;34m=\u001b[0m \u001b[0mLogisticRegression\u001b[0m\u001b[0;34m(\u001b[0m\u001b[0;34m)\u001b[0m\u001b[0;34m\u001b[0m\u001b[0;34m\u001b[0m\u001b[0m\n\u001b[0;32m----> 4\u001b[0;31m \u001b[0mr_log\u001b[0m\u001b[0;34m.\u001b[0m\u001b[0mfit\u001b[0m\u001b[0;34m(\u001b[0m\u001b[0mtreino\u001b[0m\u001b[0;34m,\u001b[0m \u001b[0mc_treino\u001b[0m\u001b[0;34m)\u001b[0m\u001b[0;34m\u001b[0m\u001b[0;34m\u001b[0m\u001b[0m\n\u001b[0m\u001b[1;32m      5\u001b[0m \u001b[0mac\u001b[0m \u001b[0;34m=\u001b[0m \u001b[0mr_log\u001b[0m\u001b[0;34m.\u001b[0m\u001b[0mscore\u001b[0m\u001b[0;34m(\u001b[0m\u001b[0mteste\u001b[0m\u001b[0;34m,\u001b[0m \u001b[0mc_teste\u001b[0m\u001b[0;34m)\u001b[0m\u001b[0;34m\u001b[0m\u001b[0;34m\u001b[0m\u001b[0m\n\u001b[1;32m      6\u001b[0m \u001b[0mprint\u001b[0m\u001b[0;34m(\u001b[0m\u001b[0mac\u001b[0m\u001b[0;34m)\u001b[0m\u001b[0;34m\u001b[0m\u001b[0;34m\u001b[0m\u001b[0m\n",
            "\u001b[0;32m/usr/local/lib/python3.7/dist-packages/sklearn/linear_model/_logistic.py\u001b[0m in \u001b[0;36mfit\u001b[0;34m(self, X, y, sample_weight)\u001b[0m\n\u001b[1;32m   1512\u001b[0m             \u001b[0mdtype\u001b[0m\u001b[0;34m=\u001b[0m\u001b[0m_dtype\u001b[0m\u001b[0;34m,\u001b[0m\u001b[0;34m\u001b[0m\u001b[0;34m\u001b[0m\u001b[0m\n\u001b[1;32m   1513\u001b[0m             \u001b[0morder\u001b[0m\u001b[0;34m=\u001b[0m\u001b[0;34m\"C\"\u001b[0m\u001b[0;34m,\u001b[0m\u001b[0;34m\u001b[0m\u001b[0;34m\u001b[0m\u001b[0m\n\u001b[0;32m-> 1514\u001b[0;31m             \u001b[0maccept_large_sparse\u001b[0m\u001b[0;34m=\u001b[0m\u001b[0msolver\u001b[0m \u001b[0;32mnot\u001b[0m \u001b[0;32min\u001b[0m \u001b[0;34m[\u001b[0m\u001b[0;34m\"liblinear\"\u001b[0m\u001b[0;34m,\u001b[0m \u001b[0;34m\"sag\"\u001b[0m\u001b[0;34m,\u001b[0m \u001b[0;34m\"saga\"\u001b[0m\u001b[0;34m]\u001b[0m\u001b[0;34m,\u001b[0m\u001b[0;34m\u001b[0m\u001b[0;34m\u001b[0m\u001b[0m\n\u001b[0m\u001b[1;32m   1515\u001b[0m         )\n\u001b[1;32m   1516\u001b[0m         \u001b[0mcheck_classification_targets\u001b[0m\u001b[0;34m(\u001b[0m\u001b[0my\u001b[0m\u001b[0;34m)\u001b[0m\u001b[0;34m\u001b[0m\u001b[0;34m\u001b[0m\u001b[0m\n",
            "\u001b[0;32m/usr/local/lib/python3.7/dist-packages/sklearn/base.py\u001b[0m in \u001b[0;36m_validate_data\u001b[0;34m(self, X, y, reset, validate_separately, **check_params)\u001b[0m\n\u001b[1;32m    579\u001b[0m                 \u001b[0my\u001b[0m \u001b[0;34m=\u001b[0m \u001b[0mcheck_array\u001b[0m\u001b[0;34m(\u001b[0m\u001b[0my\u001b[0m\u001b[0;34m,\u001b[0m \u001b[0;34m**\u001b[0m\u001b[0mcheck_y_params\u001b[0m\u001b[0;34m)\u001b[0m\u001b[0;34m\u001b[0m\u001b[0;34m\u001b[0m\u001b[0m\n\u001b[1;32m    580\u001b[0m             \u001b[0;32melse\u001b[0m\u001b[0;34m:\u001b[0m\u001b[0;34m\u001b[0m\u001b[0;34m\u001b[0m\u001b[0m\n\u001b[0;32m--> 581\u001b[0;31m                 \u001b[0mX\u001b[0m\u001b[0;34m,\u001b[0m \u001b[0my\u001b[0m \u001b[0;34m=\u001b[0m \u001b[0mcheck_X_y\u001b[0m\u001b[0;34m(\u001b[0m\u001b[0mX\u001b[0m\u001b[0;34m,\u001b[0m \u001b[0my\u001b[0m\u001b[0;34m,\u001b[0m \u001b[0;34m**\u001b[0m\u001b[0mcheck_params\u001b[0m\u001b[0;34m)\u001b[0m\u001b[0;34m\u001b[0m\u001b[0;34m\u001b[0m\u001b[0m\n\u001b[0m\u001b[1;32m    582\u001b[0m             \u001b[0mout\u001b[0m \u001b[0;34m=\u001b[0m \u001b[0mX\u001b[0m\u001b[0;34m,\u001b[0m \u001b[0my\u001b[0m\u001b[0;34m\u001b[0m\u001b[0;34m\u001b[0m\u001b[0m\n\u001b[1;32m    583\u001b[0m \u001b[0;34m\u001b[0m\u001b[0m\n",
            "\u001b[0;32m/usr/local/lib/python3.7/dist-packages/sklearn/utils/validation.py\u001b[0m in \u001b[0;36mcheck_X_y\u001b[0;34m(X, y, accept_sparse, accept_large_sparse, dtype, order, copy, force_all_finite, ensure_2d, allow_nd, multi_output, ensure_min_samples, ensure_min_features, y_numeric, estimator)\u001b[0m\n\u001b[1;32m    974\u001b[0m         \u001b[0mensure_min_samples\u001b[0m\u001b[0;34m=\u001b[0m\u001b[0mensure_min_samples\u001b[0m\u001b[0;34m,\u001b[0m\u001b[0;34m\u001b[0m\u001b[0;34m\u001b[0m\u001b[0m\n\u001b[1;32m    975\u001b[0m         \u001b[0mensure_min_features\u001b[0m\u001b[0;34m=\u001b[0m\u001b[0mensure_min_features\u001b[0m\u001b[0;34m,\u001b[0m\u001b[0;34m\u001b[0m\u001b[0;34m\u001b[0m\u001b[0m\n\u001b[0;32m--> 976\u001b[0;31m         \u001b[0mestimator\u001b[0m\u001b[0;34m=\u001b[0m\u001b[0mestimator\u001b[0m\u001b[0;34m,\u001b[0m\u001b[0;34m\u001b[0m\u001b[0;34m\u001b[0m\u001b[0m\n\u001b[0m\u001b[1;32m    977\u001b[0m     )\n\u001b[1;32m    978\u001b[0m \u001b[0;34m\u001b[0m\u001b[0m\n",
            "\u001b[0;32m/usr/local/lib/python3.7/dist-packages/sklearn/utils/validation.py\u001b[0m in \u001b[0;36mcheck_array\u001b[0;34m(array, accept_sparse, accept_large_sparse, dtype, order, copy, force_all_finite, ensure_2d, allow_nd, ensure_min_samples, ensure_min_features, estimator)\u001b[0m\n\u001b[1;32m    744\u001b[0m                     \u001b[0marray\u001b[0m \u001b[0;34m=\u001b[0m \u001b[0marray\u001b[0m\u001b[0;34m.\u001b[0m\u001b[0mastype\u001b[0m\u001b[0;34m(\u001b[0m\u001b[0mdtype\u001b[0m\u001b[0;34m,\u001b[0m \u001b[0mcasting\u001b[0m\u001b[0;34m=\u001b[0m\u001b[0;34m\"unsafe\"\u001b[0m\u001b[0;34m,\u001b[0m \u001b[0mcopy\u001b[0m\u001b[0;34m=\u001b[0m\u001b[0;32mFalse\u001b[0m\u001b[0;34m)\u001b[0m\u001b[0;34m\u001b[0m\u001b[0;34m\u001b[0m\u001b[0m\n\u001b[1;32m    745\u001b[0m                 \u001b[0;32melse\u001b[0m\u001b[0;34m:\u001b[0m\u001b[0;34m\u001b[0m\u001b[0;34m\u001b[0m\u001b[0m\n\u001b[0;32m--> 746\u001b[0;31m                     \u001b[0marray\u001b[0m \u001b[0;34m=\u001b[0m \u001b[0mnp\u001b[0m\u001b[0;34m.\u001b[0m\u001b[0masarray\u001b[0m\u001b[0;34m(\u001b[0m\u001b[0marray\u001b[0m\u001b[0;34m,\u001b[0m \u001b[0morder\u001b[0m\u001b[0;34m=\u001b[0m\u001b[0morder\u001b[0m\u001b[0;34m,\u001b[0m \u001b[0mdtype\u001b[0m\u001b[0;34m=\u001b[0m\u001b[0mdtype\u001b[0m\u001b[0;34m)\u001b[0m\u001b[0;34m\u001b[0m\u001b[0;34m\u001b[0m\u001b[0m\n\u001b[0m\u001b[1;32m    747\u001b[0m             \u001b[0;32mexcept\u001b[0m \u001b[0mComplexWarning\u001b[0m \u001b[0;32mas\u001b[0m \u001b[0mcomplex_warning\u001b[0m\u001b[0;34m:\u001b[0m\u001b[0;34m\u001b[0m\u001b[0;34m\u001b[0m\u001b[0m\n\u001b[1;32m    748\u001b[0m                 raise ValueError(\n",
            "\u001b[0;32m/usr/local/lib/python3.7/dist-packages/numpy/core/_asarray.py\u001b[0m in \u001b[0;36masarray\u001b[0;34m(a, dtype, order)\u001b[0m\n\u001b[1;32m     81\u001b[0m \u001b[0;34m\u001b[0m\u001b[0m\n\u001b[1;32m     82\u001b[0m     \"\"\"\n\u001b[0;32m---> 83\u001b[0;31m     \u001b[0;32mreturn\u001b[0m \u001b[0marray\u001b[0m\u001b[0;34m(\u001b[0m\u001b[0ma\u001b[0m\u001b[0;34m,\u001b[0m \u001b[0mdtype\u001b[0m\u001b[0;34m,\u001b[0m \u001b[0mcopy\u001b[0m\u001b[0;34m=\u001b[0m\u001b[0;32mFalse\u001b[0m\u001b[0;34m,\u001b[0m \u001b[0morder\u001b[0m\u001b[0;34m=\u001b[0m\u001b[0morder\u001b[0m\u001b[0;34m)\u001b[0m\u001b[0;34m\u001b[0m\u001b[0;34m\u001b[0m\u001b[0m\n\u001b[0m\u001b[1;32m     84\u001b[0m \u001b[0;34m\u001b[0m\u001b[0m\n\u001b[1;32m     85\u001b[0m \u001b[0;34m\u001b[0m\u001b[0m\n",
            "\u001b[0;32m/usr/local/lib/python3.7/dist-packages/pandas/core/series.py\u001b[0m in \u001b[0;36m__array__\u001b[0;34m(self, dtype)\u001b[0m\n\u001b[1;32m    855\u001b[0m               dtype='datetime64[ns]')\n\u001b[1;32m    856\u001b[0m         \"\"\"\n\u001b[0;32m--> 857\u001b[0;31m         \u001b[0;32mreturn\u001b[0m \u001b[0mnp\u001b[0m\u001b[0;34m.\u001b[0m\u001b[0masarray\u001b[0m\u001b[0;34m(\u001b[0m\u001b[0mself\u001b[0m\u001b[0;34m.\u001b[0m\u001b[0m_values\u001b[0m\u001b[0;34m,\u001b[0m \u001b[0mdtype\u001b[0m\u001b[0;34m)\u001b[0m\u001b[0;34m\u001b[0m\u001b[0;34m\u001b[0m\u001b[0m\n\u001b[0m\u001b[1;32m    858\u001b[0m \u001b[0;34m\u001b[0m\u001b[0m\n\u001b[1;32m    859\u001b[0m     \u001b[0;31m# ----------------------------------------------------------------------\u001b[0m\u001b[0;34m\u001b[0m\u001b[0;34m\u001b[0m\u001b[0;34m\u001b[0m\u001b[0m\n",
            "\u001b[0;32m/usr/local/lib/python3.7/dist-packages/numpy/core/_asarray.py\u001b[0m in \u001b[0;36masarray\u001b[0;34m(a, dtype, order)\u001b[0m\n\u001b[1;32m     81\u001b[0m \u001b[0;34m\u001b[0m\u001b[0m\n\u001b[1;32m     82\u001b[0m     \"\"\"\n\u001b[0;32m---> 83\u001b[0;31m     \u001b[0;32mreturn\u001b[0m \u001b[0marray\u001b[0m\u001b[0;34m(\u001b[0m\u001b[0ma\u001b[0m\u001b[0;34m,\u001b[0m \u001b[0mdtype\u001b[0m\u001b[0;34m,\u001b[0m \u001b[0mcopy\u001b[0m\u001b[0;34m=\u001b[0m\u001b[0;32mFalse\u001b[0m\u001b[0;34m,\u001b[0m \u001b[0morder\u001b[0m\u001b[0;34m=\u001b[0m\u001b[0morder\u001b[0m\u001b[0;34m)\u001b[0m\u001b[0;34m\u001b[0m\u001b[0;34m\u001b[0m\u001b[0m\n\u001b[0m\u001b[1;32m     84\u001b[0m \u001b[0;34m\u001b[0m\u001b[0m\n\u001b[1;32m     85\u001b[0m \u001b[0;34m\u001b[0m\u001b[0m\n",
            "\u001b[0;31mValueError\u001b[0m: could not convert string to float: 'Embora o filme tenha sido apenas assim, o closed caption foi de longe o melhor que eu já vi! Na maioria das vezes, a ortografia é terrível e a legenda está fora de sincronia. Eu uso o closed captioning mesmo que eu possa ouvir bem, mas acho que muitos atores resmungam. Também muitas vezes a trilha sonora substitui o diálogo. Obrigado!'"
          ]
        }
      ]
    },
    {
      "cell_type": "markdown",
      "source": [
        "Erro! Qual o motivo?"
      ],
      "metadata": {
        "id": "Nok_SUbAkuYF"
      }
    },
    {
      "cell_type": "markdown",
      "source": [
        "Primeiro: conhecer aspectos dos textos."
      ],
      "metadata": {
        "id": "88cEm9SXp9rT"
      }
    },
    {
      "cell_type": "code",
      "source": [
        "#Negativa\n",
        "print(textos.text_pt[189])\n",
        "#Este é sem dúvida o PIOR filme..."
      ],
      "metadata": {
        "colab": {
          "base_uri": "https://localhost:8080/"
        },
        "id": "-j4qrOAip1MS",
        "outputId": "c4e60472-f2c5-45e7-fabb-061cb65256fc"
      },
      "execution_count": null,
      "outputs": [
        {
          "output_type": "stream",
          "name": "stdout",
          "text": [
            "Este é sem dúvida o pior filme que eu já vi. E acredite em mim, eu vi muitos filmes. A reviravolta inacreditável que o filme faz - passando de um extremamente mau filme \"Formas de vida alienígenas habitam a terra\", com um filme que tenta espalhar um arquicristiano \"O dia do julgamento está próximo, buscar Jesus ou queimar por toda a eternidade em as dívidas ardentes do inferno \"mensagem - deixou-me atordoado depois de ter sido atormentado por 85 minutos. Até mesmo os cristãos religiosos devem se envergonhar ou ficar furiosos ao ver suas crenças postadas dessa maneira. Eu não sabia o que fazer comigo quando assisti a atuação horrível que poderia ter sido realizada por crianças de 7 anos de idade. Simplesmente repugnante. Eu não sou cristão nem muito religioso. Mas se eu estivesse, não teria mais medo do Inferno. Rich Christiano mostrou ser algo muito pior.\n"
          ]
        }
      ]
    },
    {
      "cell_type": "code",
      "source": [
        "#Poitivo\n",
        "print(textos.text_pt[49002])\n",
        "#...BRILHANTE..."
      ],
      "metadata": {
        "colab": {
          "base_uri": "https://localhost:8080/"
        },
        "id": "8TJZoYkwq2uW",
        "outputId": "88fa753e-1182-4855-868e-479eb465cfb5"
      },
      "execution_count": null,
      "outputs": [
        {
          "output_type": "stream",
          "name": "stdout",
          "text": [
            "Crescendo em Nova York no final dos anos 80 e início dos anos 90, posso dizer pessoalmente que este é um dos documentários mais importantes feitos para cobrir esse lugar neste período de tempo. Não Madonna não veio com a idéia de Voguing, mas é de onde ela tirou! Em vez de combater a violência uns dos outros ou em brigas de gato, o voguing permitia que as pessoas \"lutassem\" dentro dos confins de tudo, menos que tocassem umas às outras, o que justificaria uma desqualificação automática. Vendo este tipo de extraordinariamente talentosas / bem orquestradas \"jogadas\" nos clubes foi nada menos do que espetacular e todos os grandes nomes de antigamente estão aqui ... Pepper La Beija, Paris Duprée, Xtragavaganza, etc. ..tudo comemorado nos gostos de peças de época como a música de Malcom McLarens \"Deep in Vogue\" ... não importava quem você era, ou de onde você era porque quando você passava por aquelas portas nesse \"reino mágico\" de De certa forma, você se tornou parte de algo maior que você / você era importante / e, o mais importante, a criação de seus próprios movimentos e imaginação ... e qualquer pessoa de qualquer lugar poderia se tornar Rei ou Rainha como poderia ter sido. As palavras e inteligência eram tão afiadas quanto os movimentos no chão. Toda a tensão, excitação e magia dessa energia urbana de NYC é capturada neste filme. BRILHANTE!!! POR FAVOR, LIBERE EM DVD para o mundo ver !!! Obrigado!\n"
          ]
        }
      ]
    },
    {
      "cell_type": "code",
      "source": [
        "print(textos.sentiment.value_counts())\n",
        "#Está bem balanceado?\n",
        "classi = textos[\"sentiment\"].replace([\"neg\", \"pos\"], [0,1])\n",
        "textos[\"classi\"] = classi"
      ],
      "metadata": {
        "colab": {
          "base_uri": "https://localhost:8080/"
        },
        "id": "AHZ2P0FjrC4T",
        "outputId": "6b2c5329-df45-4a15-d03d-af8871a730d4"
      },
      "execution_count": null,
      "outputs": [
        {
          "output_type": "stream",
          "name": "stdout",
          "text": [
            "neg    24765\n",
            "pos    24694\n",
            "Name: sentiment, dtype: int64\n"
          ]
        }
      ]
    },
    {
      "cell_type": "code",
      "source": [
        "textos.head()"
      ],
      "metadata": {
        "colab": {
          "base_uri": "https://localhost:8080/",
          "height": 206
        },
        "id": "-iZjLMRqsXJM",
        "outputId": "deb19093-f33c-4152-f42f-0f18507a63f5"
      },
      "execution_count": null,
      "outputs": [
        {
          "output_type": "execute_result",
          "data": {
            "text/html": [
              "\n",
              "  <div id=\"df-202687d1-60fc-4a57-9962-f2a20bb0cb34\">\n",
              "    <div class=\"colab-df-container\">\n",
              "      <div>\n",
              "<style scoped>\n",
              "    .dataframe tbody tr th:only-of-type {\n",
              "        vertical-align: middle;\n",
              "    }\n",
              "\n",
              "    .dataframe tbody tr th {\n",
              "        vertical-align: top;\n",
              "    }\n",
              "\n",
              "    .dataframe thead th {\n",
              "        text-align: right;\n",
              "    }\n",
              "</style>\n",
              "<table border=\"1\" class=\"dataframe\">\n",
              "  <thead>\n",
              "    <tr style=\"text-align: right;\">\n",
              "      <th></th>\n",
              "      <th>id</th>\n",
              "      <th>text_en</th>\n",
              "      <th>text_pt</th>\n",
              "      <th>sentiment</th>\n",
              "      <th>classi</th>\n",
              "    </tr>\n",
              "  </thead>\n",
              "  <tbody>\n",
              "    <tr>\n",
              "      <th>0</th>\n",
              "      <td>1</td>\n",
              "      <td>Once again Mr. Costner has dragged out a movie...</td>\n",
              "      <td>Mais uma vez, o Sr. Costner arrumou um filme p...</td>\n",
              "      <td>neg</td>\n",
              "      <td>0</td>\n",
              "    </tr>\n",
              "    <tr>\n",
              "      <th>1</th>\n",
              "      <td>2</td>\n",
              "      <td>This is an example of why the majority of acti...</td>\n",
              "      <td>Este é um exemplo do motivo pelo qual a maiori...</td>\n",
              "      <td>neg</td>\n",
              "      <td>0</td>\n",
              "    </tr>\n",
              "    <tr>\n",
              "      <th>2</th>\n",
              "      <td>3</td>\n",
              "      <td>First of all I hate those moronic rappers, who...</td>\n",
              "      <td>Primeiro de tudo eu odeio esses raps imbecis, ...</td>\n",
              "      <td>neg</td>\n",
              "      <td>0</td>\n",
              "    </tr>\n",
              "    <tr>\n",
              "      <th>3</th>\n",
              "      <td>4</td>\n",
              "      <td>Not even the Beatles could write songs everyon...</td>\n",
              "      <td>Nem mesmo os Beatles puderam escrever músicas ...</td>\n",
              "      <td>neg</td>\n",
              "      <td>0</td>\n",
              "    </tr>\n",
              "    <tr>\n",
              "      <th>4</th>\n",
              "      <td>5</td>\n",
              "      <td>Brass pictures movies is not a fitting word fo...</td>\n",
              "      <td>Filmes de fotos de latão não é uma palavra apr...</td>\n",
              "      <td>neg</td>\n",
              "      <td>0</td>\n",
              "    </tr>\n",
              "  </tbody>\n",
              "</table>\n",
              "</div>\n",
              "      <button class=\"colab-df-convert\" onclick=\"convertToInteractive('df-202687d1-60fc-4a57-9962-f2a20bb0cb34')\"\n",
              "              title=\"Convert this dataframe to an interactive table.\"\n",
              "              style=\"display:none;\">\n",
              "        \n",
              "  <svg xmlns=\"http://www.w3.org/2000/svg\" height=\"24px\"viewBox=\"0 0 24 24\"\n",
              "       width=\"24px\">\n",
              "    <path d=\"M0 0h24v24H0V0z\" fill=\"none\"/>\n",
              "    <path d=\"M18.56 5.44l.94 2.06.94-2.06 2.06-.94-2.06-.94-.94-2.06-.94 2.06-2.06.94zm-11 1L8.5 8.5l.94-2.06 2.06-.94-2.06-.94L8.5 2.5l-.94 2.06-2.06.94zm10 10l.94 2.06.94-2.06 2.06-.94-2.06-.94-.94-2.06-.94 2.06-2.06.94z\"/><path d=\"M17.41 7.96l-1.37-1.37c-.4-.4-.92-.59-1.43-.59-.52 0-1.04.2-1.43.59L10.3 9.45l-7.72 7.72c-.78.78-.78 2.05 0 2.83L4 21.41c.39.39.9.59 1.41.59.51 0 1.02-.2 1.41-.59l7.78-7.78 2.81-2.81c.8-.78.8-2.07 0-2.86zM5.41 20L4 18.59l7.72-7.72 1.47 1.35L5.41 20z\"/>\n",
              "  </svg>\n",
              "      </button>\n",
              "      \n",
              "  <style>\n",
              "    .colab-df-container {\n",
              "      display:flex;\n",
              "      flex-wrap:wrap;\n",
              "      gap: 12px;\n",
              "    }\n",
              "\n",
              "    .colab-df-convert {\n",
              "      background-color: #E8F0FE;\n",
              "      border: none;\n",
              "      border-radius: 50%;\n",
              "      cursor: pointer;\n",
              "      display: none;\n",
              "      fill: #1967D2;\n",
              "      height: 32px;\n",
              "      padding: 0 0 0 0;\n",
              "      width: 32px;\n",
              "    }\n",
              "\n",
              "    .colab-df-convert:hover {\n",
              "      background-color: #E2EBFA;\n",
              "      box-shadow: 0px 1px 2px rgba(60, 64, 67, 0.3), 0px 1px 3px 1px rgba(60, 64, 67, 0.15);\n",
              "      fill: #174EA6;\n",
              "    }\n",
              "\n",
              "    [theme=dark] .colab-df-convert {\n",
              "      background-color: #3B4455;\n",
              "      fill: #D2E3FC;\n",
              "    }\n",
              "\n",
              "    [theme=dark] .colab-df-convert:hover {\n",
              "      background-color: #434B5C;\n",
              "      box-shadow: 0px 1px 3px 1px rgba(0, 0, 0, 0.15);\n",
              "      filter: drop-shadow(0px 1px 2px rgba(0, 0, 0, 0.3));\n",
              "      fill: #FFFFFF;\n",
              "    }\n",
              "  </style>\n",
              "\n",
              "      <script>\n",
              "        const buttonEl =\n",
              "          document.querySelector('#df-202687d1-60fc-4a57-9962-f2a20bb0cb34 button.colab-df-convert');\n",
              "        buttonEl.style.display =\n",
              "          google.colab.kernel.accessAllowed ? 'block' : 'none';\n",
              "\n",
              "        async function convertToInteractive(key) {\n",
              "          const element = document.querySelector('#df-202687d1-60fc-4a57-9962-f2a20bb0cb34');\n",
              "          const dataTable =\n",
              "            await google.colab.kernel.invokeFunction('convertToInteractive',\n",
              "                                                     [key], {});\n",
              "          if (!dataTable) return;\n",
              "\n",
              "          const docLinkHtml = 'Like what you see? Visit the ' +\n",
              "            '<a target=\"_blank\" href=https://colab.research.google.com/notebooks/data_table.ipynb>data table notebook</a>'\n",
              "            + ' to learn more about interactive tables.';\n",
              "          element.innerHTML = '';\n",
              "          dataTable['output_type'] = 'display_data';\n",
              "          await google.colab.output.renderOutput(dataTable, element);\n",
              "          const docLink = document.createElement('div');\n",
              "          docLink.innerHTML = docLinkHtml;\n",
              "          element.appendChild(docLink);\n",
              "        }\n",
              "      </script>\n",
              "    </div>\n",
              "  </div>\n",
              "  "
            ],
            "text/plain": [
              "   id                                            text_en  ... sentiment classi\n",
              "0   1  Once again Mr. Costner has dragged out a movie...  ...       neg      0\n",
              "1   2  This is an example of why the majority of acti...  ...       neg      0\n",
              "2   3  First of all I hate those moronic rappers, who...  ...       neg      0\n",
              "3   4  Not even the Beatles could write songs everyon...  ...       neg      0\n",
              "4   5  Brass pictures movies is not a fitting word fo...  ...       neg      0\n",
              "\n",
              "[5 rows x 5 columns]"
            ]
          },
          "metadata": {},
          "execution_count": 22
        }
      ]
    },
    {
      "cell_type": "markdown",
      "source": [
        "![Screenshot 2022-02-10 at 10-37-48 introducao-ao-pln-com-python Aula1 ipynb at master · alura-cursos introducao-ao-pln-com-p[...].png](data:image/png;base64,iVBORw0KGgoAAAANSUhEUgAABBEAAAE1CAYAAACx/njsAAAgAElEQVR4XuydB3xV5fnHH0ZICCGQkIS9R5iCiKgsB+69qnWvOqqtWre1+ne3rlZt66q7VjusVnGBiKgooKgge28IewfC/P9+JznJyckNuUnuzb3n5vf0w8eSnPue9/0+517u83uf93nq1Hl3yj6TiYAIiIAIiIAIiIAIiIAIiIAIiIAIiEAFBOpIRNAzIgIiIAIiIAIiIAIiIAIiIAIiIAIiEA4BiQjhUNI1IiACIiACIiACIiACIiACIiACIiACJhFBD4EIiIAIiIAIiIAIiIAIiIAIiIAIiEBYBCQihIVJF4mACIiACIiACIiACIiACIiACIiACEhE0DMgAiIgAiIgAiIgAiIgAiIgAiIgAiIQFgGJCGFh0kUiIAIiIAIiIAIiIAIiIAIiIAIiIAISEfQMiIAIiIAIiIAIiIAIiIAIiIAIiIAIhEVAIkJYmHSRCIiACIiACIiACIiACIhATRJoWK+O1a9Tx7bs3luTt9W9REAEKiAgEUGPiAiIgAiIgAiIgAiIgAiIQFwRGJyZam8MaGdJdevY43PX2FPz19q+uJqhJiMCtZeARITa63utXAREQAREQAREQAREIE4J1MO89sTp3MKZVl1chCQC21OFyL9rowb29bAulpVc37nVNmQi5I6eZSt27A7n1rpGBEQgygQkIkQZsIYXAREQAREQAREQAREQAT+BX7TPNGTr28Zde60+Iu60enWtOYLmrmkp1r9pij2NnffnF62PW3C5acl2XpummP8e2wGloAFUj6ZJ9axVcpJ1T0+xgU0b2uHj5tt3G7ZXeg1vDGhr57fJKH7dzr37rOuns2zp9l2VHqsqL4BbLDetgd3cNdsGN0uz3bj/h3mb7c8L1krIqApQvSbhCEhESDiXakEiIAIiIAIiIAIiIALxTuCQjIZ2feds+3nrJtixZ9ha2q6dvMyei2MRoTGUj0GZjey5fq2tfWqDkLgP+WJupUUEklh9Yk9r1qAwC4E2dfMOOxRjba9KWkMVHoTh2Y3svUM7WiqEHa/N21qAecyz9RBOZCJQmwlIRKjN3tfaRUAEREAEREAERKCIQDqCQmae78KuK/+wlJ0/E50p9vVxRr0B/tD2V/AuC1vTBRiHu8i79+0rTmtnWNYQwVnB3r34ee3GnwKO4w/vYn2bNCwDIt5FBHfCOciemHZUt+KjB96FVEVEuK97c7sbf1ybtCHfLpi0xOZu21ljD8sbByETom1JJoT3xr+EuBPPGSI1Bkk3qtUEJCLUavdr8SIgAiIgAiIgAiJQSOAfSCE/u1VTp5Dd/mz7nr2OePDv5Rvt+p9WhLy0AYZYcFwPawSxgOKEf6edYxzxFVLdN1Y+1T3R/HVdx2b2576tAysi1IevvxzaxQ5FIUS/VVZE4LOy/uTeRqGJRwi+2bDNThu/yDbVcHeGTwd3suHZaSEftUfmrrY7p+cl2mOo9YhApQhIRKgULl0sAiIgAiIgAiIgAolJgGfyT22Zbq9iF5Zt9cqzo3DOfRrSyykkMNOgPGO6ezZS0q9BkHwLzpa7xiJ5p01YZF+s3RrowoGRegqOQbA6EkGr34KSicCA/5NBHe3onMbVFhFOaN7YPjyso5O5csvUlfbswrW2KwbZKg/0aG535ZZkQ7gL24N5HT1ugX2xbluk3K9xRCCQBCQiBNJtmrQIiIAIiIAIiIAIRIeAP53ce5cCZBA0GjHNOeoQriUjs2HG8FzriIr7awp225EQIWZsKQj35Ql/3bBmjWzs0M6BFREoN30MEeHYaooIFCM+B4c2KUl2xY9Lbeza2AXqrVLq28v929qRWWnFmTn5ePZfQo2KW6evdI7oyESgNhOQiFCbva+1i4AIiIAIiIAIiICPAKvuzxjeLWSxP17KKvnzK3k+/dFeLZCNkGOPzlljd8xYKeYeAhIRCmGcgSyYB3q0sD5j5pSpxRGrB6YNxITDIPKwRshYZM6wk4ZMBESA7VvfnSIpTU+CCIiACIiACIiACIiAQ4A7yzwTflQ5Z8Kvwi7xi4s3VIrWY71a2iXtMhwBoqbPt1dqojG4WCJCIXSKV5vQ9SAP2SoyERCB+CYgESG+/aPZiYAIiIAIiIAIiECNE+iTnmzfHdEVXRhKt7jjRLgjexTOhVfGvkKa+vj1+XYbUsFlpQlIRNATIQIiEDQCEhGC5jHNVwREQAREQAREQASiTIAtHCeg9WC/EK0HeetuyCiYF+aRhtR6dWzrKX3sSHRjUEG6so6TiBDlh1nDi4AIRJyARISII9WAIiACIiACIiACIhB8Avd0b2734k8oe3nxevvFj8vCWuTAjFQbicJ7rT+ZYfl7Kj5FC83BjkBBuxNRqb8TijGm16/nHLHYgz/rdu62yZu22/srNtuMrVUrznh4ViM7HefvuzZKtiZJ9Yz32455rdyxyyZsyLd/Lttoa3fybvs3tiM8DnMcktnIWjdMclpZsogki+5tRgeKWZjfeys323cYc3+rDkdEaIp5/qx1EzsMLNPx/3egyB+LU762ZL0t3xE6/f9IrJO8t+3Zg5aJdSwFC83Ea1thrrlpKTYbr38Zr3eN1+/A9VtxPQ+1cC0ZvB6FDrukNXA6dtw5o2xrw+oWVmyZXN9OaZFuB2U0tGz8/ybwN32yAxw3wA9T0QnkLfhkYf7OkA5phIv5jLFbCFuHcp6N4Itm6AzSPjXJumOtLy5eh+dmh/P689o0tTPh/yzci34fh04LT85f47Ain97pKRhrj+NHtjvl85eVXM86pSZbG7C7Z2ae49+KrC/GOb1VE+vZONkyG9RzfEDbiCMbrCkyIm+TfbUuv6Jh9HsRiEsCEhHi0i2alAiIgAiIgAiIgAjElkAWAp/5x3a3xgii/LYIAd2Bn8/BGfaKg6lbumQ5AdnTC9btd0EMsU5q0dgeRf2E7o1TnGvZSvKiSUts+pYddk7rpvZkn1ZO8Ef734pNdvfMVc7vwrGjUePhDxi7f9OGzuUssP/Wsg32wqJ1xvX0SW9ot6IVJQPSuxAs/2XBWrQaLDtyEwSoN+G6X3ZoZq8t3WB/nb/WFm3fZSkIOC9vn2kP9mxhDPoL77HP3kQAfAeOcawoJ9jfn4jwEsSas1o1tUd7tzRmdGQiMPYag+a7EdQ+NW9tmXaZbwxoa/2RSeKy9K/kWfjjup+WF//41f5t7AAw6FfEx3/9jxu320Fj55YBUlURoTMEojtQbJNtRe+dtcr+s7xQvGEgz5agN3fJLu6MwK4gf5iz2v4E1v4Anp0Unu/XxvEbRYhQdtL4hY74xOuYZVMAweB4CEAUCeAiewViylUQxRjwP4Fn7JAiscY/1mrUa+j92ez9ikwHNkmx+1Eg8iQII7Q8iFPXTlnuCEpDUKTxBcwhF/ehTcGc7pieZ6NXb1G703DexLombghIRIgbV2giIiACIiACIiACIhBfBP58QCu7rlNWmUntQ+Q1/OsFYbXhG4MijUfj2v3JDay88CyCq8tQfLE+Ajsa20F2GDnTtnva6V2PuTyJObnGQnwMEL9BvYX92Z3dspFV0aI4KOW1N01dYU8jKHXnNQDB878Obm8dsHvNn72Adn7XIfjzWjaElWlH51oWAl3qCzMgYLA+hDdz4exW6favgR2K9p0LXz1y1RY7AfMMZfsTESjgdEIWwF0INCnEHJeTZn8f0A5ZBSW1KihUPAch5FdTVpQZnsLGuGFdioUT7wV+EYG/a4Bd/P8e0r44APZeH0kRoR8Cbc6rIeZH1u+u3GQXTlpa3DqRT8Cz/VrbVRBqXOMz9xT8ddO0snU1eD3FhGloJcrsEr+dOmGh3dg5G8H8MlsPoWImfEixog7WS+PYg76cbxORNUKy5yDr4008C36rSERglsPLEGNYS6RwZIz17WJ7G4KXa3259qFdnGwJ2m749b7Zq+yh2atDPh/6oQjEIwGJCPHoFc1JBERABERABERABOKAwKHYkf0GtRFCGYPKAdiZ3l+qPtPv78jNsdMmLNrvau7DsYk7u+UUCwi8+CmkmP9maumAkSn2MxAAdkxtUDwed+OP/2ZBuanh13VsZo9hJ98beDOF/ahx84szDQ6CgPAJjlwwBd61bUhZH/jFXJuJtH/XnsIu9a87lxZVPl+z1RFUXGuLlPcfjuxaaiwG+sd/s9BG41q/lSciPLdwnf2EFHwKBF67CzzZCtFvJ2L8T7Cj7TdyfQjZEX4LJSLwmqNwrGEUhJ+6RQG2+7pIigifD+lkh+PIimuOQIDMj5s8/j4WgsmHh3XE0QY3HDfLh086jpppa0IcN+ERiM8w72Gecd3x6W9mMnwEMecu8HggBI9rJi9zhCMaxaJVJ/Yqw2x/IsJpyDx4AwKPKw7wxRTCOF/vMR7Oc8ShHZ1MCNfYQvL/ZuVhjmvK3FM/EIF4JCARIR69ojmJgAiIgAiIgAiIQBwQ4E72suN7Ome6Q9lhCLInbthe7kxfOrCNc+b8lSXlt4Q8GAH8RHSC8BuzF8aECLof7NHcfptbulbDl2sLRQF/tgPT+SchoPfbhTgiwWMGrrF7xGCkmvvt598ttn8vL9lFnnpUN+uFs+5+6zJqli0oOrPPAPTHI7s5tQe89gkC2BNDZCOUJyIsxni5n862ncy39xiD0CXH9bCWqFXgtfHrt9lg7Kb77YK2Te3vB7Ur8/PyRIQ+WN8k+IOp/l6LlIjA/fftp/YpM/5W1CFI/2B68S0pYH0Bv/jn8StkhzwDgSWU/XdgezsDdQj89lHeZju5SMh6/aC2dmHbjDLXXP7DUnvV85zuPq1PGSGlPBGhMbIKyKwr2lR6jcdYHp1bVhgYjqM1bKPqtc3Iqhk4dp7N2Va1Wh8hgeiHIhAlAhIRogRWw4qACIiACIiACIhAIhC4FEcMXu7fNuRSHp272jnTHcooQIxHFsOgL+c5BezKs2f7trarkS3gNV6dPmIqigKWfd0J2MEdcWiHUgEed/pPRZDInWav8Zz/xe0yS/2Mhe1yPppenIWQhFh53jHdra0nu8F9gXd3mj+bBhGhZwgRoRfOybsZC6wlQRGBxRa9tgZFIZt/NKMMhvJEhNuRtv/YvNA70y8g1f8XnlR/DkoGh34xzyYhQ8RrLMjIYxp+K09EYF2AHzB/1g7wWqREBI5agACdBRC9xuMaKe9PLf4RaxxQ3PGLCH9DZsbVk0sfM3Ff9NbB7exc1M7w27W43s3o+BOySW7wZZPwKeuEozOLUdvCtS2n9LZGnmMj/Hl5IsKpyEJ4B8dAvNkbHJPP2boQWRMUUjadjPGLjjRwbGZjPIxMBNa4kIlAvBOQiBDvHtL8REAEREAEREAERCCGBBjqLUCBxfYhguwFqDLfBe0eQxm7FpzdOt1u9B1J8F+7GGP7A/iZqDXQ67M5IcdldsE3h3d2zp17jUcFjkP2gis7MJhfeGyPUoEar38X59PPwjl1rzEAPL1l6R1sdkAYhraU3qCcxy7u9nWs+AYZAEORAeC9bygRgfUbmn88o/jcv3v/cLoz+EFc1SHTnkMNCb89gyMBv/qpdG2EeBMROGc/bwbQz+MoAQsQulaeiDACBQpPm7go5LPxFo4TnIu6BH7jcZoRyEagdUTNi3/gOo7PoJ9+Ye0Lb2YKr6uMiPAdshB4JMZrPMpAf5dnoQSptRCaWuE1oQp6ljuQfiECMSAgESEG0HVLERABERABERABEQgSAR5LuAydB0KZN0Bzf0/h4TOce78X3RO+xHGG8iwXRQNnHt29zK/fQ6G9MyaWDvTdizpBzPhpeDd0KygtIiyCoOF0jChqv3c5MhBeRCaC3+7FTu/9viJ2mUl1IUx0tS7oGMDAkvUQ/oVuAVfjnLw3GaIprnsbRRN7FFXXX4mOCz+DIOFtP8jjDNzJ92ciMF29JQJEb6FIzq0qIgJ3vv+HbAy/fQ3WFD68+RvxKCKwMwOPHjRHNwUGzN9vzLdLcZxgo6fbBzskfBkiE+HT1RCLUAMjlJUnIrD45seeLBU+n8y4YBHGSbj3zhBVP8MVEXLg77wQ9RNmQQjrWY4QxrmPwfuDrUz9duCYOTYFXUlkIhDPBCQixLN3NDcREAEREAEREAERiAMCgzJTnWr6oewbBK6Hox6BN9juhCDxe+zOsruCG9SHeu2VECaeh0Dht2dx5t3fGcG9hoHn3GNyLc3XenIddnEP/HyuLStKSWeRu/ND7Epf+v0Se31pST0Ed9xmCAY7pyZbs2S0tsS59Hlbd4bsKEHpgm0mGYjynv5dYwoRLKzon58jInwCEcF3RKMqIsIRKH44ZkjnMtymI/jsDyFll0dFiEcRgRPncQl2SNiDLAR2t/AfXDkXxzCYMeAv8PgZMk6O8RSy9EIIV0QI5y0VrohwGN4bX4d4b3yHTg+H4HhJefYusl9O82W/8Fp/HY5w5qprRKCmCUhEqGniup8IiIAIiIAIiIAIBJDAWAStwxC8+o01Bhi4LsovOU9+BcQB7jb/dsb+z3c/jq4JN3XJLjPmw2h59ztkMYQyZgMsRmFBtj/0GrMHOI+5yEjgb1iUb1CIYonMHPivp+VepFzBe56NwPeajllOanua57w77xFJEYG79Kw34bd5WwusN3ayWV/AtXgVEcrjzjoEl7fPsPNR/JBtN73dGfiaeBMRTm/Jeggdyiznq7VbIa6FzpjgxW9CIPl5CJHrN2g9ylaWMhGIZwISEeLZO5qbCIiACIiACIiACMQJgROLChrW8RXE4/RuRuDzJ0/g8+FhHexsBOv7K6jI172C4waX+Aof8uf34MjBg74jBy4GVsJfChEhHbvYXivYSxGhsCUjd7m/HtYZwXxqGXqhjl9UFTE7JTRLqm/HNU+zh3u2tDwcb7gImQ6svB/yOEOEMhH6I7hmNwC/saNDj9GzbUfARAT6izUsLoJwcA9qTrCTxRMoKvk5hCt/YcV4ExEugBDwdwgCfvO3/vT//jV0ieB6/ba/Z7+qz6leJwKRJiARIdJENZ4IiIAIiIAIiIAIJCCBHKTwz0cXA29FeXeZLCLXHkcXGLz2QJu7v6DjwvByUs69aP6OQOqCEIHU3chgeGjO6pAU07BTvez4siICd9+ZiTADIkIyO0Mgxbyfr9gdBzwLRfneRXG+6hiPMpzZKt1+3TnbemK9zDpg1sXLi9c7AkaowoqRzEQor3XlIogIPQMkIpDVlSgSeRmEpK6oj0EfXoT2m5+jZWdfFNAM1Z0h3kQECgEUBPzG9qRsU1qevQYB7aIQAtq9s1bZ/fgjE4F4JiARIZ69o7mJgAiIgAiIgAiIQBwRKC9zgFM8H8HfP5dttOfRNWDuth32+NyKU7Kfgdhwja+9I8diEMVgKpQ1QcC+hMcZfJkI29FNgZkIs5HS3wDZEuOQiTAAaf9+uxDz9FfiDxcx20GeinPs9/dojuKKKc7L2Pbvqh+X2ftF1f/La/EYSRGBaf7fhshEmIO1HxCA4wwUXXjk5fauOdYipb7DcQYKEVJA+HFTYVHB8rozxJuIcE6rJvZPFIn02xc4znDkfo4zvAHhgUc2/HbH9JX26NzQrT3DfU51nQhEm4BEhGgT1vgiIAIiIAIiIAIikCAE0hH8rUYleu4g++2/yzfZ5T8utYk4q38Ugqc8BNcV2R1ds+3hXi3LXPZHpLLfMm1lyJczSGfLSX/hQrbqYybCQtRm4Ow+R/X7YSGq3/92xkr7w5yqBWk3d8myx3q3KjWv87+DeIJODq7VhIhQXqHLyZu228Cxc0sVe4y3mgg8AvI3CE2Xerp97MRRlMFok/n9xu3FHIMiIhyTnWYjcXzFb+PR+pNrKs/+fXA71NAo247ySryHXlq8oaK3jn4vAjElIBEhpvh1cxEQAREQAREQAREIFgHWOziheXqZSW9Ehf1TJyy0K5FZcMn3S8Na1NEIwEaFCMDeWLrBLi5njDYNk2zm8NwyxypWoCsDuzOsQccEGjMimCrvt3dQVJH1GiprZ2LHmcXw/AJK84+m4557alREODYnzT4ZVDZwHb16ix37zcJSS4s3EeEJFNO8oXNWqa4LC1AMs/voWaXEj6CICLk4zjLz6Nwyj9NPEHT64Xkszz4+rCNqaTQu8+vhEOA+RxaDTATimYBEhHj2juYmAiIgAiIgAiIgAnFG4GKkYL8a4gw4p7lqxy77OVLSv8CZ9nAsBRkNa5DZ4K+zMB5tIwd/FXoXt2fjZKeoYApqI3iNQdvAsfNsJ1oG0sqrms8uDqzfsB6ZC/szZl2wOCILNbKEI3ebj4Lo4bUtGKvJB9NK/awmMhF+jh3sN7GT7bfbkb3xGLI4vHY2xI9/h0i3f3YB2mj+tLzMGL3A9/sju5URS35ElsBByHLwG7M+Ph7U0Y7NKRsQH/LFXPtuQ0l2QXls3lq2wS6YVFp4CoqIUB8AVp7Qy9gi1GtLUZ+i/ahZ5T5i3yJjx3/cZhdqQrT8eEaFz2Y47y1dIwLRJCARIZp0NbYIiIAIiIAIiIAIJBgB7sRvOKmXNfQF8Vwm6wP0+my2rfPszFe0/FHYUT8aO+te27p7j6V/MD3kS4c0S7Uxgztbfd+RigdRQ+EeTx0FBrfrMc8mvtoJHPSvC9bar39asd+pjTi0g72+ZIP9B5kLLNT445FdrXtRHQT3hRuwzmbIRPBaTYgIv+2WYw/2bFHqvpROWviyInjBaWhB+G6IFoTliQgHoqAhj6T4+UZCRGDbT3L0H0X5Ozhf8kMwRQQy/j06c9zerXSrUh7RSHm/tMDkdRiLg7ZKSSrlw5HoSnHC+NKZJBW9f/R7EYgFAYkIsaCue4qACIiACIiACIhAgAnc2z0HrfhKB7FczivoTnAFigxWxn6Bs/EvHNimzEvYZWAWCgX67fJ2GfY3XO9tNcnuED1DiBePI3X+pi6lgzuOtwVZCNdDRHgNxyb8RsHgryj4eGqLdKdIIWs7MGPihxAiAgP3HATuXtGkJbpY8NrmvgAxkoUVP0Iq/PG+VPi/Yy2hjpEMbdbIvhjaucw6/7ZonV09uWwmwoVtm9pr/duW4ssXT0XBw76oOeG3ymQidIGIQDZ+EYEFIXvB397ckGGY92hkf/jFjKoUVjwZgflHCNArY1tO6W2NfEIZRbLeeM7W+kSyDqlJWFc3a+oTrE74ZoGNXF32aEIrFJNcjOKg9TztUpmFwPajn+BIikwE4p2ARIR495DmJwIiIAIiIAIiIAJxRqAHUt6/PbxrqWMIbM+X++ksW4zaBJUxBuhfoR3jQb52jDciyH8aGQN+CxVA3zpthT0xr+y17XEcYQJ21f0BvTsmMw1Yf2E9gsIUVPzrm97QbsOOcksIANdOWYaWjYUiA1PWxwzpbEMQ2PqN1fSfnr/WaW/J+z3Qo4Wd06YJjgOUPm5BEaHVJzMsf0/hcQvXGCyPDRHkXzt5mT23aH2Z+7WASMHCkt7jHOxMcegX82zq5sLOBl5riYCV3Sy8ASt//y4yLM7y1YZgSj6PJrCFZF1PgMvrlyA9vwv8u7v09I2r/BTB/pG+ox58zdAv59nX6/OLp9Mcc2cmQgufwMIAml0z3lm5yYinT3oKalq0djo0+OfxOVonltc+lBkXzLzw28XfL4GfS4pfVvR8UhjZedoBYFb6ynWot9HrszlOxo3XyODpA1rbtZ2alfr5VzjWc8S4+eZDhmekud2V27zUtV/iCA9Fh+2+56Oiuer3IhALAhIRYkFd9xQBERABERABERCBABPg6e8fjurmBHuuVVSNfn/LbYOg8tsjupQKLr9GUDXUVxehN+43GUGoN7D8aNVmZwe3vNirAwJ7nvHP8J1Zd+ezBzUU+KcO/lcfgTNj52dQL+BXvnoBtyCj4VFkNviNr+Wxhk2oj8AshL8sXGsnofBkLw8bvoZHNNqhFsOmXXudIdzAsrIiwovIwri8VGeDfXYSdtq5Q1+efYRimMf7imGGOrP/Po5w/G/FZnsGAby/gORGiCDMDvF33WDmBmtU+NfLuVwAYeAttP10jTE553JciMKcFBKYUUI62fDVtVOWO4G5v17GD6jNcDBqM3CsQpKFRqHnq6Fd7JDMsm09/4U5nIe5hGvMFFh2fM8yl++Gr3uPnmNztpXNkOH93z+0dIbIPlzP4opecScD2QpTh3crdZRhOsSfAVhTARjIRCAIBCQiBMFLmqMIiIAIiIAIiIAIxBkBf2eF383Is4fnrK7yLNsh2H8Y5/zPR+FG2l4EYE9hh/9O7PTvRGzFYPVT1E8YklWYDcCg/MHZq+1JXMMsiP1ZXwT0f0VgPCizbCaB93UMZP+EwoT3z15VJmOAQfXL/dvY+W0K5+c3vvZmZET8BQIEd8P/g2KGFCVc43pGIbU9CdvW985cVbxDf1YrXtuhcM34MxMBJTMjNmN9t6JQonukg7vdl7bPsKf6lATW83AM4NcQOzju/ggw3f5bBPpZDeqXmvZcvP77jfnOPPsi++Au+HDGlh1Oar5fRGBAzN3yF3FkhR0ukvCaQ5ApcDGOl/y8TdMymQ68Ecd/ZO5qm7Au32YUHU2hQPAuxIryfLFh12679Ptl9kHeZrTTLHscJR9izag1WywNRw3OhzCQjyyMY1DUkczpm1DtR132IzAmmX1ajuCShmKaQ/CMXN0xE+M1Cenn2Si0+dCcVU7ByNm+4zZN4dzrO2XZrV1zisWPz+CbM79dZCzCSaHhyT6t7Bp0MKEQthvPDDNhfjczz1bsqLglapXfXHqhCESYgESECAPVcCIgAiIgAiIgAiJQWwj85+D2OCpQ30lpvxz97eds3VntpVOcuBG7/rlpDYy7tlNwFn8GArdTESRSSGAq+Xcb8u1hCAjzkWIfrvG1V2AH/0KIFBQseH6d5+0pQPCoAc/lPw4B4WOcnS8vIGfgfEWHDDsPwWomXs90d3Z7+AGdISigLM4vOcpxbusmdj1aGTapX8/JbmCwO3H9dhy7WGMLPfO+OzfHLkEg/iqOVvwFx8rvT+EAACAASURBVDc2FmUqNEFAy8wHHkOgYHIogtsDIIYwGM0r2GWfIjh9AIUkmQERjvVJT0ZQ3sp6oTgkuRaufa9Tz+EnMKYYsQRHUdiykEUleZ8tuO8GsGH2BDk1xILJ7TpkCbRG9sgferWwXYDFtfEPd9Kp5yRh7Ib4k4o18LgKA+9r8BrX2PnidhSHHA5fUwwgn824B1sb3o818WiIa7d2zTZ2mGCAz8YbmzAnrp1HSNhhg75kO0/Ol8c6tmNNBUhL2YWLya4BHs5kHC3h8Y9UzB/esNMmLgqJjEdq/gjmXNM2joVxCvBfEk7CHFlMlJkRfJaYXcC6GqGsOxjegfUdnNHQEW7ImM/VYBQFZXFJikTT8HqKZBRmZCIQNAISEYLmMc1XBERABERABERABOKEgPfUf3ihbHgT5/59YwRrDNoYuDPIZFxZgACxMGCtetp3AwzGgJQ1EBhk8jjCDozHnX//ef/yZkvxgIEk/8cMBLetpP/6wusQJOMXDGpDZUwwoObvQ4kBLgcW+KvHbhRFDLYWBbjh0Sy5ijvh6RA1uHbuhHPtDLwZwLv+45wZ2DOQ53z3R5rzC8cT5V3HwNytHUHflsefzwAzDDgbzilcP1WWD6+v7pq896TfKFxw7uTNZ5jPAZlvhegRDruqrEGvEYFoE5CIEG3CGl8EREAEREAEREAEREAEREAEREAEEoSARIQEcaSWIQIiIAIiIAIiIAIiIAIiIAIiIALRJiARIdqENb4IiIAIiIAIiIAIiIAIiIAIiIAIJAgBiQgJ4kgtQwREQAREQAREQAREQAREQAREQASiTUAiQrQJa3wREAEREAEREAEREAEREAEREAERSBACEhESxJFahgiIgAiIgAiIgAiIgAiIgAiIgAhEm4BEhGgT1vgiIAIiIAIiIAIiIAIiIAIiIAIikCAEJCIkiCO1DBEQAREQAREQAREQAREQAREQARGINgGJCNEmrPFFQAREQAREQAREQAREQAREQAREIEEISERIEEdqGSIgAiIgAiIgAiIgAiIgAiIgAiIQbQISEaJNWOOLgAiIgAiIgAiIgAiIgAiIgAiIQIIQkIiQII7UMkRABERABERABERABERABERABEQg2gQkIkSbsMYXAREQAREQAREQAREQAREQAREQgQQhIBEhQRypZYiACIiACIiACIiACIiACIiACIhAtAlIRIg2YY0vAiIgAiIgAiIgAiIgAiIgAiIgAglCQCJCgjhSyxABERABERABERABERABERABERCBaBOQiBBtwhpfBERABERABERABERABERABERABBKEgESEBHGkliECIiACIiACIiACIiACIiACIiAC0SYgESHahDW+CIiACIiACIiACIiACIiACIiACCQIAYkICeJILUMEREAEREAEREAEREAEREAEREAEok1AIkK0CWt8ERABERABERABERABERABERABEUgQAhIREsSRWoYIiIAIiIAIiIAIiIAIiIAIiIAIRJuARIRoE9b4IiACIiACIiACIiACIiACIiACIpAgBCQiJIgjtQwREAEREAEREAEREAEREAEREAERiDYBiQjRJqzxRUAEREAEREAEREAEREAEREAERCBBCEhESBBHahkiIAIiIAIiIAIiIAIiIAIiIAIiEG0CEhGiTVjji4AIiIAIiIAIiIAIiIAIiIAIiECCEJCIkCCO1DJEQAREQAREQAREQAREQAREQAREINoEJCJEm7DGFwEREAEREAEREAEREAEREAEREIEEISARIUEcqWWIgAiIgAiIgAiIgAiIgAiIgAiIQLQJSESINmGNLwIiIAIiIAIiIAIiIAIiIAIiIAIJQkAiQoI4UssQAREQAREQAREQAREQAREQAREQgWgTkIgQbcIaXwREQAREQAREQAREQAREQAREQAQShIBEhARxpJYhAiIgAiIgAiIgAiIgAiIgAiIgAtEmIBEh2oQ1vgiIgAiIgAiIgAiIgAiIgAiIgAgkCAGJCAniSC1DBERABERABERABERABERABERABKJNQCJCtAlrfBEQAREQAREQAREQAREQAREQARFIEAISERLEkVqGCIiACIiACIiACIiACIiACIiACESbgESEaBPW+CIgAiIgAiIgAiIgAiIgAiIgAiKQIAQkIiSII7UMERABERABERABERABERABERABEYg2AYkI0Sas8UVABERABERABERABERABERABEQgQQhIREgQR2oZIiACIiACIiACIiACIiACIiACIhBtAhIRok1Y44uACIiACIiACIiACIiACIiACIhAghCQiJAgjtQyREAEREAEREAEREAEREAEREAERCDaBCQiRJuwxhcBERABERABERABERABERABERCBBCEgESFBHKlliIAIiIAIiIAIiIAIiIAIiIAIiEC0CUhEiDZhjS8CIiACIiACIiACIiACIiACIiACCUJAIkKCOFLLEAEREAEREAEREAEREAEREAEREIFoE5CIEG3CGl8EREAEREAEREAEREAEREAEREAEEoSARIQEcaSWIQIiIAIiIAIiIAIiIAIiIAIiIALRJiARIdqENb4IiIAIiIAIiIAIiIAIiIAIiIAIJAgBiQgJ4kgtQwREQAREQAREQAREQAREQAREQASiTUAiQrQJa3wREAEREAEREAEREAEREAEREAERSBACEhESxJFahgiIgAiIgAiIgAiIgAiIgAiIgAhEm4BEhGgT1vgiIAIiIAIiIAIiIAIiIAIiIAIikCAEJCIkiCO1DBEQAREQAREQAREQAREQAREQARGINgGJCNEmrPFFQAREQAREQAREQAREQAREQAREIEEISERIEEdqGSIgAiIgAiIgAiIgAiIgAiIgAiIQbQISEaJNWOOLgAiIgAiIgAiIgAiIgAiIgAiIQIIQkIiQII7UMkRABERABERABERABERABERABEQg2gQkIkSbsMYXAREQAREQAREQAREQAREQAREQgQQhIBEhQRypZYiACIiACIiACIiACIiACIiACIhAtAlIRIg2YY0vAiIgAiIgAiIgAiIgAiIgAiIgAglCQCJCgjhSyxABERABERABERABERABERABERCBaBOQiBBtwhpfBERABERABERABERABERABERABBKEgESEBHGkliECIiACIiACJJD6w1dm+/ba3oZpgQdSZ/cuq7dpne3JyLJ9desHfj2JtIB6WzY6y9nTuGkiLavUWpLWr7I9qY1tb0pqwq4xURZWZ+8eq79+te1ukmn7kpITZVmBW0f9jWttX/0k25PWJHBzT5QJ1y3Itzo7d9q2AUeY1asXtWVJRIgaWg0sAiIgAiIgAjVPoMWfbrW627fZvpSGNX/zSN9x926rt3UTAtUMfBmqG+nRNV41CNTdtsWsTh3bmxp8sao8DPU2rXcEhH3JKdUgpZfWCIG9eyE4wl8IXvclJdXILXWTsgTqbdlk+xC4JvLnQrz7vc7OAmwk7LOVNz0R1c8uiQjx/iRofiIgAiIgAiJQCQLZLz5kOzr1tK2HHVuJV8XnpUl5iy37H0/Z6it+a7ubZsXnJGvprDLeewU7jg1s40kXJCyBFk/dYZsPP9Xy+w1K2DUmysLqbt1sLf/yW1t73vVW0L5boiwrcOvIfu1R29W8rW08/rzAzT1RJpw6baI1Hvex5f3qIbOkBlFblkSEqKHVwCIgAiIgAiJQ8wSyX/q97eh2gG0ZelLN3zzCd0xavsByXnnU8q693/Zk5kR4dA1XHQIZ/3muUEQ44/LqDBPXr235yPW2afhZlj/g8LiepyZnVnfzRmv1xG9szSW3WgFEVFlsCGS/cL/tatHONp56aWwmoLta6uRxlj72fcu77kGJCHoeREAEREAEREAEwiMgESE8TrqqegQkIlSPn14dWQISESLLs6qjSUSoKrnIvU4iQuRYaiQREAEREAERqDUEJCLUGlfHdKESEWKKXzf3EZCIEB+PhESE2PtBIkLsfaAZiIAIiIAIiEDgCEhECJzLAjlhiQiBdFvCTloiQny4ViJC7P0gESH2PtAMREAEREAERCBwBCQiBM5lgZywRIRAui1hJy0RIT5cKxEh9n6QiBB7H2gGIiACIiACIhA4AhIRAueyQE5YIkIg3Zawk5aIEB+ulYgQez9IRIi9DzQDERABERABEQgcAYkIgXNZICcsESGQbkvYSUtEiA/XSkSIvR8kIsTeB5qBCIiACIiACASOgESEwLkskBOWiBBItyXspCUixIdrJSLE3g8SEWLvA81ABERABERABAJHQCJC4FwWyAlLRAik2xJ20hIR4sO1EhFi7weJCLH3gWYgAiIgAiIgAoEjIBEhcC4L5IQlIgTSbQk7aYkI8eFaiQix94NEhNj7QDMQAREQAREQgcARkIgQOJcFcsISEQLptoSdtESE+HCtRITY+0EiQux9oBmIgAiIgAiIQOAISEQInMsCOWGJCIF0W8JOWiJCfLhWIkLs/SARIfY+0AxEQAREQAREIHAEJCIEzmWBnLBEhEC6LWEnLREhPlwrESH2fpCIEHsfaAYiIAIiIAIiEDgCEhEC57JATjiWIkKjenWtR+Nk+3HjdtsTRXotH7neNg0/y/IHHB7Fu2joSBCQiBAJitUfQyJC9RlWdwSJCNUlqNeLgAiIgAiIQC0kIBGhck5PrlvHCvbuq9yLfFcn1zVr1qC+rdixu1rjBOnFsRIR+jdJsQ8HdbLmyfXt41Wb7aTxi6KGTSJC1NBGfGCJCBFHWqUBJSJUCVtEXyQRIaI4NZgIiIAIiIAI1A4CEhH27+eG9erYCTnpdm2nZtYxtYFN2LDN0pPq2czNBfbnBWutYM9eu7FLth2e1cg27tpjLyxabx/mbbbdRTrDNR0y7bRWTYy74SkQILIgHrRJTbL3Vm62n327uHY8ZFhlrESEDw/rYCc0T3c4z9taYN1Gz44a89ooIuSmNbDfdM62/k0b2vxtO533xPj1+VY9mS1qLioeOJIiwnE5adalUbLt2LsX7/G6lp1czzrh73k7dtlt0/Oiv5gA3yERRAR+rp/Xpqld2DbD6tepYx/g8//ZhetsK/5tCIJJRAiClzRHERABERABEYgzAjUlIqQhiM7Hl6pofq1KWr7Acl551PKuvd/2ZOZUm3RTiAWfDe5kB2A3e8vuvdZl1CxrkVLfPsHOdpuGSbZi+y6bunmHHYsgog6+PNL27NtnZ01cbO/jiyQtCT/vgkBrwrAu1hjjufbfFZskIlTbQ/sfIL1+XVt5Qk9riGeP9svJy+x5iDzRstooIkw5qqv1SW9YjHTDzj3W47PZtrogvrNsIiki8HPiZ62b2PP92pR6tP67YiPe40ui9bglxLiJICLc1DnLHu3d0uoW/RuwF/8GUEz7zdSVgfCRRIRAuEmTFAEREAEREIH4IhANESEDX6p/0T7TjkZwzR147swwdT8HO3RntmqKoK6Ocz6dgfSHq7ZEDEikRYQ3Dmpr52N3iTYS8zxp/EIbO7SzDWnWqHjOu/GFkbtPXrtrxkr7/Zw1xT+ikPATgq3cxikSEc64PGL+rmigdw5pb6e3bGLLIPZc/9NyJ/sjmjvktVFEyD+lt6UUiTSuPw4cM8emQFyLZ4ukiMB18pjT6hN7WuP6XqFQIkJFz0AiiAiv9W9rF7Ur/HfCtWhnPVXEtTK/l4hQGVq6VgREQAREQAREwCEQSREB2oCd2iLd/j6gnaUisBi7Zqsd/fWCUtkHTP1895AOxbv3Y3DNlT8us4X5O6vtkUiKCO2RaTDv2O5Wr0ggeGPpBrvih6X2/ZHdrHd6iRiwGUcYGmPH281EgKZg53632N6GQOIaJYYfj+yKjIaSHVtlIlTb3fsdIDct2WYenWsTkVp/1reLaqT+RG0UEWYOz4U4llzsiy2791jup7Mtz5eJwJoUDfDep8B4Bo73/LRpu70LUSdWFmkRgeuYdERX51iHa8pEqNi7iSAi3Nktxx7q2aJ4sfvwj8DLizfYlch8CoJJRAiClzRHERABERABEYgzApESEZIQKf+1b2u7CDv3yRAQ1iGI6PXZHFu9s2xaMwOJn47qZq0RqHNneC2uvWDSEhsNQaE6FkkR4f+6Nzf+ce3lxevtFxA77snNsXt7FH5h3IHjGacgO+EXHZoh66Kxbdi12x5FBsLrSzbYTqoJRSYRoeZrItzfo7lTg+L+Watr7GxybRQRDsRRn0d6tbSBGY1s3rYCu2dmHgpYbimV8UE/zIcgRxGBO/X872XfL7XXIMzFyqIhIow/vIsdkpEqEaESTk0EESEV6vlvUBfnavw7kISTU/9Zvsl5H2zcFc3De5WAXMGlEhEix1IjiYAIiIAIiECtIRAJEYFB8u+xE3Nz12xn5551AS5GkPDWso3lcuyTnmwTDu9afF6d9QWO+WaBzdxSUGX2kRQRPjqsox3fvHHxXF7EWfqrinaWDsJuI1sGjl+Xb/PDyKCQiFDzIsLgzFT7GlkINWm1UUQIhy+DrK2n9Cl1qUSEcMgl/jWJICIE3UsSEYLuQc1fBERABERABGJAIBIiwokItj9A0O3aGmQWHIBz0asqKK7mD9R/QJ2EIV/OQ5Xzqp1cj6SIwOMHfT3HD7wiQmXdJBGh5kWEyvooEtdLRAhNUSJCJJ6uxBxDIkLs/SoRIfY+0AxEQAREQAREIHAEIiEifD6kE1ocphWv/dPVW+z4bxZWWMTuRlS1/mOfVsWv2wXx4Khx86u8gxwpEYG1HX6AiOCtOh+OiFAfr+uelmJLt++0Tejm4FpVRQT2FKCc4koqPAbSDZ0e9uAHM7bsQLeLsmIL6zOwHgDXMG/rTluHmg3hWBO8jq0QuyPDgunmi5FhwboNa1FtPxJWky0eWeSOWSSsXcH0+WXwx0co7rkgf1ckllLuGJEUEXg8iO51nyL6tSd84/geRQvzQwhtDNZ7oHgnC3nO2rojrHRqlgHsjGdqC1KvV+5H9GONEB5TmoM2meVZQ3DvimePz6bb4pTXVlVE4PM/MKOhDUIhU9ZU2Ib31Dy0keTny5pqPpc1fZyBnwF876bjeeQaNoT5vmSHERao7Qm/8llei+NhFFu/XLvVdlVCa+VnE58d9yUtwbNjowYOU/or1FhZDeo5rSuZWcZrtoX4vKnuGyrSIgJ5sXPOjKKMNj63/CygMD0CNTjWl8M9G2tl+92Z+3m++RnZAcymbCq/aCj93Bb33In7+euC+Fnxc4rXuT7hHPj+2Q7O0/Ee9x6Jc1/L9fEzmqflppfzb0BlfSIRobLEdL0IiIAIiIAIiEC1CyseijPA44Z1Lm5vRaSXowDhq6gLUJH1xXnqH1Go0Guf4Dz1iagzUBWLhIhwfacsfLlOsgvaZFgWvmi7Nm3zdgQvhTUbluLoxZPz19rfDmxjwxDg8MsgC0k2xZdAdmoYOHauTcIXfdcqEhEYIN2GoyA8IsHjIByL9+bPe6NdXvvUBva73OY2tFmqpRVVf6fg8g6C/F+j6wADfZ5Nvw+1Gtg5gi3naPzy/znqTFyNYxgLywmg+SX7t6jzcAFqWSyFcPDLKcudL9PPoV0dx/krWpXdiW4ToQSLyvioJkQE8roBwtTVHZshKN6DjgwrEDzsdWp1dEYw9C8cr7kBvFZXMwAtb91VERFy8Mzcg9obnTA/Cj+O78G/bWqSdRw5E4Fnst2Bwm0U6dIQQNCoH7y9fKPdOn2l8ywOwPEaXnMMgk23OwADk9EItvl8zIGY5NpDeEZORvHTxji87Tyz8DFFo/NRk+SfRcePbsH57nPR974Z5sZ6BryGHRj+MGe1/XZGnjMUn9Xf4blhLYQGeGY5tyYYMw9dWHrimd2M4PRgzOvnGIfviV/DL15jtxMGpq7dPK2kHR7fT1d1yLTr8ZqOePb/gXk9jfdbd7B48oBWzr3eXbHZHpq92gmkqmI1JSJcgmNdv+yYZZehen8PiFr8LGDgOGbNFofl5HIC0nZ4X94On16M9yXfx7z2m/XbnJozv8JnFMWE5xauc7h4BUv65Qb8np8ZfJ7IqnlykvP/++Nz6fBmaXYrPmv64fPC7apBIeGFRevsDjxPFBOYWcZrBuKz3W2PWoD6Lzzrf8PU5RBAInfWvzoiwsktGtsV6AJEsbew3kZdiDR1HRH6WBT0vb1btvWC+HISnneug++V/p/PsVMglp4Hjl0gCPBZa4Lnm++Ft5ZvsAsnLXUep+HZjez6TtmOEJnkXFPX0urVw+d6vh3yxTznGr72QbyfhmU1smx89njfKxfj/fRG0fuJvrwL7xX6hO/gRphjdtF7vNXHM+0QHL26Fe+5Q/Ffl/d28P7H0o3OZ+96fF4difnc1iXHuZfrN3rhf/g34MapK5wONFU1iQhVJafXiYAIiIAIiEAtJlDdTIS3B7ZH28YmxQS5Q9Jx1Axbsr3iPvH8YrsdZ6Xr48uY1zI/nBbWLqrfbZEQETgmd+1+8HVhKC8TgYHUfQgC3e4MfH1lRQR3HS9BlLgMX4pdY+HGI5GZcWvXHLsKRR25i/ZK/zZ2SbuSa+Zi5+yU8Yvs+QNbO0UeuVv4GHqW/wYBmDsnXtN99OwymSEt8MV3AorBtcOXW1YUPw7ZI25xy1u6ZDkF8zgGW3SeNmFRhZkl+3sbRVtE4Bf4r4Z1MdaroFE4+RvqWNDObd3E3kTHEK6FgdiRX82v1C5uuB8PVRER3LFfPrCtXdq+dJs4Ckj34tmiGMJdTf977Zt12+yMiYsdMeuqH5c64sifD2ht13VqVjzl1XhdB4gR3iNCp7dMd8Zy+9rzYq+IwL93hpA2DZ0XkusWChc0r4jg/sx/JIm1TVwRwb2mMpkIvBvX474PFmLX/qCxc4o/D/h+u99T2PRw+PI7j2AXrq9qQkSgyMfuIF+t22oTNmy3kxGc/wvc3UCR7+++OPY1F2v0WuuU+k4XmJwiEZOCLIVZGp/zb9EFwu0Q8+2GfBv21TwIE6VXPg6taJnB4dqKHbvsRjxHRyAIvQlBJ0Umtqs9LLPkGooSFHHPg/DDQrcMzN8/tAMC6rTizxIKTXxWImXVERE4hzQE/7OPybWWKUnFU/oa74uxa7fZa0vW21GYOwVR116EWHLV5OVOtsAsdG9xfcHfv7msRETg3ylKfAfWFPJc+w68XRHB/dnxzdPso8M6lULiFRH4C/4LNw6fT4dBKPDamRMX4fOpKcTbZUZt5iv4pJ+nw8dTFKsxZ4rIv8Rn2lY8M++hu9GJEEZc+7Do87mq0o5EhEg9zRpHBERABERABGoRgeqICAwOZh3d3UkfdY07KI1GTAub4FR0aejlaZnIFx6GnZ6J+LJWWYuFiMAv5Z8O7lTcCpJzrqqI4K8twR1IBvDcHdsGrjTeb8yQzqXQ/A+7spf+sMTZ/aV1xQ4bu18w/dw1/5z45fvzoZ0QdBd+qf0RgdgA7FS6qbXMbJiIwpcUeOjT3E9n2TLsMlfVoikicCf8nUPbYwe18Is12262+HhGceDM3dnvEQxwB283j8x8Pd/GoShmpK06IkJv7Jj+NLx0Vs4oZBIwyHCzQBiAfI1AxDWuk+nXJ6Igqbs73AtrnYrg3zXuenP31U3v5s+5o8/jOu6OJn/mFxG4ozsd47CDimuhRAQKaHd7uphUV0S4E7vHD/VsWXzPR5D9cGdR9gN/yM+cFcf3tPSibJt5WH83CGSVtZoQEVYicD8RwtwUpKbTGEg+jUyK65Ap4BozMk7wZV6NwefJEQh+aXw/doIItNiz08yshpf6ty0e4y/IFqLQ5LW7KW4WiS38OTMJ/gKR4E5kG7hHTX6JjB1m6bjmXLNgHbIeCjMSaEdjHh8P6lj8+cbPJL631kUom6e6IgLn+MGhHRFUlxTB3YLPwYsgdLyPz06KpMyocI2iy6H494W+WHlCz2Khhr/3iwj82XsQUU7xBOyhRAQKO/mnli4c6hcRONZwZBN9iqN/XqPvKO64AsAJECQ+9AgSzDCYgnao56BtMI850Fg0loKpa8txTe7oWVXOFpOIUMol+osIiIAIiIAIiEA4BKojIrTCjtkUBKvNkJrpGtOZW30yI5xbO9d8gi+ox6I9otcYOP2vCj3kYyEiMLAbi6CeKa+uVVVEYHs4tolzjdkBg7HTOsHTZSDUEZBLvl9if0fqq2vcyZx9THcnRde1n3272Klx4NqZ2I3+t2c3+tG5q5HOXJiqTmuPdPqZCCLdQJOpzo/OXRO2X/0XRlNE6AsRitzcubL+wcnInHCNafkL0WLQPQrCFOAzwSPSVh0RgefPV5/Yq9SUzsb74B3P+4BHTxYe16PUNVciQ+UltB91jbvXeQiOXNuLZ2gonqHxnmeoA3zLLAPv8+EXERrh2ZkKUaMDslRcCyUi3ISMlcd7l9Q1qY6IwHfQTOwOe3d+B0AA+cGX8u/PfmDAyCMPlbGaEBG+wm744cgk8lpn8JyDnXM3S4jHkrpCoFtSJBL0p3gHwYvHmmgzcVyDrXK9RoFn7Um9nGMiNBay7TRqVrHQyJ/9smMmBIKSHXgeWeiBQNMrBJ6DDJ1/Hty+eOjdeFYo4H7vyexgTYovh3ZxshJcY9HcaUXCSGWYh7o2EiLCq8jOutiTncV6Lh3BgzYK/76w/S6Nn6c3TV1pTyFwp83Gs8YaBK6FEhFeP6itXYijD66FEhH4uwKICN5/A0KJCLmoiTETorvXhqGQ8DjPe5P1bPge8NoxOJrxmaf9sf9zgBktFHZcEbmyPpGIUFliul4EREAEREAERKBaNRE64Qvx99jR5JlS17xf4MLB60/R5msuQlDM86CVtaCLCAORFTDhiBIRgTuDXT6dbcuxo+naAQiYJ0O4KfVFFOnM3p11ijtzfCLCpUiHft1Tp2IRgmoeY3DtgkmL0ZKzRGRgMDofY/D8Li1UQFQZ/0RTRPgnjiqcgxRs136P3eu7PLvXPLvMwNp9TndgRy91xNTK6PJ9BQAAIABJREFUTD+sa6sjImTiPcTA0GutPp6OYwwlhS3bImV78fGlRYQuo2aWKhjJs9arTiwREbh3yWKlXyCgdS0cEYECw7QaFhFYQ4EBtGsMahu8V9ZPj/Rq4RzxcY01QXI+mh6Wj9yLakJE+O+Kjfazb8um/nMHnPU7XHsM4tztEOloIwd1cmpbuMY6BOdiF9pviyEmMSXftSvx/n7J8/6+GiLCsx4RgVkRDP69GQQ/g4jwL4+IwGC0JwSLRZ62tfQJd729IgJ38rmjHwmLhojAYz5DIJzR+qHDzjcUGPEZ4K+3w+MMXsEqlIjwGkQE1qFwrTwRYQdEBC+jUCICM8Qo7nqtGY7ueWtMdEVtFB7P8Fr9//1UnKnAn/s/B/ge5xHATVWsVSERIRJPssYQAREQAREQgVpGoDqZCJ3xpYhp4m5qMdFFQkQ4D1+a/4Uvz5W1RBMR+KW+C3YpV3iOEVRVRLgCQcYrRUEGMxWWIiXcNe5WX4Ed7S9Q8d01doJg8ODuVq8q2GUtUQSsqhYtEYFdDNad1Lu46CDn938z85CZUVLYkzu2fE4be8SujGp86S6PQaRFhOYIjL1dCKoiInCuwyEifB4AEeEx1OC4GQX9XGPg2/qTss+cv6sLr2+N7KeVlThuE0sRgUdJGNy6xqKtB4yZi/P5dWwjnmXvjjbPxP8GNQz8NgnPc3/P2flROBZxvOdYhF9EYE0Eiggs0udaVUWEwRARxsexiDAOIsKwIhGBa2WNG2bWeAtQ8ufxICJkfIDg39PJpyoiAteShc+z9RIRqvrPk14nAiIgAiIgAiJQWQLVERFYdZrdFTKQiu1aHr6stgrxxb+8eYU6zsBzxJ/gPHhlTSJCIbFQmQhXoPDeK4sLA2ueEeZZYdeY5vs2Uvzn+wq8efkz7fr/Zq2qrEuKr4+WiMC1LvMIIrzhaHTRYBX1/dnDqOzPImWRNIkIZtU5zuD/LGBB0NwQ9Q78NQHowz4oQjm9qK1fOD6NpYjgb4m7EbUtmn043VrgWV7ue5bvx3vu3hDvu7E4Wz/M01aX5+LbonaCaxIRSh8jCfVMSEQopKJMhHA+MXSNCIiACIiACIhAKQLVERG4Wz0DKc/NPZWxuXueWonCiiwA6FYadyfWA4HD7P306y7PhRIRCslUJCKwYvloFG9zjZkIJ49fVCXhJty3U7REhG44Z8zinl77NdpU/hVF5GraJCJUT0SYDEHyANQEcI0tIHv76gHwdxe2bWqvH9SulHv9dUgq8n0sRYSROKd/jKcOzKaiQqAsUDvXl+5+F4oc/n5O2Voko3Ds4WjPsQcKEdkQItw8A4kIEhEqeg+4v5eIEC4pXScCIiACIiACIlBMoDoiAk/LM63W25KKAzMFf8F+drXdmzPNdPPJvUtViWcKc3vsqLkVxCvjKokIhbQqEhHYso0dJVxjJsKpKET4IVKio2XREhFCFSJjC7snkQZe0yYRoXoiwkRkxxzsqaQfqqggfcoz6jyr7rUBn89FAcbtYbs8nkQECgBZEADaoeDlgmNL17y4G7U9HkKND79RBKQY6NqGojHc7ioSESQihPtmkIgQLildJwIiIAIiIAIiUEygOiICB7m+c5Y92aekOjt/dh12gp8NYyeYreZmeCpRM5h9EGnmVU2bl4hQ6NaKRAR/Fwi+5vLvl9qrnjoCkX6LREtE8Nd34Lz/iEJ1txQVqov0OvY3nkSE6okI/zukvZ3askkx4vnbCtC5oGz7xivaZ9jfDiwtIvRE9tKsSmQvxVJE8B9FmI95d8X8/Z01COKh2avs7plljxF9ObSzDWnWqJgVRVuKt65JRJCIEO5nn0SEcEnpOhEQAREQAREQgYiJCKxIvQSVwvkF2LWJaFl1GFpXVWT+s83ckeOO4gJPdfCKxvD+XiJCIY2KRARWdWd1d6+9uGidXTV5eWVwV+raaIkIzGbZckofYwcG19gSc1AYz1+lFhDGxRIRqici3Iaiin9AcUXX1u3cbdkflW0Xe2uXbHukd8l1vJ41BbgbH67FUkT4EYUV+3oKK/5t4Xq7esoyY2bXllN6o8BiSWvW5xautWunlC2sOBljHOAZg91s2NXGNYkIEhHCfS9IRAiXlK4TAREQAREQAREoJlDdTAQOdFdujj3Qo0XxmBQD+qO/+6L8ktaEoZD/6+B29rPWJa35nihqdVbVcncSEQopVyQiMNzm2etO6K7hGs9l8/y5t52k+7umSXXtgjYZ1aozEC0RgXP0t3hkjQf2u//O0+/eXQurtN/ZLdvZ3XVTvyP1cRAUEYEi0szhuZZa1L6T6z9/0hL757KStqrkNB31TrxtQP+AtPrfelpn8nU3dcmyx3uXZCKFKqxIgWc7WuB57TJkvrzmy3xpz5oAaD3Kbhq0PfBjxgfTyxTA/PMBrey6TlnFw5XXdm9/fo2liLAKLR6zi0RXLBHtCNHtAMIX7fl+re3KDs2Kp/7xqs120vhFZZbClqVe4fb4bxbYKBQUdU0iQsUiwhTU4OjjqcERqsXjm2gf+3NP+9hIt3hUd4ZIffpqHBEQAREQAREQgRolEAkRgQHH18M6W5/0FKuDAIDB2W3TVtoT88oWBHMXx8B0Ic7/Nilqu/cV2nId7mnLVRUI0RQRXlq03q6cvKzMtA7LTLWxQzqXasvmL/LGkIi7j96dw3fQDeHsb0v3fx/YFF0TjijpmhDRFo+e7gxcxPn4Yvw6zpXXLQrY+LP/oq3m+ZMW2y5PdE0/PYLdYbYI9AaZlfVPNEUEtr38FrU5vH3ax6zZYqdPWFwqAE1FC71bsdvN5/W26XmVXUKF10ddRAiRQdJl1Exk7pSIddkN6tuqE0vad3LS/haPObhm3rG5aItZ0lXlQogIb3pEhGbouMLq9c1wrWuPQES4swoiAl+fj2yRFPB37TK0HH2tqOVoY4gZFAzy9+yzcUjTH+RJ0z/u6wX26ZqS4Jiv/3JoJ6TyF9YD4OuYdfLdhvDrIfB1sRIR2NFmkScLaNrmHU7rRddYrHbZ8T2KsxGWoesCa8R4Ba8WECBWQERwbR6OQ3TzdbG4pmOmPdO3TfE1EW3xCN6u6FHhm6KCC7JfuN92tWhnG0+9tMpDvdq/rV3cLqP49V/j35KhYfxbMgp1JY721JXg5xvFNNf4uPLYyGGZJcdGJqG15UAIlH4rgEjmbc15McZ5w/N+4vVdIdrO9hXOrJKIEOJzQC0eq/z46IUiIAIiIAIiIAJVIRAJEYH35e43i/X1aFxYXT0fva95pGEqviT7rQEC19FoUeae6Z2Mgmhs65hXsLsqSyh+TaREBO6cspe7uxbe4H8I+s/0Bf38+TAEPCxyVt+TTj8E6/6maGeR1/DLKCvP90Kw69qIvM12GooZeu2IrEY2BoKEazvRVrHLqFm2DMUmXRuA3vAMmL3mDxK508wA0JsW7a9T0QiT+ubwro7w49puBGSsiP/0vLVOu0cWubuyQ6YTwByIzJLtCPKqatEUEZLA9/1DO9pxzRsXT4/ZCDwnzi4Nk5GRkNs42a7GDi/bkVLkWbsz/NT3cNdcHRGBu/ALfUdMOiJ4XIwg0rVuCEJm+YKQvmNm4z1WUHxNqBoRp01YaCPySopm8nlcinu18HRVuXHqcnt6fklHi+s6NrNHcWTA+wyFOvLyO2Qh3e/JQlqFZ7UHMlqYjeS1UehIcLSnIwFFxseLRManUFOFguMSrPW0lun27iEdil9KYYMCh2tZ8B9berqC0ZcQt44YV/Gus9+HsRIRHu7Zwu7ollM8Ha+Y4v7wpQPb2GXtM52/sk7MEATE3qD9dghhv/cc+wjVjcSfIcLWuxQrvM/9Behy8XdPl4sCdNbpg2vmeYriHobPgLEIpL0B8lHgPRbcI2GREBH8tTRm4TOsZ4iuHv75/hZ+eBD+cG0MxKqjIVq51hGFLvlvWqdGycU/m4F/z3p7RB/+gp8/OyAiUEB37ToIzs9CePbagKYUO7uV+lnLj6fbqoKS90o/ZEb8gH8rvNb0g2m2Gf+euhZKjOgMMXFhBZl/5flLxxki8SRrDBEQAREQARGoZQQiJSIQWxPsKN6V2xypxs2c4IO7bDynO2VTiZDA3eCHera0X+MaptA/i/PAD2OHMx9fYKtrkRARGGBRGPgvApmmRVkSnNdmzPUGVP0fsXKzrS8KkJpivffjSygDLu8XSB7LuA8F0bbiix/HOxgZBh8e1gEBbMmu7hLUfThp/EKbid72XDmD+icQTF3lSWVmyH47gq0/L1hrBRAU+GX1hs7ZTnDntafmr7F7kJ6/peh+Z6A43Zs4KuKmhfPajyBaXP7jMlvtEWpY2JJV7r0V8f0+mLp5u50D8WT21p3Vck80RQROLBvB5RtIPfa2zvNPeNn2nXb+d0tsnEfgqdaifC+uqojQGO+V+3s2d3zrtT8isL4LO//0PU/J346g5yFP0MNrX1m83n6D55JBBq+5EJ0LXvV1LvgQvr8Kvl/p8b0/E2UqhLyb8KzxOacYsw3jsWhq+9SSIy8MzoaPW1A8TnPsiP97YHsb6skcoPB1ObIMmGmzA//fNWbssC1ho6IjFOzC8hLm3hJCxjIEP3y/uHYFAuincGQhFVzWYs4UIylq8b30Qr/CAJvB9WgEfVyXV2gJ15/REBG+h/B4oKdOwajVW+x4iKOudYYI9PWwLs4xBHJ6cNYqp/OCX5rj5+gzONZwLo56MVNoNI4pnAIhiM8BM0TYEYd+4RiPzV1t9+K975VseM1/Dm5vR3h22Xkts4zex+cXO980hOj5dN/WRtauUXj7FeovvLxkvTM2xVSKEQ9CJPJ+vnk/b8LlXd511RERWA+F3Vk+g/DqPdrBdTwwazWOy6w3Hq/ZWY72ySyrGTjW44pp2/FvEMVWitoUVwdAQGmN5/PMViXFPpkdxk42FBz4uc058D33MrIhvDYJwuU53y4qPtLXDP+WPA9xyDsWr7/hp+X2zIJ1jv/oE9b6+JXnqA6veQDPyR/gZ4q4vN/NqAniFZF4zevI6rl52gpbVwVxVCJCdZ9ivV4EREAEREAEaiGBSIoILr4MfDl7EELBKS3SLQVfjF7H2eePsBOamVzP+QLUEl+iP8TfH0DgUN3sA6/LIiEivIAv78Oy0pyAnMLGbgbvWANFEX7J43+fRlD/FFoIcrefv9+C63bgCx4DmxT8vjHWvwc/PwoBF8/fn9ayKa7Z4wRmu/Bz7qIyQGqML5avIpB6e8VGZyedmQAUHgp3/Pc516Qj5XxE3iYn/f4ZfOlne0bOjdfxy3IKvlU2rlfP+TuDrZvxpf8aiBqbd+GaovnTB41wrzSMdzKEC28Ve4oXPNN+eqt0/L6es1aOy7Vz9/NSBIRV+WLqfytFW0Tg/Siy3NY1x1l/E/jA2T0Fyu1gPhtizQXY0a5q0c5wPhqqIiJwV3EkgmsGMHyO+F+a83zA9xQAbkWnifu6N3fOZhf7HgtLqVv4rHH/k/UsbkTQfy3EOT4LW+B/Pk88QtAIfk1DYHr2xEU22ZMZxK4qF2I3mvdisMpnkxkE1yOwGYkAeAIyVdyAl8cGaLzXNdhlpUDwEgInPtO8H5//OnX2Oe8PPrMUbI71BNB87VXIavk/rIPHF+rgf1zrW8g0uAnBjz/JpSOC5OfwXuyPzBs+f7+DmHIQ/j9Fti2799ifIJwx+PIevQnHR+410RARViJDYi2KQT6NuY1CkMmMoEvbZdp7CNzb4P/fjawN8lkMAfFaBKvebCX/3Mn5nNZNnCwP1k9gJhTHuQVZCD2QVTMXoh6zRyb6jnGw7eOLCFbpE9cvdeGXRvAJ/fKHOaucgPNDZIa0b9gA4tMe5xgJ3yiFvqtrs/BeYdbVyxiHR0vca/bC5+7nGx8HZiRUN6OnOiICn/dLwHcbPlvzoYwU7N3rPFfJeOYpVqfiuR+/fpvDujw7tUVjPGdtLB2fjxRd+ZzzmeZzSdGYNSooylLA4e9Iir4ZCWGHrWQnoC0pP2ecfy/wh++5ZHDkkak0fDbfjvfuQghgbw/s4HymOp/vRfPkZy/v+zL+DXgUwvNz+Hyn8MPnm9fR6BO+Xyj89EUGBDNZzoKoUXjNPggZhZ8DfH/znsehNoY3kySc94REhHAo6RoREAEREAEREIFSBKIhIrg3YPDKL0kN8WWp8Asa0j7xRYqBineXMlIuiYSIEKm5BG0cBg+Z2MFMxhdSfllmlsiaKuxqlbfumhAR3HvzyzR3YxlAM9jhF/xV2NGu+mGM8LxZFREhvJGjdxUzOJhxQxGB701mqlB0YaDE4JU/43uVYhn5MRuACQZVzRuib/icOZ0I4Bc3qyfUCnkNj58w+HXFLQps6xGoc47VsWiICF3TGkAgwM63Z248upWDo14Ualxxbg0Yhyt+MBuAvPh6foZS6GEASW7VOF1UHXQRfW11RIRITYQBOGuJUNylCLABn3vuc5lZlI1GAWAXfkfX8rnkyQUG9olgEhESwYtagwiIgAiIgAjUMIFoigg1vBSTiFDTxMO/X02KCOHPKrJXBlFEiCyB4IwWDREhOKuPn5nGg4gQPzRiMxOJCLHhrruKgAiIgAiIQKAJSEQItPsCM3mJCIFxVa2YqESE+HCzRITY+0EiQux9oBmIgAiIgAiIQOAISEQInMsCOWGJCIF0W8JOWiJCfLhWIkLs/SARIfY+0AxEQAREQAREIHAEJCIEzmWBnLBEhEC6LWEnLREhPlwrESH2fpCIEHsfaAYiIAIiIAIiEDgCEhEC57JATlgiQiDdlrCTlogQH66ViBB7P0hEiL0PNAMREAEREAERCBwBiQiBc1kgJywRIZBuS9hJS0SID9dKRIi9HyQixN4HmoEIiIAIiIAIBI6ARITAuSyQE5aIEEi3JeykJSLEh2slIsTeDxIRYu8DzUAEREAEREAEAkdAIkLgXBbICUtECKTbEnbSEhHiw7USEWLvB4kIsfeBZiACIiACIiACgSMgESFwLgvkhCUiBNJtCTtpiQjx4VqJCLH3g0SE2PtAMxABERABERCBwBGQiBA4lwVywhIRAum2hJ20RIT4cK1EhNj7QSJC7H2gGYiACIiACIhA4AhIRAicywI5YYkIgXRbwk5aIkJ8uFYiQuz9IBEh9j7QDERABERABEQgcAQkIgTOZYGcsESEQLotYSctESE+XCsRIfZ+kIgQex9oBiIgAiIgAiIQOAISEQLnskBOWCJCIN2WsJOWiBAfrpWIEHs/SESIvQ80AxEQAREQAREIHAGJCIFzWSAnLBEhkG5L2ElLRIgP10pEiL0fJCLE3geagQiIgAiIgAgEjoBEhMC5LJATlogQSLcl7KQlIsSHayUixN4PEhFi7wPNQAREQAREQAQCR0AiQuBcFsgJS0QIpNsSdtISEeLDtRIRYu8HiQix94FmIAIiIAIiIAKBIyARIXAuC+SEJSIE0m0JO2mJCPHhWokIsfeDRITY+0AzEAEREAEREIHAEZCIEDiXBXLCEhEC6baEnbREhPhwrUSE2PtBIkLsfaAZiIAIiIAIiEDgCOQ8d5/tymll23seHLi5+ydcf/0qazL6bdt44oW2J61J4NeTSAtI++Zj21evvm075JhEWlaptWS+84Jt6zvICjr3Ttg1JsrC6mzfZs3efdE2DT/TdjVvmyjLCtw6mox8y/Zk5tjWg4cHbu6JMuHkRTMsdfoky/v1721fg+SoLatOnXen7Iva6BpYBERABERABESgRgm0fOJmq79pXY3eUzcTAREQAREQARGIDwJ7Uhraypv/aPuSG0ZtQhIRooZWA4uACIiACIhAzRPQcYaaZ14b76jjDLXR6/G7Zh1niA/f6DhD7P2g4wyx94FmIAIiIAIiIAKBIyARIXAuC+SEJSIE0m0JO2mJCPHhWokIsfeDRITY+0AziDGBLo0a2J/6tLLmyfXtvbzN9tDs1TGekW4vAiIgAvFPQCJC/PsoEWYoESERvJg4a5CIEB++lIgQez9IRIiSD5LqmO1BFYi9URqfw9bFn2iOH8Wpx83QcJN9ObSzDW7WqHhOp01YZCMgJshEQAREQATKJyARQU9HTRCQiFATlHWPcAlIRAiXVHSvk4gQXb7hjC4RIRxKYV7TvmGS/aZLtp3aMt0ykuoZK0lO2pBvj85dY6PXbC0eJa1+HbuzW3MbisB125699saSDfaPZRtL3aVhvTp2buumtn7nHtuye48l1a1jTevXs7apSdY7PcUGZ6bZzdNWKNgN0zflXXZV+0x7pl9rq1uHckKh3Tx1hf1p/tpqjlw7X94Xz+Zt3XKsfWoDW5RfYI/NWWNTNu9ICBgtkuvZQU1Tbd3O3Za/d5+l4JnJRvYK19q/aUP8rqGdOH6hrdyxOyHWq0WIQEUEJCJUREi/jwQBiQiRoKgxIkVAIkKkSFZvHIkI1eMXiVdLRIgAxW5Ih/9z39Z2eFaaMQPhzwvW2R/nrXGCjef6tbHz2jS1yZu227VTllt9BB4jDu1gGQ3qF9+ZYsO4tdvsjImLbP2uPc7PUyAaXIYA96oOmda3SeiKl2fh+ndXase8qi5sUr+uLT2+h6VBnHFtdcFuO2DMbFtdUOgHWXgEKMHc0z3HEcca4Nl1jc/2/83MswcT4IhIq5T6dnWHZnZNx2aOeOC3zXjv9vpsji3fsSs8aLpKBAJOQCJCwB0YkOlLRAiIo2rJNCUixIejJSLE3g+BFBEaIkhpji/0WQjEG9Wra02S6tpuRCtbd+91/qzbtdvysBtYgN3CaBt3Xscf3sVSMA8a79/t01lOhsHIQZ3s0MzU4ilMgZDAIPWYnMZlprV33z47CbuYI1eXZCzwIoZj847pbh0hVPhNIkL1vHtsdpp9MrhT8SAbEQRe/sNS+5+EmUqDTUXmzMzhuciUKfuc7sC5nuyPpuE9Ef33Y6UnXoUXDMF7esyQzlbfI5ZwGIkIVYCplwSagESEQLsvMJOXiBAYV9WKiUpEiA83S0SIvR8CJSI0xs7xDZ2z7NJ2GZYJAWE9dvqfRNr5lE07LBt/v7Jjph2BIwLbIR4wC+DNpRvtgdmrHIEhWjbpiK5OKrNrE9bn26Av59lZrZrYfwa2L3Vb6ATINNhtzTxZCN4LfoVMhWcWlu25/daAdnYushkkIkTWi28OaGs/b5PhDLpi+y4b+tU8W5ivXeSqUOZ7cxmyOhp7sjq84/T5bLZN31JQlaHj7jWhMlgkIsSdmzShGiAgEaEGIOsWJhFBD0E8EZCIEB/ekIgQez8EQkRIR4Byf48WTiDNCvp7EI3/bkaec2Rgl08gGNIs1d5E0N2mYeGOKHeX/7F0gz0wa7WthrAQSbupS5Y93rtVqSGfWbDWfvXTCrsRYscfUfHfb3O3FljXtOQyP98N4ePYbxbYWBxr8NtTB7SyX3fKkogQQef1apxs3x/ZzUm9f33JersTz5POslcdMI/fTDmqW8hney2yb9qPnOmIexVZJ2QynN6yif1x/pqKLo3Z73n4Zc1Jvawp6p54TZkIMXOJbhwjAhIRYgS+lt1WIkItc3icL1ciQnw4SCJC7P0Q9yLCATgu8M4hHaxTUTo/BYTrp6ywZxeV3bF3cbJw4dSjcp2CZ645xwi+XmBTI1TkLRlB0w9HdrUejVNKefG+mavsPmQ/nIHiiv/FvL1GoeDqycvsd7nNMbek4mJ+O/Hzz1B48WzUOAgVaD3Wq6Xd3DVbIkKE3i88IvJK/7ZOtsj98NXjKHxZcXgboZsn8DC/RK2Ah3u2wPGikuB6K4qC/gaFKl9avCHkyodnN7JujZKtO95HgyEA9kP9D74HGo+YFtek1ktEiGv/aHI1Q0AiQs1wru13kYhQ25+A+Fq/RIT48IdEhNj7Ia5FhINxTGDEYR0tx1PE7IeN253jAgy892entEi391DA0GvMSrho0hL7cNWWapNnkbUfsJPtnRsHvX3aSnsMGRKs2/A6MiIYqLr2J/z8Fvw+G1XeB6DK+4EImPJRO2Hcum3OkYydPO8QwiQiVNtdpQZojPoVU4d3s6sg6Izy1aCI7J1q32idIdwNy2qETKAkW4YjIl/h2V6wbWe5rUg/H9LJKUjqNdYTkYhQ+54drTh4BCQiBM9nQZyxRIQgei1x5ywRIT58KxEh9n6IWxGhJ9LNWbDQe8aaAXe/MXNsHoKScOylA9s4HQ68tgKV049DRkJ1z2d3S2vgiAipRQUV3XvciraLT8wraQ/YH0JBO2QdMKD6HgJIVXa8JSKE4+3wr2kJUYrV9X+KUFZK+HfWlX4CEhH0TIhAcAlIRAiu74I0c4kIQfJW4s9VIkJ8+FgiQuz9EJciAs+pTxjWxfp5ChYS1bsrNtlZ3y4Om1ofHIVg4cMkXxV1dkkY9MW8sM5ol3czHrPgcYa6aNnoNb+IEPZk93OhRIRIUNQY8UhAIkI8ekVzEoHwCEhECI+TrqoeAYkI1eOnV0eWgESEyPKs6mgSEapKLnKvi0sR4b7uze1u/PHbL35cai+Xc7Y6FJIGCPAXHdfdWqQklfo16ypc/P1Se2vZxiqTHIQ2b+MgdPhNIkKVkeqFtZCARIRa6HQtOWEISERIGFfG9UIkIsS1e2rd5CQixIfLJSLE3g9xJyJwX3/OMbnWGcXW/Jb76SybG+ZRBve1D/RobnehkKHfFmKcPmNmoyZB+AcMmCHREWe+mdhwSEaqvYzifH57fO5qe2VJSRG5/N17bTGOMmQ3qOfUT9iO++2GiFEfAkcquk6wXRxFjhb43evoIrEF1/st3EyEunhhBu5TgHoRBTj6UQ/3YAHINNyDLTDbYu4T129Dl4o9zi14z8FoidkZRSvZoo/3Xoq5skYD/+s3Xj8Q6+6C61mZnvdhxwvWqeBRjcoY7zcU92a2SAfMqxH+vg3353GTH5Ep8jkKTW6rhG/CvXcW+AzDfVkQsy2OmaThOMom1MpYvmO3TcIavl5XvfvSz+wYsh38+WRT8qKZAAAgAElEQVQlwQfknwFeLVFHg8dz3s/b7EwX9T9tCObSC3Phs8HnYhXmMXXLDvt2Qz66kJReFa/nc9cbzNilhP7dgLnPQccP1h4I9ezQV3zWOB8as3LIPgPPA491bEbhwxF5JTVC2B0huV7h9Sw7wuvJqCnW1TIZvPDaV9HNwts2tSM4Jteti8we3MN9Da7LTMI9sObN8OuIojXzeeScXHvloLZOfRCv8d4Dx84t9TM+a+UdY+JnRi6OPw1A5lIuOp+0xPuJ896F1yzHc0w+kzbm2+yt4R2DCudZCqewItdJf3XEfylorkJx18l4tulbf1eZ/d2T6+uOdQ3IaGjd8N9WWB99yhoqK7G+2Vgfx6zoszEHtVgK8FDtKKon4z6bmfRtkdDKAq801nThs9kdXLPwrOzCvfLwbHL+fL/7P6WSMMlBmY2sJ55N3qcO/rcOnzOFz+bWSn3OhsNf18QHAYkI8eGHRJ+FRIRE93Cw1icRIT78JREh9n6IOxHhfLRxfAMFCf22Bl/Am388o9LEWiOIWXJcD6vjO3bAgU6bsLBUAFXR4AwKPkShRwb/DIb45dpvDEi3FgVs/B2/3J81cbFd0T7DnkA7SAZh/iMQvG4dgvEDUO8hVJvBcEUEBsjf4fhGawYZviMc7jx5jOM7zIntMv+GmhEURhiMeo2x6xU/LEWwWCiGMHi9pF2GPdmntRNgsva+n+fHKFZ5Do6asCje/oxjnY7OFa8f1N5SMNYWBLE3oiXmBwgy70Mbz6s7ZDpjrwePI8dFrpsGg5xr0Sbz9+geQN8xsP3Fj8ts9Oot9nc8byejECdtJgL40ycsqjAgK2+N09AVpHMjBNW+Whnu9T8iADsIATJranw2uHORGFCW59vLN9oFk5Y6wRuNwdxHh3a0Nuzqgb/7n6Gl+TvtEPg2D+8Tr72P4qJHoXBhQ7AO9R5g+9OLkJXj2ssHtrWzW6dbI8w/1PWzwKf/53OLA1G+7u8QAtiWMbWce7yG5+gyPE+0XKx79JDOxffLgtDAZ6rU84c1r/CtYz6C0SPwPPiNAeszfds4zxSZ7MDzxyyjd3D06Zw2TezFfm2d9yvtrWUb7NrJy21TCKFuvw9tiF/uT0RYXbDL7uiWY3fiD8UM//vrUzxzZ+O9Ekr08d8qI6muPd+vDXzS1PnVFny+XID1fYj3y0Vtm9rzeA9TwNkLZv9Zvsl+/dNyW1skEvrHWorPwSzw4vWh7P2Vm+10dIg5sEkKPuc64fOtHuZe+tnch/uw08a1U5YVC0mHQNz4AJ+L7MoR6tmcjWdm2FfzbU0586ose10fPwQkIsSPLxJ5JhIREtm7wVubRIT48JlEhNj7Ia5EBIYSC4/tjkKEJTuVLqI3l260C79fUiViy4/vUbzT5h3gL/PX2vVoP1cVOyY7zUYO7lTmpfs7zsDA7FedCtvg+QO0SIgInAwzG45r3tj+eXD7kMuiiHA+go8W2FV+esFaJ+g6Ax0kbkcLSW9gyp+T9zsrNmOsds6O+lPgRYGkJ3ZD/9qvdamilwwuPoKQcAoC8P3ZyEEdbTjY8V4Mj8+AkPN+0U44g/ufjupmXTE+bRsEhl9OWW5vwPfVsQ4IvP87sIP1RXDE+xZgx/xoBKRfr893huVO+3eob8FdbNpGBDtHfT0fu647Kn1bBtLc1f03+B/oq+nBwSgi3DF9pT2AZ+Dh2audgpvMBPnXwLL+em/lJvsZgs2fQ/D5bbfmds/MPFsIsSAdPv5L39Zl2otuRXDMHfxZCLhd43uKWQ7/gFByFLj7zS8i8PeZCAafPqAVnpOMMteHEhF4Ee/xNtY8BJ0Z/OYVEfy/q85xhgvA5Y99WjlFMmnM5GDR1M/Xbiu+zeUQ716EMOIaW71eCfHIzYyotIOLXlCeiND7szn2+14tnMwQCojM2PkT5tgXBVa9Nn9bgR08dp6xY0x5dk7rJvZX+LmZR6ykUPc2BBLXToP4xRa4rg7IbIfr8J6hiOI3fv6wa8Y7h7Qv8+zwWooIzDK5qUu2PTJntSNo9sF7hu1Q/fY3tNi9GoLMDZ2zIGZk2P/h2VxJoRe+oDjJbAmvLd2+06lDw4wfWeIQkIiQOL6M55VIRIhn79S+uUlEiA+fS0SIvR/iSkRogy+eSxDwh7IbsMP25wXrqkRs/LDOdghSbf3G1N1jEHRUxaoiIvA+TBf/HgErd+28FikRwR1zMoJxFn/0221oMdkEu5t3z1xV/Kum+Ds7TfBYgdeWIGB9afF6Z65sTem1F7A7+gtkDfit/+dzQgbfDKZGYFecxydcG4Ud2eO/WVhqiKsw5nMY27UFCLb6jZlbKrujMv5iQPzBYR3sUI//xxT53Xta4JoOzRCwtSoWdxbmI8j7fJ6t30+Qt795DM9uZCMHdSqTMcB2hz9t3u5kXyzxHBl5DsHiVR2blRqSAeZx3yyw+7u3cAQdpoe7dhAEim8P71ocPLo/p38fRytRv12GTJKXQgSDoUQEvpZHTT6DSObPaClPROBrLkYw+SqyEvwWDRHhSIgV/8Pz5O3ewh3+43zPE+fy3RFd7CDPkQlm8x8DkcgrNlTmmeK1oUQEZtX8E3VW/gHR60uICK5R9OF73n9E65t1+c48todoV3tCTmP7AIKbN0eDR3yGh/i8+nJoZ+fogWvMhjpx/EIbXySS+dd2MUTEVw8qm+3FYwprkQF0KTIdvBkt/8C15+E1XsvDsaMhX853BJJLkGXiFUOGoF7MF0O7lHo2KTIy4+XNatShqayPdH30CUhEiD5j3QHHNP/znO2r38A2nnF5wuJo+cj1tmn4WZY/4PCEXWOiLEwiQnx4UiJC7P0QVyICzzR/i3T8UHYCgqmRqwvP61bWGLyeVJSu7n3tXOzY5o6eXdnhnOurKiIwmJ4xvFuZYo+RFhGY7cCUar/tRMCS8eE0pzaD13gMgoGp1/jFf9qWAuuLYxZ+Yyr1ayECkWsmL7MXFq0vc/0d3bKRgdGy1M95ZMJbP4K/TEY+dP6pB5QKnu6btcr4p7LGAIy+P9Hn+2FfzrNxvgDrQOwUT0RLUW/QfBV2rF+EiFIVY3bBVAg5Kb5jDeQ/BPdn/QWvMWj/AsGg3zYjIDwTu88UPvwWKsNmJLJBTkAA6bfyxi9PROBxix8hLDX0zX9/IgJFK4pXfou0iMDMkRUn9HSOBnntJmQVPYlsGb/9AtkIL3iyEfj76Wjv2SfEcx2ur0OJCHxH8fn/W4jn/y68F5l94rfzJy1xhAe/MSOrvUfU43vxPFz7bxxZ8NvvcnPsfhwF8hrFgDYfz3TqJvhtMIL8r0IUhWUmS/fRs1CXpHS2wM+QqRQqU4bCwXBk9LCGid9Wn9izzHEvHrc497vwu+uE6wtdFzsCEhFix7423VkiQm3ydvyvVSJCfPhIIkLs/RBXIsIJSMNnzYFQ1hNfbmdVsTAaz2xfECI1ewN2dpt9NL1KXqiqiMDAZ9bRuWXSfSMtItzaNcse6dWqzNrum5WHgHx1mZ+PGtzRjs5uXOrnDFwuR6D/WojjBCfDV++H8FWogJ8p1NMQXKb7si8GI5gOtVvqD6BYD6P9yJmlzuGH47T2uO/04bnFZ+L5Gu7SZn443TlK4TUeeZiBa71BP1PCeXa9KsbxpqI+AgtGem0ldnC7Q7jyn4fvCtFh9jHdy9xqGrIWmIkRqtIERYpevmyT2Vt3WI/RZUWfg3FufSIyF/xWnojAAqJTIXalVkJEoHAyN8QaIi0isNbAQyECch7l8IszXO+hKG5Igcbf6pX1A/5axeymUCICi6j2RrHWRflli5K2xbO4GDUJ/MYjK2egZorX7kEh2HtRENZrPIJzGI4DhDpicwSyMsZ46ky4r7sB2S5/xpElv5X3LPyA4pODkF1Aoctr5Y3P6wfiSEaoZ3NuiOK4bK17IOppyBKHgESExPFlPK9EIkI8e6f2zU0iQnz4XCJC7P0QVyJCeTteDGY7jZrldDmoir2IM7qXty+bes8OBg1HTKvKkFXORKgpEeGWLln2KAo5+o3HN9wK7N7ffYLU6WORQu213Qgmjhw3v7h2gPd3J0JEYDE1vz0+d43dhjP/Xnu0V0u7BTUX/NYRwkAon36PrAhvPQFW62fGCOsHVMZC3Zc76T1xbt1vPMs9DwGwN+hnZXkG/FWx8kSE2cjs6PFZ2THLC8CfnL/Gbppamqc7nylHdUV3i9LZIxQpWn8ys8yUKy8iQAShABOHIsLYIZ1sGIpFeo1tW5t+MC1kRw92jwi1Fga1B0N48HaaCNfX4XRn8I+1KES9l3w8280garH7BI2FTqdAHHLrc7hjsHNJNwipoQqv8tldicwMv32yajOONSwq+ywg42hiiIyvUMeL+GJ2MxkbIkvmXmQH3V9OhtD/t3cdcFZU1/suyxZ6X3rvvYgKAlYEuzFq7L0lxl5jw6hJjL0kscb6t8ReULGgoCiiYKP33lnYwrKwtP1/3+wOO+++mbfzZt/bmXl7Tn78MOzMnTvfuTM757vnfIcddrppHXZYHtUJ73Gx1EFASITU8WWQ70RIhCB7p+bNTUiEYPhcSAT//RAoEoEdDJ7V0o4JEQOErvj4tNaQxwOdXb05z6cQW+YHs+IZat+xQc9EcCIRKG42DYJvUQGHDYnAFnlUVf/B5ngnEuER1ONfb9FPoLo7ywSGaG38eP1GCPrsFOq/hYYF28WZxnlQa2EOAnC3xv3//OP6RaW8T0Wt+kjck25sc8cgrz5aMJpGccm6HkkmJxLB7M6gX9+JRKD44u0QrbMzOxLBqYtJKpEI+cf2jcpqIcHUAaSUnVHzg1kAVv0EHrcBXRSYtRFL3NBpvXkhESaAdKPoqW6jkJFjinyyIwIzlZpqnV+YQdMa3WnM9oz6GNuO7xdVeuJIKDmQCGZ3Bn1sJxLhRjznD9nob/B8OxLBaT5un2k5LngICIkQPJ+k4oyEREhFr4b3noRECIbvhETw3w+BIhGots52e7pVNRPhOWQiXGCTiUAhtEYfpWY5g18kgr5zzn7zC7HD3xbp3LpR4d0uFZqK860s6u7MiBgG8uNnm9prp0eoN1oispRBNwabH2OHVrdszPPMdk0iUt65N1z3w1n7donjeVz9IhFyUfqRY9MKNVVIhB7Y3Z6PXW7dvgM5NMqGHOJxbCu66Zi+UWKmzHDp/kW0BoAbP3shEdi14CKb95C1owvLHpbgedEFLSsLwBeCeOhW3l3EnD/bPuZ8MjdKHHR/n0iE9dBaaPNp/G163fhDjvEHASER/MG9pl1VSISa5vFg36+QCMHwj5AI/vshUCTCCQgeqbhuZ32RAj4vjp1o6xhOmghrEFC2d9i9rMw1kolgX86gkwgs31iLjhvWHX4T29FQpi/RBB7tcGcwPxPtFtle0q2NRWnGBGRX6PYriIgr0QLPrTFrw8UUo4YTEqECkkRqIpzYuqF6Dy0NdfsQ2gK/07QFrMesR7o/21BajZqDLBFYgo4Z8ZoXEsGprOchlADdWF4CdAAydqahm4RuM7FuB8XQE2C2z/7QftDNLvNISIR4vS3HOyHgB4nAdsO7bARDq+qljDVLVc4L96v1l9+t9jSNFiWu6vh+ns/2yWbJlJ/z8HptP0kEZlN6+QaI915rQneGsK9D06epRiJQhJx/3H9hx7u6k3N8mEmEJtCIY+YpddhYzVqETe2NEMTWRe+Tg1ziRg0UiXAIBMIm2QiE8XaPheL8BCjPezGn7gzTtmwzhMS8mJAI7kiERiARNiH9vLbZyN4CdtYHM/Ex6AX9ys85vW1j9dr+0Vkt7HIw2mNbz8qvWnGEkAgVWCSSRNBbgJpX+d/qPHXmjFWOLuLufmcIP+o2/OtFKNeJ7i5Qma+9kAh39Wqp7sAf3V5AB5CL0AmEdjyI1A9siNTv8a4aEeNdZacTwfFO+mG5+mBdZOaNkAiVeVd+7haB6iQRmqAs6ZH+bdXba/PVR+u9fQvEuq9UJBH4+/dvEKFlFt8LK/LcujVwx/lFIrDjEEVuz0ZnnOIkMwmpTCI0ABNzCwSDV27fqZ5a5q3jVZAWZSqRCPuhM9nDA9qoM6evVGugqRUmCyOJwJbfT6ONPeNdfpu9AwH3YeiYdUXn5qoYAtpPQez7UQhi6wLXQfVLoEgEpxR0gnfT7LXqwcXRSuNugP0eu3QH2uzSvbIqT52L3uVeTEgE9yTClmP7RfSMN/Gu47FUwI2/zkE3jpfQlUO3ySARDhcSYR8szt0Zgims+OfOzdS/BraN8utreJbPjvEs26X7c5BDUAIxBaUQ8ZoXEsGu6wKvayURTm7TUL11QKeo6XyLOVKfxMm+gtjkoZrYJI89HS0V9baQQiLE62053gmBZJAI3K28rFMz1aZObdUIGjUUDu2OUp0+COi4W/YHdMx5Gx9eibawkwiXdGqquqCrTiPscDHrih12+jfKNgj8qnSiSTTOXsZLNomQk5Wu/oTfLdTNYRvu1tm1Va/62Wizm6E2o4sXhb23xZEJ6eUeU4VE4LdXL5STUouoBbR92Kp4ANZhVq1aylq65wWjoJwTRhKB74ZzOjTBGq+luAveCmu8dwOu8UxF/a/eEBH3qjvnl1/CRCJQbe1WtOO+DWQaBbTHQevs79A8M/dRh6LMlBtILOVeCAF4ak595HHjvDr9ESgSganvm1G7rLdiIyBOol9uwFoNUbU2NjX57On+jE1PdzdjCongnkTIRSZCuk0mAtX0C6E6nww7A/oar9roa1S2o5uouUgmQgWSicxEuBC/BP87JJocenN1vjodu0VOprcNNY/bf/JC9VP+jrjd7oVEuBs7WrfjF4hujy7JRQeOtcY/O7W5/SFvG1o8OpMI36B7wkh0UdDteGRwfaz9IhISIW53h+qEEfXS1PwdpWrLHhXVyjbRN5IMEoHp4wOxOzYcxD8zd/QyJCER7L3IXXN2NeJ7pn2dyKwrIRFir/w6WHQsJRuF3cEb0UnKKsJLsWIhEdy/OfqAQBiArlHjeuWATMiOOFFIBPc4JvpI7oAPwnt1dE59dU3X5hElxtSHEhIh0YhXjEeh939j8+uPICppc0ES9LPpEsd3z33oZkdjecMoZJ/+Vhj/92ny7iR65ECRCJyek34BW6Ex6Iy3HRs/QFiTX0sLYpmZ1g4iXxvwC8KLCYngjkQg67n2qD4RrRNNvLuB3V+Ktm/JMKdgrCptG+OZp5AIFWglkkRweu4mrC9Ux05b7uiiXJCT7MBhNQoPsuuLl9axXkiEh/q1Vtd2i251evXMtepfSF+j9WuYpWYeHi0cOR96MH1sWoOa96O3RTX/fdBXC9VM7ZeQkAjxPMnhO3Ze7yy1FdzskpJS9fjGXer74iTVjAGaZJAIVsQZkPB5wMbNPhMSIfaabIMdxpVj+0RgJiSC++f4sf5t1JUIskwTEsE9dtYjmd2x9qi+EetQSARvWCb6rAcQqF5vabsuJEKiEY4cj1peb+3fcZ9g9lUz16h/o2xBNwprs5OYadTtG4o25F7j1OTeVdnogSMR2iKVgy3O6iH41G0Y6pd/jLN++Vr8MngIvxR0ewBiZjeXi5l5AVpIBHckAhn+xahHb23ptmDifSTKCr5EeUEyjLsyvx7eI2povixbfDIn6fWNQiJUQJ9IEqEFiID1R/eNKo/5OX+78bK1M6ZHU1iRab5WY3eWHl8s8PSC9kIisLyGqZ66jUSLx6lbytquMgDg80KxHavlQnCnJTotOIWD/MXDX0BWY00diVe9LWRNIBH6ZqepetbIMxkvmYCO+XKnsl1odjVKA3m+rGSvmly0V31euEfNRoZCInVokk0iMDtxJdY2U8xNExKh8oW3Du87loGYJiRC5ZiZR5yHbLcXLNluQiK4x04/csXYXhFZMUIieMcykWey9Il1+aYJiZBIdCPHYunIUrSPt35/xiqjnYf4t2d5py1udF2KjPnnA6xnEzgSgfA7CSHeNme9unfRRtfe5mc4+5V3QVu4iA9yZB/sh4BjFVgeryYkgjsSge31ZhzaHTVxdaKg/vuCDeqOeRsqdUEzBI75qEtEdq5rY8vGvOP6oQ7PsoVVfvb1SB1/BCnklRk/XPN3xXPVihGDRiKw3upH+EE3vzURvhqBWv4W9SOmxdrTBuNnO7pnNTKL2mik1Bb4qfnH9u1aqYDLl7jeIYTtPtn1ZauHkhovJMIk6BYcoukWFOHaDPTNoh6uuXlH9FAttfsrxP2xk4zdXPmeKzlxAEqGIiFbVFSieqLOUbeaQCK8jkC6D4iEmmj6O88kE9jRYPb2UvXnVTuNUodEWLJJhHog05aM6YmShgqCTEiEyj2nl28JiVA5ZuYRv2/TSL19QMd9JwiJ4B47/ci5+F1mLWkQEsE7lok886z2jZH1XSE8LiRCItGNHOsodIr7ROsUxwzYZQ5Z2Ho2/nR0iDsQLe6DaoEkEcjC/IZdZIpPWO0X7DYy+Hdr3aDGPgvjZGm7etciiHzMRRAZ6zpCIrgjEYjhf1ALRNEi3QoQGLEOa32MkhKKbX5+UBe136SFaH8S35fvU7jupTbX3YJd3f6oR1oX67pYg48NbKPGfLfM7XKLOC5oJMJACBv9clh0ZoYTidAL9//zYd2jdsTno5ZrCFoN6rvbvPmueN4WYRddt1iZCB8P66yObtUg4pTKSIR38IF3Ej70rMYd+tYT5qiNJdFrpAfu5RfcSx3tPfDlxiI1ZupST3XjXkiE3GP6oKQiss3kO1CaP/XHCi0HEgLfHQwhWKj1Wo3lXP1AeCwvjiY+KaC2BCSJbk6+rQkkQivAnFkzOQT1efeyOmSTPChEDeCrebvV+IK9ai3SEJCMkDCrDhJhMUiElkIixOUzkqad8F4wTUgE9/Cd1LqReudAIRHcI+Z8pJAIiUAx8WMIiZB4TJ1GvB1iinf3bhXx4ybYOCpw2LzSu3jtAfnfBBtk3HAKogWSRCBQTCn77+B2UYJ85/60Ur2yKt8Vlrf1KHOeVQ6hMhV3VwPjICcS4WYoaj6weJPjMEzPZLmGvpO6GYHtANQvr9sRrdGg1y+Zg5+M9m3vae3bzJ/d0K25ur9fdBmHXd94nvMpmLIxYMystgvp0FSE/wFMmG7HtHRPInRHcMkAtq5NicoklDOwDZ2dwCLrYZ9HWuFyMHano/1MvMZA+Ceb4JEf1y+szFOsS7Jr2zQYAff44Z3Vk8s2G+qpXixoJALns3RMRa2VeU+vozXiWTatEUcjO2AC1oQuiLkAJMLgBJIIzyKl7iKk1lnNjkRgNgFVshn/nAnRzFdsRDPHghD4AsSAbodCLOtzZDxY24zyxcxymsm58Xdm4Pjxkgh9sZZnHRGtdWC3q/o71M+9gw4N1vcWn8XDvl2yr+zBeo+st3vvwE5R930iNCLGQytCt5pAInh5ZlPlnPl9stUmEAfTtqGMYese9SUEEhJJHFhxEhIhmKtGSATvfhESwTt2+plCIiQOy0SOJCRCItGMPdaLQ9qpcztEfuNmozOdUwvH6xG7PaDFbl2Qhbq8CpnzybzbwJIIvOknsJPM2h1rIJOL3ePe2JFjQBHLGLjOw66oWVnMwJH94I/Ah/h2fJBX1Y7H7ukH2EXV7ZElm9T1s9Y5Ds++zXNBIugaAdwdH/jVIts+rbrQjzn4aWh19ZZDqys79ovnHTxlsfp2czQpYNcijoHLocDr+/J6betNnYB+9u/b9LP/NwTiroJQnG7/7NtK3dQ9xxaXFdhd/d20ZWrRthLsnilDfOQPbRupxwa0VVt37TUEMOPLQSi7DH3/5ciuRj9WO5uB9XD8tKVlBEb5da/q2kzd07u1UT7R5Yt5KGfwxv5xd3gWUvnqarvfswp2qIHIqtCNhMlsmyAzlnaH/guaYzK7g6ylbiwrKTq+f1R2z6cbCtUx3y+POJwbuKzfPwvBOmuqrbYUPiKJYJdW3xukzRysbd1eA1Fxtg1RweOYoULVWutVSrDrXhflDNanlK1v7pm/Qc1ANhJtGtq2Mhi2zu9eED63oW2Obrf2aIFe6WWKt6a9swYZAB6IKfP8eEmEO6Eyzz+m8X00H+UGA5ARY7e2PwGJdRSIOqtdO2sNMqiixXh0wUaOTa2RMVPts2iGQfV+KvDT7eP1W/E8RJ9DQokkjG63zUV52UJ7kk0PYnjuFjxTzaFHIpZcBMY2rKUmFu719M6Md2ZCIsSLWPUcLySCd5yFRPCOnX6mkAiJwzKRIwmJkEg0Y4/11gEd1MltGkcclPXBTEdtInbOeFjT8esIEqEq5ffJvNtAkwi8cWYkPDWordFjlsYP5M+w2/g77F47MTk8jkHGAfhYppEzeBzB/a346LVLw/YCsJ5yYo6xdscuI0Xfqc66I8TPfsaufBNNKZ7pysNQ9zLbpp3Hu0it+x1S7HS7AWUZDzuUZUxAEDJWC0J4/p8h0vGk1tYyAxHcT5hTP4gRWo2iHswSGI/gQrc/I/j7F4I/3T7BzudxNir5JE8mIqDfD4Gfne2Gkygex64ZDdFfmC2WGL6faNOiLh5/NUWNOXfU9y9fC/q5u3GPrHnkGqEACrMlGIhT7G4OFPG92hBoQPxwaLeonfxV23eqnhDz09fhGW3RknL/iho187oMBrljrhuD7jy0zmyoiQXy+eiEeiu7F85/QMr8qUtkWQkx74QXlDUjYxzaELLH82XwsV4CQGxYzmBXz3UqSgzesNSSmnP+tWC7cY6ddcDzMBMlR/p9XAMi6nEQUqzzvxnkU/f6meqCn1fvG6IdNAO+RlvDziALTZuHLIm+Wtsc1lQvgi4Ke++aRh8Mx7O21ibrx62/4yERWKPO0hD2ZDaN2TXDJi9GiY59dxj2J592cHdoI1SUPzitnYUgbrqVC/FwfHYgoXCPk6KvEwE4bcs2I/NI74BzFdbMo1g7ujHLgdkOdmuzEHokujgu3yftPp0Xs3zJLf5yXDAQEBIhGH7QZyEkgne/CBz20fgAACAASURBVIngHTv9TCEREodlIkcSEiGRaMYe6xnErxd3ivzupuYXM27tTI8td+4t0whLpCByIu8+8CQCb5ZZBfejPdrh2BEz+/d+iDT+G2avVYu3RbYI5I4ud1H3Q89fBqZMxb8fnRjs0nrjBZI0BhXQ+yPdnaIkuto7x2MQ97/VBeq/KzYbgRzF2xgwstUhd6cv6NhUXYmPcr3lJHdd38Tu6IOY63LcUx6CtW4InAai3+7TKOuwqlOb82awcMVva9QSHM+gjvNjHST7xb8ADOxKghm8nIoMhjkgKzgvpokfjJ365wa3t72fbzdvM3BeVFQ2J+pU0B9PIg3dri/9DjwYVyIAnILzeC0r0cPd8NcRKJMQ0dPkdV+wvOOSX1ar9x3KNeLxHTF5dnBbdShE7Sq77jJgeQ3IGa/rpR2Cvg643j/6tAKukYKBnDMFbC7FfX0BcmAjyAviyVT3/6H9S3dLIGjeH18z585YieyRbcZ64jphacKZ7Zpgdz2yzso8511kp7AMg2vCKgzJ81hvr2fBcB09jdINEipjUdKyFBgwo4bp93omBa8xAdkL3PWfhTXEui6qgFMP4VGwp0NtyBrO+TZ0QvkAvuSasGYCcU08MbCspEFfr9OQAcPexiSVjgCRwjVoNXZyeQ6pYkdizua5D+P5IVm4kyktsCdBdJEMofH+vti4VV0IMqIqLXNIum1Ey0jz+adP14OQIBE4DpkQ3NE3r8/nnlk4f+pc0TLsO/iSa5uZCLGM9/c87o/vPXPdshUkW0LSSE48iPfin7uUjc07ZqvLizC23f2RsOmItcnMBTs/MRvq/J9Wqal4ZzJrgOKk/UEskhiy1ldb1+apIBl/xPFrygkZroML8Y67BaVkdvb8ii0gdHON1q5BrfGL591S048VEiGYK0BIBO9+ERLBO3b6mUIiJA7LRI4kJEIi0Yw91tWI9x7RNmFaT5jr+A2qCyt+uWkrNhK9abNVx12GgkQwgWCwckvPFuqSjmU7pKxrfn9dgRGcpCOMOB3p1+buO4MFptua6c+JAJPXp1AjxdGK0B6OafAMHKh6nYm072xkS9RB0FAP26ds0cbA5ljspE/YsFVdjQ/9Rwa0MQKZQqTIF+G87Tifqcz8WKdWAoMljvEy6vX/gqBrLdo0MTBgKzqesx3b9Oa16uIaDGLM3b5a789ULTCvOUih5/y24RxmQ5DtIoOVCYahQXq6scNMocmjUT/OjA5meVwClozBP1P3eV/G8Zh8fYzPDAJi/R/0NKU4E1PIpyAQ5b0Vll+D82LWex3cB+dEooc7yNzttdNTOLhZXfUmar5zLC2orP6ZiHmd8qO9TkJV/PgH7JQzdb65zXUZc76N4PuPyNQgWeLVlkN3oAOC9RKwhwXAk/gTHzYoo69IBnF3nIJ6f0A6/Yim9YBnV2P3t2DXbmNNGccDPx7HIJR4rkDQNQRlEAzaNyOAbQzypwjjF+zejWuUGpkUDCq5jhrh+EwMwO4X47TuFwwkJ2MH3y4oJHFzDoLIT7FeO+MeTBKBa7AAQSVJj2JciG076bvrEMy+tCpPfYh6/GNRl88yBM6f97yDawLn8VjOn2ubmgTH4Xn4BOPr9kj/1urqri2i/n0myj+Go7VrrBIkrqfXhnZUbXBvnOuU3CKDBDoT7RQHl3cFYYbQGRAwnILd9qoas1uWo3UVszduxXNKDJhBQ7schAV7jI/He0kBAf6yNkmbrVhX14CQeyHOdj2HgeR7HSST+bzwmXobhCPFJYdj/RBnEj/ngGz63ka/xLzfvGP74fmsBfKwfG3CVyQSzbVpZOJgzT22dJO6DiVZY1o0UJ+O6GwQgewOwfcJ/UDih2uT2SP8e0Z+sRqFzB2+N8zsGJYhcW0SI3Ntci3z/UDi7E94zp7WMqKq6hc5v/oREBKh+jF3c0UhEdygZH+MkAjesdPPFBIhcVgmciQhERKJZuyxRkAkmzGT1fqjJN8p09maWcq45LTpK4zYJKgWKhLBBJHBUmvs+PKjmh+9/CjlRzyDmM342F2HgMFrLXtljuIHtJ7u63QOA0F+QDO+YJYAA20z2HA6hwEBm1LwOLfX4s6omeri5hwGDdzh5rysc4w5J/yQobUxv/L/joUV58F7cFKf4DhdsGvZCj5k671S/I87kyuhj7AG/nM6rzL/VPZzkj2dcF0SQlw7TLFmcMQgPVa3hsrGNX9e2X3zOCuGVn9Xhqe57tz42NQCsUuYImlF7IkBy4S4a86SjiXQOzDLGviMcVeZGiQkVWKlUrlZQ7y3yo5rBxKA2RL1QHaRIGTgzywJN8+bmSXEsgVmL1BXg5lIBSC6mCVgZnG49WOs4/i8sVUjd+DtBEF5feLbDGReBtYbg3YSMMzCsBPydDMnrhMSQLw/EgHMTOD98fp837m5P86bWMZ6tngd/uG6cbs26VfzvVbVtekGCzkmOAgIiRAcX1hnIiSCd78IieAdO/1MIRESh2UiRxISIZFoxh6L34DcKDTL63m0kyg+N+8WYyPSzKwt2zxcVKWNzWTfaShJhGSDIuMLAoKAICAICAKCQGwEkk0iMHtl5djeEaV256BD06suOzTF47+MNUtVzgv3q/WX3632NLUvx4lnPD+P3YAsxhaWjLub0DXqwRhdo/ycq5trN3nrKVVaO1Pln3Shm8OrdAzLsdgZzDSWeXX6bL6RPZpMa33fVargiJNV8dBDknmZah17FZ7dtiC/TbsT5X73eOx4Va0Tr+RitQrzVZuHrlWbzrtRlXTpE6SpuZrLZSgfZUmyacxEpp6UndaVqwF9OqjFM3erXa06qPwTzvdpBu4u2wab3tMP7b4vK9WpKxozWZktTcvDe4f6cnbC9u6uWj1HCYlQPTjLVQQBQUAQEAQEgZRCINkkwqX82GX3FkuXmCehC/Jnmw5AVQU2VUiE09DZ6DW0wLVixlbK1JUJq1UXicCMtg+GozyvZcN9UDFbkR2JqAGUTEs1EuFYCHt/iK5K1nU4A9l7B6DMNewWdhLhbegc/R7lkKYx85MlidPQsSxMFhYSgZgORSn4JIjLs6yZeI/B+3iS1mKc5egU4Ga26AlVFJWvLj8KiVBdSMt1BAFBQBAQBASBFEIgGSQCy63u6d1KDcFHF7vqsNUwtYAYzGXgZ6wTnYZg5Nnlm207B3mFN+wkwp29cgyNFLZwZXmRFTPq0RCz/63OVy9BcylslmwSgQLTj0P8jN1+2KqY2BlldIaeVJqhcfQdhH6ps8USu2RYqpAI7HN/GMSAD8Q6ZNkdn18GTSwxzML/n442zZ9AnPnhxbnJgLFaxgwjiUBB9L/2boky1SwEqlmG1hG7m6s0aLrBN9Rdmw4S4YKfVxo6W2GwMJEIxJMlqVdDM+t8ZDux6wIF0CdAiJt6XhRjp5D1iyspPr3ZEJ8OgwmJEAYvyRwFAUFAEBAEBIGAIZAMEoG3yB3hypLHWTeayE/dsJMIbjBzc0zAlpgxnWSTCG7WnFmnnMg1Z8U6VUgEN2vMqqMTxPVW2ZzCSCK4Wb+JfqdWhmNVfx42EsG8X4rQj0GmzmB0+qPwOEXYZxZuV2zpTo22MJmQCGHylsxVEBAEBAFBQBAICALJIhH8uL2wkwh+YFZd16wOEqG67sXpOqlCIviNY3VcP4wkQnXgUt3XCCuJUN04JfN6QiIkE10ZWxAQBAQBQUAQSFEEhERIUccG7LaERAiYQ2r4dIRECMYCEBLBfz8IieC/D2QGgoAgIAgIAoJA6BAQEiF0LgvlhIVECKXbUnbSQiIEw7VCIvjvByER/PeBzEAQEAQEAUFAEAgdAkIihM5loZywkAihdFvKTlpIhGC4VkgE//0gJIL/PpAZCAKCgCAgCAgCoUNASITQuSyUExYSIZRuS9lJC4kQDNcKieC/H4RE8N8HMgNBQBAQBAQBQSB0CAiJEDqXhXLCQiKE0m0pO2khEYLhWiER/PeDkAj++0BmIAgIAoKAICAIhA4BIRFC57JQTlhIhFC6LWUnLSRCMFwrJIL/fhASwX8fyAwEAUFAEBAEBIHQISAkQuhcFsoJC4kQSrel7KSFRAiGa4VE8N8PQiL47wOZgSAgCAgCgoAgEDoEhEQInctCOWEhEULptpSdtJAIwXCtkAj++0FIBP99IDMQBAQBQUAQEARCh4CQCKFzWSgnLCRCKN2WspMWEiEYrhUSwX8/CIngvw9kBoKAICAICAKCQOgQEBIhdC4L5YSFRAil21J20kIiBMO1QiL47wchEfz3gcxAEBAEBAFBQBAIHQJCIoTOZaGcsJAIoXRbyk5aSIRguFZIBP/9ICSC/z6QGQgCgoAgIAgIAqFDQEiE0LkslBMWEiGUbkvZSQuJEAzXCongvx+ERPDfBzIDQUAQEAQEAUEgdAgIiRA6l4VywkIihNJtKTtpIRGC4VohEfz3g5AI/vtAZiAICAKCgCAgCIQOASERQueyUE5YSIRQui1lJy0kQjBcKySC/34QEsF/H8gMBAFBQBAQBASB0CEgJELoXBbKCQuJEEq3peykhUQIhmuFRPDfD0Ii+O8DmYEgIAgIAoKAIBA6BIRECJ3LQjlhIRFC6baUnbSQCMFwrZAI/vtBSAT/fSAzEAQEAUFAEBAEQoeAkAihc1koJywkQijdlrKTFhIhGK4VEsF/PwiJ4L8PZAaCgCAgCAgCgkDoEMh5Ypza06ip2tG1b+jmrk84vWCzajBtoiocdazaW7d+6O8nlW6g3q/fqdJa6ap4wLBUuq2Ie2k08R21vecgtbN915S9x1S5sVol21WjL99VRQeOVruatUyV2wrdfTSY+qna07CJKu53YOjmnioTzlyzVGUvnafWX32fKs3MStptpaW991tp0kaXgQUBQUAQEAQEAUGgWhFo9ciNqtaOYrW3Tr1qvW4yLpa2e5dKL8w3SJHS9PRkXELG9IhAelGBUmlpak+9hh5HCP5ptfNyQV7VU3uz6gR/sjV8hml796r0/Fy1p0FjVZqRWcPR8O/20wu2KFU7A++FBv5NooZfuVbJDqX27lHrrntIlWZlJw0NIRGSBq0MLAgIAoKAICAIVD8CLZ77B7IQ+qmtI46u/osn+IoZ65apnJcfUhsuHad2N8lJ8OgyXFUQaPres6q0dqbKO/68qgwT6HNbP3y9Kjjsd6p48KhAz1Mmp1R6Ub5q/ehNatPZ16mSTr0EEp8QyHn+72pnyw4q/9hzfJqBXLbuzKmq4TcfqfVX/F2pJBJqQiLIWhMEBAFBQBAQBFIIAdFESCFnBvhWRBMhwM6pgVMTTYRgOF00Efz3g2gi+O8DmYEgIAgIAoKAIBA6BIRECJ3LQjlhIRFC6baUnbSQCMFwrZAI/vtBSAT/fSAzEAQEAUFAEBAEQoeAkAihc1koJywkQijdlrKTFhIhGK4VEsF/PwiJ4L8PZAaCgCAgCAgCgkDoEBASIXQuC+WEhUQIpdtSdtJCIgTDtUIi+O8HIRH894HMQBAQBAQBQUAQCB0CQiKEzmWhnLCQCKF0W8pOWkiEYLhWSAT//SAkgv8+kBkIAoKAICAICAKhQ0BIhNC5LJQTFhIhlG5L2UkLiRAM1wqJ4L8fhETw3wcyA0FAEBAEBAFBIHQICIkQOpeFcsJCIoTSbSk7aSERguFaIRH894OQCP77QGYgCAgCgoAgIAiEDgEhEULnslBOWEiEULotZSctJEIwXCskgv9+EBLBfx/IDAQBQUAQEAQEgdAhICRC6FwWygkLiRBKt6XspIVECIZrhUTw3w9CIvjvA5mBICAICAKCgCAQOgSERAidy0I5YSERQum2lJ20kAjBcK2QCP77QUgE/30gMxAEBAFBQBAQBEKHgJAIoXNZKCcsJEIo3ZaykxYSIRiuFRLBfz8IieC/D2QGgoAgIAgIAoJA6BAQEiF0LgvlhIVECKXbUnbSQiIEw7VCIvjvByER/PeBzKCaEchIU6pJRm2Vt2u32lVazReXywkCgoAgkCIICImQIo4M+G0IiRBwB9Ww6QmJEAyHC4ngvx+ERPDfBzKDakSgfZ0M9f3B3VSjjHT1a8F2NWrKkmq8ulxKEBAEBIHUQUBIhNTxZZDvREiEIHun5s1NSIRg+FxIBP/9ICRCAnzAne30tDS1Y2/ytrWzayV3/ATAEPghamGGHx/UWY3NabBvrjfMXqseXpwb+LnLBAUBQUAQCBoCQiIEzSOpOR8hEVLTr2G9KyERguE5IRH894OQCB58kIWAvk+DbHVehybqpDaNVG2QCHk796iC3XvU9Lzt6ullm9X8ohJFSqFtdm11Zdfm6uiWDVUmjpu6pRhB6yY1d2vZz027pUcLVVqapgp378Y/pam66bVUy6zaqnO9TDWoUR1j1/yUH1d4mK2cYiJwAfz13JD2EYDcNX+9umv+RgEpTgRIyAxqlK2u7dZC7d+krtq+Z696f12BenLZFrWxhGtYzC8EMkFoHteqgbq0czPVtV6WWrNjl3ppxRb12up8VZJEotOv+5Xr+oeAkAj+YV+TriwkQk3ydvDvVUiEYPhISAT//SAkQpw+qJuepiYM76KGNa2rMkAmTNhQqM6cvlIVIYi6GmTBA33bICNhr3p8Sa66be56tXRML9WhbmbEVXbg2DNnrETQVbjv3zsizf68jk3Unb1agUKItnfXFgiJEKevrIeT6PnhkO5qcOM6+/45b+du1e6zeQiAk5dBUoUpB/rUc9s3Vs8Mbq8y8QxYbd7WHarvlwsDPfdUn9yTA9uqizs1NbKjTNtbWmoQmId/u0TtluWe6kug2u5PSIRqg7pGX0hIhBrt/sDdvJAIwXCJkAj++yHwJEJ97MgPxI5nb+z8t8SuPv8/P423IRDfhN3/Jdjxn1m4Q22oht3Pdrj+lyO7qu71s/Z5bvS3S9XXm4vU4wPaqj9h58+0YszvUaTJ39ozx9bLb67JV6eDfNDtmUHtjABANyERqvawdABJM290T1UH64e2oWSXuvzXteo97J6LxY/AJ8M7q6NaVpSFWEc45cfl6t21FQRZ/KPLGV4RaIXspTVH97ElIkvwTjrg68VqFt6XYoJAIhAQEiERKMoYlSEgJEJlCMnPqxMBIRGqE23nawmJ4L8fAkkiMMxri6DvGuzsX9ixqapfuxbS/3eohxblqm8QsDPV/8z2TdSl+FmzzHTFjWRmBPx1/gY1D2UCydAmIHHx+tAO6g/tGu/z2h7s7tUfPwsifbXVnCN6YC61Izy6vHin6qRlIZgHTNy4VY2ZuixqBZyB8V/FdYRESOzD8dzgduoCrJdS+Gz19l3qyO+WqoXbdib2IjVotB8O6WaUMdjZLXPWqfsWbXKNBp8t2Rx3DVfMA/s0yFKzj+hpe8wulDIcikyE75GRICYIJAIBIRESgaKMURkCQiJUhpD8vDoREBKhOtEWEiEYaNvPInAkAgmE1/bvoI6C+F2D2ulqL8KLq35bq/67YnNUO74WIBCeRXB4QutGxt3txEcyyYYzsMO/ABkKibSRzeqqychCqGVJEV65HSTBZ/Ohe5ChFh5ZscttXncpgtTOIBEsp+yb0oMIsm5CsKUb7/sTiP/pJpkI3r3ZHboSc5GFwPTuF1EbfvWstWrr7r3eB5Qz1VOD2qpLO1Vk3piQ7MYz2GPifLW8eFelKHHX/IquzdS3m7epTzcUVXq8HFA5AtRdWY1MhOYaockzt2HN94Rv1u4QzYrKkZQj3CAgJIIblOSYqiIgJEJVEZTzE4mAkAiJRNP7WJKJ4B27RJ0ZKBLhQOxsvnlAB9W+ToWGQGW7mplgHd7Yv6M6sZxIIDDUDqPq/mPQJUjUDud9fVupG7tHlibMhNjhoEmLVCNkSvx8WA9DBNE01iBfM3Ot6oJ/o8AZsydo3A38atNWdfEvqyF4Fv0xf2SL+uqzEV2EREjUCsc4d6Ck5JYeOVgT6yD8tzlhayKBUwzdUF2xrv8LAm9Es3oQFi2rvd8KYVE+c+PmbbC9n2F4vs+ClgID3B4oCerXMNvQFTkL+iCvQ/RPLDEIHAyf0DfdLGVXq0B43jBrnXoL2ipigkCiEBASIVFIyjixEBASQdZHkBAQEiEY3hASwX8/BIZEYIAxaVQXlVWrLNimLUQ2Qd8vFxjlCrGsc90MtWB0L1VbE3l7FF0QrkPgmAj7eHgno8OC1abnFasDUWNMY/D/P5AZ9aDgRxJjwoat6uTybgoNQTIcjp9nINj6Pm8b0umddwKFREiEtyrGSMd/UguBQpYz8rcndnAZDZk2GeoAPLvUAJm0aZshMOpkf0TmwhPIYNBNSITkLKQh6OrSG+UNK1BWRVFFyb1JDs41eVQhEWqy96vv3oVEqD6s5UqVIyAkQuUYVccRQiJUB8qxrxEIEqFxRrqhKdAaZQGmsYMBVd6X4QPYjV0GMcInIUpotRJ0Sbjw51XY5az67tsvh3WHwGOFsj+v8wM+zId/U0Yi0JiR0Ar3wLIK7vx5UUEXEsGNt90fkw1iievK7TpyP7IcGS8CQiLEi5gcLwgEG4HqJhG4xdAI3wt5u/YkHJiMNUtVzgv3q/WX3632NLUXRE74RathQGLWPCsdrXcTj1k1TN+4hJ8kQh105NqBnaxEZbU6Ydb6vqtUwREnq+Khh1QXrNV6HeYr5qCEsTpE0JN9Y2EmEdhhbizKppkJWh8l41vQpYwt5CflbjNilzBZqpEIjCELQlZq7TuJUA9p/lMP7qr6awE6F/UBkxe5DsT5op8LQbGOmpAhiYSBXy1EVoM7MsLpAVqGVo362DqJkIiHT0iERKAoYwQRASERgugVmZMg4B2BZJMIWSCBm0P7iL97B+Mb4dLOTdU98zeqt5NQlpMqJALb7jYD0dIO4tRsaUxx6v9blaf+s3Szd0f7fGZ1kgj8JmWwy1LUkU3rqZPbNlLDkXHKjmDJtFQjETLAGjRF6SI1wwY1zlbnQAz9o/WF6iF0LQu7hZFE6NcwS13eubk6F36YDIH6u1B2SjL2VKzvW3u0NNb30yj3Zcnv+mrodpeINRBmEoEbnE3Lf7cNxXv6MmTqUpCc7+owme8kwtntmqiXh7aPwuy+hRvVLXPXx4XlGxBkPLVtRfcE8+QnluaqK6BPUBXbALGyFvjFYjUhEaqCqJxb0xAQEqGmeVzuN9URSAaJ0AC7MWwhOwikQT38t25/QJmgkAjRK+tjYDaiaV3VAARCmUpNhV05c42QCDEexp71M9UX0KLKycpQJGGstgkBVZfP5wuJ4PJl9hq6i1EgvBECJH0d3gitMiERXAKZwMMoDD9xRFdjbbM7Wbcv5kdkHfC98fWoMuF4UmU98fMlIeheFjYSoXFGmX4eiXFmgeh23k+rhERwWPdpae/9FpUnwxfMbJQx9G6QHXXaAGghzEa7xnjslDaNIMzYMeqUrWDbek5cEDe7NqRRtpE6SXt/WCejW4TV2E7yit9W7/snajd8A6X5esiKGAlxs8Jde9V2ZEJQeI5tKklCdMWOCrMunlqWq6Zsjm61Fk8mQpvs2ob+QiEE7YhlNvQkyGxRmLJHg0xVgOubgnVNcB8UtTu4eT2UXaQjw6PUSCt7b22hGg92WDeWmJwMPA/B8S3AJlM7rwA4Ukn/OXQ4KK5MqMIyIHeTONbxrRqitKC2ITLJ08l8smf9Syu3IJ0q8b3rm+CB5S4MdxOIfRb8wnQt+mUK7oPXtRO3dLvmeC+1gDzxJ55ZabVUE+DPf+9Wj8KBWejAUUaE8VOYjO+x0NUwySji+WVukXplZR7WSeTjQRafXUeYdta2Tm1jDW0HaMzQeR74r8QvAt32B5vJdcb724PkS+qLcD20wU5Ad8ynEfBgZwozZa0XhPfYSrUQ86DgZybwaYx2peyaUCZ8mKXOwUvN2smiLe6NzyvnvpP3DN9yrbTEObwG7+1Pv60xpsY1yfVjCi8eB/9fhbatut0LwnDSpsjuDBO1/289h902TkMrVGoxNMW1TS2UYqSBrd6xy9jt+GBdoSqpYmoeg5kRWDv0L9cq5E6MFz+FIdl1pS/SAZ9fvkVN2bLN8O/pmNOZ+EMMuB7YSvFutJ0twrwOwi/xtPK1wrdIHTwDzXBcB+Dfq362mgatlFdWVYhL7rfPl2UpyNk8Hr7krk4v4L8SZV6PQMTSaoc2r49emVjfe+B9LKey90Ft7EjWVj1xDfr/Igi6Wq1LvQzMrxR/+A5Jw7OJXUzMqyPeIX3gf3aYIZa01vh3tkk158Y1wy4cb63NV18jFVI3ds85C7sew/CBwjVCd+QidfIbHPva6ry43iFun0k5rnoRSAaJwPcG31s5WLv3QtDY7L5k3pmQCPY+5u94viP+2qul0QLbakIixH4u8NozvnP4u/L/sKll/SYVEiG+dwoDpSb4jrihW3P1py6Rv++FRIgPy0QcPSanvnr3wE7Gdze7Z42dutQoXbAa1/+3B3dTFLen8fvisG+XBr4MOGwkAn+3kUDg77dxvVqpM/C9aDUhEZxXvC2J4BT0b0DXgtafzo37+aGA4aZj+hqK77rdhY95/onH+Mu4Z7nC+UkIgnWGejM+iCdurAh+doAwuODn1UYQxtaT++OBZFqcnZ2K3ZR3bFIy4yERHu3fRjEwo7hdmk0fyWeWbwbJscY45rEBbVV9vEQYSFjbVHJukxHIsi0mSQUGSlzY9/ZtjSAkzSBOdDwZVP7+h+XqyxiBHsfl+cfi2o9gnkytZMeKmyB0+fyKPDUQ6W1krE0djEcggnkn0qtiCfO59R0Dliu6NEOKVo4RfFFY7irsxEyG8N/F0M54CPOh5cF/10Gx/jV0BtjFqCtO4/jEisGkneXt3KOafTJHHYQg6tnB7fGBUhvzSYsQD+V5FBA9cdpyoy0pg1EG3vQXMWOQzoDTatQLuQ6M/tPLtkTUad7QrYU6qU1DI7hmO0vdFqD96WB0E9lRHlyfBlLjT+gccpClw4J+TvOP56gtlvrjS/rNMgAAIABJREFUUQiGx/VsicCwnu0u4TIEnV3BYtMYLD+D58DsTMKODkPLf0lZr/M9gvCVWkvIMyCEqVsnrPO/APPzOzQ1nsWdeN5uBknzLwTT7IzyNDRRKGBKo89vQyYTW6Oa9xune0HGZah/DWhjzJkfl3bG55jPwUP9WhuEwFb4hkSR+cyQ0OCz8mC/Nmo05tbHYa2QbPir5f10U/cW6g/IqhoIItPOl68g5e1cEDxW4/tgONYa3zt2xnXWC2Sq1T5DO9kBuEZL7MDZ2T8WbMR7c72xTu7AL700rDgSq9Y57cGz8zKIMHY/YXokfXMNyKLbsU52wUd8h+iit1yLp+GdMxMkolh4EUgGiWBFg+TkyrG9I34HCYkQe73w927ecf2M3x2mCYng/hm7E999/GOakAjusbMeyfW35di+Ed8vQiJ4w9LrWQxYf8HONzeLaGuw+TRk0kK1Cd+muvH78X58x5j2Hr6d+H2T3CIer3dWdl7YSATr3fJbbfLIrhG/24REcF4PtiTCeOzuM8jU7fONW9VRU5d5Wl2/Hd5D9bf5UJ+FHdwh0FiIYwM94vp8GTI4tVqscgb++iapsXRMb2N3WrdEkAgMLTmnqWAQe0CFXTeSCN9hx/0vqHc6GYEM05gYGJFxtM6pFEEAd37HAvNbeiAQxQ74uT+tNLpIkHT4YFhnNQQ7o1bj7jWDxc02LyPzOLaZO79Dk32kBXecb0dgZ4brDAj/0aeVcTjnwMyM0d8tca2DYbdAuBsz/dDuEcTKCQjQGczR6BembTFThEZig7vzXupFORYDpreR/WK3jkkiHDdtmfrf0I7q9Okr1CwETswCmYwuJF2xa2+17Qg+2386z9ixfmFwBwRYK9SP+cUGqfDEwLZRO0sM3E5HEKYTUSSBHsAvgqu7toiCRycReAAZ6Iuxu6yLkpon6yQC/51zYkbBw+VkjPVCVhJBn0BVyhkOwPr7Ai/c+piwSZjdBgLh3kUb912GAcfqo/oY92SuKRJEzKaoipEcWHhkrygSkWOeDR9ci1++f5m7Tv2Ibi0/HoJnEbv+JofD9dXziwVqCUgN7tBwfiapYp2TTiLwZ3Wwtj4d0VmNalZGjFjNjkTgz9kB5n8o6yLpqZsdiUCsmLEwE+9Na4ta81ySCJQUY2bK9SDc8vHcH92ygXrDJuOLJWh3zFuvxuN9wWyXy35dbWRhMCvq65Hdokin3/BOJqklFl4Ekk0ikPheNrYXdtgryHghESpfL6tAvJiBA48WEqFyzMwjTge5/ho6bZkmJIJ77PQjFx3ZM+JbR0gE71h6OfPu3i0NMt80/s7dD79z7YiB3vgdPwedzExjy+52+Ca1ZqJ6mUMyzwkzicBM4J8h2M+NTtOERHBeLVEkAoMvfrjy41Q37iwysPNiLw9pr85G4KobGTi2iyz0qHwZL4lgXv8jECXH2BAliSARzGtcit31p7TOFPzZRJAxTNe/+JdVEeQJg3um+et265x1RsBy+owVES+OQ7Ez/hUCON3uR9DwFxvdCgayL8APTKk090JWIYhiXaGV/ywL+nrv29VkejSD7ffK06fj9T/TpydgZ3VwY6aOl9nXyLI4HGlZ1jwDpmMz2DODURIio6YsRmlFfOUz5vyoqLoeGTDWnR/+jCQCd8JvR2BlVSS+CNgzU0W3G5BdwF1sEgi5FnJGD47N81iGwgwG3dgulUSJnkFiRyLwXApJ8Zc9O4voZkci8BiSUSvwoapbMkgEZvbMwMvWmg2wAWULQ/DLcJ0mAHQpsH1Kw/ZFlK1cggyhqmiTv7wf3itaijDv/Q2QFAzoP0ZL11MRuDOA17OCroUey2PQZaHpbL+Jnx2JwJ8xW+R1ywetebwTicCfH9CkjkEUmmUk5jl2JIL5swdBPF0HMkQ3lmSwle3NeDdYy0M+RHrkca0jCeB18AlJhA4ohSBhaD3+KKRUfjy8yz5yhdchwTJyyhI1DdcQCycCySYR+G5aPKZnRKaMkAiVrxVdCFpIhMoxM4/4PTZR3j5QSAT3iDkfORflyiy/M01IhESg6n6M7yBaPxxZo6a9im8Vp00VltBuPb5/xGYJu9u9iCzDoFqYSQSW5f6KGNiaaSwkgvNKiyIR+HGwXNthME+/BR+sVKn0Yn8D83arhXkzx2Cg2AOpvBs9qo56JRGe5268TcCeSBJhENKRKdahG4Py/kZnisjg+HrUqj2A9Grd1iII6IXsgiItXYM7scttAsapyHI4GEGAzmoy5Z0iLtYg9oN1BeqkH1ZEXXMGsgasWQ6LMVe29vRSXsB0bmvNPbMbzkRa/BtrIlt8cu0tRbcNq1BmrKDMzTokGWKX8n4Orv8qAk2r9UHWyGx0EtGN2QhMff/MUiJjHrMADHF3jXCbD02OPiDGdLN7OfEYJxKB5MdP8INdqr0TiUCSZteJ/aNKYxJNImRiZ30KfhHqKfpToC586JRIcoj3SE2INfCFVb+Eu+IHQV37Z7DwXo2lK38rz5qxjjEf2SUkM1gy8R9kjDDtX7dLoUPwX+hY0Fhz+D0ILN2cSAR9d8A8L9Z6ZdkIW9Lqwj2xSATOm/PXbXk5+Rc1X6T73m5J+TV/Ts2OQ/BO0HcvWMozf3Qvwz9WoxL0n8s1NLz6Rs7zDwEhEfzDPtaV+futk6VTlZAI7v3ETMx3hERwD1iMI4VESAiMngdZh2+hlpbNob8v2ACi37mseyME5JtbSrBfg07T2chKDqoJieC/Z3zrzsDd21yUCNjV+14M9ut5j+wXa+EfRz25bmz12A074V6F9LySCE8Oamu07tAtkSQCxRoX4aNBt2+wC38oduF1s9ut5TEvINDRhdf476yr2oiddt2YGsXWR9aac2YhMGVb14JwCpKeBj6XaPgciLKT6fnxBXysA6UehlXNu6y956IoEsUuaF4E8oKEi9c+ufpHm4mVXRDOgIoY6TYXAWk/ECh29i0C6YMsjDKPISHWakK0dgg1MmaBpNDT5p1IBGYFMTNjgNZm1fC9polgnVvR8f2irpFoEsGuboxzcNrR4L2wpMnUMjHnuwKaC50/n+f5jXsdiDfqGuj2AMopqMtAow6AXuJBYqg5dDEoiknri12ZWdid0c3p+eiEXf2lIFt1i0UiUPSRaXKmKKx5biwSgWVHzyN7SLeX8E64QBNjNPBH1sJ9lvpJ8zxqm1wPbQTd+D7gByWFHq1GPYwR3yzx7Bc50V8EhETwF3+nqwuJ4N0vQiJ4x04/U0iExGHpZaSSE/pHbOZRk+xB/I52suUov+6A70fTJiGGOMImhvAyl2ScIyRCMlCNb0zfSASqvK+yCaQ4/aqkdFzUsYkhYqcba8i7gkSwU7V3A1mQSYQuCBoW25AILyIAuNAmALgEmRFP26TTj0Mq8t9QA62bE4nAoJcB/zZL5gK7CbCkQDeWKbypZQTwGIpXjtN2NC8AifRSnCQStRWosWA1dhBgCctalHRYjWlbTPe27m6z1puaBF57QduRCNtQOtPgo9lRWDiRCNQ3ILlkZ3YkAu+vCYJ83VKJRBjXKwciVxT0i7RR3yxW39mkwXOfm1hR+FG3PshEmq9l5bh59nmME4lgzTShBgp3sA5v0cCYL2sKb0W5j1VvI2wkglPJkhOJYJd5Q/ycSIRYxIZb38hx/iEgJIJ/2Me6spAI3v0iJIJ37PQzhURIHJZeRtoJEsEqalxZlreupcJy3FMcvkm9zCfR5wiJkGhE4x/PNxKhL1K6uVtqZ2cjBZyCaF7sXNQtv4j6Zd1Yf8ua/JpEIlBY8Y+/lrXbs5oTiUA1e9Yy6+ZEIjCVe//JiyMCb13IxRzLKei7GSr07ARhNad5OK0HisOtscl+yMVOPVt7UjHeasyWoGaAtVaMJBN33Qs8ambYkQhmdwZ93k4kAuvr7boS8Hw7EoFt+Rp+lNokAkVD2SJQt2Yfz4Zf7XWDP4QOCTuS6HYS9CM+sGln6uY940Qi2GUUsZygPVIIp0MY00qw8TphIxEorEhND92cSAQnstCJRHAql3DjEznGfwSERPDfB3YzEBLBu1+ERPCOnX6mkAiJw9LLSJuRnWsVUXf6fW6OvRVdXazZvDdDp+uBxZGtpL3MI1nnCImQLGTdj+sbidAevctXjI1O6ebUz4ea+ssQAPFiTiKDZeUMC1DOsMvLsEarmni6M5gXqY5yBqdMBD9IhHexE/s71BTqxn7zbIEZFQwivZnCgVa7F3Vbt8Wo29LH4PlLoJ5fV6u3Zk/cxcUlRn96q3GXuCOyN6zp/jykA9qKei138YdE2AsSITrTIZUyEbafwFZleovLUlV3/CzH5/hJ1PZfZqNNcD3EWh+BaKsXi4dEiDW+kAiRz3pVy0y8+DLVz6mLx6W4mvpyCYkQzNUkJIJ3vwiJ4B07/UwhERKHpZeRph/aTe0HoXHTYm1UtabQOTQRzKxPaqp1QQmo129iL/ON9xwhEeJFLPHH+0YixNJEuPy31eqpZWVCZPHaDahdvt+mdpnCityVtqrkxzO2kAjRmgh2mQg/oLberk/9aUiJctsTfsvO3bZ9bJ38RSFBdvrIsrRK4bEc52i0rXTbkWPpthIIOsazKiqOFRKhDItEaiLkgGBaf0w00ZgLv+Z8Eq0FYXrjn31bqZu6R5a28GcPQaz1Roi2ejEhESJRS1QmgpAIXlZj7HPm9M5S3xbtVV/jz+db96jcyGquhF5QSISEwpmwwYRE8A6lkAjesdPPFBIhcVh6GYntvq+3dF2i8PEBKEHebfOdewq6S71pad08A12ZqFfkReTcy1y9nCMkghfUEnuObyQC+z+vhHKovrvP27tn/gZ1J/54sYfw0LBvu25r0eKRSvZuA0r9fCER3JEI89FFwK5t536TFqpfCnZ4cWml5/RrmG10F9BbGlJ4sAe6TXj1eaUXthwgJEIZGIkkEUgOLUCGiW5sJdgW+hVOZqezwWOfRXnPZTblPW78LCRCJEpBJxGoe6LraLjxcyocM7N3RUs13s8XhXvUk7m71PKdic9QqA4SYQn0fqxCvdLisfJVKi0eK8fI6Qhp8egdO/1MIRESh6WXkVpDe24uysZNkWV+Ow1GNym7LnWvD+2gTmvX2LgMs3jPQln5W9BECLIJieC/d3wjEaiQz8XdGYGCbv8HUb3zIK7nxd5DOv2JNun0swt34OFZqLTuha4vISSCOxJhMYK+LjY+9dJxwa1zBoBEmO5AIrBlZb5HnQO31+dxQiKUoZVIEqEXWlrOBSmlG1uRtotBItwJoU7+0e35FZvVxb9Ea4S48bOQCJEoBZ1E+Hf7DNU9K7IMxo2fU+GYjpnR9Ak1gTYgI2Hm9r3qr+t2qbxImRjPt51sEoFipeuQYmvtpW1tmep54jYnZqxZqnJeuF+tv/xutadpdCZTIq+V7LEKUdtsbad6F3RN7rIRTU72PBI1fpO3nlKltTNV/kkXJmpIx3GuRTbrQ5ZsVmaxtv9sXlTb2kRPpPV9V6mCI05WxUMPSfTQvo2nfzc7CfX6NkGPF65VmK/aPHSt2nTejaqki31ZtsehE37aEc3rqw+HdzLeofw9cPaMVep/ayI159jdbCG+3duhnTvtZmRsPojMTY+JuQm/B6cBw0wi7Ne4jvoOIuCZlnLdy9Hu+im0vQ6T+UYi8DNn4ogu6rAW9aPw+gXt/fZDyo0XcwpiKxMUqexaQiK4IxFIDPWCaKZuY75bqiZuKqoMZk8/Z505W9rpmQibkfbeGyUsuTsT9MUcY3ZCIpSBk0gSoQN+oS0f2zsK9Q0lu1TrCc6ZCH/r3VLd2jOaRPj30lx11cy1ntaYkAiRsAWdRDiqYS3VNN2Tq0N/0rjWZcR8KT4Y09LSjNTV37bvUd8XlarxhbvVCmQkJMqSRSJQLLdbvSx1T+9W6pS2kRo7X2zcanRwYmliIj9yw04iELP2eGeO69lKnY8uVVZje9+jUNpHYelEYpaodVTZONVBItRBINW/UbZ6Dq1u+U1hGvG6FUHV08hky3cQ861s/m5+niokAqlb7oCzpPBKtD222qrinerIqUvV4qKdqppkW9xAH/cxYSIReHO/b9PQaFHdCVpgFPw+7Nsl+8qLM/E74m99Wqrr4S+WAD8G3aj7ILDutbQ3bjCrcEIYSQR+lnCj9U58p57RtrHxO9q0TzdsVRf9skqtR0e5sLynfSMRCNpVeME82j+69zqV8htDdT7ednststLVhqOjg10KhLSHaN7GKgSTQiK4IxGmOrTXuwytJp9Fy8lkGNXwZ9toIrB7Qb8vF3ruyBHPXIVEKEMrkSQCs5WKj+8X8ZLlNdg6sZFNVwrTX3yn8N2i253YjbvH426ckAiRaAadRIjn2U21Y+f3yUbGXakqwVfI+/l71NMQRWAWQjIsGSQCSx0njeqiOtTJNL4BivGnBCmEvKds/KwBshPq105HJ6EN6uEEKoeHnUT4HK2VB2F3i62FDczw3cO05GywC/XT01X9jFqKWZ7Xo1d82CzZJAIJ61/wDbETeBVb8CNOdYBfA6y3elh7x09bpqbatBZOBJ6pQiK8sX8Ho83xNvye5jrcUb4OsyzrcDI2lE6bvjIRsPkyRthIBILE9XsPyILz0MGOBME9EDD/GRu2/FY6piVasyOA5SaLXamDLyC7uGjYSASzjJ8xKZ8N8z29B/+fmm7MHuO7hplj/w5JRoKvJEJdvFTmj65IobGuGS8dGpzaO76A4PUiBLFVMSER3JEI1roqK96J8IGT/9iCctmY3hGtaXgsU7cOnrIkab/0rfMREqEMjUSSCBxv0ZE9VVfsSFqNfq374Wy1E3/b2auo7TujvLbP+vNzUOP3qsfWsUIiRCItJEJVfpsk99xbWtZWn0EHYTFYhMIkb/clg0RILjrOo4edRPALt+q4brJJhOq4h8qukSokQmX3yZ9z7zUsO6129xNGEsG8D5IJ7GjGVo70AwPZzdhg1Vuhu/Gj38eEjURIhbWv+9xXEoGTuQEiiPdDDFE3piwy/c7ti4YPw9tQFj0JCqNWIxM//JvF6icwblUxIRHckQi39cwxUlB1YyeHPsgKqMx61MfuE/Jv42nFyfS5RajnstPXeBNB4+kIHisz6irMwRy9amYEiUToVDdDzUZZibWFJe+fKa0U1eHOgNUyseP/I7pqDGhUJwqm5h/PUVtQE2pnRcgS0K8Ri0S4pFNT9fSgdlFDUcDndYfg/vnB7ZCa2zTqnD4oU5lfVGI7r0kju6hDUAeo20i8B7zuIiWKRHDSebgbQrJ/tRGT7Yz0QwrL6fYKWuCei5RuO+M5LO8xxZTMYxYCr17Azc7O79BEPY80Xt2cysCERKjsjVIzfi4kQs3ws993KSSC3x6Q61sRCDOJkEqeDCOJkEr48158JxGYvsESBKaMWY1t3Dp/Nt91SYNTVsMtqGW7DwIhVTUhEdyRCKOa1VNfj+pqC3dlglhkSOeO7qEuh4L+x0itiseuQ0rWgzalMRzjoK8Xq2loV+Nk3VAOMRGBZ+8vFqjtWoDtdg5BIhFYFzuPJAKeLas5kQgU1WEqZ08IGeqWSBLhLGQH/B+yBHSLRSKc2Kqhehdiqda6MZ5/NoiH12yIh9p4jVBkc6ANIdJw/GxVBNbdiyWKRHDSeXAiEfbDfUwHIaCbkAhevCjnJBoBIRESjaiMZ4eAkAiyLoKEgJAIwfCGkAj++8F3EoEQcOd06sHdVKvsMmVQ0/4FIbSrXQqh/aV7C/X3Pq0RbFSc/9H6QnXSD8s97y5b52JHIszIL0bP1cUxvfjkoLbqsk7Noo459ccV6h2b9ilHQmjyMwhO6vYujj0F59hZF+w8LrbZrXwGQkB/tGlpdwl2dp/GDq9ut81djzrTjVH/znKBjce4IxEYxE0a2VWNAJmgG+uAjvl+mfrSRmCxHXz/0n7tsXtay+hNy3rOeIyBMNtLdgAWurEzx+jvlqDWK3pHfQiElN48oBNEH7faYuV2DkEiEZpkpEOQsJdRW2U17kQPQYeSYi3dIgf+XYpyEJ104Lk5n8xxFKaMNxPh4GZ11eRR3aIg1UmERiA/6H225myBuVE1WN9Vf211nqEyrBvJSIqrttbeJTfNXqserEL9tBOJcMb0FeqNNe7bIPH5KD6+v6qN9Wo1ChndgudPt3G9ctRfe0Vn9ryO+z/L5v55vmQiuH1q5biqIiAkQlURlPPdICAkghuU5JjqQkBIhOpCOvZ1hETw3w+BIBEIw0mtG6r/DGwbRSQchpr2rzdvi4kUd1DnIIC07rt+uK5QnTljRVTA5BVyu4BpHRQ0KdgYa2/zBaQIn4dUYd2cdlKPa9VAfTisc9Tx43E/J4IQsTOm4v+KnWTdXlq5RV3wc7QWxBVdmqnHB7SNOv6vEPO420Z4rhXqp9aizZZuixCUDkUXja1aC8WeKEngbjDFr3TbgQD24cUbjUwDnkehkSGNs9UtPVqqxgh+RyDlfCaCfi/mVBrDsfJR83XjnLXq14IdhnhSU1zrGGB9IxRpl2zbqdiC0ilt381cVqOLQJvy9jjm8RRoqv/R7KjTu4A0W4ygXbf3QRT93oEo+gm70YO13fUS7KrXwe66bgxPF+B56KZlFqzavhMkwiKj/s20DBz87OD2hnqvnb96okXmIuCjG5+1khMHKC2BSK2G+ncHtMOyM7ZrIxnF8gmr/RltbZ60iMjcBEKQbbWeWl4mxHkmMhiYam89b8k2EiLRa69/wyyk8vfAvCquMQfraX/4Vy/jcONX85g7UKZzl02ZjpdMp+Ug/HSyi4TnCdOWR0yJZMrbB3ZSR9h0sPkKRNxodDyxM2bWsJxB9+ca+IatyuzsjyA6nwDhqdsDyOJiuyfdbgced9vg4aRlw3fIPKxJnQxiB5UWn8yNxxVybIAQEBIhQM5I4akIiZDCzg3hrQmJEAynCYngvx8CQyIQCrtabra66DlxfswevaznHtqkroEmtdb+uWijuh27evHtZTs7YyB2q39BYGJnlbUu/HxEZzUaSrW63YX6Z/7R7UoE+I/ZBPg/QBH44CmLbduu/LFzU/XEwOjMgqlbtqmR2NXX7WGk/V9jo17/IgQoL7QRoOyHlo0zkR6v2xYEo32/XGC02tLNaU6xlvytc9epfy6sWunJUwiELrXJ/Ih13eEod/ghRrlDZY8pyzDyju0btbvM81piJ3+T1hXkWCjhjh8eTRTN31oC3YjomnWGw+z7TSEc3Uh+TLfR+7Crcac+yCisoR/yKvRBbu+RYzwnp6KNmp0mgtNOe3cQRQsgiqobr9EYOgoU67GzKSh10bNUZhVsBxnFtV2qWPLwF8yp/1eR+hmPD2ijruhS0XGBSu0UzfxeU8rWyRbOYxDGWmxDhFTmV+vPxw/rpI5FaYVu86AzMeirRcbc3do7NtotPJfkC0kYWiZc/dlBXYx2S++CSNCtZO9eZInMtX0vjmhaV30DnPUSEHYr6fL5fNvMkofR/uka9EfX7f9ARJ5nQ0Q+h0ymC2y0Kh7FfK+bFd1Gk+92ZpTUtqaKlV/M7hlxi6Uc5y8CQiL4i39NubqQCDXF0+G4TyERguEnIRH890OgSATCwZ3piyHAxrYj7GlKW4nestfgw/QD7MZbP9X3QzujJ5C9sD8IBCq2f4jdvEeQsjylkswFt7BzR+8AjM0dN/b1tLO1+Oh/AR/avCZ35pcV7zJ2TA/Ch/xxCDou79zMaEulGwPvfyKF+TucNwNB4BDsMg/DObcigNJ3tHkug4bnsDP7LjCYinO4q9oHwf1IlA3c2atlVPo2z2FAdweyC95Yk6+WY17cCT4ip756FAFDe5u0/wLs/nJOX2wsUj8jsGPwOgQYc4f/NBu1e/rim9wiI9D5EUH4WhA+VmNgSv80y6wdE3KWOVw5c416pnzn2a1/7I5jWcNNPVqom7rl2KbnW8+hCODZP62MCkTdXp9lJFyDFJO0C8A5zvMgZliWMxMZEFwXhzSvp/6BshviqhvxfALHvrG6AMRAsVHS0Rc+PgcteW7CurCzFXg2WE/P9WcNlLniPkXLr9E5kQRWPnw8CbvYDK57IFNhInx9N1r9/OAgrMjxH4F/P8K6W4r/ZgbHcKxTklBHaGOb85uFnX+uo2kI8JfhHKuNxq46A3K2s7EanwdmHzAbhaU+32jPMDMmmNFzP9Yuj6FxbiTxzEyJq0AyPAqygUYsp2BtspzHSYCxMj+THKK/TsBzfBHeSdbsBvNckhlf525TzCRgxgP9UFnGA7MlPj+oq2qJXtpWY3YFnyNeh21L712wCZkz221LlXjedBzL9x1LcXJBVPVDRtJQrCtmCXTROlrweL4j30LpxYto8zYZ2HB9DWtSxyB1bkZGTnNkC+jGTIEb0RKOmV3M1GkG7E/Bc31f39aqYbkfrOdsgh/5zuEaM/1Cn9/Rs6UaBSztjKVaz+LZ57vEqyZJZb6UnycHASERkoOrjBqJgJAIsiKChICQCMHwhpAI/vshcCSCCQmDQbZpOxkfrKzxbYpAlEE6P0758cvU7gOb1jE+nmdgZ5Xp0L/ggzuRdndvfPjiA5s9qinItgN/2FYuHeE1A8JM5HJn16ql2M+etc6fIyD7B4Kn9qjHfgUCcnsQyhi9QNFtwOjZjHN5HM9h/Tnrt5neT52A9yEex1Rf/n/2xmYgwuCamd/Egir4/MOdvIt+WWUEjNyd7Y/AgWOzN/QOEA07sQHMFHPOienMFJwkKcB5MeB9EJ0w2CO2rIdvqZHaz+M5J+5083j2iWUPXwZuz2DHsSP6dRcb19hjzI97zByf/acZaPG/X12Vr55FwKwbx7sXQfNhCCTYVoZCmgySSIrkQqOAASdTwuc5KO179Wd/BN/jQK4wuG+OtVMXwHOzeDvmv6Fkl/oC6+geBN9cP15tHAKjw1vUM9YEO0pwfdBvJF/oszI8axmdJi78eZVB9LwytD38WtZWh37m2qIRSx5LPCELoc7a/WznAAAHGklEQVSYvso4jzu+JLA4b2Nd4A8uZfiG5BRJN/Zf/hbB6x3zIjNbGmMg7jAfjE4FLbLS4adaRq91EgnLEYBTcJTBYSb8MX54J5QS1VZbMbkCrKUtCB7pa9buc5z31haql9ERYAxIKBJdXEMs19he3o+ca4K753XK1xGfD2pf/M2mPIaB7qPIhmG5BXu+k07gNRdjDVzy62o1DxkZTsa5MCA9vHw9ce1/tH4rMMoAuVFP5cGfvDe+D9620RyJx9edsXvODJ8i3ifWK+/VfC75DqCf6AP6mn/z2bwM87fLzNGvS4LyGZSRdMffJEUyMMZOXIPZPXwmmEn1G/6mSCazCvjvzCTIg3/y8Tef2zqGb9LV34ExhUNfwzunNXxITIz+3PAf/5vrkf4w1hfwzsQ/nI/sAhI8nyPbgffB9WWew6wKvhPqlK8vvqdIVH0FsoT9pFluQhzK+qnjPWW+18rXL4//BsfeWZ5pxf71fOa5fq1rXp/TxciCsiudicdncmz1IiAkQvXiXVOvJiRCTfV8MO9bSIRg+EVIBP/9EFgSwYSGH8D8OOeHbi38zYCDYRcDQgblZX/8B1JmEBsBkicMGhhM0KcMOkmSMBhKpvt4zQxc06zdZ8zOa8aTfh5235LkYZBqPjt8ZkheWAsOeAwJBuKTTH+YWJpEl7keOCeToHKDN9cT74nvBlP9gFqc9Guy15Sb+bk5xiSbSNSYzwSzhxj4mz7gv9M3vC+v7UfdzEWOEQS8ICAkghfU5Jx4ERASIV7E5PhkIiAkQjLRdT+2kAjusUrWkYEnEZJ14zKuICAICAKCgCAgCHhHQEgE79jJme4REBLBPVZyZPIREBIh+Ri7uYKQCG5QSu4xQiIkF18ZXRAQBAQBQUAQSEkEhERISbcG7qaERAicS2r0hIRECIb7hUTw3w9CIvjvA5mBICAICAKCgCAQOgSERAidy0I5YSERQum2lJ20kAjBcK2QCP77QUgE/30gMxAEBAFBQBAQBEKHgJAIoXNZKCcsJEIo3ZaykxYSIRiuFRLBfz8IieC/D2QGgoAgIAgIAoJA6BAQEiF0LgvlhIVECKXbUnbSQiIEw7VCIvjvByER/PeBzEAQEAQEAUFAEAgdAkIihM5loZywkAihdFvKTlpIhGC4VkgE//0gJIL/PpAZCAKCgCAgCAgCoUNASITQuSyUExYSIZRuS9lJC4kQDNcKieC/H4RE8N8HMgNBQBAQBAQBQSB0CAiJEDqXhXLCQiKE0m0pO2khEYLhWiER/PeDkAj++0BmIAgIAoKAICAIhA4BIRFC57JQTlhIhFC6LWUnLSRCMFwrJIL/fhASwX8fyAwEAUFAEBAEBIHQISAkQuhcFsoJC4kQSrel7KSFRAiGa4VE8N8PQiL47wOZgSAgCAgCgoAgEDoEcp6+W+1s1V5tHzA8dHPXJ5yeu041+fR1teWEC9Tehk1Cfz+pdAMNvv5QlabXVkUjj0ml24q4l2av/0sV7TdKlfQYlLL3mCo3llZcpJq/+R+VP/Z0tat1x1S5rdDdR+PxL6ndzVqqooOOCt3cU2XCWYtnqXozp6n1V/1DlWZkJe220tLe+600aaPLwIKAICAICAKCgCBQrQjkPDFOpRdvVXuz61TrdZNxsbTdu1X61gK1BwRCaXqtZFxCxvSIQPq2rapUpam99ep7HCH4p9XO36z21qmv9mYl70M8+CiEY4Zpe0tVOvy1p0EjBE4Z4Zh0Cs4yvTDfIBdT+b0QdLellZTgzazU+iv/rkozs5M2XSERkgatDCwICAKCgCAgCAgCgoAgIAgIAoKAICAIpBYCQiKklj/lbgQBQUAQEAQEAUFAEBAEBAFBQBAQBASBpCEgJELSoJWBBQFBQBAQBAQBQUAQEAQEAUFAEBAEBIHUQkBIhNTyp9yNICAICAKCgCAgCAgCgoAgIAgIAoKAIJA0BIRESBq0MrAgIAgIAoKAICAICAKCgCAgCAgCgoAgkFoICImQWv6UuxEEBAFBQBAQBAQBQUAQEAQEAUFAEBAEkoaAkAhJg1YGFgQEAUFAEBAEBAFBQBAQBAQBQUAQEARSCwEhEVLLn3I3goAgIAgIAoKAICAICAKCgCAgCAgCgkDSEBASIWnQysCCgCAgCAgCgoAgIAgIAoKAICAICAKCQGohICRCavlT7kYQEAQEAUFAEBAEBAFBQBAQBAQBQUAQSBoCQiIkDVoZWBAQBAQBQUAQEAQEAUFAEBAEBAFBQBBILQSEREgtf8rdCAKCgCAgCAgCgoAgIAgIAoKAICAICAJJQ0BIhKRBKwMLAoKAICAICAKCgCAgCAgCgoAgIAgIAqmFgJAIqeVPuRtBQBAQBAQBQUAQEAQEAUFAEBAEBAFBIGkICImQNGhlYEFAEBAEBAFBQBAQBAQBQUAQEAQEAUEgtRD4f+kKwhmFeFktAAAAAElFTkSuQmCC)"
      ],
      "metadata": {
        "id": "KgggN3IP22lq"
      }
    },
    {
      "cell_type": "markdown",
      "source": [
        "#O filme é muito muito bom."
      ],
      "metadata": {
        "id": "eHCKXFu710PZ"
      }
    },
    {
      "cell_type": "markdown",
      "source": [
        "#O filme é péssimo."
      ],
      "metadata": {
        "id": "owkgNGLX3JDJ"
      }
    }
  ]
}